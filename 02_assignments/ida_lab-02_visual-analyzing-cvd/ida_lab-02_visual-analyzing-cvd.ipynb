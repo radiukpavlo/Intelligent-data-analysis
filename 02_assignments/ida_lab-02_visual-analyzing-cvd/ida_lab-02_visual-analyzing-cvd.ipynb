{
 "cells": [
  {
   "cell_type": "markdown",
   "metadata": {},
   "source": [
    "<h1><center>Лабораторна робота 2.</center></h1>\n",
    "<h2><center>Візуальний аналіз даних серцево-судинних захворювань</center></h2>"
   ]
  },
  {
   "cell_type": "markdown",
   "metadata": {},
   "source": [
    "**Виконав:** Прізвище І.П.\n",
    "\n",
    "**Варіант:** №__"
   ]
  },
  {
   "cell_type": "markdown",
   "metadata": {
    "_uuid": "5cea59b8adb04c5a07a32c5b70a829319ba0cf2a"
   },
   "source": [
    "У цьому завданні ви дасте відповідь на кілька запитань щодо набору даних про серцево-судинні захворювання.\n",
    "\n",
    "#### Опис задачі\n",
    "\n",
    "Виконайте візуальний аналіз даних та зробіть прогноз на його основі наявності або відсутності серцево-судинних захворювань (ССЗ) за результатами обстеження пацієнта.\n",
    "\n",
    "#### Опис даних\n",
    "\n",
    "Є 3 типи вхідних ознак:\n",
    "\n",
    "- *Об'єктивна інформація*: фактична інформація про пацієнта;\n",
    "- *Огляд*: результати медичного огляду;\n",
    "- *Суб'єктивна інформація*: інформація, надана пацієнтом.\n",
    "\n",
    "| Feature                                       | Variable Type       | Variable    | Value Type                                       |\n",
    "|-----------------------------------------------|---------------------|-------------|--------------------------------------------------|\n",
    "| Age                                           | Objective Feature   | age         | int (days)                                       |\n",
    "| Height                                        | Objective Feature   | height      | int (cm)                                         |\n",
    "| Weight                                        | Objective Feature   | weight      | float (kg)                                       |\n",
    "| Gender                                        | Objective Feature   | gender      | categorical code                                 |\n",
    "| Systolic blood pressure                       | Examination Feature | ap_hi       | int                                              |\n",
    "| Diastolic blood pressure                      | Examination Feature | ap_lo       | int                                              |\n",
    "| Cholesterol                                   | Examination Feature | cholesterol | 1: normal, 2: above normal, 3: well above normal |\n",
    "| Glucose                                       | Examination Feature | gluc        | 1: normal, 2: above normal, 3: well above normal |\n",
    "| Smoking                                       | Subjective Feature  | smoke       | binary                                           |\n",
    "| Alcohol intake                                | Subjective Feature  | alco        | binary                                           |\n",
    "| Physical activity                             | Subjective Feature  | active      | binary                                           |\n",
    "| Presence or absence of cardiovascular disease | Target Variable     | cardio      | binary                                           |\n",
    "\n",
    "\n",
    "Усі значення набору даних були зібрані на момент медичного огляду."
   ]
  },
  {
   "cell_type": "markdown",
   "metadata": {
    "_uuid": "10749a7f9b46749e3a90ff697bc298760045c333"
   },
   "source": [
    "# Частина 1. Попередній аналіз даних\n",
    "\n",
    "Спершу ознайомимося з нашими даними, провівши попередній аналіз даних. Ініціалізуємо середовище:"
   ]
  },
  {
   "cell_type": "code",
   "execution_count": 1,
   "metadata": {
    "ExecuteTime": {
     "end_time": "2023-10-03T14:40:28.664502400Z",
     "start_time": "2023-10-03T14:40:28.651001400Z"
    },
    "_uuid": "85426734e890fcf72416f29a953da115c1171080"
   },
   "outputs": [],
   "source": [
    "# Імпортуємо всі необхідні модулі\n",
    "import pandas as pd\n",
    "import numpy as np\n",
    "\n",
    "# Вимикаємо попередження\n",
    "import warnings\n",
    "warnings.filterwarnings(\"ignore\")\n",
    "\n",
    "# Імпортуємо графічні бібліотеки\n",
    "import seaborn as sns\n",
    "sns.set_theme()\n",
    "import matplotlib\n",
    "import matplotlib.pyplot as plt\n",
    "import matplotlib.ticker\n",
    "%matplotlib inline"
   ]
  },
  {
   "cell_type": "markdown",
   "metadata": {
    "_uuid": "cbcf821e4bea8a7f7fb1ee4a9bf285b6c4b588ee"
   },
   "source": [
    "Ми будемо використовувати бібліотеку `seaborn` для візуального аналізу, тому підготуємо і її:"
   ]
  },
  {
   "cell_type": "code",
   "execution_count": 2,
   "metadata": {
    "ExecuteTime": {
     "end_time": "2023-10-03T14:40:28.681183700Z",
     "start_time": "2023-10-03T14:40:28.665469800Z"
    },
    "_uuid": "b33601a0cadc2fb2d92f211c31bf99a502f71d48"
   },
   "outputs": [],
   "source": [
    "# Налаштуємо візуальні параметри для графіків у `seaborn`\n",
    "sns.set_context(\n",
    "    \"notebook\", \n",
    "    font_scale=1.5,       \n",
    "    rc={ \n",
    "        \"figure.figsize\": (11, 8), \n",
    "        \"axes.titlesize\": 18 \n",
    "    }\n",
    ")\n",
    "\n",
    "from matplotlib import rcParams\n",
    "rcParams['figure.figsize'] = 11, 8\n",
    "\n",
    "# Підвищимо розмір графіків за замовчуванням\n",
    "plt.style.use('ggplot')\n",
    "#%config InlineBackend.figure_format = 'svg'"
   ]
  },
  {
   "cell_type": "markdown",
   "metadata": {
    "_uuid": "89381351e4b95530b355e0e55bc4536c0a813d10"
   },
   "source": [
    "Для простоти роботи ми будемо працювати лише з навчальною частиною набору даних:"
   ]
  },
  {
   "cell_type": "code",
   "execution_count": 3,
   "metadata": {
    "ExecuteTime": {
     "end_time": "2023-10-03T14:40:29.825339100Z",
     "start_time": "2023-10-03T14:40:28.682183800Z"
    },
    "_uuid": "2bd0005e660693a061577ca5244b48ccebf36719"
   },
   "outputs": [
    {
     "name": "stdout",
     "output_type": "stream",
     "text": [
      "Dataset size:  (70000, 13)\n"
     ]
    },
    {
     "data": {
      "text/html": [
       "<div>\n",
       "<style scoped>\n",
       "    .dataframe tbody tr th:only-of-type {\n",
       "        vertical-align: middle;\n",
       "    }\n",
       "\n",
       "    .dataframe tbody tr th {\n",
       "        vertical-align: top;\n",
       "    }\n",
       "\n",
       "    .dataframe thead th {\n",
       "        text-align: right;\n",
       "    }\n",
       "</style>\n",
       "<table border=\"1\" class=\"dataframe\">\n",
       "  <thead>\n",
       "    <tr style=\"text-align: right;\">\n",
       "      <th></th>\n",
       "      <th>id</th>\n",
       "      <th>age</th>\n",
       "      <th>gender</th>\n",
       "      <th>height</th>\n",
       "      <th>weight</th>\n",
       "      <th>ap_hi</th>\n",
       "      <th>ap_lo</th>\n",
       "      <th>cholesterol</th>\n",
       "      <th>gluc</th>\n",
       "      <th>smoke</th>\n",
       "      <th>alco</th>\n",
       "      <th>active</th>\n",
       "      <th>cardio</th>\n",
       "    </tr>\n",
       "  </thead>\n",
       "  <tbody>\n",
       "    <tr>\n",
       "      <th>0</th>\n",
       "      <td>0</td>\n",
       "      <td>18393</td>\n",
       "      <td>2</td>\n",
       "      <td>168</td>\n",
       "      <td>62.0</td>\n",
       "      <td>110</td>\n",
       "      <td>80</td>\n",
       "      <td>1</td>\n",
       "      <td>1</td>\n",
       "      <td>0</td>\n",
       "      <td>0</td>\n",
       "      <td>1</td>\n",
       "      <td>0</td>\n",
       "    </tr>\n",
       "    <tr>\n",
       "      <th>1</th>\n",
       "      <td>1</td>\n",
       "      <td>20228</td>\n",
       "      <td>1</td>\n",
       "      <td>156</td>\n",
       "      <td>85.0</td>\n",
       "      <td>140</td>\n",
       "      <td>90</td>\n",
       "      <td>3</td>\n",
       "      <td>1</td>\n",
       "      <td>0</td>\n",
       "      <td>0</td>\n",
       "      <td>1</td>\n",
       "      <td>1</td>\n",
       "    </tr>\n",
       "    <tr>\n",
       "      <th>2</th>\n",
       "      <td>2</td>\n",
       "      <td>18857</td>\n",
       "      <td>1</td>\n",
       "      <td>165</td>\n",
       "      <td>64.0</td>\n",
       "      <td>130</td>\n",
       "      <td>70</td>\n",
       "      <td>3</td>\n",
       "      <td>1</td>\n",
       "      <td>0</td>\n",
       "      <td>0</td>\n",
       "      <td>0</td>\n",
       "      <td>1</td>\n",
       "    </tr>\n",
       "    <tr>\n",
       "      <th>3</th>\n",
       "      <td>3</td>\n",
       "      <td>17623</td>\n",
       "      <td>2</td>\n",
       "      <td>169</td>\n",
       "      <td>82.0</td>\n",
       "      <td>150</td>\n",
       "      <td>100</td>\n",
       "      <td>1</td>\n",
       "      <td>1</td>\n",
       "      <td>0</td>\n",
       "      <td>0</td>\n",
       "      <td>1</td>\n",
       "      <td>1</td>\n",
       "    </tr>\n",
       "    <tr>\n",
       "      <th>4</th>\n",
       "      <td>4</td>\n",
       "      <td>17474</td>\n",
       "      <td>1</td>\n",
       "      <td>156</td>\n",
       "      <td>56.0</td>\n",
       "      <td>100</td>\n",
       "      <td>60</td>\n",
       "      <td>1</td>\n",
       "      <td>1</td>\n",
       "      <td>0</td>\n",
       "      <td>0</td>\n",
       "      <td>0</td>\n",
       "      <td>0</td>\n",
       "    </tr>\n",
       "  </tbody>\n",
       "</table>\n",
       "</div>"
      ],
      "text/plain": [
       "   id    age  gender  height  weight  ap_hi  ap_lo  cholesterol  gluc  smoke  \\\n",
       "0   0  18393       2     168    62.0    110     80            1     1      0   \n",
       "1   1  20228       1     156    85.0    140     90            3     1      0   \n",
       "2   2  18857       1     165    64.0    130     70            3     1      0   \n",
       "3   3  17623       2     169    82.0    150    100            1     1      0   \n",
       "4   4  17474       1     156    56.0    100     60            1     1      0   \n",
       "\n",
       "   alco  active  cardio  \n",
       "0     0       1       0  \n",
       "1     0       1       1  \n",
       "2     0       0       1  \n",
       "3     0       1       1  \n",
       "4     0       0       0  "
      ]
     },
     "execution_count": 3,
     "metadata": {},
     "output_type": "execute_result"
    }
   ],
   "source": [
    "data_url = 'https://raw.githubusercontent.com/radiukpavlo/intelligent-data-analysis/main/02_assignments/ida_lab-02_visual-analyzing-cvd/cvd_train.csv'\n",
    "df = pd.read_csv(data_url, sep=';')\n",
    "print('Dataset size: ', df.shape)\n",
    "df.head()"
   ]
  },
  {
   "cell_type": "markdown",
   "metadata": {
    "_uuid": "636bf459023fbc1d1f1b73863c5246397dc26e6d"
   },
   "source": [
    "Буде також корисно заглянути в значення наших змінних.\n",
    " \n",
    "Давайте перетворимо дані у формат *long* і зобразимо кількість значень категорійних ознак за допомогою [`catplot()`](https://seaborn.pydata.org/generated/seaborn.catplot.html)."
   ]
  },
  {
   "cell_type": "code",
   "execution_count": 4,
   "metadata": {
    "ExecuteTime": {
     "end_time": "2023-10-03T14:40:30.360392600Z",
     "start_time": "2023-10-03T14:40:29.820307500Z"
    },
    "_uuid": "334ad6a83e7bb58f2c65ec512bfc401a0948c17a"
   },
   "outputs": [
    {
     "data": {
      "text/plain": [
       "<seaborn.axisgrid.FacetGrid at 0x27196ea76d0>"
      ]
     },
     "execution_count": 4,
     "metadata": {},
     "output_type": "execute_result"
    },
    {
     "data": {
      "image/png": "[encoded data removed]",
      "text/plain": [
       "<Figure size 970.25x500 with 1 Axes>"
      ]
     },
     "metadata": {},
     "output_type": "display_data"
    }
   ],
   "source": [
    "df_uniques = pd.melt(frame=df, value_vars=['gender','cholesterol', \n",
    "                                           'gluc', 'smoke', 'alco', \n",
    "                                           'active', 'cardio'])\n",
    "df_uniques = pd.DataFrame(df_uniques.groupby(['variable', \n",
    "                                              'value'])['value'].count()) \\\n",
    "    .sort_index(level=[0, 1]) \\\n",
    "    .rename(columns={'value': 'count'}) \\\n",
    "    .reset_index()\n",
    "\n",
    "sns.catplot(x='variable', y='count', hue='value',\n",
    "            data=df_uniques, kind='bar', aspect=1.75)"
   ]
  },
  {
   "cell_type": "markdown",
   "metadata": {
    "_uuid": "cb94ec9ddf78c607cdec5536581b8ec4004ac16b"
   },
   "source": [
    "Ми бачимо, що цільові класи збалансовані. Це чудово!\n",
    "\n",
    "Далі розділимо набір даних за цільовими значеннями. Чи можете ви вже помітити найважливішу ознаку, просто глянувши на графік?"
   ]
  },
  {
   "cell_type": "code",
   "execution_count": 5,
   "metadata": {
    "ExecuteTime": {
     "end_time": "2023-10-03T14:40:31.201858600Z",
     "start_time": "2023-10-03T14:40:30.365401900Z"
    },
    "_uuid": "a712d76f8c11588a9aebd4be6a00f01c53a8d80a"
   },
   "outputs": [
    {
     "data": {
      "text/plain": [
       "<seaborn.axisgrid.FacetGrid at 0x271978eeac0>"
      ]
     },
     "execution_count": 5,
     "metadata": {},
     "output_type": "execute_result"
    },
    {
     "data": {
      "image/png": "[encoded data removed]",
      "text/plain": [
       "<Figure size 1595.25x500 with 2 Axes>"
      ]
     },
     "metadata": {},
     "output_type": "display_data"
    }
   ],
   "source": [
    "df_uniques = pd.melt(frame=df, value_vars=['gender','cholesterol', \n",
    "                                           'gluc', 'smoke', 'alco', \n",
    "                                           'active'], \n",
    "                     id_vars=['cardio'])\n",
    "df_uniques = pd.DataFrame(df_uniques.groupby(['variable', 'value', \n",
    "                                              'cardio'])['value'].count()) \\\n",
    "    .sort_index(level=[0, 1]) \\\n",
    "    .rename(columns={'value': 'count'}) \\\n",
    "    .reset_index()\n",
    "\n",
    "sns.catplot(x='variable', y='count', hue='value', \n",
    "               col='cardio', data=df_uniques, kind='bar', aspect=1.5)"
   ]
  },
  {
   "cell_type": "markdown",
   "metadata": {
    "_uuid": "4f4fdb7b979c6594b3060a0b80473fabbdf6acd0"
   },
   "source": [
    "Бачимо, що розподіл рівнів холестерину та глюкози сильно відрізняється за значенням цільової змінної. Це випадковість?\n",
    "\n",
    "Тепер обчислимо деякі статистичні показники для унікальних значень ознак:"
   ]
  },
  {
   "cell_type": "code",
   "execution_count": 6,
   "metadata": {
    "ExecuteTime": {
     "end_time": "2023-10-03T14:40:31.356357200Z",
     "start_time": "2023-10-03T14:40:31.201858600Z"
    },
    "_uuid": "e9cbba719f93f6b544567638be7332b7385fc715"
   },
   "outputs": [
    {
     "name": "stdout",
     "output_type": "stream",
     "text": [
      "id\n",
      "70000\n",
      "----------\n",
      "age\n",
      "8076\n",
      "----------\n",
      "gender\n",
      "2 [(1, 45530), (2, 24470)]\n",
      "----------\n",
      "height\n",
      "109\n",
      "----------\n",
      "weight\n",
      "287\n",
      "----------\n",
      "ap_hi\n",
      "153\n",
      "----------\n",
      "ap_lo\n",
      "157\n",
      "----------\n",
      "cholesterol\n",
      "3 [(1, 52385), (2, 9549), (3, 8066)]\n",
      "----------\n",
      "gluc\n",
      "3 [(1, 59479), (2, 5190), (3, 5331)]\n",
      "----------\n",
      "smoke\n",
      "2 [(0, 63831), (1, 6169)]\n",
      "----------\n",
      "alco\n",
      "2 [(0, 66236), (1, 3764)]\n",
      "----------\n",
      "active\n",
      "2 [(0, 13739), (1, 56261)]\n",
      "----------\n",
      "cardio\n",
      "2 [(0, 35021), (1, 34979)]\n",
      "----------\n"
     ]
    }
   ],
   "source": [
    "for c in df.columns:\n",
    "    n = df[c].nunique()\n",
    "    print(c)\n",
    "    if n <= 3:\n",
    "        print(n, sorted(df[c].value_counts().to_dict().items()))\n",
    "    else:\n",
    "        print(n)\n",
    "    print(10 * '-')"
   ]
  },
  {
   "cell_type": "markdown",
   "metadata": {
    "_uuid": "53507160b237077bf8b19fb987b910669c04ba8b"
   },
   "source": [
    "У підсумку, маємо:\n",
    "- 5 числових ознак (за винятком *id*);\n",
    "- 7 категоріальних ознак;\n",
    "- Всього 70000 записів."
   ]
  },
  {
   "cell_type": "markdown",
   "metadata": {
    "_uuid": "5f9dc83567c83c1ab2eeb4b855d3f8460c1a735e"
   },
   "source": [
    "## 1.1. Основні спостереження"
   ]
  },
  {
   "cell_type": "markdown",
   "metadata": {},
   "source": [
    "### <span style=\"color:red; font-size:1.5em;\">Завдання 1</span>\n",
    "\n",
    "**Варіант 1:** Визначте середній систолічний тиск (`ap_hi`) та діастолічний тиск (`ap_lo`) для кожної категорії холестерину (`cholesterol`). Чи спостерігається тенденція збільшення тиску зі зростанням рівня холестерину? Візуалізуйте результати за допомогою стовпчикових діаграм.\n",
    "\n",
    "**Варіант 2:** Проаналізуйте розподіл віку (`age`) пацієнтів за категоріями активності (`active`). Чи є значуща різниця у віковому складі між активними та неактивними пацієнтами? Візуалізуйте розподіл за допомогою гістограм.\n",
    "\n",
    "**Варіант 3:** Визначте кількість пацієнтів у кожній категорії глюкози (`gluc`) для кожної статі (`gender`). Чи спостерігається відмінність у розподілі глюкози між чоловіками та жінками? Візуалізуйте дані за допомогою групових стовпчикових діаграм.\n",
    "\n",
    "**Варіант 4:** Визначте розподіл статі (`gender`) поміж пацієнтів із різними рівнями активності (`active`). Чи є переважання певної статі в активних або неактивних групах? Візуалізуйте результати за допомогою кругових діаграм.\n",
    "\n",
    "**Варіант 5:** Проаналізуйте розподіл зросту (`height`) пацієнтів у вікових групах. Розділіть вік на категорії (наприклад, 30–40, 41–50 років) та побудуйте боксплоти для кожної групи, щоб визначити медіану та розмахи зросту.\n",
    "\n",
    "**Варіант 6:** Дослідіть вплив вживання алкоголю (`alco`) на рівень холестерину (`cholesterol`). Чи є зв’язок між цими двома показниками? Візуалізуйте дані за допомогою струнних діаграм (`stripplot`).\n",
    "\n",
    "**Варіант 7:** Дослідіть розподіл систолічного тиску (`ap_hi`) поміж різних категорій активності (`active`). Чи є значущі відмінності між активними та неактивними пацієнтами? Візуалізуйте дані за допомогою `Violin Plot`.\n",
    "\n",
    "**Варіант 8:** Визначте кількість пацієнтів у кожній категорії холестерину (`cholesterol`) та глюкози (`gluc`). Чи є взаємозв’язок між рівнями цих двох показників? Візуалізуйте результати за допомогою `scatterplot`.\n",
    "\n",
    "**Варіант 9:** Проаналізуйте розподіл діастолічного тиску (`ap_lo`) поміж різних рівнів холестерину (`cholesterol`). Чи спостерігається підвищення діастолічного тиску з ростом рівня холестерину? Візуалізуйте дані за допомогою лінійних графіків.\n",
    "\n",
    "**Варіант 10:** Визначте, чи відрізняється середній вік пацієнтів із високим рівнем холестерину (`cholesterol`=3) від тих із низьким (`cholesterol`=1). Використовуйте тест на значущість середніх та візуалізуйте результати за допомогою `boxplot`.\n",
    "\n",
    "**Варіант 11:** Проаналізуйте розподіл віку (`age`) поміж пацієнтів із різними рівнями діастолічного тиску (`ap_lo`). Чи є тенденція підвищення віку з ростом діастолічного тиску? Візуалізуйте дані за допомогою `lineplot`.\n",
    "\n",
    "**Варіант 12:** Визначте, яка категорія холестерину (`cholesterol`) має найвищу середню вагу (`weight`). Використовуйте `groupby` та `agg` для обчислення середніх значень та візуалізуйте результати за допомогою стовпчикової діаграми.\n",
    "\n",
    "**Варіант 13:** Дослідіть вплив куріння (`smoke`) на рівень активності (`active`). Чи є зв’язок між цими двома ознаками? Візуалізуйте взаємозв’язок за допомогою `scatterplot` або `jointplot`.\n",
    "\n",
    "**Варіант 14:** Проаналізуйте розподіл віку (`age`) поміж пацієнтів із різними рівнями холестерину (`cholesterol`). Чи є тенденція збільшення віку зі зростанням рівня холестерину? Візуалізуйте дані за допомогою `lineplot`.\n",
    "\n",
    "**Варіант 15:** Проаналізуйте розподіл віку (`age`) поміж пацієнтів із різними рівнями активності (`active`). Чи є різниця в середньому віці між активними та неактивними пацієнтами? Візуалізуйте дані за допомогою `violinplot`.\n",
    "\n",
    "**Варіант 16:** Визначте, яка категорія глюкози (`gluc`) має найнижчий середній систолічний тиск (`ap_hi`). Чи можна стверджувати, що нижчий рівень глюкози пов’язаний із нижчим тиском? Візуалізуйте результати за допомогою `barplot`.\n",
    "\n",
    "**Варіант 17:** Проаналізуйте вплив статі (`gender`) на рівень глюкози (`gluc`). Чи є різниця в розподілі глюкози між чоловіками та жінками? Візуалізуйте дані за допомогою `countplot`.\n",
    "\n",
    "**Варіант 18:** Визначте, чи впливає рівень холестерину (`cholesterol`) на рівень активності (`active`) у пацієнтів. Використовуйте `scatterplot` або `jointplot` для візуалізації взаємозв’язку.\n",
    "\n",
    "**Варіант 19:** Проаналізуйте розподіл діастолічного тиску (`ap_lo`) поміж пацієнтів із різними рівнями активності (`active`). Чи є тенденція підвищення діастолічного тиску зі зниженням активності? Візуалізуйте дані за допомогою `boxplot`.\n",
    "\n",
    "**Варіант 20:** Визначте, яка категорія алкоголю (`alco`) має найвищу середню вагу (`weight`). Чи є зв’язок між вживанням алкоголю та вагою? Візуалізуйте результати за допомогою `barplot`."
   ]
  },
  {
   "cell_type": "markdown",
   "metadata": {
    "_uuid": "ac5d59876eb97782eab5f038aa8b2335e014d9bf"
   },
   "source": [
    "## 1.2. Мапи ризиків"
   ]
  },
  {
   "cell_type": "markdown",
   "metadata": {
    "_uuid": "9efc6fd8ff26ea2ddf95e7e0b70ef3b802f83af5"
   },
   "source": [
    "На вебсайті Європейського товариства кардіологів надається [шкала SCORE](https://www.escardio.org/Education/Practice-Tools/CVD-prevention-toolbox/SCORE-Risk-Charts). Вона використовується для розрахунку ризику смерті від серцево-судинного захворювання в найближчі 10 років. Ось вона:\n",
    "\n",
    "<img src=https://raw.githubusercontent.com/radiukpavlo/intelligent-data-analysis/main/03_img/2_3_risk-map.png width=50%>\n",
    "\n",
    "Глянемо на верхній правий прямокутник, який показує підгрупу курців у віці від 60 до 65 років. (Це неочевидно, але значення на мапі відображають верхню межу).\n",
    "\n",
    "Ми бачимо значення 9 у нижньому лівому куті прямокутника та 47 у верхньому правому. Це означає, що для людей-курців цієї статево-вікової групи, у яких систолічний тиск менше 120 (сегмент 1), ризик серцево-судинних захворювань оцінюється в 5 разів нижче, ніж для тих курців, хто має тиск в інтервалі [160, 180) (сегмент 2).\n",
    "\n",
    "Далі обчисліть цей коефіцієнт, використовуючи статистичні дані.\n",
    "\n",
    "Уточнення:\n",
    "- Розрахувати ознаку ``age_years`` – округлити вік до найближчої кількості років. Для цього завдання відбирайте лише людей віком [60;64].\n",
    "- Категорії рівня холестерину відрізняються між цифрою та нашим набором даних. Перерахунок для ознаки ``cholesterol`` наступний: 4 mmol/l $\\rightarrow$ 1, 5-7 mmol/l $\\rightarrow$ 2, 8 mmol/l $\\rightarrow$ 3."
   ]
  },
  {
   "cell_type": "markdown",
   "metadata": {
    "jp-MarkdownHeadingCollapsed": true,
    "tags": []
   },
   "source": [
    "### <span style=\"color:red; font-size:1.5em;\">Завдання 2</span>\n",
    "\n",
    "**Варіант 1:** Проаналізуйте вплив вживання алкоголю (`alco`) та куріння (`smoke`) на ризик ССЗ. Обчисліть ризик для кожної комбінації цих двох чинників та візуалізуйте результати за допомогою `barplot`.\n",
    "\n",
    "**Варіант 2:** Визначте, як змінюється ризик ССЗ зі зростанням віку (`age_years`). Створіть лінійний графік за допомогою `Seaborn.lineplot`, показуючи залежність ризику від віку.\n",
    "\n",
    "**Варіант 3:** Дослідіть взаємозв’язок між індексом маси тіла (`bmi`) та ризиком ССЗ. Обчисліть середній ризик для різних діапазонів ІМТ та візуалізуйте дані за допомогою `scatterplot` з регресійною лінією.\n",
    "\n",
    "**Варіант 4:** Проаналізуйте, як впливає рівень фізичної активності (`active`) на ризик ССЗ у різних вікових групах. Побудуйте `facetgrid` з використанням `Seaborn`, щоби показати відокремлені графіки для кожної вікової групи.\n",
    "\n",
    "**Варіант 5:** Визначте, який вплив має рівень діастолічного тиску (`ap_lo`) на ризик ССЗ у різних категоріях холестерину (`cholesterol`). Візуалізуйте дані за допомогою `boxplot`.\n",
    "\n",
    "**Варіант 6:** Проаналізуйте співвідношення між систолічним тиском (`ap_hi`) та ризиком ССЗ для різних рівнів глюкози (`gluc`). Використовуйте `scatterplot` з кольоровим розділенням за `gluc`.\n",
    "\n",
    "**Варіант 7:** Визначте, чи є взаємозв’язок між вагою (`weight`) та ризиком ССЗ у різних категоріях холестерину (`cholesterol`). Візуалізуйте дані за допомогою `jointplot`.\n",
    "\n",
    "**Варіант 8:** Визначте, яка комбінація високого рівня глюкози (`gluc`=3) та високого рівня холестерину (`cholesterol`=3) має найвищий ризик ССЗ. Обчисліть цей ризик та візуалізуйте дані за допомогою `barplot`.\n",
    "\n",
    "**Варіант 9:** Дослідіть, як змінюється ризик ССЗ залежно від віку (`age_years`) та рівня фізичної активності (`active`). Створіть 3D графік за допомогою `Plotly`, показуючи залежність ризику від цих двох чинників.\n",
    "\n",
    "**Варіант 10:** Проаналізуйте, чи впливає рівень холестерину (`cholesterol`) на зв’язок між віком (`age_years`) та ризиком ССЗ. Створіть `lmplot`, показуючи регресію для кожної категорії холестерину.\n",
    "\n",
    "**Варіант 11:** Проаналізуйте, як ризик ССЗ змінюється залежно від рівня глюкози (`gluc`) та зросту (`height`). Створіть `jointplot` з розподілом ризику по обох осях.\n",
    "\n",
    "**Варіант 12:** Проаналізуйте, як ризик ССЗ змінюється з вагою (`weight`) у різних вікових групах. Створіть `FacetGrid` з використанням `Seaborn`, щоби показати відокремлені графіки для кожної вікової групи.\n",
    "\n",
    "**Варіант 13:** Визначте, чи впливає рівень холестерину (`cholesterol`) на зв’язок між вагою (`weight`) та ризиком ССЗ. Створіть `pairplot`, показуючи взаємозв’язок між цими трьома ознаками для кожної категорії холестерину.\n",
    "\n",
    "**Варіант 14:** Проаналізуйте, чи є залежність між рівнем фізичної активності (`active`) та ризиком ССЗ у різних рівнях діастолічного тиску (`ap_lo`). Створіть `scatterplot` з регресійною лінією для кожної категорії `ap_lo`.\n",
    "\n",
    "**Варіант 15:** Визначте, чи впливає рівень діастолічного тиску (`ap_lo`) на ризик ССЗ у різних вікових групах. Створіть `boxplot`, показуючи розподіл `ap_lo` для кожної вікової групи з розділенням за ризиком ССЗ.\n",
    "\n",
    "**Варіант 16:** Проаналізуйте, як змінюється ризик ССЗ залежно від рівня холестерину (`cholesterol`) та діастолічного тиску (`ap_lo`). Створіть 3D графік за допомогою `Plotly`, показуючи залежність ризику від цих двох чинників.\n",
    "\n",
    "**Варіант 17:** Визначте, чи є взаємозв’язок між індексом маси тіла (`bmi`) та ризиком ССЗ у різних категоріях фізичної активності (`active`). Використовуйте `pairplot` для візуалізації взаємозв’язку між цими трьома ознаками.\n",
    "\n",
    "**Варіант 18:** Проаналізуйте, як змінюється ризик ССЗ залежно від рівня холестерину (`cholesterol`) та фізичної активності (`active`) у різних вікових групах. Створіть `FacetGrid` з використанням `Seaborn`, щоби показати відокремлені графіки для кожної вікової групи.\n",
    "\n",
    "**Варіант 19:** Проаналізуйте, як ризик ССЗ змінюється з вагою (`weight`) у різних категоріях діастолічного тиску (`ap_lo`). Створіть `boxplot`, показуючи розподіл ризику для кожної категорії `ap_lo`.\n",
    "\n",
    "**Варіант 20:** Визначте, чи є взаємозв’язок між рівнем активності (`active`) та ризиком ССЗ у різних вікових групах. Створіть `FacetGrid` з використанням `Seaborn`, щоби показати відокремлені графіки для кожної вікової групи."
   ]
  },
  {
   "cell_type": "markdown",
   "metadata": {
    "_uuid": "54cef692e0af3745091c7177d63a2d6c36044474"
   },
   "source": [
    "## 1.3. Аналіз ІМТ"
   ]
  },
  {
   "cell_type": "markdown",
   "metadata": {},
   "source": [
    "### <span style=\"color:red; font-size:1.5em;\">Завдання 3</span>\n",
    "\n",
    "**Варіант 1:** Проаналізуйте розподіл ІМТ поміж пацієнтів з різними рівнями холестерину (`cholesterol`). Чи є тенденція збільшення ІМТ зі зростанням рівня холестерину? Візуалізуйте результати за допомогою `boxplot`.\n",
    "\n",
    "**Варіант 2:** Визначте, чи є різниця в ІМТ між пацієнтами різного віку (`age_years`). Створіть `violinplot`, щоб показати розподіл ІМТ для різних вікових груп.\n",
    "\n",
    "**Варіант 3:** Визначте, чи є різниця в ІМТ між курцями (`smoke`) та некурцями. Створіть `barplot`, що показує середній ІМТ для кожної групи.\n",
    "\n",
    "**Варіант 4:** Проаналізуйте вплив вживання алкоголю (`alco`) на ІМТ пацієнтів. Чи мають люди, які вживають алкоголь, вищий ІМТ порівняно з тими, хто не вживає? Візуалізуйте результати за допомогою `boxplot`.\n",
    "\n",
    "**Варіант 5:** Проаналізуйте розподіл ІМТ поміж різних рівнів систолічного тиску (`ap_hi`). Чи є тенденція збільшення ІМТ зі зростанням тиску? Візуалізуйте дані за допомогою `lineplot`.\n",
    "\n",
    "**Варіант 6:** Визначте, чи є різниця в ІМТ між чоловіками та жінками (`gender`). Створіть `stripplot`, щоб показати розподіл ІМТ для кожної статі.\n",
    "\n",
    "**Варіант 7:** Проаналізуйте, як змінюється ІМТ з віком (`age_years`) для пацієнтів з різними рівнями глюкози (`gluc`). Створіть `FacetGrid` з використанням `Seaborn`, щоб показати окремі графіки для кожного рівня глюкози.\n",
    "\n",
    "**Варіант 8:** Визначте, яка категорія фізичної активності (`active`) має найвищий середній ІМТ. Чи можна стверджувати, що менш активні пацієнти мають вищий ІМТ? Візуалізуйте результати за допомогою `barplot`.\n",
    "\n",
    "**Варіант 9:** Визначте, чи є різниця в ІМТ між пацієнтами з різними рівнями глюкози (`gluc`). Створіть `boxplot`, що показує розподіл ІМТ для кожного рівня глюкози.\n",
    "\n",
    "**Варіант 10:** Проаналізуйте вплив куріння (`smoke`) на ІМТ пацієнтів. Чи мають курці вищий ІМТ порівняно з некурцями? Візуалізуйте результати за допомогою `boxplot`.\n",
    "\n",
    "**Варіант 11:** Проаналізуйте розподіл ІМТ поміж пацієнтів з різними рівнями систолічного тиску (`ap_hi`). Чи є тенденція збільшення ІМТ зі зростанням тиску? Візуалізуйте дані за допомогою `lineplot`.\n",
    "\n",
    "**Варіант 12:** Визначте, чи є різниця в ІМТ між пацієнтами з різними категоріями рівня глюкози (`gluc`). Створіть `violinplot`, що показує розподіл ІМТ для кожної категорії глюкози.\n",
    "\n",
    "**Варіант 13:** Проаналізуйте вплив статі (`gender`) на розподіл ІМТ. Створіть `FacetGrid` з використанням `Seaborn`, щоб показати окремі графіки для чоловіків та жінок.\n",
    "\n",
    "**Варіант 14:** Визначте, чи є взаємозв'язок між ІМТ (`bmi`) та рівнем фізичної активності (`active`) у різних категоріях глюкози (`gluc`). Створіть `heatmap`, що показує середній ІМТ для кожної комбінації цих факторів.\n",
    "\n",
    "**Варіант 15:** Визначте, чи є різниця в ІМТ між пацієнтами з різними рівнями фізичної активності (`active`) та рівнями глюкози (`gluc`). Створіть `pairplot`, показуючи взаємозв'язок між цими трьома ознаками.\n",
    "\n",
    "**Варіант 16:** Проаналізуйте, як ІМТ (`bmi`) змінюється з віком (`age_years`) у різних категоріях рівня фізичної активності (`active`). Створіть `FacetGrid` з використанням `Seaborn`, щоб показати окремі графіки для кожної категорії активності.\n",
    "\n",
    "**Варіант 17:** Визначте, чи є взаємозв'язок між рівнем активності (`active`) та рівнем діастолічного тиску (`ap_lo`). Створіть `heatmap`, що показує середній ІМТ для кожної комбінації цих двох факторів.\n",
    "\n",
    "**Варіант 18:** Проаналізуйте розподіл ІМТ поміж пацієнтів з різними рівнями систолічного тиску (`ap_hi`) та рівнями глюкози (`gluc`). Створіть `pairplot`, показуючи взаємозв'язок між ІМТ, тиском та глюкозою.\n",
    "\n",
    "**Варіант 19:** Визначте, яка категорія глюкози (`gluc`) має найнижчий середній ІМТ. Чи можна стверджувати, що нижчий рівень глюкози пов'язаний з нижчим ІМТ? Візуалізуйте результати за допомогою `barplot`.\n",
    "\n",
    "**Варіант 20:** Визначте, чи є взаємозв'язок між ІМТ (`bmi`) та рівнем фізичної активності (`active`) у різних категоріях рівня холестерину (`cholesterol`). Створіть `heatmap`, що показує середній ІМТ для кожної комбінації цих трьох факторів."
   ]
  },
  {
   "cell_type": "markdown",
   "metadata": {
    "_uuid": "2e059032eee1d57c896e24a98b659a5ab16144fd"
   },
   "source": [
    "## 1.4. Очищення даних"
   ]
  },
  {
   "cell_type": "markdown",
   "metadata": {
    "_uuid": "26ccfbcb212c3631b4941a294906c027b974301a"
   },
   "source": [
    "Варто пам'ятати, дані не є ідеальними. Набір містить зайву інформацію та неточності. Візуалізуємо дані, щоби побачити це наочно.\n",
    "\n",
    "### <span style=\"color:red; font-size:1.5em;\">Завдання 4</span>\n",
    "\n",
    "**Варіант 1:** Відфільтруйте (приберіть) пацієнтів з вагою менш як 30 кг. Скільки відсотків початкових даних (округлених) було відкинуто? Візуалізуйте результат за допомогою кругової діаграми.\n",
    "\n",
    "**Варіант 2:** Відфільтруйте (приберіть) пацієнтів з віком менш як 18 років. Скільки відсотків початкових даних (округлених) було відкинуто? Візуалізуйте результат за допомогою гістограми.\n",
    "\n",
    "**Варіант 3:** Відфільтруйте (приберіть) пацієнтів зі систолічним тиском (`ap_hi`) менш як 90 мм рт. ст. Скільки відсотків початкових даних (округлених) було відкинуто? Візуалізуйте результат за допомогою стовпчикової діаграми.\n",
    "\n",
    "**Варіант 4:** Відфільтруйте (приберіть) пацієнтів з діастолічним тиском (`ap_lo`) менш як 60 мм рт. ст. Скільки відсотків початкових даних (округлених) було відкинуто? Візуалізуйте результат за допомогою бічного гістограмного графіка.\n",
    "\n",
    "**Варіант 5:** Відфільтруйте (приберіть) пацієнтів з рівнем глюкози (`gluc`) понад 3. Скільки відсотків початкових даних (округлених) було відкинуто? Візуалізуйте результат за допомогою точкової діаграми.\n",
    "\n",
    "**Варіант 6:** Відфільтруйте (приберіть) пацієнтів з невалідними значеннями ваги (`weight`) або зросту (`height`), тобто вага менш як 20 кг або зріст менш як 100 см. Скільки відсотків початкових даних (округлених) було відкинуто? Візуалізуйте результат за допомогою кругової діаграми.\n",
    "\n",
    "**Варіант 7:** Відфільтруйте (приберіть) пацієнтів зі зростом понад 200 см. Скільки відсотків початкових даних (округлених) було відкинуто? Візуалізуйте результат за допомогою гістограми.\n",
    "\n",
    "**Варіант 8:** Відфільтруйте (приберіть) пацієнтів з вагою понад 150 кг. Скільки відсотків початкових даних (округлених) було відкинуто? Візуалізуйте результат за допомогою стовпчикової діаграми.\n",
    "\n",
    "**Варіант 9:** Відфільтруйте (приберіть) пацієнтів з рівнем холестерину (`cholesterol`) менш як 1 або понад 3. Скільки відсотків початкових даних (округлених) було відкинуто? Візуалізуйте результат за допомогою точкової діаграми.\n",
    "\n",
    "**Варіант 10:** Відфільтруйте (приберіть) пацієнтів з рівнем глюкози (`gluc`) менш як 1 або понад 3. Скільки відсотків початкових даних (округлених) було відкинуто? Візуалізуйте результат за допомогою бічного гістограмного графіка.\n",
    "\n",
    "**Варіант 11:** Відфільтруйте (приберіть) пацієнтів, у яких рівень фізичної активності (`active`) не є 0 або 1. Скільки відсотків початкових даних (округлених) було відкинуто? Візуалізуйте результат за допомогою кругової діаграми.\n",
    "\n",
    "**Варіант 12:** Відфільтруйте (приберіть) пацієнтів, які не вживають алкоголь (`alco`=0) та не курять (`smoke`=0). Скільки відсотків початкових даних (округлених) було відкинуто? Візуалізуйте результат за допомогою стовпчикової діаграми.\n",
    "\n",
    "**Варіант 13:** Відфільтруйте (приберіть) пацієнтів з невалідними комбінаціями систолічного та діастолічного тиску, де різниця між ними перевищує 50 мм рт. ст. Скільки відсотків початкових даних (округлених) було відкинуто? Візуалізуйте результат за допомогою точкової діаграми.\n",
    "\n",
    "**Варіант 14:** Відфільтруйте (приберіть) пацієнтів з відсутніми значеннями в ознаках `height`, `weight`, `ap_hi`, `ap_lo`, `cholesterol`, `gluc`. Скільки відсотків початкових даних (округлених) було відкинуто? Візуалізуйте результат за допомогою кругової діаграми.\n",
    "\n",
    "**Варіант 15:** Відфільтруйте (приберіть) пацієнтів, у яких зріст (`height`) менш як 140 см або понад 210 см. Скільки відсотків початкових даних (округлених) було відкинуто? Візуалізуйте результат за допомогою гістограми.\n",
    "\n",
    "**Варіант 16:** Відфільтруйте (приберіть) пацієнтів з вагою (`weight`) менш як 40 кг або понад 130 кг. Скільки відсотків початкових даних (округлених) було відкинуто? Візуалізуйте результат за допомогою стовпчикової діаграми.\n",
    "\n",
    "**Варіант 17:** Відфільтруйте (приберіть) пацієнтів з рівнем холестерину (`cholesterol`) не дорівнює 1, 2 або 3. Скільки відсотків початкових даних (округлених) було відкинуто? Візуалізуйте результат за допомогою точкової діаграми.\n",
    "\n",
    "**Варіант 18:** Відфільтруйте (приберіть) пацієнтів, які мають відсутні або негативні значення в ознаці `age_years`. Скільки відсотків початкових даних (округлених) було відкинуто? Візуалізуйте результат за допомогою кругової діаграми.\n",
    "\n",
    "**Варіант 19:** Відфільтруйте (приберіть) пацієнтів з рівнем глюкози (`gluc`) не дорівнює 1, 2 або 3. Скільки відсотків початкових даних (округлених) було відкинуто? Візуалізуйте результат за допомогою бічного гістограмного графіка.\n",
    "\n",
    "**Варіант 20:** Відфільтруйте (приберіть) пацієнтів з невалідними комбінаціями зросту (`height`) та ваги (`weight`), де ІМТ (`bmi`) менш як 15 або понад 40. Скільки відсотків початкових даних (округлених) було відкинуто? Візуалізуйте результат за допомогою точкової діаграми."
   ]
  },
  {
   "cell_type": "markdown",
   "metadata": {
    "_uuid": "a9f14b459f71ac2304e73145fc199a90131965e7"
   },
   "source": [
    "# Частина 2. Візуальний аналіз даних. Кореляційний аналіз.\n",
    "\n",
    "Щоб краще зрозуміти ознаки, проведемо кореляційний аналіз з відфільтрованим набором даних."
   ]
  },
  {
   "cell_type": "markdown",
   "metadata": {
    "_uuid": "987ff630db004c51cc9e89e0c6cf6d14d619c4c0"
   },
   "source": [
    "### <span style=\"color:red; font-size:1.5em;\">Завдання 5</span>\n",
    "\n",
    "**Варіант 1:** Дослідіть співвідношення між віком (`age`) та вагою (`weight`) пацієнтів. Чи є кореляція між цими двома показниками? Обчисліть коефіцієнт кореляції Пірсона та візуалізуйте розподіл за допомогою точкової діаграми.\n",
    "\n",
    "**Варіант 2:** Проаналізуйте розподіл зросту (`height`) та ваги (`weight`) пацієнтів. Чи є кореляція між цими двома показниками? Обчисліть коефіцієнт кореляції Спірмена та візуалізуйте дані за допомогою `scatterplot` з регресійною лінією.\n",
    "\n",
    "**Варіант 3:** Визначте, як змінюється середній рівень глюкози (`gluc`) з віком (`age`). Побудуйте графік лінійної регресії за допомогою `Seaborn.regplot` та обчисліть коефіцієнт кореляції.\n",
    "\n",
    "**Варіант 4:** Проаналізуйте співвідношення між зростом (`height`) та рівнем глюкози (`gluc`). Чи є кореляція між цими двома показниками? Обчисліть коефіцієнт кореляції Пірсона та візуалізуйте дані за допомогою `scatterplot`.\n",
    "\n",
    "**Варіант 5:** Проаналізуйте співвідношення між віком (`age`) та рівнем холестерину (`cholesterol`). Чи є кореляція між цими двома показниками? Обчисліть коефіцієнт кореляції Пірсона та візуалізуйте дані за допомогою `scatterplot`.\n",
    "\n",
    "**Варіант 6:** Проаналізуйте розподіл зросту (`height`) поміж пацієнтів із різними рівнями діастолічного тиску (`ap_lo`). Чи є тенденція збільшення зросту з ростом діастолічного тиску? Візуалізуйте дані за допомогою `scatterplot` з регресійною лінією.\n",
    "\n",
    "**Варіант 7:** Проаналізуйте співвідношення між вагою (`weight`) та рівнем холестерину (`cholesterol`). Чи є кореляція між цими двома показниками? Обчисліть коефіцієнт кореляції Спірмена та візуалізуйте дані за допомогою `scatterplot` з регресійною лінією.\n",
    "\n",
    "**Варіант 8:** Визначте, чи є кореляція між зростом (`height`) та вагою (`weight`) у пацієнтів із різними рівнями глюкози (`gluc`). Обчисліть коефіцієнт кореляції Спірмена та візуалізуйте дані за допомогою `scatterplot` з регресійною лінією.\n",
    "\n",
    "**Варіант 9:** Визначте, чи є кореляція між віком (`age_years`) та рівнем активності (`active`). Обчисліть коефіцієнт кореляції Пірсона та візуалізуйте дані за допомогою `scatterplot` з регресійною лінією.\n",
    "\n",
    "**Варіант 10:** Визначте, чи є кореляція між зростом (`height`) та ризиком ССЗ (`cardio`) у різних категоріях рівня глюкози (`gluc`). Обчисліть коефіцієнт кореляції Пірсона та візуалізуйте дані за допомогою `scatterplot` з регресійною лінією.\n",
    "\n",
    "**Варіант 11:** Визначте, чи є взаємозв’язок між індексом маси тіла (`bmi`) та рівнем фізичної активності (`active`). Обчисліть коефіцієнт кореляції Спірмена та візуалізуйте дані за допомогою `scatterplot` з регресійною лінією.\n",
    "\n",
    "**Варіант 12:** Проаналізуйте, чи є залежність між рівнем діастолічного тиску (`ap_lo`) та рівнем холестерину (`cholesterol`). Обчисліть коефіцієнт кореляції Пірсона та візуалізуйте дані за допомогою `scatterplot` з регресійною лінією.\n",
    "\n",
    "**Варіант 13:** Дослідіть взаємозв’язок між рівнем систолічного тиску (`ap_hi`) та вагою (`weight`). Чи є кореляція між цими показниками? Обчисліть коефіцієнт кореляції Пірсона та візуалізуйте дані за допомогою точкової діаграми.\n",
    "\n",
    "**Варіант 14:** Проаналізуйте співвідношення між віком (`age`) та рівнем систолічного тиску (`ap_hi`). Чи є кореляція між віком та тиском? Обчисліть коефіцієнт кореляції Спірмена та візуалізуйте дані за допомогою регресійної лінії.\n",
    "\n",
    "**Варіант 15:** Проаналізуйте, чи є залежність між рівнем холестерину (`cholesterol`) та ризиком ССЗ (`cardio`). Обчисліть коефіцієнт кореляції Пірсона для кожної групи ризику та візуалізуйте дані за допомогою `scatterplot`.\n",
    "\n",
    "**Варіант 16:** Проаналізуйте співвідношення між рівнем фізичної активності (`active`) та індексом маси тіла (`bmi`). Чи є кореляція між цими показниками? Обчисліть коефіцієнт кореляції Спірмена та візуалізуйте дані за допомогою регресійної лінії.\n",
    "\n",
    "**Варіант 17:** Проаналізуйте, як вік (`age`) впливає на рівень систолічного тиску (`ap_hi`). Побудуйте графік лінійної регресії та обчисліть коефіцієнт кореляції Пірсона.\n",
    "\n",
    "**Варіант 18:** Дослідіть співвідношення між вагою (`weight`) та індексом маси тіла (`bmi`). Чи є кореляція між цими показниками? Обчисліть коефіцієнт кореляції Пірсона та візуалізуйте дані за допомогою точкової діаграми.\n",
    "\n",
    "**Варіант 19:** Проаналізуйте взаємозв’язок між рівнем глюкози (`gluc`) та рівнем діастолічного тиску (`ap_lo`). Чи є кореляція між цими показниками? Обчисліть коефіцієнт кореляції Спірмена та візуалізуйте дані за допомогою регресійної лінії.\n",
    "\n",
    "**Варіант 20:** Дослідіть, як рівень фізичної активності (`active`) пов’язаний із рівнем глюкози (`gluc`). Чи є тенденція до зменшення активності за високих рівнів глюкози? Обчисліть коефіцієнт кореляції Пірсона та візуалізуйте дані за допомогою `scatterplot`."
   ]
  },
  {
   "cell_type": "code",
   "execution_count": null,
   "metadata": {
    "ExecuteTime": {
     "end_time": "2023-10-03T14:40:31.403335100Z",
     "start_time": "2023-10-03T14:40:31.233858300Z"
    },
    "collapsed": false,
    "jupyter": {
     "outputs_hidden": false
    }
   },
   "outputs": [],
   "source": []
  }
 ],
 "metadata": {
  "kernelspec": {
   "display_name": "Python 3 (ipykernel)",
   "language": "python",
   "name": "python3"
  },
  "language_info": {
   "codemirror_mode": {
    "name": "ipython",
    "version": 3
   },
   "file_extension": ".py",
   "mimetype": "text/x-python",
   "name": "python",
   "nbconvert_exporter": "python",
   "pygments_lexer": "ipython3",
   "version": "3.9.16"
  }
 },
 "nbformat": 4,
 "nbformat_minor": 4
}
