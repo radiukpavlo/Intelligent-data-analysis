{
 "cells": [
  {
   "cell_type": "markdown",
   "metadata": {
    "slideshow": {
     "slide_type": "slide"
    }
   },
   "source": [
    "<h1><center>Лекція 2.</center></h1>\n",
    "<h2><center>Візуальний аналіз з Python</center></h2>\n",
    "<h2><center>Частина 2</center></h2>"
   ]
  },
  {
   "cell_type": "markdown",
   "metadata": {
    "slideshow": {
     "slide_type": "skip"
    }
   },
   "source": [
    "<a class=\"anchor\" id=\"2\"></a>"
   ]
  },
  {
   "cell_type": "markdown",
   "metadata": {
    "slideshow": {
     "slide_type": "slide"
    }
   },
   "source": [
    "## Зміст\n",
    "\n",
    "2. [Візуалізація для прогнозування відтоку](#2)\n",
    "3. [Корисні посилання](#3)"
   ]
  },
  {
   "cell_type": "markdown",
   "metadata": {
    "slideshow": {
     "slide_type": "skip"
    }
   },
   "source": [
    "<a class=\"anchor\" id=\"2\"></a>"
   ]
  },
  {
   "cell_type": "markdown",
   "metadata": {
    "slideshow": {
     "slide_type": "slide"
    }
   },
   "source": [
    "## <span style=\"color:blue; font-size:1.2em;\">2. Візуалізація для прогнозування відтоку</span>\n",
    "\n",
    "[Повернутися до змісту](#2)"
   ]
  },
  {
   "cell_type": "markdown",
   "metadata": {
    "slideshow": {
     "slide_type": "fragment"
    }
   },
   "source": [
    "У цій частині теми 2 ми зчитаємо в DataFrame дані щодо відтоку клієнтів телеком-оператора (той же набір даних, що і у попередній [частині теми 2](https://github.com/radiukpavlo/intelligent-data-analysis/blob/main/01_lecture-notes/ida_lecture-02_visual-analytics/ida_lecture-02_visual-analytics_part-1.ipynb))."
   ]
  },
  {
   "cell_type": "code",
   "execution_count": 1,
   "metadata": {
    "ExecuteTime": {
     "end_time": "2023-10-03T13:06:58.770386900Z",
     "start_time": "2023-10-03T13:06:58.449828900Z"
    },
    "slideshow": {
     "slide_type": "subslide"
    }
   },
   "outputs": [],
   "source": [
    "from __future__ import division, print_function\n",
    "\n",
    "# Відключимо різні попередження Anaconda\n",
    "import warnings\n",
    "warnings.filterwarnings('ignore')\n",
    "\n",
    "# Виконаємо імпортування основних бібліотек\n",
    "import numpy as np\n",
    "import pandas as pd\n",
    "pd.set_option('display.max.columns', 100)"
   ]
  },
  {
   "cell_type": "code",
   "execution_count": 2,
   "metadata": {
    "slideshow": {
     "slide_type": "fragment"
    }
   },
   "outputs": [],
   "source": [
    "%matplotlib inline\n",
    "import seaborn as sns\n",
    "from matplotlib import pyplot as plt\n",
    "\n",
    "# Задамо графіки у форматі .svg, щоби вони мали кращу чіткість\n",
    "# %config InlineBackend.figure_format = 'svg' \n",
    "\n",
    "# Підвищимо розмір графіків за замовчуванням\n",
    "plt.style.use('ggplot')\n",
    "plt.rcParams['figure.figsize'] = 7, 5"
   ]
  },
  {
   "cell_type": "code",
   "execution_count": 3,
   "metadata": {
    "ExecuteTime": {
     "end_time": "2023-10-03T13:06:58.975266200Z",
     "start_time": "2023-10-03T13:06:58.457830100Z"
    },
    "slideshow": {
     "slide_type": "subslide"
    }
   },
   "outputs": [],
   "source": [
    "telecom_churn_url = 'https://raw.githubusercontent.com/radiukpavlo/intelligent-data-analysis/main/01_lecture-notes/ida_lecture-02_visual-analytics/telecom_churn.csv'\n",
    "\n",
    "df = pd.read_csv(telecom_churn_url)"
   ]
  },
  {
   "cell_type": "markdown",
   "metadata": {
    "slideshow": {
     "slide_type": "fragment"
    }
   },
   "source": [
    "Перевіримо, чи дані правильно завантажилися; для цього переглянемо перші 5 рядків (метод `head`)."
   ]
  },
  {
   "cell_type": "code",
   "execution_count": 4,
   "metadata": {
    "ExecuteTime": {
     "end_time": "2023-10-03T13:06:58.976253900Z",
     "start_time": "2023-10-03T13:06:58.955254300Z"
    },
    "slideshow": {
     "slide_type": "fragment"
    }
   },
   "outputs": [],
   "source": [
    "df.head()"
   ]
  },
  {
   "cell_type": "markdown",
   "metadata": {
    "slideshow": {
     "slide_type": "subslide"
    }
   },
   "source": [
    "Кількість рядків (клієнтів) і стовпців (ознак):"
   ]
  },
  {
   "cell_type": "code",
   "execution_count": 5,
   "metadata": {
    "ExecuteTime": {
     "end_time": "2023-10-03T13:06:58.991251200Z",
     "start_time": "2023-10-03T13:06:58.962280200Z"
    },
    "slideshow": {
     "slide_type": "fragment"
    }
   },
   "outputs": [],
   "source": [
    "df.shape"
   ]
  },
  {
   "cell_type": "markdown",
   "metadata": {
    "slideshow": {
     "slide_type": "fragment"
    }
   },
   "source": [
    "Переглянемо ознаки та переконаємося, що пропусків ні в одному з них немає - скрізь по 3333 записи."
   ]
  },
  {
   "cell_type": "code",
   "execution_count": 6,
   "metadata": {
    "ExecuteTime": {
     "end_time": "2023-10-03T13:06:59.001252500Z",
     "start_time": "2023-10-03T13:06:58.978284800Z"
    },
    "slideshow": {
     "slide_type": "subslide"
    }
   },
   "outputs": [],
   "source": [
    "df.info()"
   ]
  },
  {
   "cell_type": "markdown",
   "metadata": {
    "slideshow": {
     "slide_type": "subslide"
    }
   },
   "source": [
    "Опис ознак\n",
    "\n",
    "| Назва                     | Опис                                                       | Тип          |\n",
    "|--------------------------|------------------------------------------------------------|--------------|\n",
    "| **State**                | Код штату літерами                                          | номінальний  |\n",
    "| **Account length**       | Як довго клієнт обслуговується компанією                    | кількісний   |\n",
    "| **Area code**            | Префікс номера телефону                                    | кількісний   |\n",
    "| **International plan**   | Міжнародний роумінг (підключений / не підключений)          | бінарний     |\n",
    "| **Voice mail plan**      | Голосова пошта (підключена / не підключена)                | бінарний     |\n",
    "| **Number vmail messages**| Кількість голосових повідомлень                            | кількісний   |\n",
    "| **Total day minutes**    | Загальна тривалість розмов упродовж дня                    | кількісний   |\n",
    "| **Total day calls**      | Загальна кількість дзвінків упродовж дня                   | кількісний   |\n",
    "| **Total day charge**     | Загальна сума оплати за послуги упродовж дня               | кількісний   |\n",
    "| **Total eve minutes**    | Загальна тривалість розмов ввечері                         | кількісний   |\n",
    "| **Total eve calls**      | Загальна кількість дзвінків ввечері                        | кількісний   |\n",
    "| **Total eve charge**     | Загальна сума оплати за послуги ввечері                    | кількісний   |\n",
    "| **Total night minutes**  | Загальна тривалість розмов вночі                           | кількісний   |\n",
    "| **Total night calls**    | Загальна кількість дзвінків вночі                          | кількісний   |\n",
    "| **Total night charge**   | Загальна сума оплати за послуги вночі                      | кількісний   |\n",
    "| **Total intl minutes**   | Загальна тривалість міжнародних розмов                     | кількісний   |\n",
    "| **Total intl calls**     | Загальна кількість міжнародних розмов                      | кількісний   |\n",
    "| **Total intl charge**    | Загальна сума оплати за міжнародні розмови                 | кількісний   |\n",
    "| **Customer service calls** | Число звернень до сервісного центру                      | кількісний   |\n",
    "\n",
    "\n",
    "Цільова змінна: `Churn` - ознака відтоку, бінарна (1 - втрата клієнта, тобто відтік). Надалі ми будемо будувати моделі, які прогнозуватимуть цю ознаку за іншими, тому ми і назвали її цільовою."
   ]
  },
  {
   "cell_type": "markdown",
   "metadata": {
    "slideshow": {
     "slide_type": "subslide"
    }
   },
   "source": [
    "Поглянемо на розподіл цільового класу - відтоку клієнтів."
   ]
  },
  {
   "cell_type": "code",
   "execution_count": 7,
   "metadata": {
    "ExecuteTime": {
     "end_time": "2023-10-03T13:06:59.053281700Z",
     "start_time": "2023-10-03T13:06:58.995281100Z"
    },
    "slideshow": {
     "slide_type": "fragment"
    }
   },
   "outputs": [],
   "source": [
    "df['Churn'].value_counts()"
   ]
  },
  {
   "cell_type": "code",
   "execution_count": 8,
   "metadata": {
    "ExecuteTime": {
     "end_time": "2023-10-03T13:06:59.199252Z",
     "start_time": "2023-10-03T13:06:59.017286700Z"
    },
    "slideshow": {
     "slide_type": "subslide"
    }
   },
   "outputs": [],
   "source": [
    "df['Churn'].value_counts().plot(kind='bar', label='Churn')\n",
    "plt.legend()\n",
    "plt.title('Розподіл відтоку клієнтів')\n",
    "plt.gcf().set_dpi(100)"
   ]
  },
  {
   "cell_type": "markdown",
   "metadata": {
    "slideshow": {
     "slide_type": "fragment"
    }
   },
   "source": [
    "Виділимо такі групи ознак (поміж усіх крім `Churn`):\n",
    " - бінарні: `International plan`, `Voice mail plan`;\n",
    " - категоріальні: `State`;\n",
    " - порядкові: `Customer service calls`;\n",
    " - кількісні: всі інші."
   ]
  },
  {
   "cell_type": "markdown",
   "metadata": {
    "slideshow": {
     "slide_type": "subslide"
    }
   },
   "source": [
    "Переглянемо кореляції кількісних ознак. За розфарбованою матрицею кореляцій видно, що такі ознаки як `Total day charge` вважаються за проговореним хвилинам (`Total day minutes`). Тобто 4 ознаки можна викинути, вони не несуть корисної інформації."
   ]
  },
  {
   "cell_type": "code",
   "execution_count": 9,
   "metadata": {
    "ExecuteTime": {
     "end_time": "2023-10-03T13:06:59.325521500Z",
     "start_time": "2023-10-03T13:06:59.200251300Z"
    },
    "slideshow": {
     "slide_type": "fragment"
    }
   },
   "outputs": [],
   "source": [
    "corr_matrix = df.drop(['State', 'International plan', 'Voice mail plan',\n",
    "                      'Area code'], axis=1).corr()"
   ]
  },
  {
   "cell_type": "code",
   "execution_count": 10,
   "metadata": {
    "ExecuteTime": {
     "end_time": "2023-10-03T13:06:59.611435300Z",
     "start_time": "2023-10-03T13:06:59.216522200Z"
    },
    "slideshow": {
     "slide_type": "subslide"
    }
   },
   "outputs": [],
   "source": [
    "sns.heatmap(corr_matrix)\n",
    "plt.gcf().set_dpi(100)"
   ]
  },
  {
   "cell_type": "markdown",
   "metadata": {
    "slideshow": {
     "slide_type": "subslide"
    }
   },
   "source": [
    "Тепер глянемо на розподіли всіх ознак, що нас цікавлять. Подамо бінарні/категоріальні/порядкові ознаки за відокремленими групами."
   ]
  },
  {
   "cell_type": "code",
   "execution_count": 11,
   "metadata": {
    "ExecuteTime": {
     "end_time": "2023-10-03T13:06:59.623653300Z",
     "start_time": "2023-10-03T13:06:59.611435300Z"
    },
    "slideshow": {
     "slide_type": "fragment"
    }
   },
   "outputs": [],
   "source": [
    "features = list(set(df.columns) - {'State', 'International plan', 'Voice mail plan', 'Area code', 'Total day charge',\n",
    "                                   'Total eve charge', 'Total night charge', 'Total intl charge', 'Churn'})"
   ]
  },
  {
   "cell_type": "code",
   "execution_count": 12,
   "metadata": {
    "ExecuteTime": {
     "end_time": "2023-10-03T13:07:01.544998Z",
     "start_time": "2023-10-03T13:06:59.625652100Z"
    },
    "slideshow": {
     "slide_type": "subslide"
    }
   },
   "outputs": [],
   "source": [
    "df[features].hist(figsize=(12,10))\n",
    "plt.gcf().set_dpi(100)"
   ]
  },
  {
   "cell_type": "markdown",
   "metadata": {
    "slideshow": {
     "slide_type": "subslide"
    }
   },
   "source": [
    "З рисунку вище бачимо, що більшість ознак розподілені нормально. Винятки - кількість дзвінків в сервісний центр (`Customer service calls`) (тут більше підходить пуасоновський розподіл) й кількість голосових повідомлень (`Number vmail messages`, пік в нулі, тобто це ті, у кого голосова пошта не підключена). Також зміщеним є розподіл кількості міжнародних дзвінків (`Total intl calls`)."
   ]
  },
  {
   "cell_type": "markdown",
   "metadata": {
    "slideshow": {
     "slide_type": "fragment"
    }
   },
   "source": [
    "Ще корисно будувати ось такі картинки, де на головній діагоналі малюються розподіли ознак, а поза головною діагоналлю - діаграми розсіювання для пар ознак. "
   ]
  },
  {
   "cell_type": "code",
   "execution_count": 13,
   "metadata": {
    "ExecuteTime": {
     "end_time": "2023-10-03T13:07:01.545997Z",
     "start_time": "2023-10-03T13:07:01.523695100Z"
    },
    "slideshow": {
     "slide_type": "fragment"
    }
   },
   "outputs": [],
   "source": [
    "# sns.pairplot(df[features + ['Churn']], hue='Churn')\n",
    "# даний кусок коду закоментований через значне навантаження на CPU"
   ]
  },
  {
   "cell_type": "markdown",
   "metadata": {
    "slideshow": {
     "slide_type": "fragment"
    }
   },
   "source": [
    "Іноді подібні візуалізації дають змогу отримати корисні висновки, але тут все без сюрпризів."
   ]
  },
  {
   "cell_type": "markdown",
   "metadata": {
    "slideshow": {
     "slide_type": "subslide"
    }
   },
   "source": [
    "**Далі глянемо, як незалежні ознаки пов'язані з цільовою ознакою - з відтоком.**"
   ]
  },
  {
   "cell_type": "markdown",
   "metadata": {
    "slideshow": {
     "slide_type": "fragment"
    }
   },
   "source": [
    "Побудуємо `boxplot`-и, які описують статистики розподілу кількісних ознак у двох групах: поміж лояльних та тих, що покинули компанію."
   ]
  },
  {
   "cell_type": "code",
   "execution_count": 14,
   "metadata": {
    "ExecuteTime": {
     "end_time": "2023-10-03T13:07:02.963342200Z",
     "start_time": "2023-10-03T13:07:01.544998Z"
    },
    "slideshow": {
     "slide_type": "subslide"
    }
   },
   "outputs": [],
   "source": [
    "fig, axes = plt.subplots(nrows=3, ncols=4, figsize=(16, 10))\n",
    "\n",
    "for idx, feat in enumerate(features):\n",
    "    sns.boxplot(x='Churn', y=feat, data=df, fliersize=8, ax=axes[int(idx / 4), idx % 4])\n",
    "    # axes[int(idx / 4), idx % 4].legend()\n",
    "    axes[int(idx / 4), idx % 4].set_xlabel('Churn')\n",
    "    axes[int(idx / 4), idx % 4].set_ylabel(feat)"
   ]
  },
  {
   "cell_type": "markdown",
   "metadata": {
    "slideshow": {
     "slide_type": "subslide"
    }
   },
   "source": [
    "На око найбільшу відмінність ми бачимо для ознак `Total day minutes`, `Customer service calls` і `Number vmail messages`. На наступних лекціях ми навчимося визначати важливість ознак для задачі класифікації за допомогою випадкового лісу (або градієнтного бустингу), і виявиться, що перші дві - дійсно дуже важливі ознаки для прогнозування відтоку."
   ]
  },
  {
   "cell_type": "markdown",
   "metadata": {
    "slideshow": {
     "slide_type": "fragment"
    }
   },
   "source": [
    "Глянемо окремо на рисунки з розподілом кількості проговорених хвилин упродовж дня поміж лояльних та тих, що пішли. Зліва - знайомі нам `boxplot`-и, праворуч - згладжені гістограми розподілу кількісної ознаки у двох групах (тут це просто гарний рисунок, все і так зрозуміло за `boxplot`-ом).\n",
    "\n",
    "Цікаве **спостереження**: в середньому ті клієнти, що пішли від компанії, частіше користуються зв'язком. Можливо, вони були незадоволені тарифами, і тому одним із рішень щодо зниження відтоку буде зниження тарифних ставок (вартості мобільного зв'язку). Проте компанії треба буде проводити додатковий економетричний аналіз, щоб розуміти чи дійсно такі заходи будуть економічно виправданими."
   ]
  },
  {
   "cell_type": "code",
   "execution_count": 15,
   "metadata": {
    "ExecuteTime": {
     "end_time": "2023-10-03T13:07:03.203370900Z",
     "start_time": "2023-10-03T13:07:02.969340400Z"
    },
    "slideshow": {
     "slide_type": "subslide"
    }
   },
   "outputs": [],
   "source": [
    "_, axes = plt.subplots(1, 2, sharey=True, figsize=(9, 4))\n",
    "\n",
    "sns.boxplot(x='Churn', y='Total day minutes', data=df, ax=axes[0])\n",
    "sns.violinplot(x='Churn', y='Total day minutes', data=df, ax=axes[1])\n",
    "plt.gcf().set_dpi(150)"
   ]
  },
  {
   "cell_type": "markdown",
   "metadata": {
    "slideshow": {
     "slide_type": "subslide"
    }
   },
   "source": [
    "Тепер подамо розподіл кількості звернень у сервісний центр. Тут унікальних значень ознаки небагато (ознаку можна вважати як кількісною цілочисельною, так і порядковою), й наочніше зобразити розподіл за допомогою `countplot`. **Спостереження**: частка відтоку сильно зростає починаючи з 4 дзвінків в сервісний центр."
   ]
  },
  {
   "cell_type": "code",
   "execution_count": 16,
   "metadata": {
    "ExecuteTime": {
     "end_time": "2023-10-03T13:07:03.439535400Z",
     "start_time": "2023-10-03T13:07:03.204341100Z"
    },
    "slideshow": {
     "slide_type": "subslide"
    }
   },
   "outputs": [],
   "source": [
    "sns.countplot(x='Customer service calls', hue='Churn', data=df)\n",
    "plt.gcf().set_dpi(150)"
   ]
  },
  {
   "cell_type": "markdown",
   "metadata": {
    "slideshow": {
     "slide_type": "subslide"
    }
   },
   "source": [
    "Далі перевіримо зв'язок бінарних ознак `International plan` і `Voice mail plan` з відтоком. **Спостереження :** коли роумінг підключений, частка відтоку є набагато вищою, тобто наявність міжнародного роумінгу - сильна ознака. Щодо голосової пошти таке твердження невиправдане."
   ]
  },
  {
   "cell_type": "code",
   "execution_count": 17,
   "metadata": {
    "ExecuteTime": {
     "end_time": "2023-10-03T13:07:03.680533Z",
     "start_time": "2023-10-03T13:07:03.441533600Z"
    },
    "slideshow": {
     "slide_type": "subslide"
    }
   },
   "outputs": [],
   "source": [
    "_, axes = plt.subplots(1, 2, sharey=True, figsize=(9,4))\n",
    "\n",
    "sns.countplot(x='International plan', hue='Churn', data=df, ax=axes[0])\n",
    "sns.countplot(x='Voice mail plan', hue='Churn', data=df, ax=axes[1])\n",
    "plt.gcf().set_dpi(150)"
   ]
  },
  {
   "cell_type": "markdown",
   "metadata": {
    "slideshow": {
     "slide_type": "subslide"
    }
   },
   "source": [
    "Насамкінець, подивимося, як з відтоком пов'язаний категоріальна ознака `State`. З цією ознакою вже не так приємно працювати, оскільки кількість унікальних штатів є досить великою - 51. Можна на початку побудувати зведену таблицю або порахувати відсоток відтоку для кожного штату. Але ми бачимо, що даних за кожним штатом окремо замало (тих клієнтів, що пішли - всього від 3 до 17), тому, можливо, ознаку `State` згодом не варто додавати у моделі класифікації через ризик *перенавчання* (але ми це будемо перевіряти на *крос-валідації*, stay tuned!)."
   ]
  },
  {
   "cell_type": "code",
   "execution_count": 18,
   "metadata": {
    "ExecuteTime": {
     "end_time": "2023-10-03T13:07:03.730564100Z",
     "start_time": "2023-10-03T13:07:03.682564700Z"
    },
    "slideshow": {
     "slide_type": "fragment"
    }
   },
   "outputs": [],
   "source": [
    "pd.crosstab(df['State'], df['Churn']).T"
   ]
  },
  {
   "cell_type": "markdown",
   "metadata": {
    "slideshow": {
     "slide_type": "subslide"
    }
   },
   "source": [
    "Частки відтоку для кожного штату:"
   ]
  },
  {
   "cell_type": "code",
   "execution_count": 19,
   "metadata": {
    "ExecuteTime": {
     "end_time": "2023-10-03T13:07:03.746562100Z",
     "start_time": "2023-10-03T13:07:03.713564400Z"
    },
    "slideshow": {
     "slide_type": "fragment"
    }
   },
   "outputs": [],
   "source": [
    "df.groupby(['State'])['Churn'].agg([np.mean]).sort_values(by='mean', ascending=False).T"
   ]
  },
  {
   "cell_type": "markdown",
   "metadata": {
    "slideshow": {
     "slide_type": "fragment"
    }
   },
   "source": [
    "Бачимо, що в Нью-Джерсі та Каліфорнії частка відтоку вище 25%, а на Гаваях і в Алясці менше 5%. Але ці висновки побудовані за надто скромною статистикою і можливо, це просто особливості наявних даних."
   ]
  },
  {
   "cell_type": "markdown",
   "metadata": {
    "slideshow": {
     "slide_type": "subslide"
    }
   },
   "source": [
    "Нарешті побудуємо t-SNE подання даних. Назва методу складна - [t-distributed Stohastic Neighbor Embedding](https://uk.wikipedia.org/wiki/T-%D1%80%D0%BE%D0%B7%D0%BF%D0%BE%D0%B4%D1%96%D0%BB%D0%B5%D0%BD%D0%B5_%D0%B2%D0%BA%D0%BB%D0%B0%D0%B4%D0%B5%D0%BD%D0%BD%D1%8F_%D1%81%D1%82%D0%BE%D1%85%D0%B0%D1%81%D1%82%D0%B8%D1%87%D0%BD%D0%BE%D1%97_%D0%B1%D0%BB%D0%B8%D0%B7%D1%8C%D0%BA%D0%BE%D1%81%D1%82%D1%96), математика всередині методу теж крута (але занурюватися в неї ми не будемо). Проте ключова ідея t-SNE проста, як двері: знайдемо таке відображення з багатовимірного простору ознак на площину (або в 3D, але майже завжди вибирають 2D), щоб точки, які були далеко один від одного, на площині теж виявилися віддаленими, а близькі точки - також відобразилися на близькі. Тобто neighbor embedding - це певним чином пошук нового представлення даних, за якого зберігається сусідство.\n",
    "\n",
    "Трохи деталей: викинемо штати й ознаку відтоку, бінарні Yes/No-ознаки переведемо в числа (за допомогою [`pandas.Series.map`](http://pandas.pydata.org/pandas-docs/stable/generated/pandas.Series.map.html)). Також потрібно масштабувати вибірку - з кожної ознаки відняти її середнє і розділити на стандартне відхилення, це робить `StandardScaler`."
   ]
  },
  {
   "cell_type": "code",
   "execution_count": 20,
   "metadata": {
    "ExecuteTime": {
     "end_time": "2023-10-03T13:07:03.783534400Z",
     "start_time": "2023-10-03T13:07:03.744538600Z"
    },
    "slideshow": {
     "slide_type": "subslide"
    }
   },
   "outputs": [],
   "source": [
    "from sklearn.manifold import TSNE\n",
    "from sklearn.preprocessing import StandardScaler"
   ]
  },
  {
   "cell_type": "code",
   "execution_count": 21,
   "metadata": {
    "ExecuteTime": {
     "end_time": "2023-10-03T13:07:03.848531900Z",
     "start_time": "2023-10-03T13:07:03.758533Z"
    },
    "slideshow": {
     "slide_type": "fragment"
    }
   },
   "outputs": [],
   "source": [
    "# перетворимо всі ознаки в кількісні, викинувши штати\n",
    "X = df.drop([\"Churn\", \"State\"], axis=1)\n",
    "X[\"International plan\"] = X[\"International plan\"].map({\"Yes\": 1, \"No\": 0})\n",
    "X[\"Voice mail plan\"] = X[\"Voice mail plan\"].map({\"Yes\": 1, \"No\": 0})\n",
    "\n",
    "scaler = StandardScaler()\n",
    "X_scaled = scaler.fit_transform(X)"
   ]
  },
  {
   "cell_type": "code",
   "execution_count": 22,
   "metadata": {
    "ExecuteTime": {
     "end_time": "2023-10-03T13:07:10.730725500Z",
     "start_time": "2023-10-03T13:07:03.774563300Z"
    },
    "slideshow": {
     "slide_type": "fragment"
    }
   },
   "outputs": [],
   "source": [
    "%%time\n",
    "# Побудуємо об'єкт t-SNE\n",
    "tsne = TSNE(random_state=17)\n",
    "tsne_repr = tsne.fit_transform(X_scaled)"
   ]
  },
  {
   "cell_type": "code",
   "execution_count": 23,
   "metadata": {
    "ExecuteTime": {
     "end_time": "2023-10-03T13:07:10.944724900Z",
     "start_time": "2023-10-03T13:07:10.724724600Z"
    },
    "slideshow": {
     "slide_type": "subslide"
    }
   },
   "outputs": [],
   "source": [
    "plt.scatter(tsne_repr[:, 0], tsne_repr[:, 1], alpha=0.5)\n",
    "plt.gcf().set_dpi(150)"
   ]
  },
  {
   "cell_type": "markdown",
   "metadata": {
    "slideshow": {
     "slide_type": "subslide"
    }
   },
   "source": [
    "Розфарбуємо отримане t-SNE подання даних за відтоком (сині - лояльні клієнти, помаранчеві - ті, що пішли)."
   ]
  },
  {
   "cell_type": "code",
   "execution_count": 24,
   "metadata": {
    "ExecuteTime": {
     "end_time": "2023-10-03T13:07:11.220255700Z",
     "start_time": "2023-10-03T13:07:10.944724900Z"
    },
    "slideshow": {
     "slide_type": "subslide"
    }
   },
   "outputs": [],
   "source": [
    "plt.scatter(tsne_repr[:, 0],\n",
    "            tsne_repr[:, 1],\n",
    "            c=df[\"Churn\"].map({False: \"blue\", True: \"orange\"}),\n",
    "            alpha=0.5,)\n",
    "plt.gcf().set_dpi(150)"
   ]
  },
  {
   "cell_type": "markdown",
   "metadata": {
    "slideshow": {
     "slide_type": "subslide"
    }
   },
   "source": [
    "Бачимо, що колишні клієнти, переважно \"збиваються\" в деяких областях простору ознак."
   ]
  },
  {
   "cell_type": "markdown",
   "metadata": {
    "slideshow": {
     "slide_type": "subslide"
    }
   },
   "source": [
    "Щоби краще зрозуміти рисунок, можна також розфарбувати його за іншими бінарним ознаками - за роумінгом (`International Plan`) та голосовою поштою (`Voicemail`). Сині ділянки відповідають об'єктам, які мають ці бінарні ознаки."
   ]
  },
  {
   "cell_type": "code",
   "execution_count": 25,
   "metadata": {
    "ExecuteTime": {
     "end_time": "2023-10-03T13:07:20.454040500Z",
     "start_time": "2023-10-03T13:07:19.854153400Z"
    },
    "slideshow": {
     "slide_type": "subslide"
    }
   },
   "outputs": [],
   "source": [
    "_, axes = plt.subplots(1, 2, sharey=True, figsize=(12, 5))\n",
    "for i, name in enumerate([\"International plan\", \"Voice mail plan\"]):\n",
    "    axes[i].scatter(\n",
    "        tsne_repr[:, 0],\n",
    "        tsne_repr[:, 1],\n",
    "        c=df[name].map({\"Yes\": \"orange\", \"No\": \"blue\"}),\n",
    "        alpha=0.5,)\n",
    "    axes[i].set_title(name)"
   ]
  },
  {
   "cell_type": "markdown",
   "metadata": {
    "slideshow": {
     "slide_type": "subslide"
    }
   },
   "source": [
    "Тепер зрозуміло, що, наприклад, багато колишніх клієнтів збиваються в лівому кластері людей з підключеним роумінгом, але без голосової пошти."
   ]
  },
  {
   "cell_type": "markdown",
   "metadata": {
    "slideshow": {
     "slide_type": "subslide"
    }
   },
   "source": [
    "Наостанок зазначимо мінуси t-SNE:\n",
    " - велика обчислювальна складність; ось ця реалізація `sklearn` навряд допоможе у реальній задачі, на більших вибірках варто подивитися в бік [Multicore-TSNE] (https://github.com/DmitryUlyanov/Multicore-TSNE);\n",
    " - рисунок може сильно змінитися за зміною `random seed`, це ускладнює інтерпретацію. [Ось] (http://distill.pub/2016/misread-tsne/) добра стаття щодо t-SNE; проте загалом за такими рисунками не варто робити далекосяжних висновків - це як гадання за кавовою гущею; іноді щось кидається в очі і підтверджується при вивченні, але це не часто відбувається.\n",
    "\n",
    "Нижче наведемо ще кілька рисунків для розуміння t-SNE. За допомогою t-SNE можна дійсно отримати гарне уявлення щодо даних (як у випадку з рукописними цифрами, [ось](https://colah.github.io/posts/2014-10-Visualizing-MNIST/) хороша стаття), так і просто намалювати ялинкову іграшку."
   ]
  },
  {
   "cell_type": "markdown",
   "metadata": {
    "slideshow": {
     "slide_type": "subslide"
    }
   },
   "source": [
    "![image](https://raw.githubusercontent.com/radiukpavlo/intelligent-data-analysis/main/03_img/2_tsne_mnist.png)"
   ]
  },
  {
   "cell_type": "markdown",
   "metadata": {
    "slideshow": {
     "slide_type": "subslide"
    }
   },
   "source": [
    "![image](https://raw.githubusercontent.com/radiukpavlo/intelligent-data-analysis/main/03_img/2_tsne_christmas_toy.jpg)"
   ]
  },
  {
   "cell_type": "markdown",
   "metadata": {
    "slideshow": {
     "slide_type": "skip"
    }
   },
   "source": [
    "<a class=\"anchor\" id=\"2.3\"></a>"
   ]
  },
  {
   "cell_type": "markdown",
   "metadata": {
    "slideshow": {
     "slide_type": "slide"
    }
   },
   "source": [
    "## <span style=\"color:blue; font-size:1.2em;\">2.3. Корисні посилання</span>\n",
    "\n",
    "[Повернутися до змісту](#2)"
   ]
  },
  {
   "cell_type": "markdown",
   "metadata": {
    "slideshow": {
     "slide_type": "fragment"
    }
   },
   "source": [
    "* Official Matplotlab [documentation](https://matplotlib.org/stable/contents.html).\n",
    "* Official Seaborn [documentation](https://seaborn.pydata.org/tutorial.html).\n",
    "* Official Plotly [documentation](https://plotly.com/python/).\n",
    "* Що таке візуальна аналітика? - визначення з техопедії [посилання](https://uk.theastrologypage.com/visual-analytics).\n",
    "* Data and information visualization [wiki](https://en.wikipedia.org/wiki/Data_and_information_visualization)."
   ]
  },
  {
   "cell_type": "code",
   "execution_count": null,
   "metadata": {
    "ExecuteTime": {
     "end_time": "2023-10-03T13:07:11.956378Z",
     "start_time": "2023-10-03T13:07:11.818852300Z"
    },
    "slideshow": {
     "slide_type": "skip"
    }
   },
   "outputs": [],
   "source": []
  }
 ],
 "metadata": {
  "celltoolbar": "Slideshow",
  "kernelspec": {
   "display_name": "Python 3 (ipykernel)",
   "language": "python",
   "name": "python3"
  },
  "language_info": {
   "codemirror_mode": {
    "name": "ipython",
    "version": 3
   },
   "file_extension": ".py",
   "mimetype": "text/x-python",
   "name": "python",
   "nbconvert_exporter": "python",
   "pygments_lexer": "ipython3",
   "version": "3.9.16"
  }
 },
 "nbformat": 4,
 "nbformat_minor": 4
}
