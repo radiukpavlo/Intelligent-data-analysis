{
 "cells": [
  {
   "cell_type": "markdown",
   "metadata": {
    "slideshow": {
     "slide_type": "slide"
    }
   },
   "source": [
    "<h1><center>Лекція 3.</center></h1>\n",
    "<h2><center>Традиційні методи класифікації: дерево рішень і метод найближчих сусідів</center></h2>"
   ]
  },
  {
   "cell_type": "markdown",
   "metadata": {
    "slideshow": {
     "slide_type": "skip"
    }
   },
   "source": [
    "<a class=\"anchor\" id=\"3\"></a>"
   ]
  },
  {
   "cell_type": "markdown",
   "metadata": {
    "slideshow": {
     "slide_type": "slide"
    },
    "tags": []
   },
   "source": [
    "## Зміст \n",
    "\n",
    "- [3.1. Дерево рішень](#3.1)\n",
    "    + [3.1.1. Як будується дерево рішень](#3.1.1)\n",
    "    + [3.1.2. Ентропія](#3.1.2)\n",
    "    + [3.1.3. Алгоритм побудови дерева рішень](#3.1.3)\n",
    "    + [3.1.4. Інші критерії якості розбиття для задачі класифікації](#3.1.4)\n",
    "    + [3.1.5. Як дерево рішень працює з кількісними ознаками](#3.1.5)\n",
    "    + [3.1.6. Основні параметри дерева](#3.1.6)\n",
    "    + [3.1.7. Клас DecisionTreeClassifier в Scikit-learn](#3.1.7)\n",
    "    + [3.1.8. Дерево рішень в задачі регресії](#3.1.8)\n",
    "    + [3.1.9. Переваги та недоліки дерев рішень](#3.1.9)\n",
    "- [3.2. Метод найближчих сусідів](#3.2)\n",
    "    + [3.2.1. Метод найближчих сусідів в реальних задачах](#3.2.1)\n",
    "    + [3.2.2. Вибір параметрів моделі й крос-валідація](#3.2.2)\n",
    "    + [3.2.3. Переваги та недоліки методу найближчих сусідів](#3.2.3)\n",
    "- [3.3. Дерево рішень і метод найближчих сусідів для задачі прогнозування відтоку клієнтів телеком-оператора](#3.3)\n",
    "- [3.4. Дерево рішень і метод найближчих сусідів для задачі розпізнавання рукописних цифр MNIST](#3.4)\n",
    "- [3.5. Складний випадок для дерев рішень](#3.5)\n",
    "- [3.6. Складний випадок для методу найближчих сусідів](#3.6)\n",
    "- [3.7. Корисні посилання](#3.7)"
   ]
  },
  {
   "cell_type": "markdown",
   "metadata": {
    "slideshow": {
     "slide_type": "subslide"
    }
   },
   "source": [
    "У перших двох лекціях ми практикувалися в первинному аналізі даних з Python, зокрема з Pandas, і будували візуалізації, що дають змогу робити висновки за даними. Починаючи з цієї лекції ми перейдемо безпосередньо до інтелектуального аналізу даних (ІАД).\n",
    "\n",
    "Перед тим як ринутися в бій, спершу поговоримо про те, яку саме задачу ми будемо вирішувати та яке її місце в галузі ІАД та машинного навчання (МН).\n",
    "\n",
    "Класичне, загальне визначення МН звучить так (T. Mitchell \"Machine learning\", 1997): \"кажуть, що комп'ютерна програма *навчається* під час розв'язання деякої задачі з класу *T*, якщо її продуктивність, відповідно до метрики *P*, покращується під час накопичення досвіду *E*\"."
   ]
  },
  {
   "cell_type": "markdown",
   "metadata": {
    "slideshow": {
     "slide_type": "subslide"
    }
   },
   "source": [
    "Далі за різних сценаріїв під *T*, *P*, і *E* маються на увазі зовсім різні речі. Поміж найпопулярніших задач *T* в МН є:\n",
    " - класифікація – віднесення об'єкта до однієї з категорій на основі його ознак;\n",
    " - регресія – прогнозування кількісної ознаки об'єкта на основі інших його ознак;\n",
    " - кластеризація – розбиття множини об'єктів на групи на основі ознак цих об'єктів так, щоб усередині груп об'єкти були схожі між собою, а поза однієї групи – менш схожі;\n",
    " - детектування аномалій – пошук \"дуже несхожих\" об'єктів на всі інші у вибірці або на якусь групу об'єктів;\n",
    " - і багато інших, більш специфічних.\n",
    " \n",
    "Хороший огляд задач ІАД/МН дано в 5-ому розділі книги [\"Deep Learning\"](https://www.deeplearningbook.org/) (Ian Goodfellow, Yoshua Bengio, Aaron Courville, 2016).\n",
    " \n",
    "Під досвідом *E* розуміють дані (без них нікуди), і в залежності від цього алгоритми ІАД можуть бути поділені на ті, що навчаються *з учителем* і *без учителя* ([supervised](https://en.wikipedia.org/wiki/Supervised_learning) & [unsupervised learning](https://en.wikipedia.org/wiki/Unsupervised_learning), відповідно). У задачах навчання без учителя є *вибірка*, що складається з *об'єктів*, що описується набором *ознак*. У задачах навчання з учителем на додачу до цього для кожного об'єкта деякої вибірки, що зветься *навчальна*, дано також *цільову ознаку* – те, що хотілося б прогнозувати для інших об'єктів, не з навчальної вибірки."
   ]
  },
  {
   "cell_type": "markdown",
   "metadata": {
    "slideshow": {
     "slide_type": "subslide"
    }
   },
   "source": [
    "#### Приклад\n",
    "\n",
    "Задачі класифікації й регресії – це задачі навчання з учителем. За приклад візьмемо задачу кредитного скорингу: на основі накопичених банком даних щодо своїх клієнтів є потреба спрогнозувати потенційне неповернення кредиту. Тут для алгоритму досвід *E* – це наявна навчальна вибірка: набір *об'єктів* (людей), кожен з яких характеризується набором *ознак* (таких як вік, зарплата, тип кредиту, неповернення в минулому тощо), а також *цільовою ознакою*. Якщо ця цільова ознака є фактом неповернення кредиту (1 або 0, тобто банк знає про своїх клієнтів, хто повернув кредит, а хто – ні), то це задача (бінарної) класифікації. Якщо відомо, *на скільки* за часом клієнт затягнув з поверненням кредиту та хочеться те ж саме спрогнозувати для нових клієнтів, то це буде задачею регресії."
   ]
  },
  {
   "cell_type": "markdown",
   "metadata": {
    "slideshow": {
     "slide_type": "fragment"
    }
   },
   "source": [
    "Нарешті, третя абстракція у визначенні ІАД та МН – це метрика оцінки продуктивності алгоритму *P*. Такі метрики відрізняються для різних задач й алгоритмів, і про них ми поговоримо в наступних темах. Наразі будемо вважати, що найпростішою метрикою якості алгоритму, що розв'язує задачу класифікації, є частка правильних відповідей ([*accuracy*](https://en.wikipedia.org/wiki/Accuracy_and_precision)) – тобто частка правильних прогнозів, які виконав машинний алгоритм, за тестовою вибіркою.\n",
    "\n",
    "Далі детальніше розглянемо дві задачі навчання з учителем: класифікацію та регресію."
   ]
  },
  {
   "cell_type": "markdown",
   "metadata": {
    "slideshow": {
     "slide_type": "skip"
    }
   },
   "source": [
    "<a class=\"anchor\" id=\"3.1\"></a>"
   ]
  },
  {
   "cell_type": "markdown",
   "metadata": {
    "slideshow": {
     "slide_type": "slide"
    }
   },
   "source": [
    "## <span style=\"color:blue; font-size:1.2em;\">3.1. Дерево рішень</span>\n",
    "\n",
    "[Повернутися до змісту](#3)"
   ]
  },
  {
   "cell_type": "markdown",
   "metadata": {
    "slideshow": {
     "slide_type": "subslide"
    }
   },
   "source": [
    "Розпочнемо огляд методів класифікації та регресії з одного з найпопулярніших – з дерева рішень. Розроблення та удосконалення дерев рішень відбувалося протягом всього XX століття ([коротка історія](https://www.explorium.ai/blog/the-complete-guide-to-decision-trees/)). Цей метод використовується в повсякденному житті в найрізноманітніших галузях людської діяльності, часом і дуже далеких від ІАД/МН. Деревом рішень будемо називати наочну інструкцію, що робити в тій чи іншій ситуації. Наведемо приклад з галузі консультування наукових співробітників інституту. Нехай Хмельницький національний університет випускає інфо-схему, що полегшує життя своїм співробітникам. Ось можливий фрагмент інструкції щодо публікації наукової статті на порталі університету."
   ]
  },
  {
   "cell_type": "markdown",
   "metadata": {
    "slideshow": {
     "slide_type": "subslide"
    }
   },
   "source": [
    "![image](https://raw.githubusercontent.com/radiukpavlo/intelligent-data-analysis/main/03_img/3_hse_instruction.png)"
   ]
  },
  {
   "cell_type": "markdown",
   "metadata": {
    "slideshow": {
     "slide_type": "subslide"
    }
   },
   "source": [
    "В термінах ІАД/МН можемо говорити, що зображення вище є елементарним класифікатором, який визначає форму публікації на порталі (книга, стаття, розділ книги, препринт, публікація у \"Віснику ХНУ\") за кількома ознаками: типом публікації (монографія, брошура, стаття тощо), типом видання, де опублікована стаття (науковий журнал, збірник праць тощо) та іншими."
   ]
  },
  {
   "cell_type": "markdown",
   "metadata": {
    "slideshow": {
     "slide_type": "subslide"
    }
   },
   "source": [
    "Найчастіше дерево рішень слугує узагальненням досвіду експертів, засобом передачі знань майбутнім співробітникам або моделлю бізнес-процесу компанії. Наприклад, до впровадження масштабованих алгоритмів ІАД/МН в банківській галузі задача кредитного скорингу розв'язувалась експертами. Рішення щодо видачі кредиту позичальникові приймалося на основі деяких інтуїтивно (або з досвіду) виведених правил, які можна подати у вигляді дерева рішень."
   ]
  },
  {
   "cell_type": "markdown",
   "metadata": {
    "slideshow": {
     "slide_type": "fragment"
    }
   },
   "source": [
    "<img src=\"https://raw.githubusercontent.com/radiukpavlo/intelligent-data-analysis/main/03_img/3_credit_scoring_toy_tree.png\" width=\"600\">"
   ]
  },
  {
   "cell_type": "markdown",
   "metadata": {
    "slideshow": {
     "slide_type": "subslide"
    }
   },
   "source": [
    "Дерево рішень, як алгоритм ІАД/МН – де факто є тим же самим, а саме об'єднанням логічних правил виду \"Значення ознаки $a$ менше $x$ і значення ознаки $b$ менше $y$ ... => Клас 1\" в структуру даних \"Дерево\". Величезна перевага дерев рішень в тому, що вони легко інтерпретуються і є зрозумілими людині. Наприклад, за схемою на рисунку вище можна пояснити позичальнику, чому йому було відмовлено в кредиті: тому, що у нього немає будинку і дохід менш як 5000."
   ]
  },
  {
   "cell_type": "markdown",
   "metadata": {
    "slideshow": {
     "slide_type": "fragment"
    }
   },
   "source": [
    "Як ми побачимо далі, багато інших, хоч і більш точних, моделей не мають цієї властивості, і можуть розглядатися швидше, як \"чорний ящик\", в який ми просто завантажили дані й отримали відповідь. Саме через цю \"зрозумілість\" дерев рішень і їхню схожість з моделлю прийняття рішень людиною (можна легко пояснювати керівнику свою модель), дерева рішень отримали широку популярність. Зокрема один з представників цієї групи методів класифікації, [С4.5](https://scikit-learn.org/stable/modules/tree.html#tree-algorithms-id3-c4-5-c5-0-and-cart), розглядається першим в списку 10 кращих алгоритмів ІАД (\"Top 10 algorithms in data mining\", Knowledge and Information Systems, 2008. [PDF](https://www.researchgate.net/publication/29467751_Top_10_algorithms_in_data_mining))."
   ]
  },
  {
   "cell_type": "markdown",
   "metadata": {
    "slideshow": {
     "slide_type": "skip"
    }
   },
   "source": [
    "<a class=\"anchor\" id=\"3.1.1\"></a>"
   ]
  },
  {
   "cell_type": "markdown",
   "metadata": {
    "slideshow": {
     "slide_type": "slide"
    }
   },
   "source": [
    "### <span style=\"color:blue; font-size:1em;\">3.1.1. Як будується дерево рішень</span>\n",
    "\n",
    "[Повернутися до змісту](#3)"
   ]
  },
  {
   "cell_type": "markdown",
   "metadata": {
    "slideshow": {
     "slide_type": "fragment"
    }
   },
   "source": [
    "У прикладі з кредитного скорингу ми бачили, що рішення щодо видачі кредиту приймалося на основі віку, наявності нерухомості, доходу та інших ознак. Але яку ознаку варто обрати першою? Для відповіді на це питання розглянемо приклад простіше, де всі ознаки є бінарними."
   ]
  },
  {
   "cell_type": "markdown",
   "metadata": {
    "slideshow": {
     "slide_type": "subslide"
    }
   },
   "source": [
    "Пригадаймо гру \"20 запитань\", яка часто згадується у вступі до дерев рішень. Напевно кожен в неї грав. Одна людина загадує, наприклад, знаменитість, а інша намагається відгадати, задаючи лише ті питання, на які можна відповісти \"Так\" або \"Ні\" (опустимо тут варіанти \"не знаю\" і \"не можу сказати\"). "
   ]
  },
  {
   "cell_type": "markdown",
   "metadata": {
    "slideshow": {
     "slide_type": "fragment"
    }
   },
   "source": [
    "В такому разі, яке питання насамперед задасть людина, що відгадує? Звичайно те, яке найсильніше зменшить кількість варіантів, що залишилися. Наприклад, питання \"Це Анджеліна Джолі?\" в разі негативної відповіді залишить понад 7 мільярдів варіантів для подальшого перебору (звичайно, трохи менше, не кожна людина – знаменитість, але все одно чимало), а ось питання \"Це жінка?\" відсіче вже близько половини відомих загалу людей. Тобто ознака \"стать\" набагато краще розділяє вибірку людей, ніж ознака \"це Анджеліна Джолі\", \"національність-іспанець\" або \"любить футбол\". "
   ]
  },
  {
   "cell_type": "markdown",
   "metadata": {
    "slideshow": {
     "slide_type": "fragment"
    }
   },
   "source": [
    "Це інтуїтивно відповідає поняттю приросту інформації, що ґрунтується на важливому понятті теорії інформації під назвою [ентропія](https://uk.wikipedia.org/wiki/%D0%86%D0%BD%D1%84%D0%BE%D1%80%D0%BC%D0%B0%D1%86%D1%96%D0%B9%D0%BD%D0%B0_%D0%B5%D0%BD%D1%82%D1%80%D0%BE%D0%BF%D1%96%D1%8F)."
   ]
  },
  {
   "cell_type": "markdown",
   "metadata": {
    "slideshow": {
     "slide_type": "skip"
    }
   },
   "source": [
    "<a class=\"anchor\" id=\"3.1.2\"></a>"
   ]
  },
  {
   "cell_type": "markdown",
   "metadata": {
    "slideshow": {
     "slide_type": "subslide"
    }
   },
   "source": [
    "### <span style=\"color:blue; font-size:1em;\">3.1.2. Ентропія</span>\n",
    "\n",
    "[Повернутися до змісту](#3)"
   ]
  },
  {
   "cell_type": "markdown",
   "metadata": {
    "slideshow": {
     "slide_type": "fragment"
    }
   },
   "source": [
    "Ентропія Шеннона визначається для системи з $N$ можливими станами так:\n",
    "\n",
    "$$\\large S = -\\sum_{i=1}^{N}p_ilog_2p_i,$$\n",
    "\n",
    "де $p_i$ – ймовірності перебування системи в $i$-му стані.\n",
    "\n",
    "Ентропія є вкрай розповсюдженим і широко використовуваним поняттям, наприклад, у фізиці, теорії інформації та інших галузях (див. поняття [ентропії](https://arxiv.org/abs/2409.09232?fbclid=IwY2xjawF2DOtleHRuA2FlbQIxMQABHazbzIxZIzhgmW46gEUQYv-CmDkULTGC9s5_dPZS0iEXZWKh2Sraaj6V7g_aem_cjWwN794y8mh7nIr5bykXA) з погляду фізики). Опускаючи передумови вступу (комбінаторні й теоретико-інформаційні) цього поняття, зазначимо, що інтуїтивно ентропія відповідає ступеню хаосу в системі. Чим вище значення ентропії, тим менше система впорядкована і навпаки. Це допоможе нам формалізувати \"ефективний розподіл вибірки\", про який ми говорили в контексті гри \"20 запитань\"."
   ]
  },
  {
   "cell_type": "markdown",
   "metadata": {
    "slideshow": {
     "slide_type": "subslide"
    }
   },
   "source": [
    "#### Приклад\n",
    "\n",
    "Для ілюстрації того, як ентропія допоможе визначити хороші ознаки для побудови дерева, наведемо іграшковий приклад із кульками. Тут будемо передбачати колір кульки за його координатою. Звичайно, нічого спільного з реальним життям цей приклад немає, але дає змогу показати як ентропія використовується для побудови дерева рішень."
   ]
  },
  {
   "cell_type": "markdown",
   "metadata": {
    "slideshow": {
     "slide_type": "subslide"
    }
   },
   "source": [
    "![image](https://raw.githubusercontent.com/radiukpavlo/intelligent-data-analysis/main/03_img/3_decision-tree_circles_1.png)"
   ]
  },
  {
   "cell_type": "markdown",
   "metadata": {
    "slideshow": {
     "slide_type": "fragment"
    }
   },
   "source": [
    "Маємо 9 синіх кульок і 11 жовтих. Якщо ми навмання витягли кульку, то вона з ймовірністю $p_1=\\frac{9}{20}$ буде синьою і з ймовірністю $p_2=\\frac{11}{20}$ – жовтою. Відтак, ентропія стану становить:\n",
    "\n",
    "$$\\large S_0 = -\\frac{9}{20}log_2{\\frac{9}{20}}-\\frac{11}{20}log_2{\\frac{11}{20}} \\approx 1.$$\n",
    "\n",
    "Це значення наразі ні про що нам не говорить. Але далі подивимося, як зміниться ентропія, якщо розбити кульки на дві групи – з координатою менше або дорівнює 12 і понад 12."
   ]
  },
  {
   "cell_type": "markdown",
   "metadata": {
    "slideshow": {
     "slide_type": "subslide"
    }
   },
   "source": [
    "![image](https://raw.githubusercontent.com/radiukpavlo/intelligent-data-analysis/main/03_img/3_decision-tree_circles_2.png)"
   ]
  },
  {
   "cell_type": "markdown",
   "metadata": {
    "slideshow": {
     "slide_type": "subslide"
    }
   },
   "source": [
    "У лівій групі виявилося 13 кульок, з яких 8 синіх і 5 жовтих. Ентропія цієї групи дорівнює:\n",
    "\n",
    "$$\\large S_1 = -\\frac{5}{13}log_2{\\frac{5}{13}}-\\frac{8}{13}log_2{\\frac{8}{13}} \\approx 0.96.$$\n",
    "\n",
    "У правій групі виявилося 7 куль, з яких 1 синя і 6 жовтих. Ентропія правої групи становить:\n",
    "\n",
    "$$\\large S_2 = -\\frac{1}{7}log_2{\\frac{1}{7}}-\\frac{6}{7}log_2{\\frac{6}{7}} \\approx 0.6.$$\n",
    "\n",
    "Як бачимо, ентропія зменшилася в обох групах у порівнянні з початковим станом, хоча в лівій і не сильно. Оскільки ентропія – де факто ступінь хаосу (або невизначеності) в системі, зменшення ентропії називають приростом інформації."
   ]
  },
  {
   "cell_type": "markdown",
   "metadata": {
    "slideshow": {
     "slide_type": "subslide"
    }
   },
   "source": [
    "Формально приріст інформації (з англ. \"information gain\", *IG*) при розбитті вибірки за ознакою $Q$ (в нашому прикладі це ознака \"$x \\leq 12$\") визначається як\n",
    "\n",
    "$$\\large IG(Q) = S_O – \\sum_{i=1}^{q}\\frac{|N_i|}{N}S_i,$$\n",
    "\n",
    "де $q$ – кількість груп після розбиття, $N_i$ – кількість елементів вибірки, у яких ознака $Q$ має $i$-е значення.\n",
    "\n",
    "У нашому випадку після поділу отримали дві групи ($q = 2$) – одна з 13 елементів ($N_1 = 13$), друга – з 7 ($N_2 = 7$).\n",
    "\n",
    "Приріст інформації становить:\n",
    "\n",
    "$$\\large IG(\"x \\leq 12\") = S_0 – \\frac{13}{20}S_1 – \\frac{7}{20}S_2 \\approx 0.16.$$\n",
    "\n",
    "Отримали, що розділивши кульки на дві групи за ознакою \"координата менше або дорівнює 12\", ми вже отримали більш впорядковану систему, ніж на початку. Продовжимо розподіл кульок допоки в кожній групі кульки не будуть одного кольору."
   ]
  },
  {
   "cell_type": "markdown",
   "metadata": {
    "slideshow": {
     "slide_type": "subslide"
    }
   },
   "source": [
    "![image](https://raw.githubusercontent.com/radiukpavlo/intelligent-data-analysis/main/03_img/3_decision-tree_circles_3.png)"
   ]
  },
  {
   "cell_type": "markdown",
   "metadata": {
    "slideshow": {
     "slide_type": "subslide"
    }
   },
   "source": [
    "Для правої групи було потрібно всього одне додаткове розбиття за ознакою \"координата менше або дорівнює 18\", для лівої – ще три. Очевидно, що ентропія групи з кульками одного кольору дорівнює 0 ($log_2{1} = 0$), що відповідає уявленню, що група кульок одного кольору – впорядкована.\n",
    "\n",
    "У підсумку ми побудували дерево рішень, яке передбачає колір кульки за його координатою. Зазначимо, що таке дерево рішень може погано працювати для нових об'єктів (визначення кольору нових кульок), оскільки воно ідеально підлаштоване під навчальну вибірку (початкові 20 кульок).\n",
    "\n",
    "Для класифікації нових кульок краще підійде дерево з меншою кількістю \"питань\", або поділів, навіть якщо воно й неідеально розбиває навчальну вибірку за кольором. Цю проблему, що зветься перенавчанням, ми розглянемо далі."
   ]
  },
  {
   "cell_type": "markdown",
   "metadata": {
    "slideshow": {
     "slide_type": "skip"
    }
   },
   "source": [
    "<a class=\"anchor\" id=\"3.1.3\"></a>"
   ]
  },
  {
   "cell_type": "markdown",
   "metadata": {
    "slideshow": {
     "slide_type": "slide"
    }
   },
   "source": [
    "### <span style=\"color:blue; font-size:1em;\">3.1.3. Алгоритм побудови дерева</span>\n",
    "\n",
    "[Повернутися до змісту](#3)"
   ]
  },
  {
   "cell_type": "markdown",
   "metadata": {
    "slideshow": {
     "slide_type": "fragment"
    }
   },
   "source": [
    "Можемо переконатися в тому, що побудоване в попередньому прикладі дерево є в деякому сенсі оптимальним – треба було лише 5 \"питань\" (умов для ознаки $x$), щоб \"підігнати\" дерево рішень під навчальну вибірку, тобто щоб дерево правильно класифікувало будь-який навчальний об'єкт. За інших умов поділу вибірки отримане дерево буде глибшем.\n",
    "\n",
    "Популярні алгоритми побудови дерева рішень, такі як [ID3](https://en.wikipedia.org/wiki/ID3_algorithm) і [C4.5](https://en.wikipedia.org/wiki/C4.5_algorithm), ґрунтуються на принципі жадібної максимізації приросту інформації – на кожному кроці вибирається та ознака, за поділу за якою приріст інформації виявляється найбільшим. Далі процедура повторюється рекурсивно, поки ентропія не дорівнюватиме нулю або якійсь малій величині (якщо дерево не підганяється ідеально під навчальну вибірку, щоб уникнути перенавчання).\n",
    "\n",
    "У різних алгоритмах використовуються різні [евристики](https://uk.wikipedia.org/wiki/%D0%95%D0%B2%D1%80%D0%B8%D1%81%D1%82%D0%B8%D1%87%D0%BD%D0%B8%D0%B9_%D0%B0%D0%BB%D0%B3%D0%BE%D1%80%D0%B8%D1%82%D0%BC) для \"ранньої зупинки\" або \"відсікання\", щоб уникнути побудови перенавчання дерева."
   ]
  },
  {
   "cell_type": "markdown",
   "metadata": {
    "slideshow": {
     "slide_type": "skip"
    }
   },
   "source": [
    "<a class=\"anchor\" id=\"3.1.4\"></a>"
   ]
  },
  {
   "cell_type": "markdown",
   "metadata": {
    "slideshow": {
     "slide_type": "slide"
    }
   },
   "source": [
    "### <span style=\"color:blue; font-size:1em;\">3.1.4. Інші критерії якості розбиття для задачі класифікації</span>\n",
    "\n",
    "[Повернутися до змісту](#3)"
   ]
  },
  {
   "cell_type": "markdown",
   "metadata": {
    "slideshow": {
     "slide_type": "subslide"
    }
   },
   "source": [
    "Наразі ми розібралися в тому, як поняття ентропії дає змогу формалізувати уявлення про якість розбиття в дереві рішень. Але тут ентропія є лише евристикою; можуть використовуватися й інші:\n",
    "\n",
    "- Невизначеність Джині (Gini impurity):\n",
    "\n",
    "$$\\large G = 1 – \\sum \\limits_k (p_k)^2.$$.\n",
    "\n",
    "Максимізацію цього критерію можна інтерпретувати як максимізацію кількості пар об'єктів одного класу, які опинилися в одному піддереві. Не плутати з [коефіцієнтом Джині](https://uk.wikipedia.org/wiki/%D0%9A%D0%BE%D0%B5%D1%84%D1%96%D1%86%D1%96%D1%94%D0%BD%D1%82_%D0%94%D0%B6%D0%B8%D0%BD%D1%96)! Детальніше про термінологію коефіцієнта Джині – в [блогпості](https://www.javatpoint.com/gini-index-in-machine-learning#:~:text=In%20machine%20learning%2C%20it%20is,to%201%20(perfectly%20impure)).\n",
    "- Помилка класифікації (misclassification error):\n",
    "\n",
    "$$\\large E = 1 – \\max\\limits_k p_k.$$"
   ]
  },
  {
   "cell_type": "markdown",
   "metadata": {
    "slideshow": {
     "slide_type": "subslide"
    }
   },
   "source": [
    "На практиці помилка класифікації майже не використовується, а невизначеність Джині та приріст інформації працюють практично однаково.\n",
    "\n",
    "У разі задачі бінарної класифікації ($p_+$ – ймовірність об'єкта мати мітку +) ентропія і невизначеність Джині приймуть такий вигляд:<br> <br>\n",
    "\n",
    "$$\\large S = -p_+ \\log_2{p_+} -p_- \\log_2{p_-} = -p_+ \\log_2{p_+} -(1 – p_{+}) \\log_2{(1 – p_{+})};$$\n",
    "$$\\large G = 1 – p_+^2 – p_-^2 = 1 – p_+^2 – (1 – p_+)^2 = 2p_+(1-p_+).$$\n",
    "\n",
    "Якщо ми побудуємо графіки цих двох функцій від аргументу $p_+$, то побачимо, що графік ентропії дуже близький до графіка подвоєної невизначеності Джині, і тому на практиці ці два критерії \"працюють\" майже однаково."
   ]
  },
  {
   "cell_type": "markdown",
   "metadata": {
    "slideshow": {
     "slide_type": "subslide"
    }
   },
   "source": [
    "Далі опрацюємо алгоритми побудови дерева рішень за допомогою інструментів Python."
   ]
  },
  {
   "cell_type": "code",
   "execution_count": 1,
   "metadata": {
    "ExecuteTime": {
     "end_time": "2023-10-09T18:03:20.944731600Z",
     "start_time": "2023-10-09T18:03:20.916641600Z"
    },
    "slideshow": {
     "slide_type": "fragment"
    }
   },
   "outputs": [],
   "source": [
    "from __future__ import division, print_function\n",
    "\n",
    "# Відключимо різні попередження Anaconda\n",
    "import warnings\n",
    "warnings.filterwarnings('ignore')\n",
    "import numpy as np\n",
    "import pandas as pd\n",
    "import pylab as plt\n",
    "%matplotlib inline\n",
    "import seaborn as sns\n",
    "from matplotlib import pyplot as plt"
   ]
  },
  {
   "cell_type": "code",
   "execution_count": 2,
   "metadata": {
    "ExecuteTime": {
     "end_time": "2023-10-09T18:03:21.019651500Z",
     "start_time": "2023-10-09T18:03:20.949806800Z"
    },
    "slideshow": {
     "slide_type": "fragment"
    }
   },
   "outputs": [],
   "source": [
    "# Задамо графіки у форматі .svg, щоби вони мали кращу чіткість\n",
    "# %config InlineBackend.figure_format = 'svg' \n",
    "\n",
    "# Задамо параметри відображення\n",
    "plt.style.use('ggplot')\n",
    "plt.rcParams['figure.figsize'] = 5, 3"
   ]
  },
  {
   "cell_type": "code",
   "execution_count": 3,
   "metadata": {
    "ExecuteTime": {
     "end_time": "2023-10-09T18:03:21.614296800Z",
     "start_time": "2023-10-09T18:03:20.989974400Z"
    },
    "slideshow": {
     "slide_type": "subslide"
    }
   },
   "outputs": [
    {
     "data": {
      "image/png": "[encoded data removed]",
      "text/plain": [
       "<Figure size 500x300 with 1 Axes>"
      ]
     },
     "metadata": {},
     "output_type": "display_data"
    }
   ],
   "source": [
    "xx = np.linspace(0,1,50)\n",
    "plt.figure(figsize=(5, 3), dpi=100)\n",
    "plt.plot(xx, [2*x*(1-x) for x in xx], label='gini')\n",
    "plt.plot(xx, [4*x*(1-x) for x in xx], label='2*gini')\n",
    "plt.plot(xx, [-x*np.log2(x)-(1-x)*np.log2(1-x) for x in xx], label='entropy')\n",
    "plt.plot(xx, [1-max(x,1-x) for x in xx], label='missclass')\n",
    "plt.plot(xx, [2-2*max(x,1-x) for x in xx], label='2*missclass')\n",
    "plt.xlabel('p+')\n",
    "plt.ylabel('criterion')\n",
    "plt.title('Критерії якості як функції від p+ (бінарна класифікація)', fontsize=10)\n",
    "plt.legend();"
   ]
  },
  {
   "cell_type": "markdown",
   "metadata": {
    "slideshow": {
     "slide_type": "subslide"
    }
   },
   "source": [
    "#### Приклад\n",
    "\n",
    "Розглянемо приклад застосування дерева рішень з бібліотеки [`scikit-learn`](https://scikit-learn.org/stable/) для синтетичних даних. Спершу згенеруємо дані. Два класи будуть згенеровані з двох нормальних розподілів з різними середніми значеннями."
   ]
  },
  {
   "cell_type": "code",
   "execution_count": 4,
   "metadata": {
    "ExecuteTime": {
     "end_time": "2023-10-09T18:03:21.779147700Z",
     "start_time": "2023-10-09T18:03:21.619019200Z"
    },
    "slideshow": {
     "slide_type": "fragment"
    }
   },
   "outputs": [],
   "source": [
    "# Створюємо перший клас\n",
    "np.seed = 7\n",
    "train_data = np.random.normal(size=(100, 2))\n",
    "train_labels = np.zeros(100)\n",
    "\n",
    "# Додаємо другий клас\n",
    "train_data = np.r_[train_data, np.random.normal(size=(100, 2), loc=2)]\n",
    "train_labels = np.r_[train_labels, np.ones(100)]"
   ]
  },
  {
   "cell_type": "markdown",
   "metadata": {
    "slideshow": {
     "slide_type": "subslide"
    }
   },
   "source": [
    "Напишемо допоміжну функцію, яка буде повертати решітку для подальшої файної візуалізації."
   ]
  },
  {
   "cell_type": "code",
   "execution_count": 5,
   "metadata": {
    "ExecuteTime": {
     "end_time": "2023-10-09T18:03:21.779286700Z",
     "start_time": "2023-10-09T18:03:21.644462100Z"
    },
    "slideshow": {
     "slide_type": "fragment"
    }
   },
   "outputs": [],
   "source": [
    "def get_grid(data, eps=0.01):\n",
    "    x_min, x_max = data[:, 0].min() - 1, data[:, 0].max() + 1\n",
    "    y_min, y_max = data[:, 1].min() - 1, data[:, 1].max() + 1\n",
    "    return np.meshgrid(np.arange(x_min, x_max, eps), np.arange(y_min, y_max, eps))"
   ]
  },
  {
   "cell_type": "markdown",
   "metadata": {
    "slideshow": {
     "slide_type": "fragment"
    }
   },
   "source": [
    "Відобразимо дані. Неформально, задача класифікації в цьому випадку полягає в побудові \"хорошої\" границі, що розділяє два класа (червоні точки від жовтих). Простими словами, МН в цьому випадку зводиться до того, як вибрати хорошу границю, що розділяє точки між собою. Можливо, звичайна пряма лінія буде занадто простою границею, а якась складна крива, що обгинає кожну червону крапку – буде занадто складною. "
   ]
  },
  {
   "cell_type": "markdown",
   "metadata": {
    "slideshow": {
     "slide_type": "fragment"
    }
   },
   "source": [
    "В такому разі ми будемо багато разів помилятися на нових прикладах з того ж розподілу, з якого прийшла навчальна вибірка. Інтуїція та досвід можуть підказати, що на нових даних добре працюватиме *гладка* границя, що розділяє 2 класи, або хоча б просто пряма (в $n$-мірному випадку – гіперплощина)."
   ]
  },
  {
   "cell_type": "code",
   "execution_count": 6,
   "metadata": {
    "ExecuteTime": {
     "end_time": "2023-10-09T18:03:22.385957300Z",
     "start_time": "2023-10-09T18:03:21.659135700Z"
    },
    "slideshow": {
     "slide_type": "subslide"
    }
   },
   "outputs": [
    {
     "data": {
      "image/png": "[encoded data removed]",
      "text/plain": [
       "<Figure size 525x375 with 1 Axes>"
      ]
     },
     "metadata": {},
     "output_type": "display_data"
    }
   ],
   "source": [
    "plt.figure(figsize=(7, 5), dpi=75)\n",
    "plt.scatter(train_data[:, 0], train_data[:, 1], c=train_labels, s=100, \n",
    "            cmap='autumn', edgecolors='black', linewidth=1.5)\n",
    "plt.plot(range(-2,5), range(4,-3,-1));"
   ]
  },
  {
   "cell_type": "markdown",
   "metadata": {
    "slideshow": {
     "slide_type": "subslide"
    }
   },
   "source": [
    "Спробуємо розділити ці два класи, навчивши дерево рішень. У дереві будемо використовувати параметр `max_depth`, що обмежує глибину дерева. Візуалізуємо отриману границю поділу класів.\n",
    "\n",
    "Для реалізації дерева рішень використаємо клас `DecisionTreeClassifier` з бібліотеки Scikit-learn."
   ]
  },
  {
   "cell_type": "code",
   "execution_count": 7,
   "metadata": {
    "ExecuteTime": {
     "end_time": "2023-10-09T18:03:27.328814400Z",
     "start_time": "2023-10-09T18:03:22.385111600Z"
    },
    "slideshow": {
     "slide_type": "subslide"
    }
   },
   "outputs": [
    {
     "data": {
      "text/html": [
       "<style>#sk-container-id-1 {color: black;background-color: white;}#sk-container-id-1 pre{padding: 0;}#sk-container-id-1 div.sk-toggleable {background-color: white;}#sk-container-id-1 label.sk-toggleable__label {cursor: pointer;display: block;width: 100%;margin-bottom: 0;padding: 0.3em;box-sizing: border-box;text-align: center;}#sk-container-id-1 label.sk-toggleable__label-arrow:before {content: \"▸\";float: left;margin-right: 0.25em;color: #696969;}#sk-container-id-1 label.sk-toggleable__label-arrow:hover:before {color: black;}#sk-container-id-1 div.sk-estimator:hover label.sk-toggleable__label-arrow:before {color: black;}#sk-container-id-1 div.sk-toggleable__content {max-height: 0;max-width: 0;overflow: hidden;text-align: left;background-color: #f0f8ff;}#sk-container-id-1 div.sk-toggleable__content pre {margin: 0.2em;color: black;border-radius: 0.25em;background-color: #f0f8ff;}#sk-container-id-1 input.sk-toggleable__control:checked~div.sk-toggleable__content {max-height: 200px;max-width: 100%;overflow: auto;}#sk-container-id-1 input.sk-toggleable__control:checked~label.sk-toggleable__label-arrow:before {content: \"▾\";}#sk-container-id-1 div.sk-estimator input.sk-toggleable__control:checked~label.sk-toggleable__label {background-color: #d4ebff;}#sk-container-id-1 div.sk-label input.sk-toggleable__control:checked~label.sk-toggleable__label {background-color: #d4ebff;}#sk-container-id-1 input.sk-hidden--visually {border: 0;clip: rect(1px 1px 1px 1px);clip: rect(1px, 1px, 1px, 1px);height: 1px;margin: -1px;overflow: hidden;padding: 0;position: absolute;width: 1px;}#sk-container-id-1 div.sk-estimator {font-family: monospace;background-color: #f0f8ff;border: 1px dotted black;border-radius: 0.25em;box-sizing: border-box;margin-bottom: 0.5em;}#sk-container-id-1 div.sk-estimator:hover {background-color: #d4ebff;}#sk-container-id-1 div.sk-parallel-item::after {content: \"\";width: 100%;border-bottom: 1px solid gray;flex-grow: 1;}#sk-container-id-1 div.sk-label:hover label.sk-toggleable__label {background-color: #d4ebff;}#sk-container-id-1 div.sk-serial::before {content: \"\";position: absolute;border-left: 1px solid gray;box-sizing: border-box;top: 0;bottom: 0;left: 50%;z-index: 0;}#sk-container-id-1 div.sk-serial {display: flex;flex-direction: column;align-items: center;background-color: white;padding-right: 0.2em;padding-left: 0.2em;position: relative;}#sk-container-id-1 div.sk-item {position: relative;z-index: 1;}#sk-container-id-1 div.sk-parallel {display: flex;align-items: stretch;justify-content: center;background-color: white;position: relative;}#sk-container-id-1 div.sk-item::before, #sk-container-id-1 div.sk-parallel-item::before {content: \"\";position: absolute;border-left: 1px solid gray;box-sizing: border-box;top: 0;bottom: 0;left: 50%;z-index: -1;}#sk-container-id-1 div.sk-parallel-item {display: flex;flex-direction: column;z-index: 1;position: relative;background-color: white;}#sk-container-id-1 div.sk-parallel-item:first-child::after {align-self: flex-end;width: 50%;}#sk-container-id-1 div.sk-parallel-item:last-child::after {align-self: flex-start;width: 50%;}#sk-container-id-1 div.sk-parallel-item:only-child::after {width: 0;}#sk-container-id-1 div.sk-dashed-wrapped {border: 1px dashed gray;margin: 0 0.4em 0.5em 0.4em;box-sizing: border-box;padding-bottom: 0.4em;background-color: white;}#sk-container-id-1 div.sk-label label {font-family: monospace;font-weight: bold;display: inline-block;line-height: 1.2em;}#sk-container-id-1 div.sk-label-container {text-align: center;}#sk-container-id-1 div.sk-container {/* jupyter's `normalize.less` sets `[hidden] { display: none; }` but bootstrap.min.css set `[hidden] { display: none !important; }` so we also need the `!important` here to be able to override the default hidden behavior on the sphinx rendered scikit-learn.org. See: https://github.com/scikit-learn/scikit-learn/issues/21755 */display: inline-block !important;position: relative;}#sk-container-id-1 div.sk-text-repr-fallback {display: none;}</style><div id=\"sk-container-id-1\" class=\"sk-top-container\"><div class=\"sk-text-repr-fallback\"><pre>DecisionTreeClassifier(criterion=&#x27;entropy&#x27;, max_depth=3, random_state=17)</pre><b>In a Jupyter environment, please rerun this cell to show the HTML representation or trust the notebook. <br />On GitHub, the HTML representation is unable to render, please try loading this page with nbviewer.org.</b></div><div class=\"sk-container\" hidden><div class=\"sk-item\"><div class=\"sk-estimator sk-toggleable\"><input class=\"sk-toggleable__control sk-hidden--visually\" id=\"sk-estimator-id-1\" type=\"checkbox\" checked><label for=\"sk-estimator-id-1\" class=\"sk-toggleable__label sk-toggleable__label-arrow\">DecisionTreeClassifier</label><div class=\"sk-toggleable__content\"><pre>DecisionTreeClassifier(criterion=&#x27;entropy&#x27;, max_depth=3, random_state=17)</pre></div></div></div></div></div>"
      ],
      "text/plain": [
       "DecisionTreeClassifier(criterion='entropy', max_depth=3, random_state=17)"
      ]
     },
     "execution_count": 7,
     "metadata": {},
     "output_type": "execute_result"
    }
   ],
   "source": [
    "from sklearn.tree import DecisionTreeClassifier\n",
    "\n",
    "# Параметр min_samples_leaf вказує, за якої мінімальної кількості\n",
    "# Елементів у вузлі лист буде далі поділятися\n",
    "clf_tree = DecisionTreeClassifier(criterion='entropy', max_depth=3, random_state=17)\n",
    "\n",
    "# Навчаємо дерево\n",
    "clf_tree.fit(train_data, train_labels)"
   ]
  },
  {
   "cell_type": "code",
   "execution_count": 8,
   "metadata": {
    "slideshow": {
     "slide_type": "fragment"
    }
   },
   "outputs": [],
   "source": [
    "# Трохи програмного коду для відображення поверхні, що розділяє на класи\n",
    "xx, yy = get_grid(train_data)\n",
    "predicted = clf_tree.predict(np.c_[xx.ravel(), yy.ravel()]).reshape(xx.shape)"
   ]
  },
  {
   "cell_type": "code",
   "execution_count": 9,
   "metadata": {
    "slideshow": {
     "slide_type": "subslide"
    }
   },
   "outputs": [
    {
     "data": {
      "image/png": "[encoded data removed]",
      "text/plain": [
       "<Figure size 700x500 with 1 Axes>"
      ]
     },
     "metadata": {},
     "output_type": "display_data"
    }
   ],
   "source": [
    "plt.figure(figsize=(7,5), dpi=100)\n",
    "plt.pcolormesh(xx, yy, predicted, cmap='autumn')\n",
    "plt.scatter(train_data[:, 0], train_data[:, 1], c=train_labels, s=100,\n",
    "            cmap='autumn', edgecolors='black', linewidth=1.5);"
   ]
  },
  {
   "cell_type": "markdown",
   "metadata": {
    "slideshow": {
     "slide_type": "subslide"
    }
   },
   "source": [
    "Гаразд, розділяючі поверхні ми побачили, а як виглядає саме побудоване дерево? Бачимо, що дерево \"нарізає\" простір на 7 прямокутників (у дереві 7 листків). У кожному такому прямокутнику прогноз дерева буде сталим, за переважанням об'єктів того чи іншого класу.\n",
    "\n",
    "Нижче для виконання коду та візуалізації дерева рішень у вигляді графа вам знадобиться бібліотека [pydotplus](https://pydotplus.readthedocs.io/). Для інсталювання цієї бібліотеки у терміналі `Anaconda Prompt` введіть команду:\n",
    "\n",
    "```python\n",
    "conda install -c conda-forge pydotplus\n",
    "```"
   ]
  },
  {
   "cell_type": "code",
   "execution_count": 10,
   "metadata": {
    "ExecuteTime": {
     "end_time": "2023-10-09T18:03:31.081953200Z",
     "start_time": "2023-10-09T18:03:27.344693900Z"
    },
    "slideshow": {
     "slide_type": "fragment"
    }
   },
   "outputs": [],
   "source": [
    "# Використовуємо pydotplus формат для візуалізації дерева\n",
    "from ipywidgets import Image\n",
    "from io import StringIO\n",
    "import pydotplus\n",
    "from sklearn.tree import export_graphviz\n",
    "\n",
    "dot_data = StringIO()\n",
    "export_graphviz(clf_tree, feature_names=['x1', 'x2'], \n",
    "                out_file=dot_data, filled=True)\n",
    "graph = pydotplus.graph_from_dot_data(dot_data.getvalue())  \n",
    "# Image(value=graph.create_png())"
   ]
  },
  {
   "cell_type": "code",
   "execution_count": 11,
   "metadata": {
    "slideshow": {
     "slide_type": "subslide"
    }
   },
   "outputs": [],
   "source": [
    "clf_tree_out = pydotplus.graph_from_dot_data(dot_data.getvalue())  \n",
    "\n",
    "# Збережемо рисунок побудованого дерева\n",
    "# clf_tree_out.write_png(\"3_decision_tree_1.png\")"
   ]
  },
  {
   "cell_type": "markdown",
   "metadata": {
    "slideshow": {
     "slide_type": "fragment"
    }
   },
   "source": [
    "<img src=\"https://raw.githubusercontent.com/radiukpavlo/intelligent-data-analysis/main/03_img/3_decision_tree_1.png\">"
   ]
  },
  {
   "cell_type": "markdown",
   "metadata": {
    "slideshow": {
     "slide_type": "subslide"
    }
   },
   "source": [
    "Давайте \"прочитаємо\" це дерево.\n",
    "\n",
    "* На початку аналізу було 200 об'єктів, 100 – одного класу і 100 – другого. Ентропія початкового стану була максимальною – 1.\n",
    "* Потім було зроблено розбиття об'єктів на 2 групи залежно від порівняння ознаки $x_1$ зі значенням $0.3631$ (спробуйте знайти цю ділянку границі на рисунку вище, до відображення дерева).\n",
    "* Водночас ентропія і в лівій, і в правій групі об'єктів зменшилася. Дерево будується до глибини \"3\".\n",
    "* За такої візуалізації чим більше об'єктів одного класу, тим колір вершини ближче до темно помаранчевого і, навпаки, чим більше об'єктів другого класу, тим ближче колір до темно синього.\n",
    "* На початку об'єктів одного класу є рівна кількість, тому коренева вершина дерева – білого кольору."
   ]
  },
  {
   "cell_type": "markdown",
   "metadata": {
    "slideshow": {
     "slide_type": "skip"
    }
   },
   "source": [
    "<a class=\"anchor\" id=\"3.1.5\"></a>"
   ]
  },
  {
   "cell_type": "markdown",
   "metadata": {
    "slideshow": {
     "slide_type": "slide"
    }
   },
   "source": [
    "### <span style=\"color:blue; font-size:1em;\">3.1.5. Як дерево рішень працює з кількісними ознаками</span>\n",
    "\n",
    "[Повернутися до змісту](#3)"
   ]
  },
  {
   "cell_type": "markdown",
   "metadata": {
    "slideshow": {
     "slide_type": "fragment"
    }
   },
   "source": [
    "Нехай у вибірці є кількісна ознака \"Вік\", яка має багато унікальних значень. Дерево рішень буде шукати краще (за критерієм типу приросту інформації) розбиття вибірки, перевіряючи бінарні ознаки на зразок \"Вік < 17\", \"Вік < 22.87\" тощо. Проте, що коли таких \"нарізань\" віку занадто багато? А що коли є ще кількісна ознака \"Зарплата\", і зарплату теж можна «нарізати» великою кількістю способів?\n",
    "\n",
    "Виходить дуже багато бінарних ознак для вибору кращої на кожному кроці побудови дерева. Для вирішення цієї проблеми застосовують евристики для обмеження кількості порогів, з якими ми порівнюємо кількісну ознаку.\n",
    "\n",
    "Розглянемо кількісні ознаки дерева рішень на іграшковому прикладі. Нехай є така вибірка:"
   ]
  },
  {
   "cell_type": "code",
   "execution_count": 12,
   "metadata": {
    "ExecuteTime": {
     "end_time": "2023-10-09T18:03:31.082956800Z",
     "start_time": "2023-10-09T18:03:31.034142600Z"
    },
    "slideshow": {
     "slide_type": "subslide"
    }
   },
   "outputs": [],
   "source": [
    "data = pd.DataFrame({'Вік': [17,64,18,20,38,49,55,25,29,31,33], \n",
    "             'Неповернення кредиту': [1,0,1,1,1,0,0,1,1,0,1]})"
   ]
  },
  {
   "cell_type": "code",
   "execution_count": 13,
   "metadata": {
    "ExecuteTime": {
     "end_time": "2023-10-09T18:03:31.093800700Z",
     "start_time": "2023-10-09T18:03:31.034142600Z"
    },
    "slideshow": {
     "slide_type": "fragment"
    }
   },
   "outputs": [
    {
     "data": {
      "text/html": [
       "<div>\n",
       "<style scoped>\n",
       "    .dataframe tbody tr th:only-of-type {\n",
       "        vertical-align: middle;\n",
       "    }\n",
       "\n",
       "    .dataframe tbody tr th {\n",
       "        vertical-align: top;\n",
       "    }\n",
       "\n",
       "    .dataframe thead th {\n",
       "        text-align: right;\n",
       "    }\n",
       "</style>\n",
       "<table border=\"1\" class=\"dataframe\">\n",
       "  <thead>\n",
       "    <tr style=\"text-align: right;\">\n",
       "      <th></th>\n",
       "      <th>Вік</th>\n",
       "      <th>Неповернення кредиту</th>\n",
       "    </tr>\n",
       "  </thead>\n",
       "  <tbody>\n",
       "    <tr>\n",
       "      <th>0</th>\n",
       "      <td>17</td>\n",
       "      <td>1</td>\n",
       "    </tr>\n",
       "    <tr>\n",
       "      <th>1</th>\n",
       "      <td>64</td>\n",
       "      <td>0</td>\n",
       "    </tr>\n",
       "    <tr>\n",
       "      <th>2</th>\n",
       "      <td>18</td>\n",
       "      <td>1</td>\n",
       "    </tr>\n",
       "    <tr>\n",
       "      <th>3</th>\n",
       "      <td>20</td>\n",
       "      <td>1</td>\n",
       "    </tr>\n",
       "    <tr>\n",
       "      <th>4</th>\n",
       "      <td>38</td>\n",
       "      <td>1</td>\n",
       "    </tr>\n",
       "    <tr>\n",
       "      <th>5</th>\n",
       "      <td>49</td>\n",
       "      <td>0</td>\n",
       "    </tr>\n",
       "    <tr>\n",
       "      <th>6</th>\n",
       "      <td>55</td>\n",
       "      <td>0</td>\n",
       "    </tr>\n",
       "    <tr>\n",
       "      <th>7</th>\n",
       "      <td>25</td>\n",
       "      <td>1</td>\n",
       "    </tr>\n",
       "    <tr>\n",
       "      <th>8</th>\n",
       "      <td>29</td>\n",
       "      <td>1</td>\n",
       "    </tr>\n",
       "    <tr>\n",
       "      <th>9</th>\n",
       "      <td>31</td>\n",
       "      <td>0</td>\n",
       "    </tr>\n",
       "    <tr>\n",
       "      <th>10</th>\n",
       "      <td>33</td>\n",
       "      <td>1</td>\n",
       "    </tr>\n",
       "  </tbody>\n",
       "</table>\n",
       "</div>"
      ],
      "text/plain": [
       "    Вік  Неповернення кредиту\n",
       "0    17                     1\n",
       "1    64                     0\n",
       "2    18                     1\n",
       "3    20                     1\n",
       "4    38                     1\n",
       "5    49                     0\n",
       "6    55                     0\n",
       "7    25                     1\n",
       "8    29                     1\n",
       "9    31                     0\n",
       "10   33                     1"
      ]
     },
     "execution_count": 13,
     "metadata": {},
     "output_type": "execute_result"
    }
   ],
   "source": [
    "data"
   ]
  },
  {
   "cell_type": "markdown",
   "metadata": {
    "slideshow": {
     "slide_type": "subslide"
    }
   },
   "source": [
    "Відсортуємо її за зростанням віку."
   ]
  },
  {
   "cell_type": "code",
   "execution_count": 14,
   "metadata": {
    "ExecuteTime": {
     "end_time": "2023-10-09T18:03:31.110819200Z",
     "start_time": "2023-10-09T18:03:31.094814200Z"
    },
    "slideshow": {
     "slide_type": "fragment"
    }
   },
   "outputs": [
    {
     "data": {
      "text/html": [
       "<div>\n",
       "<style scoped>\n",
       "    .dataframe tbody tr th:only-of-type {\n",
       "        vertical-align: middle;\n",
       "    }\n",
       "\n",
       "    .dataframe tbody tr th {\n",
       "        vertical-align: top;\n",
       "    }\n",
       "\n",
       "    .dataframe thead th {\n",
       "        text-align: right;\n",
       "    }\n",
       "</style>\n",
       "<table border=\"1\" class=\"dataframe\">\n",
       "  <thead>\n",
       "    <tr style=\"text-align: right;\">\n",
       "      <th></th>\n",
       "      <th>Вік</th>\n",
       "      <th>Неповернення кредиту</th>\n",
       "    </tr>\n",
       "  </thead>\n",
       "  <tbody>\n",
       "    <tr>\n",
       "      <th>0</th>\n",
       "      <td>17</td>\n",
       "      <td>1</td>\n",
       "    </tr>\n",
       "    <tr>\n",
       "      <th>2</th>\n",
       "      <td>18</td>\n",
       "      <td>1</td>\n",
       "    </tr>\n",
       "    <tr>\n",
       "      <th>3</th>\n",
       "      <td>20</td>\n",
       "      <td>1</td>\n",
       "    </tr>\n",
       "    <tr>\n",
       "      <th>7</th>\n",
       "      <td>25</td>\n",
       "      <td>1</td>\n",
       "    </tr>\n",
       "    <tr>\n",
       "      <th>8</th>\n",
       "      <td>29</td>\n",
       "      <td>1</td>\n",
       "    </tr>\n",
       "    <tr>\n",
       "      <th>9</th>\n",
       "      <td>31</td>\n",
       "      <td>0</td>\n",
       "    </tr>\n",
       "    <tr>\n",
       "      <th>10</th>\n",
       "      <td>33</td>\n",
       "      <td>1</td>\n",
       "    </tr>\n",
       "    <tr>\n",
       "      <th>4</th>\n",
       "      <td>38</td>\n",
       "      <td>1</td>\n",
       "    </tr>\n",
       "    <tr>\n",
       "      <th>5</th>\n",
       "      <td>49</td>\n",
       "      <td>0</td>\n",
       "    </tr>\n",
       "    <tr>\n",
       "      <th>6</th>\n",
       "      <td>55</td>\n",
       "      <td>0</td>\n",
       "    </tr>\n",
       "    <tr>\n",
       "      <th>1</th>\n",
       "      <td>64</td>\n",
       "      <td>0</td>\n",
       "    </tr>\n",
       "  </tbody>\n",
       "</table>\n",
       "</div>"
      ],
      "text/plain": [
       "    Вік  Неповернення кредиту\n",
       "0    17                     1\n",
       "2    18                     1\n",
       "3    20                     1\n",
       "7    25                     1\n",
       "8    29                     1\n",
       "9    31                     0\n",
       "10   33                     1\n",
       "4    38                     1\n",
       "5    49                     0\n",
       "6    55                     0\n",
       "1    64                     0"
      ]
     },
     "execution_count": 14,
     "metadata": {},
     "output_type": "execute_result"
    }
   ],
   "source": [
    "data.sort_values('Вік')"
   ]
  },
  {
   "cell_type": "markdown",
   "metadata": {
    "slideshow": {
     "slide_type": "subslide"
    }
   },
   "source": [
    "Навчимо на цих даних дерево рішень (без обмеження глибини) і подивимося на нього."
   ]
  },
  {
   "cell_type": "code",
   "execution_count": 15,
   "metadata": {
    "ExecuteTime": {
     "end_time": "2023-10-09T18:03:31.119141400Z",
     "start_time": "2023-10-09T18:03:31.110819200Z"
    },
    "slideshow": {
     "slide_type": "fragment"
    }
   },
   "outputs": [
    {
     "data": {
      "text/html": [
       "<style>#sk-container-id-2 {color: black;background-color: white;}#sk-container-id-2 pre{padding: 0;}#sk-container-id-2 div.sk-toggleable {background-color: white;}#sk-container-id-2 label.sk-toggleable__label {cursor: pointer;display: block;width: 100%;margin-bottom: 0;padding: 0.3em;box-sizing: border-box;text-align: center;}#sk-container-id-2 label.sk-toggleable__label-arrow:before {content: \"▸\";float: left;margin-right: 0.25em;color: #696969;}#sk-container-id-2 label.sk-toggleable__label-arrow:hover:before {color: black;}#sk-container-id-2 div.sk-estimator:hover label.sk-toggleable__label-arrow:before {color: black;}#sk-container-id-2 div.sk-toggleable__content {max-height: 0;max-width: 0;overflow: hidden;text-align: left;background-color: #f0f8ff;}#sk-container-id-2 div.sk-toggleable__content pre {margin: 0.2em;color: black;border-radius: 0.25em;background-color: #f0f8ff;}#sk-container-id-2 input.sk-toggleable__control:checked~div.sk-toggleable__content {max-height: 200px;max-width: 100%;overflow: auto;}#sk-container-id-2 input.sk-toggleable__control:checked~label.sk-toggleable__label-arrow:before {content: \"▾\";}#sk-container-id-2 div.sk-estimator input.sk-toggleable__control:checked~label.sk-toggleable__label {background-color: #d4ebff;}#sk-container-id-2 div.sk-label input.sk-toggleable__control:checked~label.sk-toggleable__label {background-color: #d4ebff;}#sk-container-id-2 input.sk-hidden--visually {border: 0;clip: rect(1px 1px 1px 1px);clip: rect(1px, 1px, 1px, 1px);height: 1px;margin: -1px;overflow: hidden;padding: 0;position: absolute;width: 1px;}#sk-container-id-2 div.sk-estimator {font-family: monospace;background-color: #f0f8ff;border: 1px dotted black;border-radius: 0.25em;box-sizing: border-box;margin-bottom: 0.5em;}#sk-container-id-2 div.sk-estimator:hover {background-color: #d4ebff;}#sk-container-id-2 div.sk-parallel-item::after {content: \"\";width: 100%;border-bottom: 1px solid gray;flex-grow: 1;}#sk-container-id-2 div.sk-label:hover label.sk-toggleable__label {background-color: #d4ebff;}#sk-container-id-2 div.sk-serial::before {content: \"\";position: absolute;border-left: 1px solid gray;box-sizing: border-box;top: 0;bottom: 0;left: 50%;z-index: 0;}#sk-container-id-2 div.sk-serial {display: flex;flex-direction: column;align-items: center;background-color: white;padding-right: 0.2em;padding-left: 0.2em;position: relative;}#sk-container-id-2 div.sk-item {position: relative;z-index: 1;}#sk-container-id-2 div.sk-parallel {display: flex;align-items: stretch;justify-content: center;background-color: white;position: relative;}#sk-container-id-2 div.sk-item::before, #sk-container-id-2 div.sk-parallel-item::before {content: \"\";position: absolute;border-left: 1px solid gray;box-sizing: border-box;top: 0;bottom: 0;left: 50%;z-index: -1;}#sk-container-id-2 div.sk-parallel-item {display: flex;flex-direction: column;z-index: 1;position: relative;background-color: white;}#sk-container-id-2 div.sk-parallel-item:first-child::after {align-self: flex-end;width: 50%;}#sk-container-id-2 div.sk-parallel-item:last-child::after {align-self: flex-start;width: 50%;}#sk-container-id-2 div.sk-parallel-item:only-child::after {width: 0;}#sk-container-id-2 div.sk-dashed-wrapped {border: 1px dashed gray;margin: 0 0.4em 0.5em 0.4em;box-sizing: border-box;padding-bottom: 0.4em;background-color: white;}#sk-container-id-2 div.sk-label label {font-family: monospace;font-weight: bold;display: inline-block;line-height: 1.2em;}#sk-container-id-2 div.sk-label-container {text-align: center;}#sk-container-id-2 div.sk-container {/* jupyter's `normalize.less` sets `[hidden] { display: none; }` but bootstrap.min.css set `[hidden] { display: none !important; }` so we also need the `!important` here to be able to override the default hidden behavior on the sphinx rendered scikit-learn.org. See: https://github.com/scikit-learn/scikit-learn/issues/21755 */display: inline-block !important;position: relative;}#sk-container-id-2 div.sk-text-repr-fallback {display: none;}</style><div id=\"sk-container-id-2\" class=\"sk-top-container\"><div class=\"sk-text-repr-fallback\"><pre>DecisionTreeClassifier(random_state=17)</pre><b>In a Jupyter environment, please rerun this cell to show the HTML representation or trust the notebook. <br />On GitHub, the HTML representation is unable to render, please try loading this page with nbviewer.org.</b></div><div class=\"sk-container\" hidden><div class=\"sk-item\"><div class=\"sk-estimator sk-toggleable\"><input class=\"sk-toggleable__control sk-hidden--visually\" id=\"sk-estimator-id-2\" type=\"checkbox\" checked><label for=\"sk-estimator-id-2\" class=\"sk-toggleable__label sk-toggleable__label-arrow\">DecisionTreeClassifier</label><div class=\"sk-toggleable__content\"><pre>DecisionTreeClassifier(random_state=17)</pre></div></div></div></div></div>"
      ],
      "text/plain": [
       "DecisionTreeClassifier(random_state=17)"
      ]
     },
     "execution_count": 15,
     "metadata": {},
     "output_type": "execute_result"
    }
   ],
   "source": [
    "age_tree = DecisionTreeClassifier(random_state=17)\n",
    "age_tree.fit(data['Вік'].values.reshape(-1, 1), \n",
    "             data['Неповернення кредиту'].values)"
   ]
  },
  {
   "cell_type": "code",
   "execution_count": 16,
   "metadata": {
    "ExecuteTime": {
     "end_time": "2023-10-09T18:03:32.251800900Z",
     "start_time": "2023-10-09T18:03:31.117661100Z"
    },
    "slideshow": {
     "slide_type": "fragment"
    }
   },
   "outputs": [],
   "source": [
    "dot_data = StringIO()\n",
    "export_graphviz(age_tree, feature_names=['Вік'], \n",
    "                out_file=dot_data, filled=True)\n",
    "graph = pydotplus.graph_from_dot_data(dot_data.getvalue())\n",
    "# Image(value=graph.create_png())"
   ]
  },
  {
   "cell_type": "code",
   "execution_count": 17,
   "metadata": {
    "slideshow": {
     "slide_type": "subslide"
    }
   },
   "outputs": [],
   "source": [
    "age_tree_out = pydotplus.graph_from_dot_data(dot_data.getvalue())  \n",
    "\n",
    "# Збережемо рисунок побудованого дерева\n",
    "# age_tree_out.write_png(\"3_decision_tree_2.png\")"
   ]
  },
  {
   "cell_type": "markdown",
   "metadata": {
    "slideshow": {
     "slide_type": "fragment"
    }
   },
   "source": [
    "<img src=\"https://raw.githubusercontent.com/radiukpavlo/intelligent-data-analysis/main/03_img/3_decision_tree_2.png\">"
   ]
  },
  {
   "cell_type": "markdown",
   "metadata": {
    "slideshow": {
     "slide_type": "subslide"
    }
   },
   "source": [
    "* З рисунку бачимо, що дерево залучило 5 значень, з якими порівнюється вік: 43.5, 19, 22.5, 30 і 32 роки. Якщо придивитися, то це якраз середні значення між роками, за яких цільовий клас \"змінюється\" з 1 на 0 або навпаки.\n",
    "* Складна фраза, тому, наприклад: 43.5 – це середнє між 38 і 49 роками; клієнт, якому 38 років, не повернув кредит, а той, якому 49 – повернув.\n",
    "* Аналогічно, 19 років – середнє між 18 і 20 роками.\n",
    "* Тобто за порогами для \"нарізання\" кількісної ознаки дерево \"дивиться\" на ті значення, за яких цільовий клас змінює своє значення.\n",
    "\n",
    "Подумайте, чому не має сенсу в такому випадку розглядати ознаку \"Вік < 17.5\"."
   ]
  },
  {
   "cell_type": "markdown",
   "metadata": {
    "slideshow": {
     "slide_type": "subslide"
    }
   },
   "source": [
    "Розглянемо приклад складніше: додамо ознаку \"Зарплата\" (тис. грн/місяць)."
   ]
  },
  {
   "cell_type": "code",
   "execution_count": 18,
   "metadata": {
    "ExecuteTime": {
     "end_time": "2023-10-09T18:03:32.313695100Z",
     "start_time": "2023-10-09T18:03:31.778485300Z"
    },
    "slideshow": {
     "slide_type": "fragment"
    }
   },
   "outputs": [],
   "source": [
    "data2 = pd.DataFrame(\n",
    "    {\"Вік\": [17, 64, 18, 20, 38, 49, 55, 25, 29, 31, 33],\n",
    "     \"Зарплата\": [25, 80, 22, 36, 37, 59, 74, 70, 33, 102, 88],\n",
    "     \"Неповернення кредиту\": [1, 0, 1, 0, 1, 0, 0, 1, 1, 0, 1]})"
   ]
  },
  {
   "cell_type": "code",
   "execution_count": 19,
   "metadata": {
    "ExecuteTime": {
     "end_time": "2023-10-09T18:03:32.315267600Z",
     "start_time": "2023-10-09T18:03:31.814144Z"
    },
    "slideshow": {
     "slide_type": "subslide"
    }
   },
   "outputs": [
    {
     "data": {
      "text/html": [
       "<div>\n",
       "<style scoped>\n",
       "    .dataframe tbody tr th:only-of-type {\n",
       "        vertical-align: middle;\n",
       "    }\n",
       "\n",
       "    .dataframe tbody tr th {\n",
       "        vertical-align: top;\n",
       "    }\n",
       "\n",
       "    .dataframe thead th {\n",
       "        text-align: right;\n",
       "    }\n",
       "</style>\n",
       "<table border=\"1\" class=\"dataframe\">\n",
       "  <thead>\n",
       "    <tr style=\"text-align: right;\">\n",
       "      <th></th>\n",
       "      <th>Вік</th>\n",
       "      <th>Зарплата</th>\n",
       "      <th>Неповернення кредиту</th>\n",
       "    </tr>\n",
       "  </thead>\n",
       "  <tbody>\n",
       "    <tr>\n",
       "      <th>0</th>\n",
       "      <td>17</td>\n",
       "      <td>25</td>\n",
       "      <td>1</td>\n",
       "    </tr>\n",
       "    <tr>\n",
       "      <th>1</th>\n",
       "      <td>64</td>\n",
       "      <td>80</td>\n",
       "      <td>0</td>\n",
       "    </tr>\n",
       "    <tr>\n",
       "      <th>2</th>\n",
       "      <td>18</td>\n",
       "      <td>22</td>\n",
       "      <td>1</td>\n",
       "    </tr>\n",
       "    <tr>\n",
       "      <th>3</th>\n",
       "      <td>20</td>\n",
       "      <td>36</td>\n",
       "      <td>0</td>\n",
       "    </tr>\n",
       "    <tr>\n",
       "      <th>4</th>\n",
       "      <td>38</td>\n",
       "      <td>37</td>\n",
       "      <td>1</td>\n",
       "    </tr>\n",
       "    <tr>\n",
       "      <th>5</th>\n",
       "      <td>49</td>\n",
       "      <td>59</td>\n",
       "      <td>0</td>\n",
       "    </tr>\n",
       "    <tr>\n",
       "      <th>6</th>\n",
       "      <td>55</td>\n",
       "      <td>74</td>\n",
       "      <td>0</td>\n",
       "    </tr>\n",
       "    <tr>\n",
       "      <th>7</th>\n",
       "      <td>25</td>\n",
       "      <td>70</td>\n",
       "      <td>1</td>\n",
       "    </tr>\n",
       "    <tr>\n",
       "      <th>8</th>\n",
       "      <td>29</td>\n",
       "      <td>33</td>\n",
       "      <td>1</td>\n",
       "    </tr>\n",
       "    <tr>\n",
       "      <th>9</th>\n",
       "      <td>31</td>\n",
       "      <td>102</td>\n",
       "      <td>0</td>\n",
       "    </tr>\n",
       "    <tr>\n",
       "      <th>10</th>\n",
       "      <td>33</td>\n",
       "      <td>88</td>\n",
       "      <td>1</td>\n",
       "    </tr>\n",
       "  </tbody>\n",
       "</table>\n",
       "</div>"
      ],
      "text/plain": [
       "    Вік  Зарплата  Неповернення кредиту\n",
       "0    17        25                     1\n",
       "1    64        80                     0\n",
       "2    18        22                     1\n",
       "3    20        36                     0\n",
       "4    38        37                     1\n",
       "5    49        59                     0\n",
       "6    55        74                     0\n",
       "7    25        70                     1\n",
       "8    29        33                     1\n",
       "9    31       102                     0\n",
       "10   33        88                     1"
      ]
     },
     "execution_count": 19,
     "metadata": {},
     "output_type": "execute_result"
    }
   ],
   "source": [
    "data2"
   ]
  },
  {
   "cell_type": "markdown",
   "metadata": {
    "slideshow": {
     "slide_type": "subslide"
    }
   },
   "source": [
    "Якщо впорядкувати за віком, то цільовий клас (\"Неповернення кредиту\") змінюється (з 1 на 0 або навпаки) 5 разів. А якщо впорядкувати за зарплатою – то 7 разів. Як тепер дерево буде обирати ознаки? Нижче перевіримо."
   ]
  },
  {
   "cell_type": "code",
   "execution_count": 20,
   "metadata": {
    "ExecuteTime": {
     "end_time": "2023-10-09T18:03:32.317738300Z",
     "start_time": "2023-10-09T18:03:31.839692300Z"
    },
    "slideshow": {
     "slide_type": "fragment"
    }
   },
   "outputs": [
    {
     "data": {
      "text/html": [
       "<div>\n",
       "<style scoped>\n",
       "    .dataframe tbody tr th:only-of-type {\n",
       "        vertical-align: middle;\n",
       "    }\n",
       "\n",
       "    .dataframe tbody tr th {\n",
       "        vertical-align: top;\n",
       "    }\n",
       "\n",
       "    .dataframe thead th {\n",
       "        text-align: right;\n",
       "    }\n",
       "</style>\n",
       "<table border=\"1\" class=\"dataframe\">\n",
       "  <thead>\n",
       "    <tr style=\"text-align: right;\">\n",
       "      <th></th>\n",
       "      <th>Вік</th>\n",
       "      <th>Зарплата</th>\n",
       "      <th>Неповернення кредиту</th>\n",
       "    </tr>\n",
       "  </thead>\n",
       "  <tbody>\n",
       "    <tr>\n",
       "      <th>0</th>\n",
       "      <td>17</td>\n",
       "      <td>25</td>\n",
       "      <td>1</td>\n",
       "    </tr>\n",
       "    <tr>\n",
       "      <th>2</th>\n",
       "      <td>18</td>\n",
       "      <td>22</td>\n",
       "      <td>1</td>\n",
       "    </tr>\n",
       "    <tr>\n",
       "      <th>3</th>\n",
       "      <td>20</td>\n",
       "      <td>36</td>\n",
       "      <td>0</td>\n",
       "    </tr>\n",
       "    <tr>\n",
       "      <th>7</th>\n",
       "      <td>25</td>\n",
       "      <td>70</td>\n",
       "      <td>1</td>\n",
       "    </tr>\n",
       "    <tr>\n",
       "      <th>8</th>\n",
       "      <td>29</td>\n",
       "      <td>33</td>\n",
       "      <td>1</td>\n",
       "    </tr>\n",
       "    <tr>\n",
       "      <th>9</th>\n",
       "      <td>31</td>\n",
       "      <td>102</td>\n",
       "      <td>0</td>\n",
       "    </tr>\n",
       "    <tr>\n",
       "      <th>10</th>\n",
       "      <td>33</td>\n",
       "      <td>88</td>\n",
       "      <td>1</td>\n",
       "    </tr>\n",
       "    <tr>\n",
       "      <th>4</th>\n",
       "      <td>38</td>\n",
       "      <td>37</td>\n",
       "      <td>1</td>\n",
       "    </tr>\n",
       "    <tr>\n",
       "      <th>5</th>\n",
       "      <td>49</td>\n",
       "      <td>59</td>\n",
       "      <td>0</td>\n",
       "    </tr>\n",
       "    <tr>\n",
       "      <th>6</th>\n",
       "      <td>55</td>\n",
       "      <td>74</td>\n",
       "      <td>0</td>\n",
       "    </tr>\n",
       "    <tr>\n",
       "      <th>1</th>\n",
       "      <td>64</td>\n",
       "      <td>80</td>\n",
       "      <td>0</td>\n",
       "    </tr>\n",
       "  </tbody>\n",
       "</table>\n",
       "</div>"
      ],
      "text/plain": [
       "    Вік  Зарплата  Неповернення кредиту\n",
       "0    17        25                     1\n",
       "2    18        22                     1\n",
       "3    20        36                     0\n",
       "7    25        70                     1\n",
       "8    29        33                     1\n",
       "9    31       102                     0\n",
       "10   33        88                     1\n",
       "4    38        37                     1\n",
       "5    49        59                     0\n",
       "6    55        74                     0\n",
       "1    64        80                     0"
      ]
     },
     "execution_count": 20,
     "metadata": {},
     "output_type": "execute_result"
    }
   ],
   "source": [
    "data2.sort_values('Вік')"
   ]
  },
  {
   "cell_type": "code",
   "execution_count": 21,
   "metadata": {
    "ExecuteTime": {
     "end_time": "2023-10-09T18:03:32.348659800Z",
     "start_time": "2023-10-09T18:03:31.971593400Z"
    },
    "slideshow": {
     "slide_type": "subslide"
    }
   },
   "outputs": [
    {
     "data": {
      "text/html": [
       "<div>\n",
       "<style scoped>\n",
       "    .dataframe tbody tr th:only-of-type {\n",
       "        vertical-align: middle;\n",
       "    }\n",
       "\n",
       "    .dataframe tbody tr th {\n",
       "        vertical-align: top;\n",
       "    }\n",
       "\n",
       "    .dataframe thead th {\n",
       "        text-align: right;\n",
       "    }\n",
       "</style>\n",
       "<table border=\"1\" class=\"dataframe\">\n",
       "  <thead>\n",
       "    <tr style=\"text-align: right;\">\n",
       "      <th></th>\n",
       "      <th>Вік</th>\n",
       "      <th>Зарплата</th>\n",
       "      <th>Неповернення кредиту</th>\n",
       "    </tr>\n",
       "  </thead>\n",
       "  <tbody>\n",
       "    <tr>\n",
       "      <th>2</th>\n",
       "      <td>18</td>\n",
       "      <td>22</td>\n",
       "      <td>1</td>\n",
       "    </tr>\n",
       "    <tr>\n",
       "      <th>0</th>\n",
       "      <td>17</td>\n",
       "      <td>25</td>\n",
       "      <td>1</td>\n",
       "    </tr>\n",
       "    <tr>\n",
       "      <th>8</th>\n",
       "      <td>29</td>\n",
       "      <td>33</td>\n",
       "      <td>1</td>\n",
       "    </tr>\n",
       "    <tr>\n",
       "      <th>3</th>\n",
       "      <td>20</td>\n",
       "      <td>36</td>\n",
       "      <td>0</td>\n",
       "    </tr>\n",
       "    <tr>\n",
       "      <th>4</th>\n",
       "      <td>38</td>\n",
       "      <td>37</td>\n",
       "      <td>1</td>\n",
       "    </tr>\n",
       "    <tr>\n",
       "      <th>5</th>\n",
       "      <td>49</td>\n",
       "      <td>59</td>\n",
       "      <td>0</td>\n",
       "    </tr>\n",
       "    <tr>\n",
       "      <th>7</th>\n",
       "      <td>25</td>\n",
       "      <td>70</td>\n",
       "      <td>1</td>\n",
       "    </tr>\n",
       "    <tr>\n",
       "      <th>6</th>\n",
       "      <td>55</td>\n",
       "      <td>74</td>\n",
       "      <td>0</td>\n",
       "    </tr>\n",
       "    <tr>\n",
       "      <th>1</th>\n",
       "      <td>64</td>\n",
       "      <td>80</td>\n",
       "      <td>0</td>\n",
       "    </tr>\n",
       "    <tr>\n",
       "      <th>10</th>\n",
       "      <td>33</td>\n",
       "      <td>88</td>\n",
       "      <td>1</td>\n",
       "    </tr>\n",
       "    <tr>\n",
       "      <th>9</th>\n",
       "      <td>31</td>\n",
       "      <td>102</td>\n",
       "      <td>0</td>\n",
       "    </tr>\n",
       "  </tbody>\n",
       "</table>\n",
       "</div>"
      ],
      "text/plain": [
       "    Вік  Зарплата  Неповернення кредиту\n",
       "2    18        22                     1\n",
       "0    17        25                     1\n",
       "8    29        33                     1\n",
       "3    20        36                     0\n",
       "4    38        37                     1\n",
       "5    49        59                     0\n",
       "7    25        70                     1\n",
       "6    55        74                     0\n",
       "1    64        80                     0\n",
       "10   33        88                     1\n",
       "9    31       102                     0"
      ]
     },
     "execution_count": 21,
     "metadata": {},
     "output_type": "execute_result"
    }
   ],
   "source": [
    "data2.sort_values('Зарплата')"
   ]
  },
  {
   "cell_type": "code",
   "execution_count": 22,
   "metadata": {
    "ExecuteTime": {
     "end_time": "2023-10-09T18:03:32.349673600Z",
     "start_time": "2023-10-09T18:03:31.972600600Z"
    },
    "slideshow": {
     "slide_type": "subslide"
    }
   },
   "outputs": [
    {
     "data": {
      "text/html": [
       "<style>#sk-container-id-3 {color: black;background-color: white;}#sk-container-id-3 pre{padding: 0;}#sk-container-id-3 div.sk-toggleable {background-color: white;}#sk-container-id-3 label.sk-toggleable__label {cursor: pointer;display: block;width: 100%;margin-bottom: 0;padding: 0.3em;box-sizing: border-box;text-align: center;}#sk-container-id-3 label.sk-toggleable__label-arrow:before {content: \"▸\";float: left;margin-right: 0.25em;color: #696969;}#sk-container-id-3 label.sk-toggleable__label-arrow:hover:before {color: black;}#sk-container-id-3 div.sk-estimator:hover label.sk-toggleable__label-arrow:before {color: black;}#sk-container-id-3 div.sk-toggleable__content {max-height: 0;max-width: 0;overflow: hidden;text-align: left;background-color: #f0f8ff;}#sk-container-id-3 div.sk-toggleable__content pre {margin: 0.2em;color: black;border-radius: 0.25em;background-color: #f0f8ff;}#sk-container-id-3 input.sk-toggleable__control:checked~div.sk-toggleable__content {max-height: 200px;max-width: 100%;overflow: auto;}#sk-container-id-3 input.sk-toggleable__control:checked~label.sk-toggleable__label-arrow:before {content: \"▾\";}#sk-container-id-3 div.sk-estimator input.sk-toggleable__control:checked~label.sk-toggleable__label {background-color: #d4ebff;}#sk-container-id-3 div.sk-label input.sk-toggleable__control:checked~label.sk-toggleable__label {background-color: #d4ebff;}#sk-container-id-3 input.sk-hidden--visually {border: 0;clip: rect(1px 1px 1px 1px);clip: rect(1px, 1px, 1px, 1px);height: 1px;margin: -1px;overflow: hidden;padding: 0;position: absolute;width: 1px;}#sk-container-id-3 div.sk-estimator {font-family: monospace;background-color: #f0f8ff;border: 1px dotted black;border-radius: 0.25em;box-sizing: border-box;margin-bottom: 0.5em;}#sk-container-id-3 div.sk-estimator:hover {background-color: #d4ebff;}#sk-container-id-3 div.sk-parallel-item::after {content: \"\";width: 100%;border-bottom: 1px solid gray;flex-grow: 1;}#sk-container-id-3 div.sk-label:hover label.sk-toggleable__label {background-color: #d4ebff;}#sk-container-id-3 div.sk-serial::before {content: \"\";position: absolute;border-left: 1px solid gray;box-sizing: border-box;top: 0;bottom: 0;left: 50%;z-index: 0;}#sk-container-id-3 div.sk-serial {display: flex;flex-direction: column;align-items: center;background-color: white;padding-right: 0.2em;padding-left: 0.2em;position: relative;}#sk-container-id-3 div.sk-item {position: relative;z-index: 1;}#sk-container-id-3 div.sk-parallel {display: flex;align-items: stretch;justify-content: center;background-color: white;position: relative;}#sk-container-id-3 div.sk-item::before, #sk-container-id-3 div.sk-parallel-item::before {content: \"\";position: absolute;border-left: 1px solid gray;box-sizing: border-box;top: 0;bottom: 0;left: 50%;z-index: -1;}#sk-container-id-3 div.sk-parallel-item {display: flex;flex-direction: column;z-index: 1;position: relative;background-color: white;}#sk-container-id-3 div.sk-parallel-item:first-child::after {align-self: flex-end;width: 50%;}#sk-container-id-3 div.sk-parallel-item:last-child::after {align-self: flex-start;width: 50%;}#sk-container-id-3 div.sk-parallel-item:only-child::after {width: 0;}#sk-container-id-3 div.sk-dashed-wrapped {border: 1px dashed gray;margin: 0 0.4em 0.5em 0.4em;box-sizing: border-box;padding-bottom: 0.4em;background-color: white;}#sk-container-id-3 div.sk-label label {font-family: monospace;font-weight: bold;display: inline-block;line-height: 1.2em;}#sk-container-id-3 div.sk-label-container {text-align: center;}#sk-container-id-3 div.sk-container {/* jupyter's `normalize.less` sets `[hidden] { display: none; }` but bootstrap.min.css set `[hidden] { display: none !important; }` so we also need the `!important` here to be able to override the default hidden behavior on the sphinx rendered scikit-learn.org. See: https://github.com/scikit-learn/scikit-learn/issues/21755 */display: inline-block !important;position: relative;}#sk-container-id-3 div.sk-text-repr-fallback {display: none;}</style><div id=\"sk-container-id-3\" class=\"sk-top-container\"><div class=\"sk-text-repr-fallback\"><pre>DecisionTreeClassifier(random_state=17)</pre><b>In a Jupyter environment, please rerun this cell to show the HTML representation or trust the notebook. <br />On GitHub, the HTML representation is unable to render, please try loading this page with nbviewer.org.</b></div><div class=\"sk-container\" hidden><div class=\"sk-item\"><div class=\"sk-estimator sk-toggleable\"><input class=\"sk-toggleable__control sk-hidden--visually\" id=\"sk-estimator-id-3\" type=\"checkbox\" checked><label for=\"sk-estimator-id-3\" class=\"sk-toggleable__label sk-toggleable__label-arrow\">DecisionTreeClassifier</label><div class=\"sk-toggleable__content\"><pre>DecisionTreeClassifier(random_state=17)</pre></div></div></div></div></div>"
      ],
      "text/plain": [
       "DecisionTreeClassifier(random_state=17)"
      ]
     },
     "execution_count": 22,
     "metadata": {},
     "output_type": "execute_result"
    }
   ],
   "source": [
    "age_sal_tree = DecisionTreeClassifier(random_state=17)\n",
    "age_sal_tree.fit(data2[['Вік', 'Зарплата']].values, data2['Неповернення кредиту'].values)"
   ]
  },
  {
   "cell_type": "code",
   "execution_count": 23,
   "metadata": {
    "ExecuteTime": {
     "end_time": "2023-10-09T18:03:32.976325300Z",
     "start_time": "2023-10-09T18:03:31.973603100Z"
    },
    "slideshow": {
     "slide_type": "fragment"
    }
   },
   "outputs": [],
   "source": [
    "dot_data = StringIO()\n",
    "export_graphviz(age_sal_tree, feature_names=['Вік', 'Зарплата'], \n",
    "                out_file=dot_data, filled=True)\n",
    "graph = pydotplus.graph_from_dot_data(dot_data.getvalue())\n",
    "# Image(value=graph.create_png())"
   ]
  },
  {
   "cell_type": "code",
   "execution_count": 24,
   "metadata": {
    "slideshow": {
     "slide_type": "subslide"
    }
   },
   "outputs": [],
   "source": [
    "age_sal_tree_out = pydotplus.graph_from_dot_data(dot_data.getvalue())  \n",
    "\n",
    "# Збережемо рисунок побудованого дерева\n",
    "# age_sal_tree_out.write_png(\"3_decision_tree_3.png\")"
   ]
  },
  {
   "cell_type": "markdown",
   "metadata": {
    "slideshow": {
     "slide_type": "fragment"
    }
   },
   "source": [
    "<img src=\"https://raw.githubusercontent.com/radiukpavlo/intelligent-data-analysis/main/03_img/3_decision_tree_3.png\">"
   ]
  },
  {
   "cell_type": "markdown",
   "metadata": {
    "slideshow": {
     "slide_type": "subslide"
    }
   },
   "source": [
    "* З попереднього рисунку бачимо, що в дереві залучені як розбиття за віком, так і за зарплатою.\n",
    "* Водночас пороги, з якими порівнюються ознаки: 43.5 і 22.5 років – для віку і 95 і 30.5 тис. грн/міс – для зарплати.\n",
    "* І знову можна помітити, що 95 тис. – це середнє між 88 і 102, водночас людина із зарплатнею 88 виявилася \"неблагонадійною\", а зі 102 – \"благонадійною\". Те ж саме для 30.5 тис.\n",
    "* Тобто перебиралися порівняння зарплати й віку не з усіма можливими значеннями, а тільки з кількома.\n",
    "* А чому в дереві виявилися саме ці ознаки? Тому що за ними розбиття виявилося кращими (за критерієм невизначеності Джині)."
   ]
  },
  {
   "cell_type": "markdown",
   "metadata": {
    "slideshow": {
     "slide_type": "subslide"
    }
   },
   "source": [
    "* Далі, під час розбиття за ознакою \"Зарплата $\\leq$ 34.5\" в лівій підгрупі ентропія 0 (всі клієнти \"погані\"), а в правій – 0.954 (3 \"поганих\" і 5 \"хороших\"). Приріст інформації виходить близько 0.3. За розбиття за ознакою \"Зарплата $\\leq$ 95\" в лівій підгрупі ентропія 0.97 (6 \"поганих\" і 4 \"хороших\"), а в правій – 0 (всього один об'єкт).\n",
    "* Приріст інформації виходить приблизно 0.11.\n",
    "* Порахувавши у такий спосіб приріст інформації для кожного розбиття можемо попередньо, до побудови великого дерева (за всіма ознаками), відібрати пороги, з якими буде порівнюватися кожна кількісна ознака."
   ]
  },
  {
   "cell_type": "markdown",
   "metadata": {
    "slideshow": {
     "slide_type": "subslide"
    }
   },
   "source": [
    "**Висновок:** найпростіша евристика для оброблення кількісних ознак в дереві рішень: кількісна ознака сортується за зростанням, і в дереві перевіряються тільки ті пороги, за яких цільова ознака змінює значення. Звучить не дуже строго, але іграшкові приклади мали б краще прояснити ситуацію з ознаками.\n",
    "\n",
    "*Додатково*, коли дані містять багато кількісних ознак, і у кожної ознаки є багато унікальних значень, то можуть відбиратися не всі пороги, що описані вище, а тільки топ-*N*, що дають максимальний приріст до того ж критерію. Тобто для кожного порога будується дерево з глибиною 1, обраховується зміна ентропії (або невизначеність Джині) і вибираються тільки найкращі пороги, з якими варто порівнювати кількісну ознаку.\n",
    "\n",
    "Приклади дискретизації кількісних ознак можна переглянути в постах, наприклад, [цьому](http://kevinmeurer.com/a-simple-guide-to-entropy-based-discretization/) і [цьому](https://brandewinder.com/2013/05/26/Discretizing-a-continuous-variable-using-Entropy/). Одна з найвідоміших наукових статей на цю тему – \"On the handling of continuous-valued attributes in decision tree generation\" (U.M. Fayyad. K.B. Irani, \"Machine Learning\", 1992), [PDF](https://link.springer.com/content/pdf/10.1007/BF00994007.pdf)."
   ]
  },
  {
   "cell_type": "markdown",
   "metadata": {
    "slideshow": {
     "slide_type": "skip"
    }
   },
   "source": [
    "<a class=\"anchor\" id=\"3.1.6\"></a>"
   ]
  },
  {
   "cell_type": "markdown",
   "metadata": {
    "slideshow": {
     "slide_type": "slide"
    }
   },
   "source": [
    "### <span style=\"color:blue; font-size:1em;\">3.1.6. Основні параметри дерева</span>\n",
    "\n",
    "[Повернутися до змісту](#3)"
   ]
  },
  {
   "cell_type": "markdown",
   "metadata": {
    "slideshow": {
     "slide_type": "fragment"
    }
   },
   "source": [
    "В принципі дерево рішень можна побудувати до такої глибини, щоб в кожному листку був рівно один об'єкт. Але на практиці це не робиться через те, що таке дерево буде *перевантаженим* або *перенавченим* – воно занадто сильно налаштується на навчальну вибірку і буде погано прогнозувати на нових даних.\n",
    "\n",
    "Десь внизу дерева, на великій глибині, будуть з'являтися розбиття за менш важливими ознаками (наприклад, приїхав клієнт з Хмельницького чи Львова). Якщо спрощувати, може виявитися так, що з усіх 4 клієнтів, які прийшли в банк за кредитом в чорній сорочці, ніхто не повернув кредит і можна зробити висновок, що колір сорочки клієнта має вплив на його \"благонадійність\". \n",
    "\n",
    "Очевидно, ми не хочемо, щоб наша модель класифікації породжувала такі специфічні та упереджені правила."
   ]
  },
  {
   "cell_type": "markdown",
   "metadata": {
    "slideshow": {
     "slide_type": "subslide"
    }
   },
   "source": [
    "Є два винятки, за яких дерева будуються до максимальної глибини:\n",
    "\n",
    "\n",
    " - випадковий ліс (композиція багатьох дерев) усереднює відповіді дерев, що побудовані до максимальної глибини (про те, чому варто робити саме так, поговоримо в наступних темах);\n",
    " - стрижка дерева (з англ. *pruning*); за такого підходу дерево спочатку будується до максимальної глибини, а далі поступово, від низу до верху, деякі вершини дерева прибираються через порівняння за якістю дерева з даними розбиттям і без нього (порівняння проводиться за допомогою *крос-валідації*, про яку трохи нижче)."
   ]
  },
  {
   "cell_type": "markdown",
   "metadata": {
    "slideshow": {
     "slide_type": "subslide"
    }
   },
   "source": [
    "Картинка нижче – приклад границі, що розділяє класи, і побудована перенавченим деревом."
   ]
  },
  {
   "cell_type": "markdown",
   "metadata": {
    "slideshow": {
     "slide_type": "fragment"
    }
   },
   "source": [
    "![image](https://raw.githubusercontent.com/radiukpavlo/intelligent-data-analysis/main/03_img/3_decision-tree_overfitted-tree.png)"
   ]
  },
  {
   "cell_type": "markdown",
   "metadata": {
    "slideshow": {
     "slide_type": "subslide"
    }
   },
   "source": [
    "Основні способи боротьби з перенавчанням для дерев рішень:\n",
    "\n",
    "\n",
    " - штучне обмеження глибини або мінімальної кількості об'єктів в листі: побудова дерева в певний момент просто припиняється;\n",
    " - стрижка дерева.\n",
    " \n",
    "Детальніше про проблему пере- та недонавчання дерев рішень можна почитати в [блозі](https://neptune.ai/blog/overfitting-vs-underfitting-in-machine-learning)."
   ]
  },
  {
   "cell_type": "markdown",
   "metadata": {
    "slideshow": {
     "slide_type": "skip"
    }
   },
   "source": [
    "<a class=\"anchor\" id=\"3.1.7\"></a>"
   ]
  },
  {
   "cell_type": "markdown",
   "metadata": {
    "slideshow": {
     "slide_type": "slide"
    }
   },
   "source": [
    "### <span style=\"color:blue; font-size:1em;\">3.1.7. Клас DecisionTreeClassifier в Scikit-learn</span>\n",
    "\n",
    "[Повернутися до змісту](#3)"
   ]
  },
  {
   "cell_type": "markdown",
   "metadata": {
    "slideshow": {
     "slide_type": "fragment"
    }
   },
   "source": [
    "Основні параметри класу [sklearn.tree.DecisionTreeClassifier](http://scikit-learn.org/stable/modules/generated/sklearn.tree.DecisionTreeClassifier.html):\n",
    "\n",
    " - `max_depth`: максимальна глибина дерева;\n",
    " - `max_features`: максимальна кількість ознак, за якими шукається краще розбиття в дереві (це потрібно, тому що за великої кількості ознак буде \"дорого\" шукати краще (за критерієм приросту інформації) розбиття серед *усіх* ознак);\n",
    " - `min_samples_leaf`: мінімальна кількість об'єктів в листі; у цього параметра є зрозуміла інтерпретація: скажімо, якщо він дорівнює 5, то дерево буде породжувати тільки ті правила класифікації, які є правильними як мінімум для 5 об'єктів.\n",
    "\n",
    "Параметри дерева треба налаштовувати залежно від вхідних даних, і робиться це зазвичай за допомогою *крос-валідації*, за яку згодом."
   ]
  },
  {
   "cell_type": "markdown",
   "metadata": {
    "slideshow": {
     "slide_type": "skip"
    }
   },
   "source": [
    "<a class=\"anchor\" id=\"3.1.8\"></a>"
   ]
  },
  {
   "cell_type": "markdown",
   "metadata": {
    "slideshow": {
     "slide_type": "slide"
    }
   },
   "source": [
    "### <span style=\"color:blue; font-size:1em;\">3.1.8. Дерево рішень в задачі регресії</span>\n",
    "\n",
    "[Повернутися до змісту](#3)"
   ]
  },
  {
   "cell_type": "markdown",
   "metadata": {
    "slideshow": {
     "slide_type": "fragment"
    }
   },
   "source": [
    "Під час прогнозування кількісної ознаки ідея побудови дерева залишається такою ж, як для класифікації, але змінюється критерій якості – дисперсія навколо середнього:\n",
    " \n",
    "$$\\large D = \\frac{1}{\\ell} \\sum\\limits_{i =1}^{\\ell} (y_i – \\frac{1}{\\ell} \\sum\\limits_{j=1}^{\\ell} y_j)^2,$$\n",
    " \n",
    "де $\\ell$ – кількість об'єктів в листі; $y_i$ – значення цільової ознаки.\n",
    "\n",
    "Іншими словами, мінімізуючи дисперсію навколо середнього, ми шукаємо ознаки, що розбивають вибірку так, що значення цільової ознаки в кожному листі приблизно рівні."
   ]
  },
  {
   "cell_type": "markdown",
   "metadata": {
    "slideshow": {
     "slide_type": "subslide"
    }
   },
   "source": [
    "#### Приклад\n",
    "\n",
    "Згенеруємо дані, що розподілені навколо функції $f(x) = e^{-x ^ 2} + 1.5 * e^{-(x – 2) ^ 2}$ з деякими шумом."
   ]
  },
  {
   "cell_type": "code",
   "execution_count": 25,
   "metadata": {
    "ExecuteTime": {
     "end_time": "2023-10-09T18:03:32.979628200Z",
     "start_time": "2023-10-09T18:03:32.536922700Z"
    },
    "slideshow": {
     "slide_type": "fragment"
    }
   },
   "outputs": [],
   "source": [
    "n_train = 150        \n",
    "n_test = 1000       \n",
    "my_noise = 0.1\n",
    "\n",
    "def f(x):\n",
    "    x = x.ravel()\n",
    "    return np.exp(-x ** 2) + 1.5 * np.exp(-(x - 2) ** 2)\n",
    "\n",
    "def generate(n_samples, noise):\n",
    "    X = np.random.rand(n_samples) * 10 - 5\n",
    "    X = np.sort(X).ravel()\n",
    "    y = np.exp(-X ** 2) + 1.5 * np.exp(-(X - 2) ** 2) + \\\n",
    "        np.random.normal(0.0, noise, n_samples)\n",
    "    X = X.reshape((n_samples, 1))\n",
    "    return X, y\n",
    "\n",
    "X_train, y_train = generate(n_samples=n_train, noise=my_noise)\n",
    "X_test, y_test = generate(n_samples=n_test, noise=my_noise)"
   ]
  },
  {
   "cell_type": "code",
   "execution_count": 26,
   "metadata": {
    "ExecuteTime": {
     "end_time": "2023-10-09T18:03:32.979628200Z",
     "start_time": "2023-10-09T18:03:32.591478200Z"
    },
    "slideshow": {
     "slide_type": "subslide"
    }
   },
   "outputs": [],
   "source": [
    "from sklearn.tree import DecisionTreeRegressor\n",
    "     \n",
    "reg_tree = DecisionTreeRegressor(max_depth=5, random_state=17)\n",
    "\n",
    "reg_tree.fit(X_train, y_train)\n",
    "reg_tree_pred = reg_tree.predict(X_test)\n",
    "\n",
    "mse = (np.sum((y_test - reg_tree_pred) ** 2) / n_test)"
   ]
  },
  {
   "cell_type": "code",
   "execution_count": 27,
   "metadata": {
    "ExecuteTime": {
     "end_time": "2023-10-09T18:03:33.802182300Z",
     "start_time": "2023-10-09T18:03:32.596451300Z"
    },
    "slideshow": {
     "slide_type": "subslide"
    }
   },
   "outputs": [
    {
     "data": {
      "image/png": "[encoded data removed]",
      "text/plain": [
       "<Figure size 1000x500 with 1 Axes>"
      ]
     },
     "metadata": {},
     "output_type": "display_data"
    }
   ],
   "source": [
    "plt.figure(figsize=(10, 5), dpi=100)\n",
    "plt.plot(X_test, f(X_test), \"b\")\n",
    "plt.scatter(X_train, y_train, c=\"b\", s=20)\n",
    "plt.plot(X_test, reg_tree_pred, \"g\", lw=2)\n",
    "plt.xlim([-5,5])\n",
    "plt.title(f'Дерева рішень для задачі регресії, MSE = {mse:.2f}')\n",
    "plt.show();"
   ]
  },
  {
   "cell_type": "markdown",
   "metadata": {
    "slideshow": {
     "slide_type": "fragment"
    }
   },
   "source": [
    "Бачимо, що дерево рішень апроксимує залежність в даних кусково-постійною функцією."
   ]
  },
  {
   "cell_type": "markdown",
   "metadata": {
    "slideshow": {
     "slide_type": "skip"
    }
   },
   "source": [
    "<a class=\"anchor\" id=\"3.1.9\"></a>"
   ]
  },
  {
   "cell_type": "markdown",
   "metadata": {
    "slideshow": {
     "slide_type": "slide"
    }
   },
   "source": [
    "### <span style=\"color:blue; font-size:1em;\">3.1.9. Переваги та недоліки дерев рішень</span>\n",
    "\n",
    "[Повернутися до змісту](#3)"
   ]
  },
  {
   "cell_type": "markdown",
   "metadata": {
    "slideshow": {
     "slide_type": "subslide"
    }
   },
   "source": [
    "**Переваги:**\n",
    "\n",
    " - породження чітких правил класифікації, що є зрозумілими людині; наприклад, \"якщо вік < 25 та є інтерес до мотоциклів, то відмовити в кредиті\"; цю властивість називають інтерпретованістю моделі;\n",
    " - дерева рішень можна легко візуалізувати, тобто може \"інтерпретуватися\" як сама модель (дерево), так і прогноз для окремого взятого тестового об'єкта (шлях в дереві);\n",
    " - швидкі процеси навчання й прогнозування;\n",
    " - мала кількість параметрів моделі;\n",
    " - підтримка як числових, так і категоріальних ознак.\n"
   ]
  },
  {
   "cell_type": "markdown",
   "metadata": {
    "slideshow": {
     "slide_type": "subslide"
    }
   },
   "source": [
    "**Недоліки:**\n",
    "\n",
    " - у породження чітких правил класифікації присутня інша сторона медалі: дерева дуже чутливі до шумів у вхідних даних, тобто вся модель може кардинально змінитися, якщо трохи зміниться навчальна вибірка (наприклад, якщо прибрати одну з ознак або додати кілька нових об'єктів), тому і правила класифікації можуть сильно змінюватися, що погіршує інтерпретованість моделі;\n",
    " - розділяюча межа, що побудована деревом рішень, має свої обмеження (складається з гіперплощин, що перпендикулярні якійсь і координатних осей); тому на практиці дерево рішень за якістю класифікації (наприклад, частка правильних позначень) поступається деяким іншим методам;\n",
    " - нестабільність: невеликі зміни в даних можуть суттєво змінювати побудоване дерево рішень; з цією проблемою борються за допомогою ансамблів дерев рішень (розглянемо в наступних темах);"
   ]
  },
  {
   "cell_type": "markdown",
   "metadata": {
    "slideshow": {
     "slide_type": "subslide"
    }
   },
   "source": [
    "**Недоліки:** (продовження)\n",
    "\n",
    " - проблема пошуку оптимального дерева рішень (мінімального за розміром і здатного без помилок класифікувати вибірку) є NP-повною, тому на практиці використовуються евристики на зразок [жадібного пошуку](https://uk.wikipedia.org/wiki/%D0%96%D0%B0%D0%B4%D1%96%D0%B1%D0%BD%D0%B8%D0%B9_%D0%B0%D0%BB%D0%B3%D0%BE%D1%80%D0%B8%D1%82%D0%BC) ознаки з максимальним приростом інформації, які не гарантують знаходження глобально оптимального дерева;\n",
    " - складно підтримуються пропуски в даних: Friedman оцінив, що на підтримку пропусків в даних пішло близько 50% коду CART (класичний алгоритм побудови дерев класифікації й регресії – [Classification And Regression Trees](https://wires.onlinelibrary.wiley.com/doi/abs/10.1002/widm.8), в `sklearn` реалізована поліпшена версія саме цього алгоритму);\n",
    " - модель вміє тільки інтерполювати, але не екстраполювати (це твердження має місце і для лісу та бустингу на деревах, про них також згодом); тобто дерево рішень робить константний прогноз для об'єктів, що перебувають у просторі ознак поза паралепіпедом, що охоплює всі об'єкти навчальної вибірки; у нашому прикладі з жовтими і синіми кульками це означає, що модель дає однаковий прогноз для всіх кульок з координатою > 19 або < 0."
   ]
  },
  {
   "cell_type": "markdown",
   "metadata": {
    "slideshow": {
     "slide_type": "skip"
    }
   },
   "source": [
    "<a class=\"anchor\" id=\"3.2\"></a>"
   ]
  },
  {
   "cell_type": "markdown",
   "metadata": {
    "slideshow": {
     "slide_type": "slide"
    }
   },
   "source": [
    "## <span style=\"color:blue; font-size:1.2em;\">3.2. Метод найближчих сусідів</span>\n",
    "\n",
    "[Повернутися до змісту](#3)"
   ]
  },
  {
   "cell_type": "markdown",
   "metadata": {
    "slideshow": {
     "slide_type": "subslide"
    }
   },
   "source": [
    "Метод найближчих сусідів (з англ. k-nearest neighbors, або $knn$) – ще один популярний метод класифікації та регресії, що був розробленим ще в 1951 році науковцями Евеліном Фіксом (Evelyn Fix) та Джозефом Ходжесом (Joseph Hodges), [PDF](https://apps.dtic.mil/dtic/tr/fulltext/u2/a800276.pdf). $knn$, поряд з деревом рішень, є одним з найбільш зрозумілих підходів до класифікації. На інтуїтивному рівні суть методу така: якщо переважна більшість сусідів навколо тебе належать певній категорії, то і ти також належиш цій категорії. Формально основою методу є гіпотеза компактності: якщо метрика відстані між прикладами введена досить вдало, то схожі приклади набагато частіше лежать в одному класі, ніж в різних.\n",
    "\n",
    "Відповідно до методу найближчих сусідів, тестовий об'єкт (зелена кулька) на рисунку нижче належатиме класу \"сині\", а не \"червоні\"."
   ]
  },
  {
   "cell_type": "markdown",
   "metadata": {
    "slideshow": {
     "slide_type": "fragment"
    }
   },
   "source": [
    "![image](https://raw.githubusercontent.com/radiukpavlo/intelligent-data-analysis/main/03_img/3_knn_intuition.png)"
   ]
  },
  {
   "cell_type": "markdown",
   "metadata": {
    "slideshow": {
     "slide_type": "subslide"
    }
   },
   "source": [
    "З точки зору практичного сприйняття, метод найближчих сусідів можна пояснити так: якщо не зрозуміло, який тип товару вказати в оголошенні для Bluetooth-гарнітури, можна знайти 5 схожих гарнітур, і якщо 4 з них належать категорії \"Аксесуари\", і тільки один – категорії \"Техніка\", то здоровий глузд підкаже вказати категорію \"Аксесуари\" для свого оголошення.\n",
    "\n",
    "Для класифікації кожного з об'єктів тестової вибірки необхідно послідовно виконати такі операції:\n",
    "* обчислити відстань до кожного з об'єктів навчальної вибірки;\n",
    "* відібрати $k$ об'єктів навчальної вибірки, відстань до яких мінімальна;\n",
    "* клас тестового об'єкта – це клас, який найчастіше трапляється поміж $k$ найближчих сусідів."
   ]
  },
  {
   "cell_type": "markdown",
   "metadata": {
    "slideshow": {
     "slide_type": "subslide"
    }
   },
   "source": [
    "Помітна властивість такого підходу – його \"[лінивість](https://uk.wikipedia.org/wiki/%D0%9B%D1%96%D0%BD%D0%B8%D0%B2%D1%96_%D0%BE%D0%B1%D1%87%D0%B8%D1%81%D0%BB%D0%B5%D0%BD%D0%BD%D1%8F)\": обчислення починаються тільки в момент класифікації тестового об'єкта, водночас заздалегідь жодна модель не будується лише за наявності навчальних прикладів. У цьому відмінність, наприклад, від раніше розглянутого дерева рішень, де спочатку на основі навчальної вибірки будується дерево, а потім відносно швидко відбувається класифікація тестових об'єктів.\n",
    "\n",
    "Варто зазначити, що метод найближчих сусідів – добре опанований підхід (поміж методів ІАД/МН більше відомо певно лише про лінійну регресію). На сьогодні висунуто і доведено чимало важливих теорем, які стверджують, що на \"нескінченних\" вибірках метод найближчих сусідів є оптимальним методом класифікації. Автори класичної книги [The Elements of Statistical Learning](https://web.stanford.edu/~hastie/ElemStatLearn/) вважають $knn$ теоретично ідеальним алгоритмом, застосовність якого лише обмежена обчислювальними можливостями та [прокляттям розмірності](https://uk.wikipedia.org/wiki/%D0%9F%D1%80%D0%BE%D0%BA%D0%BB%D1%8F%D1%82%D1%82%D1%8F_%D1%80%D0%BE%D0%B7%D0%BC%D1%96%D1%80%D0%BD%D0%BE%D1%81%D1%82%D1%96)."
   ]
  },
  {
   "cell_type": "markdown",
   "metadata": {
    "slideshow": {
     "slide_type": "skip"
    }
   },
   "source": [
    "<a class=\"anchor\" id=\"3.2.1\"></a>"
   ]
  },
  {
   "cell_type": "markdown",
   "metadata": {
    "slideshow": {
     "slide_type": "slide"
    }
   },
   "source": [
    "### <span style=\"color:blue; font-size:1em;\">3.2.1. Метод найближчих сусідів в реальних задачах</span>\n",
    "\n",
    "[Повернутися до змісту](#3)"
   ]
  },
  {
   "cell_type": "markdown",
   "metadata": {
    "slideshow": {
     "slide_type": "fragment"
    }
   },
   "source": [
    "Принципи використання $knn$:\n",
    "\n",
    " - у чистому вигляді $knn$ може слугувати хорошим стартом (baseline) для розв'язання будь-якої задачі;\n",
    " - у змаганнях [Kaggle](https://www.kaggle.com/) $knn$ часто використовується для побудови [мета-ознак](https://www.kaggle.com/) (прогноз knn подається на вхід іншим моделям) або в стекінг/блендінг;\n",
    " - ідея найближчого сусіда розширюється й на інші завдання, наприклад, в рекомендаційних системах простим початковим рішенням може бути рекомендація якогось товару (або послуги), популярного поміж *найближчих сусідів* людини, якій хочемо зробити рекомендацію;\n",
    " - на практиці для великих вибірок часто користуються *наближеними* методами пошуку найближчих сусідів."
   ]
  },
  {
   "cell_type": "markdown",
   "metadata": {
    "slideshow": {
     "slide_type": "subslide"
    }
   },
   "source": [
    "Також відомі [бібліотеки з відкритим кодом і не тільки](https://github.com/josephmisiti/awesome-machine-learning), в яких реалізовані такі алгоритми; зокрема дякуємо компанії Spotify за її бібліотеку [Annoy](https://github.com/spotify/annoy).\n",
    "\n",
    "Якість класифікації методом найближчих сусідів залежить від декількох параметрів:\n",
    "\n",
    " - кількість сусідів;\n",
    " - метрика відстані між об'єктами (часто використовуються метрика Хеммінга, евклідова відстань, косинусна відстань і відстань Мінковського); зазначимо, що під час використання більшості метрик значення ознак треба масштабувати/нормалізувати; іншими словами, щоб ознака \"Зарплата\" з діапазоном значень до 100 тисяч не робила більший внесок у відстань, ніж ознака \"Вік\" зі значеннями до 100;\n",
    " - ваги сусідів (сусіди тестового прикладу можуть входити з різними вагами, наприклад, чим далі приклад, тим з меншим коефіцієнтом враховується його \"голос\")."
   ]
  },
  {
   "cell_type": "markdown",
   "metadata": {
    "slideshow": {
     "slide_type": "subslide"
    }
   },
   "source": [
    "#### Класс KNeighborsClassifier в Scikit-learn\n",
    "\n",
    "Основні параметри класу [sklearn.neighbors.KNeighborsClassifier](https://scikit-learn.org/stable/modules/generated/sklearn.neighbors.KNeighborsClassifier.html):\n",
    "\n",
    " - `n_neighbors`: int, default=5: кількість сусідів, щоб використовуються за замовчуванням для запитів алгоритму;\n",
    " - `weights`: \"uniform\" (всі ваги рівні), \"distance\" (вага обернено пропорційна відстані до тестового прикладу) або інша визначена користувачем функція;\n",
    " - `algorithm` (optional): \"brute\", \"ball_tree\", \"KD_tree\", или \"auto\"; у першому випадку найближчі сусіди для кожного тестового прикладу вважаються перебором навчальної вибірки; у другому і третьому – відстань між прикладами зберігаються в дереві, що прискорює знаходження найближчих сусідів; у разі зазначення параметра \"auto\" відповідний спосіб знаходження сусідів буде обраний автоматично на основі навчальної вибірки;\n",
    " - `leaf_size` (optional): поріг перемикання на повний перебір в разі вибору BallTree або KDTree для знаходження сусідів;\n",
    " - `metric`: \"minkowski\", \"manhattan\", \"euclidean\", \"chebyshev\" та інші."
   ]
  },
  {
   "cell_type": "markdown",
   "metadata": {
    "slideshow": {
     "slide_type": "skip"
    }
   },
   "source": [
    "<a class=\"anchor\" id=\"3.2.2\"></a>"
   ]
  },
  {
   "cell_type": "markdown",
   "metadata": {
    "slideshow": {
     "slide_type": "slide"
    }
   },
   "source": [
    "### <span style=\"color:blue; font-size:1em;\">3.2.2. Вибір параметрів моделі й крос-валідація</span>\n",
    "\n",
    "[Повернутися до змісту](#3)"
   ]
  },
  {
   "cell_type": "markdown",
   "metadata": {
    "slideshow": {
     "slide_type": "subslide"
    }
   },
   "source": [
    "Головне завдання навчальних алгоритмів – їхня здатність *узагальнюватися*, тобто добре працювати на нових даних. Оскільки за новими даними ми відразу не можемо перевірити якість побудованої моделі (нам треба для них зробити прогноз, тобто ми не знаємо істинних значень цільової ознаки за новими даними), то треба пожертвувати невеликою множиною даних, щоб на ній перевірити якість моделі.\n",
    "\n",
    "Найчастіше якість побудованої моделі визначається одним з двох способів:\n",
    "\n",
    " - відкладена/валідаційна вибірка (*validation set*): за такого підходу ми залишаємо якусь частку навчальної вибірки (як правило від 20% до 40%), навчаємо модель на інших даних (60-80% початкової вибірки) й обраховуємо деяку метрику якості моделі (наприклад, найпростіше – частку правильних відповідей в задачі класифікації) за валідаційною вибіркою;\n",
    " - крос-валідація (з англ. *cross-validation* – ковзний або перехресний контроль); тут найчастіший підхід – $k$-fold крос-валідація."
   ]
  },
  {
   "cell_type": "markdown",
   "metadata": {
    "slideshow": {
     "slide_type": "subslide"
    }
   },
   "source": [
    "<img src=\"https://raw.githubusercontent.com/radiukpavlo/intelligent-data-analysis/main/03_img/3_knn_cross-validation.png\" alt=\"image\" width=\"800\">"
   ]
  },
  {
   "cell_type": "markdown",
   "metadata": {
    "slideshow": {
     "slide_type": "fragment"
    }
   },
   "source": [
    "Тут модель навчається $k$ разів на різних ($k$-1) підвибірках початкової вибірки (білий колір), а перевіряється на одній підвибірці (кожен раз на різній, помаранчевий колір). Отримують $k$ оцінок якості моделі, які зазвичай усереднюються, отримуючи у такий спосіб середню оцінку якості класифікації або регресії на крос-валідації.\n",
    "\n",
    "Загалом крос-валідація дає кращу проти валідаційної вибірки оцінку якості моделі на нових даних. Проте крос-валідація обчислювально дорога, якщо навчальних даних багато.\n",
    "\n",
    "Крос-валідація – важлива техніка в ІАД/МН (застосовується також у статистиці та економетриці); з її допомогою вибираються гіперпараметри моделей, порівнюються моделі між собою, оцінюється корисність нових ознак в задачі тощо. Більш докладно про крос-валідацію можна почитати, наприклад, у [статті](https://sebastianraschka.com/blog/2016/model-evaluation-selection-part1.html)."
   ]
  },
  {
   "cell_type": "markdown",
   "metadata": {
    "slideshow": {
     "slide_type": "skip"
    }
   },
   "source": [
    "<a class=\"anchor\" id=\"3.2.3\"></a>"
   ]
  },
  {
   "cell_type": "markdown",
   "metadata": {
    "slideshow": {
     "slide_type": "slide"
    }
   },
   "source": [
    "### <span style=\"color:blue; font-size:1em;\">3.2.3. Переваги та недоліки методу найближчих сусідів</span>\n",
    "\n",
    "[Повернутися до змісту](#3)"
   ]
  },
  {
   "cell_type": "markdown",
   "metadata": {
    "slideshow": {
     "slide_type": "subslide"
    }
   },
   "source": [
    "**Переваги:**\n",
    "\n",
    " - проста реалізація;\n",
    " - можна адаптувати під конкретну задачу вибором метрики або ядра (простими словами: ядро може задавати операцію подібності для складних об'єктів типу графів, а сам підхід $knn$ залишається незмінним);\n",
    " - хороша інтерпретованість: можна пояснити, чому тестовий приклад був класифікований саме так; проте якщо кількість сусідів є великою, то інтерпретація погіршується (умовно кажучи: *\"ми не дали йому кредит, тому що він схожий на 350 клієнтів, з яких 70 – погані, що на 12% більше, ніж в середньому по вибірці\"*)."
   ]
  },
  {
   "cell_type": "markdown",
   "metadata": {
    "slideshow": {
     "slide_type": "subslide"
    }
   },
   "source": [
    "**Недоліки:**\n",
    "\n",
    " - метод вважається швидким у порівнянні з іншими, наприклад, з композиціями алгоритмів, але в реальних задачах, як правило, кількість сусідів, які використовуються для класифікації, є великою (100-150), і в такому випадку алгоритм буде працювати не так швидко, як дерево рішень;\n",
    " - якщо в наборі даних багато ознак, то важко підібрати відповідні ваги й визначити, які ознаки не важливі для класифікації або регресії;\n",
    " - залежність від обраної метрики відстані поміж прикладами: вибір евклідової відстані за замовчуванням найчастіше нічим не обґрунтований; можна знайти хороше рішення простим перебором параметрів, але для великого набору даних такий підхід забирає багато часу;\n",
    " - немає теоретичних обґрунтувань вибору певної кількості сусідів – тільки перебір (втім, найчастіше це твердження має місце для всіх гіперпараметрів всіх моделей); водночас за малої кількості сусідів метод чутливий до викидів, тобто схильний перенавчатися;\n",
    " - як правило, $knn$ погано працює, коли ознак багато, через [\"прокляття розмірності\"](https://uk.wikipedia.org/wiki/%D0%9F%D1%80%D0%BE%D0%BA%D0%BB%D1%8F%D1%82%D1%82%D1%8F_%D1%80%D0%BE%D0%B7%D0%BC%D1%96%D1%80%D0%BD%D0%BE%D1%81%D1%82%D1%96#:~:text=%D0%9F%D1%80%D0%BE%D0%BA%D0%BB%D1%8F%D1%82%D1%82%D1%8F%20%D1%80%D0%BE%D0%B7%D0%BC%D1%96%D1%80%D0%BD%D0%BE%D1%81%D1%82%D1%96%20(%D0%B0%D0%BD%D0%B3%D0%BB.,%D0%B7%20%D1%8F%D0%BA%D0%B8%D0%BC%20%D0%BC%D0%B8%20%D1%81%D1%82%D0%B8%D0%BA%D0%B0%D1%94%D0%BC%D0%BE%D1%81%D1%8C%20%D1%89%D0%BE%D0%B4%D0%BD%D1%8F.); \"the curse of dimensionality \"описується в книзі Deep Learning в [розділі книги](http://www.deeplearningbook.org/contents/ml.html) \"Machine Learning basics\"."
   ]
  },
  {
   "cell_type": "markdown",
   "metadata": {
    "slideshow": {
     "slide_type": "skip"
    }
   },
   "source": [
    "<a class=\"anchor\" id=\"3.3\"></a>"
   ]
  },
  {
   "cell_type": "markdown",
   "metadata": {
    "slideshow": {
     "slide_type": "slide"
    }
   },
   "source": [
    "## <span style=\"color:blue; font-size:1.2em;\">3.3. Дерево рішень і метод найближчих сусідів для задачі прогнозування відтоку клієнтів телеком-оператора</span>\n",
    "\n",
    "[Повернутися до змісту](#3)"
   ]
  },
  {
   "cell_type": "markdown",
   "metadata": {
    "slideshow": {
     "slide_type": "subslide"
    }
   },
   "source": [
    "Спершу переведемо дані в DataFrame і проведемо попереднє оброблення. Штати поки збережемо в окремий об'єкт Series, але видалимо з датафрейма. Першу модель будемо навчати без штатів, потім подивимося, чи вони допомагають взагалі."
   ]
  },
  {
   "cell_type": "code",
   "execution_count": 28,
   "metadata": {
    "ExecuteTime": {
     "end_time": "2023-10-09T18:03:34.064988400Z",
     "start_time": "2023-10-09T18:03:33.452451400Z"
    },
    "collapsed": false,
    "jupyter": {
     "outputs_hidden": false
    },
    "slideshow": {
     "slide_type": "fragment"
    }
   },
   "outputs": [],
   "source": [
    "telecom_churn_url = 'https://raw.githubusercontent.com/radiukpavlo/intelligent-data-analysis/main/01_lecture-notes/ida_lecture-03_decision_trees_knn/telecom_churn.csv'\n",
    "\n",
    "df = pd.read_csv(telecom_churn_url)"
   ]
  },
  {
   "cell_type": "code",
   "execution_count": 29,
   "metadata": {
    "ExecuteTime": {
     "end_time": "2023-10-09T18:03:34.080942600Z",
     "start_time": "2023-10-09T18:03:33.870964500Z"
    },
    "collapsed": false,
    "jupyter": {
     "outputs_hidden": false
    },
    "slideshow": {
     "slide_type": "subslide"
    }
   },
   "outputs": [],
   "source": [
    "df['International plan'] = pd.factorize(df['International plan'])[0]\n",
    "df['Voice mail plan'] = pd.factorize(df['Voice mail plan'])[0]\n",
    "df['Churn'] = df['Churn'].astype('int')\n",
    "states = df['State']\n",
    "y = df['Churn']\n",
    "df.drop(['State', 'Churn'], axis=1, inplace=True)"
   ]
  },
  {
   "cell_type": "code",
   "execution_count": 30,
   "metadata": {
    "ExecuteTime": {
     "end_time": "2023-10-09T18:03:34.185129900Z",
     "start_time": "2023-10-09T18:03:33.884602700Z"
    },
    "collapsed": false,
    "jupyter": {
     "outputs_hidden": false
    },
    "slideshow": {
     "slide_type": "fragment"
    }
   },
   "outputs": [
    {
     "data": {
      "text/html": [
       "<div>\n",
       "<style scoped>\n",
       "    .dataframe tbody tr th:only-of-type {\n",
       "        vertical-align: middle;\n",
       "    }\n",
       "\n",
       "    .dataframe tbody tr th {\n",
       "        vertical-align: top;\n",
       "    }\n",
       "\n",
       "    .dataframe thead th {\n",
       "        text-align: right;\n",
       "    }\n",
       "</style>\n",
       "<table border=\"1\" class=\"dataframe\">\n",
       "  <thead>\n",
       "    <tr style=\"text-align: right;\">\n",
       "      <th></th>\n",
       "      <th>Account length</th>\n",
       "      <th>Area code</th>\n",
       "      <th>International plan</th>\n",
       "      <th>Voice mail plan</th>\n",
       "      <th>Number vmail messages</th>\n",
       "      <th>Total day minutes</th>\n",
       "      <th>Total day calls</th>\n",
       "      <th>Total day charge</th>\n",
       "      <th>Total eve minutes</th>\n",
       "      <th>Total eve calls</th>\n",
       "      <th>Total eve charge</th>\n",
       "      <th>Total night minutes</th>\n",
       "      <th>Total night calls</th>\n",
       "      <th>Total night charge</th>\n",
       "      <th>Total intl minutes</th>\n",
       "      <th>Total intl calls</th>\n",
       "      <th>Total intl charge</th>\n",
       "      <th>Customer service calls</th>\n",
       "    </tr>\n",
       "  </thead>\n",
       "  <tbody>\n",
       "    <tr>\n",
       "      <th>0</th>\n",
       "      <td>128</td>\n",
       "      <td>415</td>\n",
       "      <td>0</td>\n",
       "      <td>0</td>\n",
       "      <td>25</td>\n",
       "      <td>265.1</td>\n",
       "      <td>110</td>\n",
       "      <td>45.07</td>\n",
       "      <td>197.4</td>\n",
       "      <td>99</td>\n",
       "      <td>16.78</td>\n",
       "      <td>244.7</td>\n",
       "      <td>91</td>\n",
       "      <td>11.01</td>\n",
       "      <td>10.0</td>\n",
       "      <td>3</td>\n",
       "      <td>2.70</td>\n",
       "      <td>1</td>\n",
       "    </tr>\n",
       "    <tr>\n",
       "      <th>1</th>\n",
       "      <td>107</td>\n",
       "      <td>415</td>\n",
       "      <td>0</td>\n",
       "      <td>0</td>\n",
       "      <td>26</td>\n",
       "      <td>161.6</td>\n",
       "      <td>123</td>\n",
       "      <td>27.47</td>\n",
       "      <td>195.5</td>\n",
       "      <td>103</td>\n",
       "      <td>16.62</td>\n",
       "      <td>254.4</td>\n",
       "      <td>103</td>\n",
       "      <td>11.45</td>\n",
       "      <td>13.7</td>\n",
       "      <td>3</td>\n",
       "      <td>3.70</td>\n",
       "      <td>1</td>\n",
       "    </tr>\n",
       "    <tr>\n",
       "      <th>2</th>\n",
       "      <td>137</td>\n",
       "      <td>415</td>\n",
       "      <td>0</td>\n",
       "      <td>1</td>\n",
       "      <td>0</td>\n",
       "      <td>243.4</td>\n",
       "      <td>114</td>\n",
       "      <td>41.38</td>\n",
       "      <td>121.2</td>\n",
       "      <td>110</td>\n",
       "      <td>10.30</td>\n",
       "      <td>162.6</td>\n",
       "      <td>104</td>\n",
       "      <td>7.32</td>\n",
       "      <td>12.2</td>\n",
       "      <td>5</td>\n",
       "      <td>3.29</td>\n",
       "      <td>0</td>\n",
       "    </tr>\n",
       "    <tr>\n",
       "      <th>3</th>\n",
       "      <td>84</td>\n",
       "      <td>408</td>\n",
       "      <td>1</td>\n",
       "      <td>1</td>\n",
       "      <td>0</td>\n",
       "      <td>299.4</td>\n",
       "      <td>71</td>\n",
       "      <td>50.90</td>\n",
       "      <td>61.9</td>\n",
       "      <td>88</td>\n",
       "      <td>5.26</td>\n",
       "      <td>196.9</td>\n",
       "      <td>89</td>\n",
       "      <td>8.86</td>\n",
       "      <td>6.6</td>\n",
       "      <td>7</td>\n",
       "      <td>1.78</td>\n",
       "      <td>2</td>\n",
       "    </tr>\n",
       "    <tr>\n",
       "      <th>4</th>\n",
       "      <td>75</td>\n",
       "      <td>415</td>\n",
       "      <td>1</td>\n",
       "      <td>1</td>\n",
       "      <td>0</td>\n",
       "      <td>166.7</td>\n",
       "      <td>113</td>\n",
       "      <td>28.34</td>\n",
       "      <td>148.3</td>\n",
       "      <td>122</td>\n",
       "      <td>12.61</td>\n",
       "      <td>186.9</td>\n",
       "      <td>121</td>\n",
       "      <td>8.41</td>\n",
       "      <td>10.1</td>\n",
       "      <td>3</td>\n",
       "      <td>2.73</td>\n",
       "      <td>3</td>\n",
       "    </tr>\n",
       "  </tbody>\n",
       "</table>\n",
       "</div>"
      ],
      "text/plain": [
       "   Account length  Area code  International plan  Voice mail plan  \\\n",
       "0             128        415                   0                0   \n",
       "1             107        415                   0                0   \n",
       "2             137        415                   0                1   \n",
       "3              84        408                   1                1   \n",
       "4              75        415                   1                1   \n",
       "\n",
       "   Number vmail messages  Total day minutes  Total day calls  \\\n",
       "0                     25              265.1              110   \n",
       "1                     26              161.6              123   \n",
       "2                      0              243.4              114   \n",
       "3                      0              299.4               71   \n",
       "4                      0              166.7              113   \n",
       "\n",
       "   Total day charge  Total eve minutes  Total eve calls  Total eve charge  \\\n",
       "0             45.07              197.4               99             16.78   \n",
       "1             27.47              195.5              103             16.62   \n",
       "2             41.38              121.2              110             10.30   \n",
       "3             50.90               61.9               88              5.26   \n",
       "4             28.34              148.3              122             12.61   \n",
       "\n",
       "   Total night minutes  Total night calls  Total night charge  \\\n",
       "0                244.7                 91               11.01   \n",
       "1                254.4                103               11.45   \n",
       "2                162.6                104                7.32   \n",
       "3                196.9                 89                8.86   \n",
       "4                186.9                121                8.41   \n",
       "\n",
       "   Total intl minutes  Total intl calls  Total intl charge  \\\n",
       "0                10.0                 3               2.70   \n",
       "1                13.7                 3               3.70   \n",
       "2                12.2                 5               3.29   \n",
       "3                 6.6                 7               1.78   \n",
       "4                10.1                 3               2.73   \n",
       "\n",
       "   Customer service calls  \n",
       "0                       1  \n",
       "1                       1  \n",
       "2                       0  \n",
       "3                       2  \n",
       "4                       3  "
      ]
     },
     "execution_count": 30,
     "metadata": {},
     "output_type": "execute_result"
    }
   ],
   "source": [
    "df.head()"
   ]
  },
  {
   "cell_type": "code",
   "execution_count": 31,
   "metadata": {
    "ExecuteTime": {
     "end_time": "2023-10-09T18:03:34.188145500Z",
     "start_time": "2023-10-09T18:03:33.944932Z"
    },
    "collapsed": false,
    "jupyter": {
     "outputs_hidden": false
    },
    "slideshow": {
     "slide_type": "subslide"
    }
   },
   "outputs": [],
   "source": [
    "from sklearn.model_selection import train_test_split, StratifiedKFold"
   ]
  },
  {
   "cell_type": "markdown",
   "metadata": {
    "slideshow": {
     "slide_type": "fragment"
    }
   },
   "source": [
    "Виділимо 70% вибірки (X_train, y_train) під навчання і 30% – під валідаційну вибірку (X_valid, y_valid). Валідаційна вибірка ніяк не братиме участі в налаштуванні параметрів моделей; на ній ми в кінці, після налаштування, оцінимо якість отриманої моделі."
   ]
  },
  {
   "cell_type": "code",
   "execution_count": 32,
   "metadata": {
    "ExecuteTime": {
     "end_time": "2023-10-09T18:03:34.189665100Z",
     "start_time": "2023-10-09T18:03:33.970951200Z"
    },
    "collapsed": false,
    "jupyter": {
     "outputs_hidden": false
    },
    "slideshow": {
     "slide_type": "fragment"
    }
   },
   "outputs": [],
   "source": [
    "X_train, X_valid, y_train, y_valid = train_test_split(df.values, y, test_size=0.3,\n",
    "                                                          random_state=17)"
   ]
  },
  {
   "cell_type": "markdown",
   "metadata": {
    "slideshow": {
     "slide_type": "fragment"
    }
   },
   "source": [
    "Проведемо навчання двох моделей – дерево рішень та $knn$. На цьому етапі ми не знаємо, які параметри хороші, тому оберемо їх навмання: нехай глибина дерева буде 5, кількість найближчих сусідів – 10."
   ]
  },
  {
   "cell_type": "code",
   "execution_count": 33,
   "metadata": {
    "ExecuteTime": {
     "end_time": "2023-10-09T18:03:34.189949400Z",
     "start_time": "2023-10-09T18:03:33.995431300Z"
    },
    "collapsed": false,
    "jupyter": {
     "outputs_hidden": false
    },
    "slideshow": {
     "slide_type": "subslide"
    }
   },
   "outputs": [],
   "source": [
    "from sklearn.neighbors import KNeighborsClassifier\n",
    "\n",
    "tree = DecisionTreeClassifier(max_depth=5, random_state=17)\n",
    "knn = KNeighborsClassifier(n_neighbors=10)"
   ]
  },
  {
   "cell_type": "code",
   "execution_count": 34,
   "metadata": {
    "ExecuteTime": {
     "end_time": "2023-10-09T18:03:34.247289500Z",
     "start_time": "2023-10-09T18:03:34.011751400Z"
    },
    "collapsed": false,
    "jupyter": {
     "outputs_hidden": false
    },
    "slideshow": {
     "slide_type": "fragment"
    }
   },
   "outputs": [
    {
     "name": "stdout",
     "output_type": "stream",
     "text": [
      "CPU times: total: 0 ns\n",
      "Wall time: 9 ms\n"
     ]
    },
    {
     "data": {
      "text/html": [
       "<style>#sk-container-id-4 {color: black;background-color: white;}#sk-container-id-4 pre{padding: 0;}#sk-container-id-4 div.sk-toggleable {background-color: white;}#sk-container-id-4 label.sk-toggleable__label {cursor: pointer;display: block;width: 100%;margin-bottom: 0;padding: 0.3em;box-sizing: border-box;text-align: center;}#sk-container-id-4 label.sk-toggleable__label-arrow:before {content: \"▸\";float: left;margin-right: 0.25em;color: #696969;}#sk-container-id-4 label.sk-toggleable__label-arrow:hover:before {color: black;}#sk-container-id-4 div.sk-estimator:hover label.sk-toggleable__label-arrow:before {color: black;}#sk-container-id-4 div.sk-toggleable__content {max-height: 0;max-width: 0;overflow: hidden;text-align: left;background-color: #f0f8ff;}#sk-container-id-4 div.sk-toggleable__content pre {margin: 0.2em;color: black;border-radius: 0.25em;background-color: #f0f8ff;}#sk-container-id-4 input.sk-toggleable__control:checked~div.sk-toggleable__content {max-height: 200px;max-width: 100%;overflow: auto;}#sk-container-id-4 input.sk-toggleable__control:checked~label.sk-toggleable__label-arrow:before {content: \"▾\";}#sk-container-id-4 div.sk-estimator input.sk-toggleable__control:checked~label.sk-toggleable__label {background-color: #d4ebff;}#sk-container-id-4 div.sk-label input.sk-toggleable__control:checked~label.sk-toggleable__label {background-color: #d4ebff;}#sk-container-id-4 input.sk-hidden--visually {border: 0;clip: rect(1px 1px 1px 1px);clip: rect(1px, 1px, 1px, 1px);height: 1px;margin: -1px;overflow: hidden;padding: 0;position: absolute;width: 1px;}#sk-container-id-4 div.sk-estimator {font-family: monospace;background-color: #f0f8ff;border: 1px dotted black;border-radius: 0.25em;box-sizing: border-box;margin-bottom: 0.5em;}#sk-container-id-4 div.sk-estimator:hover {background-color: #d4ebff;}#sk-container-id-4 div.sk-parallel-item::after {content: \"\";width: 100%;border-bottom: 1px solid gray;flex-grow: 1;}#sk-container-id-4 div.sk-label:hover label.sk-toggleable__label {background-color: #d4ebff;}#sk-container-id-4 div.sk-serial::before {content: \"\";position: absolute;border-left: 1px solid gray;box-sizing: border-box;top: 0;bottom: 0;left: 50%;z-index: 0;}#sk-container-id-4 div.sk-serial {display: flex;flex-direction: column;align-items: center;background-color: white;padding-right: 0.2em;padding-left: 0.2em;position: relative;}#sk-container-id-4 div.sk-item {position: relative;z-index: 1;}#sk-container-id-4 div.sk-parallel {display: flex;align-items: stretch;justify-content: center;background-color: white;position: relative;}#sk-container-id-4 div.sk-item::before, #sk-container-id-4 div.sk-parallel-item::before {content: \"\";position: absolute;border-left: 1px solid gray;box-sizing: border-box;top: 0;bottom: 0;left: 50%;z-index: -1;}#sk-container-id-4 div.sk-parallel-item {display: flex;flex-direction: column;z-index: 1;position: relative;background-color: white;}#sk-container-id-4 div.sk-parallel-item:first-child::after {align-self: flex-end;width: 50%;}#sk-container-id-4 div.sk-parallel-item:last-child::after {align-self: flex-start;width: 50%;}#sk-container-id-4 div.sk-parallel-item:only-child::after {width: 0;}#sk-container-id-4 div.sk-dashed-wrapped {border: 1px dashed gray;margin: 0 0.4em 0.5em 0.4em;box-sizing: border-box;padding-bottom: 0.4em;background-color: white;}#sk-container-id-4 div.sk-label label {font-family: monospace;font-weight: bold;display: inline-block;line-height: 1.2em;}#sk-container-id-4 div.sk-label-container {text-align: center;}#sk-container-id-4 div.sk-container {/* jupyter's `normalize.less` sets `[hidden] { display: none; }` but bootstrap.min.css set `[hidden] { display: none !important; }` so we also need the `!important` here to be able to override the default hidden behavior on the sphinx rendered scikit-learn.org. See: https://github.com/scikit-learn/scikit-learn/issues/21755 */display: inline-block !important;position: relative;}#sk-container-id-4 div.sk-text-repr-fallback {display: none;}</style><div id=\"sk-container-id-4\" class=\"sk-top-container\"><div class=\"sk-text-repr-fallback\"><pre>DecisionTreeClassifier(max_depth=5, random_state=17)</pre><b>In a Jupyter environment, please rerun this cell to show the HTML representation or trust the notebook. <br />On GitHub, the HTML representation is unable to render, please try loading this page with nbviewer.org.</b></div><div class=\"sk-container\" hidden><div class=\"sk-item\"><div class=\"sk-estimator sk-toggleable\"><input class=\"sk-toggleable__control sk-hidden--visually\" id=\"sk-estimator-id-4\" type=\"checkbox\" checked><label for=\"sk-estimator-id-4\" class=\"sk-toggleable__label sk-toggleable__label-arrow\">DecisionTreeClassifier</label><div class=\"sk-toggleable__content\"><pre>DecisionTreeClassifier(max_depth=5, random_state=17)</pre></div></div></div></div></div>"
      ],
      "text/plain": [
       "DecisionTreeClassifier(max_depth=5, random_state=17)"
      ]
     },
     "execution_count": 34,
     "metadata": {},
     "output_type": "execute_result"
    }
   ],
   "source": [
    "%%time\n",
    "tree.fit(X_train, y_train)"
   ]
  },
  {
   "cell_type": "code",
   "execution_count": 35,
   "metadata": {
    "ExecuteTime": {
     "end_time": "2023-10-09T18:03:34.248806600Z",
     "start_time": "2023-10-09T18:03:34.065995600Z"
    },
    "collapsed": false,
    "jupyter": {
     "outputs_hidden": false
    },
    "slideshow": {
     "slide_type": "fragment"
    }
   },
   "outputs": [
    {
     "name": "stdout",
     "output_type": "stream",
     "text": [
      "CPU times: total: 0 ns\n",
      "Wall time: 964 µs\n"
     ]
    },
    {
     "data": {
      "text/html": [
       "<style>#sk-container-id-5 {color: black;background-color: white;}#sk-container-id-5 pre{padding: 0;}#sk-container-id-5 div.sk-toggleable {background-color: white;}#sk-container-id-5 label.sk-toggleable__label {cursor: pointer;display: block;width: 100%;margin-bottom: 0;padding: 0.3em;box-sizing: border-box;text-align: center;}#sk-container-id-5 label.sk-toggleable__label-arrow:before {content: \"▸\";float: left;margin-right: 0.25em;color: #696969;}#sk-container-id-5 label.sk-toggleable__label-arrow:hover:before {color: black;}#sk-container-id-5 div.sk-estimator:hover label.sk-toggleable__label-arrow:before {color: black;}#sk-container-id-5 div.sk-toggleable__content {max-height: 0;max-width: 0;overflow: hidden;text-align: left;background-color: #f0f8ff;}#sk-container-id-5 div.sk-toggleable__content pre {margin: 0.2em;color: black;border-radius: 0.25em;background-color: #f0f8ff;}#sk-container-id-5 input.sk-toggleable__control:checked~div.sk-toggleable__content {max-height: 200px;max-width: 100%;overflow: auto;}#sk-container-id-5 input.sk-toggleable__control:checked~label.sk-toggleable__label-arrow:before {content: \"▾\";}#sk-container-id-5 div.sk-estimator input.sk-toggleable__control:checked~label.sk-toggleable__label {background-color: #d4ebff;}#sk-container-id-5 div.sk-label input.sk-toggleable__control:checked~label.sk-toggleable__label {background-color: #d4ebff;}#sk-container-id-5 input.sk-hidden--visually {border: 0;clip: rect(1px 1px 1px 1px);clip: rect(1px, 1px, 1px, 1px);height: 1px;margin: -1px;overflow: hidden;padding: 0;position: absolute;width: 1px;}#sk-container-id-5 div.sk-estimator {font-family: monospace;background-color: #f0f8ff;border: 1px dotted black;border-radius: 0.25em;box-sizing: border-box;margin-bottom: 0.5em;}#sk-container-id-5 div.sk-estimator:hover {background-color: #d4ebff;}#sk-container-id-5 div.sk-parallel-item::after {content: \"\";width: 100%;border-bottom: 1px solid gray;flex-grow: 1;}#sk-container-id-5 div.sk-label:hover label.sk-toggleable__label {background-color: #d4ebff;}#sk-container-id-5 div.sk-serial::before {content: \"\";position: absolute;border-left: 1px solid gray;box-sizing: border-box;top: 0;bottom: 0;left: 50%;z-index: 0;}#sk-container-id-5 div.sk-serial {display: flex;flex-direction: column;align-items: center;background-color: white;padding-right: 0.2em;padding-left: 0.2em;position: relative;}#sk-container-id-5 div.sk-item {position: relative;z-index: 1;}#sk-container-id-5 div.sk-parallel {display: flex;align-items: stretch;justify-content: center;background-color: white;position: relative;}#sk-container-id-5 div.sk-item::before, #sk-container-id-5 div.sk-parallel-item::before {content: \"\";position: absolute;border-left: 1px solid gray;box-sizing: border-box;top: 0;bottom: 0;left: 50%;z-index: -1;}#sk-container-id-5 div.sk-parallel-item {display: flex;flex-direction: column;z-index: 1;position: relative;background-color: white;}#sk-container-id-5 div.sk-parallel-item:first-child::after {align-self: flex-end;width: 50%;}#sk-container-id-5 div.sk-parallel-item:last-child::after {align-self: flex-start;width: 50%;}#sk-container-id-5 div.sk-parallel-item:only-child::after {width: 0;}#sk-container-id-5 div.sk-dashed-wrapped {border: 1px dashed gray;margin: 0 0.4em 0.5em 0.4em;box-sizing: border-box;padding-bottom: 0.4em;background-color: white;}#sk-container-id-5 div.sk-label label {font-family: monospace;font-weight: bold;display: inline-block;line-height: 1.2em;}#sk-container-id-5 div.sk-label-container {text-align: center;}#sk-container-id-5 div.sk-container {/* jupyter's `normalize.less` sets `[hidden] { display: none; }` but bootstrap.min.css set `[hidden] { display: none !important; }` so we also need the `!important` here to be able to override the default hidden behavior on the sphinx rendered scikit-learn.org. See: https://github.com/scikit-learn/scikit-learn/issues/21755 */display: inline-block !important;position: relative;}#sk-container-id-5 div.sk-text-repr-fallback {display: none;}</style><div id=\"sk-container-id-5\" class=\"sk-top-container\"><div class=\"sk-text-repr-fallback\"><pre>KNeighborsClassifier(n_neighbors=10)</pre><b>In a Jupyter environment, please rerun this cell to show the HTML representation or trust the notebook. <br />On GitHub, the HTML representation is unable to render, please try loading this page with nbviewer.org.</b></div><div class=\"sk-container\" hidden><div class=\"sk-item\"><div class=\"sk-estimator sk-toggleable\"><input class=\"sk-toggleable__control sk-hidden--visually\" id=\"sk-estimator-id-5\" type=\"checkbox\" checked><label for=\"sk-estimator-id-5\" class=\"sk-toggleable__label sk-toggleable__label-arrow\">KNeighborsClassifier</label><div class=\"sk-toggleable__content\"><pre>KNeighborsClassifier(n_neighbors=10)</pre></div></div></div></div></div>"
      ],
      "text/plain": [
       "KNeighborsClassifier(n_neighbors=10)"
      ]
     },
     "execution_count": 35,
     "metadata": {},
     "output_type": "execute_result"
    }
   ],
   "source": [
    "%%time\n",
    "knn.fit(X_train, y_train)"
   ]
  },
  {
   "cell_type": "markdown",
   "metadata": {
    "slideshow": {
     "slide_type": "subslide"
    }
   },
   "source": [
    "Якість прогнозів будемо перевіряти за допомогою простої метрики – частки правильних відповідей (accuracy)."
   ]
  },
  {
   "cell_type": "code",
   "execution_count": 36,
   "metadata": {
    "ExecuteTime": {
     "end_time": "2023-10-09T18:03:34.249131600Z",
     "start_time": "2023-10-09T18:03:34.072777600Z"
    },
    "collapsed": false,
    "jupyter": {
     "outputs_hidden": false
    },
    "slideshow": {
     "slide_type": "fragment"
    }
   },
   "outputs": [],
   "source": [
    "from sklearn.metrics import accuracy_score"
   ]
  },
  {
   "cell_type": "markdown",
   "metadata": {
    "slideshow": {
     "slide_type": "fragment"
    }
   },
   "source": [
    "Зробимо прогнози для валідаційної вибірки:"
   ]
  },
  {
   "cell_type": "code",
   "execution_count": 37,
   "metadata": {
    "ExecuteTime": {
     "end_time": "2023-10-09T18:03:34.751547400Z",
     "start_time": "2023-10-09T18:03:34.088545300Z"
    },
    "collapsed": false,
    "jupyter": {
     "outputs_hidden": false
    },
    "slideshow": {
     "slide_type": "fragment"
    }
   },
   "outputs": [
    {
     "data": {
      "text/plain": [
       "0.94"
      ]
     },
     "execution_count": 37,
     "metadata": {},
     "output_type": "execute_result"
    }
   ],
   "source": [
    "tree_pred = tree.predict(X_valid)\n",
    "accuracy_score(y_valid, tree_pred)"
   ]
  },
  {
   "cell_type": "code",
   "execution_count": 38,
   "metadata": {
    "ExecuteTime": {
     "end_time": "2023-10-09T18:03:35.412774200Z",
     "start_time": "2023-10-09T18:03:34.105626500Z"
    },
    "collapsed": false,
    "jupyter": {
     "outputs_hidden": false
    },
    "slideshow": {
     "slide_type": "fragment"
    }
   },
   "outputs": [
    {
     "data": {
      "text/plain": [
       "0.881"
      ]
     },
     "execution_count": 38,
     "metadata": {},
     "output_type": "execute_result"
    }
   ],
   "source": [
    "knn_pred = knn.predict(X_valid)\n",
    "accuracy_score(y_valid, knn_pred)"
   ]
  },
  {
   "cell_type": "markdown",
   "metadata": {
    "slideshow": {
     "slide_type": "fragment"
    }
   },
   "source": [
    "Бачимо, що метод дерево рішень впоралось краще (0.94 > 0.881). Проте такий результат отримано з параметрами, що були обрані навмання."
   ]
  },
  {
   "cell_type": "markdown",
   "metadata": {
    "slideshow": {
     "slide_type": "subslide"
    }
   },
   "source": [
    "Тепер налаштуємо параметри дерева рішень на крос-валідації. Налаштовувати будемо максимальну глибину і кількість ознак, що максимально використовується на кожному розбитті. Використаємо техніку [GridSearchCV](https://scikit-learn.org/stable/modules/generated/sklearn.model_selection.GridSearchCV.html): для кожної унікальної пари значень параметрів `max_depth` і `max_features` проведемо 5-кратну крос-валідацію та оборемо найкраще поєднання параметрів."
   ]
  },
  {
   "cell_type": "code",
   "execution_count": 39,
   "metadata": {
    "ExecuteTime": {
     "end_time": "2023-10-09T18:03:35.445606300Z",
     "start_time": "2023-10-09T18:03:34.491783Z"
    },
    "collapsed": false,
    "jupyter": {
     "outputs_hidden": false
    },
    "slideshow": {
     "slide_type": "fragment"
    }
   },
   "outputs": [],
   "source": [
    "from sklearn.model_selection import GridSearchCV, cross_val_score\n",
    "\n",
    "tree_params = {'max_depth': range(1,11),\n",
    "               'max_features': range(4,19)}\n",
    "\n",
    "tree_grid = GridSearchCV(tree, tree_params,\n",
    "                         cv=5, n_jobs=-1,\n",
    "                        verbose=True)"
   ]
  },
  {
   "cell_type": "code",
   "execution_count": 40,
   "metadata": {
    "ExecuteTime": {
     "end_time": "2023-10-09T18:03:51.515709300Z",
     "start_time": "2023-10-09T18:03:34.512593600Z"
    },
    "collapsed": false,
    "jupyter": {
     "outputs_hidden": false
    },
    "slideshow": {
     "slide_type": "subslide"
    }
   },
   "outputs": [
    {
     "name": "stdout",
     "output_type": "stream",
     "text": [
      "Fitting 5 folds for each of 150 candidates, totalling 750 fits\n"
     ]
    },
    {
     "data": {
      "text/html": [
       "<style>#sk-container-id-6 {color: black;background-color: white;}#sk-container-id-6 pre{padding: 0;}#sk-container-id-6 div.sk-toggleable {background-color: white;}#sk-container-id-6 label.sk-toggleable__label {cursor: pointer;display: block;width: 100%;margin-bottom: 0;padding: 0.3em;box-sizing: border-box;text-align: center;}#sk-container-id-6 label.sk-toggleable__label-arrow:before {content: \"▸\";float: left;margin-right: 0.25em;color: #696969;}#sk-container-id-6 label.sk-toggleable__label-arrow:hover:before {color: black;}#sk-container-id-6 div.sk-estimator:hover label.sk-toggleable__label-arrow:before {color: black;}#sk-container-id-6 div.sk-toggleable__content {max-height: 0;max-width: 0;overflow: hidden;text-align: left;background-color: #f0f8ff;}#sk-container-id-6 div.sk-toggleable__content pre {margin: 0.2em;color: black;border-radius: 0.25em;background-color: #f0f8ff;}#sk-container-id-6 input.sk-toggleable__control:checked~div.sk-toggleable__content {max-height: 200px;max-width: 100%;overflow: auto;}#sk-container-id-6 input.sk-toggleable__control:checked~label.sk-toggleable__label-arrow:before {content: \"▾\";}#sk-container-id-6 div.sk-estimator input.sk-toggleable__control:checked~label.sk-toggleable__label {background-color: #d4ebff;}#sk-container-id-6 div.sk-label input.sk-toggleable__control:checked~label.sk-toggleable__label {background-color: #d4ebff;}#sk-container-id-6 input.sk-hidden--visually {border: 0;clip: rect(1px 1px 1px 1px);clip: rect(1px, 1px, 1px, 1px);height: 1px;margin: -1px;overflow: hidden;padding: 0;position: absolute;width: 1px;}#sk-container-id-6 div.sk-estimator {font-family: monospace;background-color: #f0f8ff;border: 1px dotted black;border-radius: 0.25em;box-sizing: border-box;margin-bottom: 0.5em;}#sk-container-id-6 div.sk-estimator:hover {background-color: #d4ebff;}#sk-container-id-6 div.sk-parallel-item::after {content: \"\";width: 100%;border-bottom: 1px solid gray;flex-grow: 1;}#sk-container-id-6 div.sk-label:hover label.sk-toggleable__label {background-color: #d4ebff;}#sk-container-id-6 div.sk-serial::before {content: \"\";position: absolute;border-left: 1px solid gray;box-sizing: border-box;top: 0;bottom: 0;left: 50%;z-index: 0;}#sk-container-id-6 div.sk-serial {display: flex;flex-direction: column;align-items: center;background-color: white;padding-right: 0.2em;padding-left: 0.2em;position: relative;}#sk-container-id-6 div.sk-item {position: relative;z-index: 1;}#sk-container-id-6 div.sk-parallel {display: flex;align-items: stretch;justify-content: center;background-color: white;position: relative;}#sk-container-id-6 div.sk-item::before, #sk-container-id-6 div.sk-parallel-item::before {content: \"\";position: absolute;border-left: 1px solid gray;box-sizing: border-box;top: 0;bottom: 0;left: 50%;z-index: -1;}#sk-container-id-6 div.sk-parallel-item {display: flex;flex-direction: column;z-index: 1;position: relative;background-color: white;}#sk-container-id-6 div.sk-parallel-item:first-child::after {align-self: flex-end;width: 50%;}#sk-container-id-6 div.sk-parallel-item:last-child::after {align-self: flex-start;width: 50%;}#sk-container-id-6 div.sk-parallel-item:only-child::after {width: 0;}#sk-container-id-6 div.sk-dashed-wrapped {border: 1px dashed gray;margin: 0 0.4em 0.5em 0.4em;box-sizing: border-box;padding-bottom: 0.4em;background-color: white;}#sk-container-id-6 div.sk-label label {font-family: monospace;font-weight: bold;display: inline-block;line-height: 1.2em;}#sk-container-id-6 div.sk-label-container {text-align: center;}#sk-container-id-6 div.sk-container {/* jupyter's `normalize.less` sets `[hidden] { display: none; }` but bootstrap.min.css set `[hidden] { display: none !important; }` so we also need the `!important` here to be able to override the default hidden behavior on the sphinx rendered scikit-learn.org. See: https://github.com/scikit-learn/scikit-learn/issues/21755 */display: inline-block !important;position: relative;}#sk-container-id-6 div.sk-text-repr-fallback {display: none;}</style><div id=\"sk-container-id-6\" class=\"sk-top-container\"><div class=\"sk-text-repr-fallback\"><pre>GridSearchCV(cv=5,\n",
       "             estimator=DecisionTreeClassifier(max_depth=5, random_state=17),\n",
       "             n_jobs=-1,\n",
       "             param_grid={&#x27;max_depth&#x27;: range(1, 11),\n",
       "                         &#x27;max_features&#x27;: range(4, 19)},\n",
       "             verbose=True)</pre><b>In a Jupyter environment, please rerun this cell to show the HTML representation or trust the notebook. <br />On GitHub, the HTML representation is unable to render, please try loading this page with nbviewer.org.</b></div><div class=\"sk-container\" hidden><div class=\"sk-item sk-dashed-wrapped\"><div class=\"sk-label-container\"><div class=\"sk-label sk-toggleable\"><input class=\"sk-toggleable__control sk-hidden--visually\" id=\"sk-estimator-id-6\" type=\"checkbox\" ><label for=\"sk-estimator-id-6\" class=\"sk-toggleable__label sk-toggleable__label-arrow\">GridSearchCV</label><div class=\"sk-toggleable__content\"><pre>GridSearchCV(cv=5,\n",
       "             estimator=DecisionTreeClassifier(max_depth=5, random_state=17),\n",
       "             n_jobs=-1,\n",
       "             param_grid={&#x27;max_depth&#x27;: range(1, 11),\n",
       "                         &#x27;max_features&#x27;: range(4, 19)},\n",
       "             verbose=True)</pre></div></div></div><div class=\"sk-parallel\"><div class=\"sk-parallel-item\"><div class=\"sk-item\"><div class=\"sk-label-container\"><div class=\"sk-label sk-toggleable\"><input class=\"sk-toggleable__control sk-hidden--visually\" id=\"sk-estimator-id-7\" type=\"checkbox\" ><label for=\"sk-estimator-id-7\" class=\"sk-toggleable__label sk-toggleable__label-arrow\">estimator: DecisionTreeClassifier</label><div class=\"sk-toggleable__content\"><pre>DecisionTreeClassifier(max_depth=5, random_state=17)</pre></div></div></div><div class=\"sk-serial\"><div class=\"sk-item\"><div class=\"sk-estimator sk-toggleable\"><input class=\"sk-toggleable__control sk-hidden--visually\" id=\"sk-estimator-id-8\" type=\"checkbox\" ><label for=\"sk-estimator-id-8\" class=\"sk-toggleable__label sk-toggleable__label-arrow\">DecisionTreeClassifier</label><div class=\"sk-toggleable__content\"><pre>DecisionTreeClassifier(max_depth=5, random_state=17)</pre></div></div></div></div></div></div></div></div></div></div>"
      ],
      "text/plain": [
       "GridSearchCV(cv=5,\n",
       "             estimator=DecisionTreeClassifier(max_depth=5, random_state=17),\n",
       "             n_jobs=-1,\n",
       "             param_grid={'max_depth': range(1, 11),\n",
       "                         'max_features': range(4, 19)},\n",
       "             verbose=True)"
      ]
     },
     "execution_count": 40,
     "metadata": {},
     "output_type": "execute_result"
    }
   ],
   "source": [
    "tree_grid.fit(X_train, y_train)"
   ]
  },
  {
   "cell_type": "markdown",
   "metadata": {
    "slideshow": {
     "slide_type": "subslide"
    }
   },
   "source": [
    "Найкраще поєднання параметрів і відповідна середня частка правильних відповідей на крос-валідації:"
   ]
  },
  {
   "cell_type": "code",
   "execution_count": 41,
   "metadata": {
    "ExecuteTime": {
     "end_time": "2023-10-09T18:03:51.517122800Z",
     "start_time": "2023-10-09T18:03:51.495259400Z"
    },
    "collapsed": false,
    "jupyter": {
     "outputs_hidden": false
    },
    "slideshow": {
     "slide_type": "fragment"
    }
   },
   "outputs": [
    {
     "data": {
      "text/plain": [
       "{'max_depth': 6, 'max_features': 17}"
      ]
     },
     "execution_count": 41,
     "metadata": {},
     "output_type": "execute_result"
    }
   ],
   "source": [
    "tree_grid.best_params_"
   ]
  },
  {
   "cell_type": "code",
   "execution_count": 42,
   "metadata": {
    "ExecuteTime": {
     "end_time": "2023-10-09T18:03:51.771386200Z",
     "start_time": "2023-10-09T18:03:51.511062500Z"
    },
    "collapsed": false,
    "jupyter": {
     "outputs_hidden": false
    },
    "slideshow": {
     "slide_type": "fragment"
    }
   },
   "outputs": [
    {
     "data": {
      "text/plain": [
       "0.94257014456259"
      ]
     },
     "execution_count": 42,
     "metadata": {},
     "output_type": "execute_result"
    }
   ],
   "source": [
    "tree_grid.best_score_"
   ]
  },
  {
   "cell_type": "code",
   "execution_count": 43,
   "metadata": {
    "ExecuteTime": {
     "end_time": "2023-10-09T18:03:51.772239Z",
     "start_time": "2023-10-09T18:03:51.531572600Z"
    },
    "collapsed": false,
    "jupyter": {
     "outputs_hidden": false
    },
    "slideshow": {
     "slide_type": "fragment"
    }
   },
   "outputs": [
    {
     "data": {
      "text/plain": [
       "0.946"
      ]
     },
     "execution_count": 43,
     "metadata": {},
     "output_type": "execute_result"
    }
   ],
   "source": [
    "accuracy_score(y_valid, tree_grid.predict(X_valid))"
   ]
  },
  {
   "cell_type": "markdown",
   "metadata": {
    "slideshow": {
     "slide_type": "subslide"
    }
   },
   "source": [
    "Тепер спробуємо налаштувати кількість сусідів в алгоритмі $knn$."
   ]
  },
  {
   "cell_type": "code",
   "execution_count": 44,
   "metadata": {
    "ExecuteTime": {
     "end_time": "2023-10-09T18:03:51.773751400Z",
     "start_time": "2023-10-09T18:03:51.549860700Z"
    },
    "collapsed": false,
    "jupyter": {
     "outputs_hidden": false
    },
    "slideshow": {
     "slide_type": "fragment"
    }
   },
   "outputs": [],
   "source": [
    "from sklearn.pipeline import Pipeline\n",
    "from sklearn.preprocessing import StandardScaler\n",
    "\n",
    "knn_pipe = Pipeline([('scaler', StandardScaler()), \n",
    "                     ('knn', KNeighborsClassifier(n_jobs=-1))])\n",
    "\n",
    "knn_params = {'knn__n_neighbors': range(1, 10)}\n",
    "knn_grid = GridSearchCV(knn_pipe, knn_params,\n",
    "                         cv=5, n_jobs=-1,\n",
    "                        verbose=True)"
   ]
  },
  {
   "cell_type": "code",
   "execution_count": 45,
   "metadata": {
    "ExecuteTime": {
     "end_time": "2023-10-09T18:03:54.036386100Z",
     "start_time": "2023-10-09T18:03:51.577882500Z"
    },
    "collapsed": false,
    "jupyter": {
     "outputs_hidden": false
    },
    "slideshow": {
     "slide_type": "subslide"
    }
   },
   "outputs": [
    {
     "name": "stdout",
     "output_type": "stream",
     "text": [
      "Fitting 5 folds for each of 9 candidates, totalling 45 fits\n"
     ]
    },
    {
     "data": {
      "text/html": [
       "<style>#sk-container-id-7 {color: black;background-color: white;}#sk-container-id-7 pre{padding: 0;}#sk-container-id-7 div.sk-toggleable {background-color: white;}#sk-container-id-7 label.sk-toggleable__label {cursor: pointer;display: block;width: 100%;margin-bottom: 0;padding: 0.3em;box-sizing: border-box;text-align: center;}#sk-container-id-7 label.sk-toggleable__label-arrow:before {content: \"▸\";float: left;margin-right: 0.25em;color: #696969;}#sk-container-id-7 label.sk-toggleable__label-arrow:hover:before {color: black;}#sk-container-id-7 div.sk-estimator:hover label.sk-toggleable__label-arrow:before {color: black;}#sk-container-id-7 div.sk-toggleable__content {max-height: 0;max-width: 0;overflow: hidden;text-align: left;background-color: #f0f8ff;}#sk-container-id-7 div.sk-toggleable__content pre {margin: 0.2em;color: black;border-radius: 0.25em;background-color: #f0f8ff;}#sk-container-id-7 input.sk-toggleable__control:checked~div.sk-toggleable__content {max-height: 200px;max-width: 100%;overflow: auto;}#sk-container-id-7 input.sk-toggleable__control:checked~label.sk-toggleable__label-arrow:before {content: \"▾\";}#sk-container-id-7 div.sk-estimator input.sk-toggleable__control:checked~label.sk-toggleable__label {background-color: #d4ebff;}#sk-container-id-7 div.sk-label input.sk-toggleable__control:checked~label.sk-toggleable__label {background-color: #d4ebff;}#sk-container-id-7 input.sk-hidden--visually {border: 0;clip: rect(1px 1px 1px 1px);clip: rect(1px, 1px, 1px, 1px);height: 1px;margin: -1px;overflow: hidden;padding: 0;position: absolute;width: 1px;}#sk-container-id-7 div.sk-estimator {font-family: monospace;background-color: #f0f8ff;border: 1px dotted black;border-radius: 0.25em;box-sizing: border-box;margin-bottom: 0.5em;}#sk-container-id-7 div.sk-estimator:hover {background-color: #d4ebff;}#sk-container-id-7 div.sk-parallel-item::after {content: \"\";width: 100%;border-bottom: 1px solid gray;flex-grow: 1;}#sk-container-id-7 div.sk-label:hover label.sk-toggleable__label {background-color: #d4ebff;}#sk-container-id-7 div.sk-serial::before {content: \"\";position: absolute;border-left: 1px solid gray;box-sizing: border-box;top: 0;bottom: 0;left: 50%;z-index: 0;}#sk-container-id-7 div.sk-serial {display: flex;flex-direction: column;align-items: center;background-color: white;padding-right: 0.2em;padding-left: 0.2em;position: relative;}#sk-container-id-7 div.sk-item {position: relative;z-index: 1;}#sk-container-id-7 div.sk-parallel {display: flex;align-items: stretch;justify-content: center;background-color: white;position: relative;}#sk-container-id-7 div.sk-item::before, #sk-container-id-7 div.sk-parallel-item::before {content: \"\";position: absolute;border-left: 1px solid gray;box-sizing: border-box;top: 0;bottom: 0;left: 50%;z-index: -1;}#sk-container-id-7 div.sk-parallel-item {display: flex;flex-direction: column;z-index: 1;position: relative;background-color: white;}#sk-container-id-7 div.sk-parallel-item:first-child::after {align-self: flex-end;width: 50%;}#sk-container-id-7 div.sk-parallel-item:last-child::after {align-self: flex-start;width: 50%;}#sk-container-id-7 div.sk-parallel-item:only-child::after {width: 0;}#sk-container-id-7 div.sk-dashed-wrapped {border: 1px dashed gray;margin: 0 0.4em 0.5em 0.4em;box-sizing: border-box;padding-bottom: 0.4em;background-color: white;}#sk-container-id-7 div.sk-label label {font-family: monospace;font-weight: bold;display: inline-block;line-height: 1.2em;}#sk-container-id-7 div.sk-label-container {text-align: center;}#sk-container-id-7 div.sk-container {/* jupyter's `normalize.less` sets `[hidden] { display: none; }` but bootstrap.min.css set `[hidden] { display: none !important; }` so we also need the `!important` here to be able to override the default hidden behavior on the sphinx rendered scikit-learn.org. See: https://github.com/scikit-learn/scikit-learn/issues/21755 */display: inline-block !important;position: relative;}#sk-container-id-7 div.sk-text-repr-fallback {display: none;}</style><div id=\"sk-container-id-7\" class=\"sk-top-container\"><div class=\"sk-text-repr-fallback\"><pre>GridSearchCV(cv=5,\n",
       "             estimator=Pipeline(steps=[(&#x27;scaler&#x27;, StandardScaler()),\n",
       "                                       (&#x27;knn&#x27;,\n",
       "                                        KNeighborsClassifier(n_jobs=-1))]),\n",
       "             n_jobs=-1, param_grid={&#x27;knn__n_neighbors&#x27;: range(1, 10)},\n",
       "             verbose=True)</pre><b>In a Jupyter environment, please rerun this cell to show the HTML representation or trust the notebook. <br />On GitHub, the HTML representation is unable to render, please try loading this page with nbviewer.org.</b></div><div class=\"sk-container\" hidden><div class=\"sk-item sk-dashed-wrapped\"><div class=\"sk-label-container\"><div class=\"sk-label sk-toggleable\"><input class=\"sk-toggleable__control sk-hidden--visually\" id=\"sk-estimator-id-9\" type=\"checkbox\" ><label for=\"sk-estimator-id-9\" class=\"sk-toggleable__label sk-toggleable__label-arrow\">GridSearchCV</label><div class=\"sk-toggleable__content\"><pre>GridSearchCV(cv=5,\n",
       "             estimator=Pipeline(steps=[(&#x27;scaler&#x27;, StandardScaler()),\n",
       "                                       (&#x27;knn&#x27;,\n",
       "                                        KNeighborsClassifier(n_jobs=-1))]),\n",
       "             n_jobs=-1, param_grid={&#x27;knn__n_neighbors&#x27;: range(1, 10)},\n",
       "             verbose=True)</pre></div></div></div><div class=\"sk-parallel\"><div class=\"sk-parallel-item\"><div class=\"sk-item\"><div class=\"sk-label-container\"><div class=\"sk-label sk-toggleable\"><input class=\"sk-toggleable__control sk-hidden--visually\" id=\"sk-estimator-id-10\" type=\"checkbox\" ><label for=\"sk-estimator-id-10\" class=\"sk-toggleable__label sk-toggleable__label-arrow\">estimator: Pipeline</label><div class=\"sk-toggleable__content\"><pre>Pipeline(steps=[(&#x27;scaler&#x27;, StandardScaler()),\n",
       "                (&#x27;knn&#x27;, KNeighborsClassifier(n_jobs=-1))])</pre></div></div></div><div class=\"sk-serial\"><div class=\"sk-item\"><div class=\"sk-serial\"><div class=\"sk-item\"><div class=\"sk-estimator sk-toggleable\"><input class=\"sk-toggleable__control sk-hidden--visually\" id=\"sk-estimator-id-11\" type=\"checkbox\" ><label for=\"sk-estimator-id-11\" class=\"sk-toggleable__label sk-toggleable__label-arrow\">StandardScaler</label><div class=\"sk-toggleable__content\"><pre>StandardScaler()</pre></div></div></div><div class=\"sk-item\"><div class=\"sk-estimator sk-toggleable\"><input class=\"sk-toggleable__control sk-hidden--visually\" id=\"sk-estimator-id-12\" type=\"checkbox\" ><label for=\"sk-estimator-id-12\" class=\"sk-toggleable__label sk-toggleable__label-arrow\">KNeighborsClassifier</label><div class=\"sk-toggleable__content\"><pre>KNeighborsClassifier(n_jobs=-1)</pre></div></div></div></div></div></div></div></div></div></div></div></div>"
      ],
      "text/plain": [
       "GridSearchCV(cv=5,\n",
       "             estimator=Pipeline(steps=[('scaler', StandardScaler()),\n",
       "                                       ('knn',\n",
       "                                        KNeighborsClassifier(n_jobs=-1))]),\n",
       "             n_jobs=-1, param_grid={'knn__n_neighbors': range(1, 10)},\n",
       "             verbose=True)"
      ]
     },
     "execution_count": 45,
     "metadata": {},
     "output_type": "execute_result"
    }
   ],
   "source": [
    "knn_grid.fit(X_train, y_train)"
   ]
  },
  {
   "cell_type": "code",
   "execution_count": 46,
   "metadata": {
    "ExecuteTime": {
     "end_time": "2023-10-09T18:03:54.204176200Z",
     "start_time": "2023-10-09T18:03:54.013613500Z"
    },
    "collapsed": false,
    "jupyter": {
     "outputs_hidden": false
    },
    "slideshow": {
     "slide_type": "fragment"
    }
   },
   "outputs": [
    {
     "data": {
      "text/plain": [
       "({'knn__n_neighbors': 7}, 0.8859867109023905)"
      ]
     },
     "execution_count": 46,
     "metadata": {},
     "output_type": "execute_result"
    }
   ],
   "source": [
    "knn_grid.best_params_, knn_grid.best_score_"
   ]
  },
  {
   "cell_type": "code",
   "execution_count": 47,
   "metadata": {
    "ExecuteTime": {
     "end_time": "2023-10-09T18:03:54.479126600Z",
     "start_time": "2023-10-09T18:03:54.029761300Z"
    },
    "collapsed": false,
    "jupyter": {
     "outputs_hidden": false
    },
    "slideshow": {
     "slide_type": "fragment"
    }
   },
   "outputs": [
    {
     "data": {
      "text/plain": [
       "0.89"
      ]
     },
     "execution_count": 47,
     "metadata": {},
     "output_type": "execute_result"
    }
   ],
   "source": [
    "accuracy_score(y_valid, knn_grid.predict(X_valid))"
   ]
  },
  {
   "cell_type": "markdown",
   "metadata": {
    "slideshow": {
     "slide_type": "subslide"
    }
   },
   "source": [
    "Бачимо, що і в цьому разі дерево рішень демонструє кращий результат, ніж метод найближчих сусідів (0.946 > 0.89). Більш того, в даній задачі дерево показує себе дуже добре, і навіть випадковий ліс (який наразі представимо просто, як купу дерев, які разом працюють чомусь набагато краще для більшості задач, ніж одне дерево) в цьому прикладі показує частку правильних відповідей не набагато вище (як на крос-валідації, так і за валідаційною вибіркою), а навчається набагато довше."
   ]
  },
  {
   "cell_type": "code",
   "execution_count": 48,
   "metadata": {
    "ExecuteTime": {
     "end_time": "2023-10-09T18:03:57.044200400Z",
     "start_time": "2023-10-09T18:03:54.398385700Z"
    },
    "collapsed": false,
    "jupyter": {
     "outputs_hidden": false
    },
    "slideshow": {
     "slide_type": "fragment"
    }
   },
   "outputs": [
    {
     "name": "stdout",
     "output_type": "stream",
     "text": [
      "Середнє: 0.9494233119813256\n"
     ]
    }
   ],
   "source": [
    "from sklearn.ensemble import RandomForestClassifier\n",
    "\n",
    "forest = RandomForestClassifier(n_estimators=100, n_jobs=-1, random_state=17)\n",
    "avg_cvs = np.mean(cross_val_score(forest, X_train, y_train, cv=5))\n",
    "print(f'Середнє: {avg_cvs}')"
   ]
  },
  {
   "cell_type": "code",
   "execution_count": 49,
   "metadata": {
    "ExecuteTime": {
     "end_time": "2023-10-09T18:03:57.151181600Z",
     "start_time": "2023-10-09T18:03:57.049860600Z"
    },
    "collapsed": false,
    "jupyter": {
     "outputs_hidden": false
    },
    "slideshow": {
     "slide_type": "fragment"
    }
   },
   "outputs": [],
   "source": [
    "forest_params = {'max_depth': range(1,11),\n",
    "               'max_features': range(4,19)}"
   ]
  },
  {
   "cell_type": "code",
   "execution_count": 50,
   "metadata": {
    "ExecuteTime": {
     "end_time": "2023-10-09T18:03:57.311040100Z",
     "start_time": "2023-10-09T18:03:57.064712100Z"
    },
    "collapsed": false,
    "jupyter": {
     "outputs_hidden": false
    },
    "slideshow": {
     "slide_type": "fragment"
    }
   },
   "outputs": [],
   "source": [
    "forest_grid = GridSearchCV(forest, forest_params,\n",
    "                         cv=5, n_jobs=-1,\n",
    "                         verbose=True)"
   ]
  },
  {
   "cell_type": "code",
   "execution_count": 51,
   "metadata": {
    "ExecuteTime": {
     "end_time": "2023-10-09T18:07:31.633125400Z",
     "start_time": "2023-10-09T18:03:57.097731Z"
    },
    "collapsed": false,
    "jupyter": {
     "outputs_hidden": false
    },
    "slideshow": {
     "slide_type": "subslide"
    }
   },
   "outputs": [
    {
     "name": "stdout",
     "output_type": "stream",
     "text": [
      "Fitting 5 folds for each of 150 candidates, totalling 750 fits\n",
      "CPU times: total: 1.98 s\n",
      "Wall time: 36.3 s\n"
     ]
    },
    {
     "data": {
      "text/html": [
       "<style>#sk-container-id-8 {color: black;background-color: white;}#sk-container-id-8 pre{padding: 0;}#sk-container-id-8 div.sk-toggleable {background-color: white;}#sk-container-id-8 label.sk-toggleable__label {cursor: pointer;display: block;width: 100%;margin-bottom: 0;padding: 0.3em;box-sizing: border-box;text-align: center;}#sk-container-id-8 label.sk-toggleable__label-arrow:before {content: \"▸\";float: left;margin-right: 0.25em;color: #696969;}#sk-container-id-8 label.sk-toggleable__label-arrow:hover:before {color: black;}#sk-container-id-8 div.sk-estimator:hover label.sk-toggleable__label-arrow:before {color: black;}#sk-container-id-8 div.sk-toggleable__content {max-height: 0;max-width: 0;overflow: hidden;text-align: left;background-color: #f0f8ff;}#sk-container-id-8 div.sk-toggleable__content pre {margin: 0.2em;color: black;border-radius: 0.25em;background-color: #f0f8ff;}#sk-container-id-8 input.sk-toggleable__control:checked~div.sk-toggleable__content {max-height: 200px;max-width: 100%;overflow: auto;}#sk-container-id-8 input.sk-toggleable__control:checked~label.sk-toggleable__label-arrow:before {content: \"▾\";}#sk-container-id-8 div.sk-estimator input.sk-toggleable__control:checked~label.sk-toggleable__label {background-color: #d4ebff;}#sk-container-id-8 div.sk-label input.sk-toggleable__control:checked~label.sk-toggleable__label {background-color: #d4ebff;}#sk-container-id-8 input.sk-hidden--visually {border: 0;clip: rect(1px 1px 1px 1px);clip: rect(1px, 1px, 1px, 1px);height: 1px;margin: -1px;overflow: hidden;padding: 0;position: absolute;width: 1px;}#sk-container-id-8 div.sk-estimator {font-family: monospace;background-color: #f0f8ff;border: 1px dotted black;border-radius: 0.25em;box-sizing: border-box;margin-bottom: 0.5em;}#sk-container-id-8 div.sk-estimator:hover {background-color: #d4ebff;}#sk-container-id-8 div.sk-parallel-item::after {content: \"\";width: 100%;border-bottom: 1px solid gray;flex-grow: 1;}#sk-container-id-8 div.sk-label:hover label.sk-toggleable__label {background-color: #d4ebff;}#sk-container-id-8 div.sk-serial::before {content: \"\";position: absolute;border-left: 1px solid gray;box-sizing: border-box;top: 0;bottom: 0;left: 50%;z-index: 0;}#sk-container-id-8 div.sk-serial {display: flex;flex-direction: column;align-items: center;background-color: white;padding-right: 0.2em;padding-left: 0.2em;position: relative;}#sk-container-id-8 div.sk-item {position: relative;z-index: 1;}#sk-container-id-8 div.sk-parallel {display: flex;align-items: stretch;justify-content: center;background-color: white;position: relative;}#sk-container-id-8 div.sk-item::before, #sk-container-id-8 div.sk-parallel-item::before {content: \"\";position: absolute;border-left: 1px solid gray;box-sizing: border-box;top: 0;bottom: 0;left: 50%;z-index: -1;}#sk-container-id-8 div.sk-parallel-item {display: flex;flex-direction: column;z-index: 1;position: relative;background-color: white;}#sk-container-id-8 div.sk-parallel-item:first-child::after {align-self: flex-end;width: 50%;}#sk-container-id-8 div.sk-parallel-item:last-child::after {align-self: flex-start;width: 50%;}#sk-container-id-8 div.sk-parallel-item:only-child::after {width: 0;}#sk-container-id-8 div.sk-dashed-wrapped {border: 1px dashed gray;margin: 0 0.4em 0.5em 0.4em;box-sizing: border-box;padding-bottom: 0.4em;background-color: white;}#sk-container-id-8 div.sk-label label {font-family: monospace;font-weight: bold;display: inline-block;line-height: 1.2em;}#sk-container-id-8 div.sk-label-container {text-align: center;}#sk-container-id-8 div.sk-container {/* jupyter's `normalize.less` sets `[hidden] { display: none; }` but bootstrap.min.css set `[hidden] { display: none !important; }` so we also need the `!important` here to be able to override the default hidden behavior on the sphinx rendered scikit-learn.org. See: https://github.com/scikit-learn/scikit-learn/issues/21755 */display: inline-block !important;position: relative;}#sk-container-id-8 div.sk-text-repr-fallback {display: none;}</style><div id=\"sk-container-id-8\" class=\"sk-top-container\"><div class=\"sk-text-repr-fallback\"><pre>GridSearchCV(cv=5, estimator=RandomForestClassifier(n_jobs=-1, random_state=17),\n",
       "             n_jobs=-1,\n",
       "             param_grid={&#x27;max_depth&#x27;: range(1, 11),\n",
       "                         &#x27;max_features&#x27;: range(4, 19)},\n",
       "             verbose=True)</pre><b>In a Jupyter environment, please rerun this cell to show the HTML representation or trust the notebook. <br />On GitHub, the HTML representation is unable to render, please try loading this page with nbviewer.org.</b></div><div class=\"sk-container\" hidden><div class=\"sk-item sk-dashed-wrapped\"><div class=\"sk-label-container\"><div class=\"sk-label sk-toggleable\"><input class=\"sk-toggleable__control sk-hidden--visually\" id=\"sk-estimator-id-13\" type=\"checkbox\" ><label for=\"sk-estimator-id-13\" class=\"sk-toggleable__label sk-toggleable__label-arrow\">GridSearchCV</label><div class=\"sk-toggleable__content\"><pre>GridSearchCV(cv=5, estimator=RandomForestClassifier(n_jobs=-1, random_state=17),\n",
       "             n_jobs=-1,\n",
       "             param_grid={&#x27;max_depth&#x27;: range(1, 11),\n",
       "                         &#x27;max_features&#x27;: range(4, 19)},\n",
       "             verbose=True)</pre></div></div></div><div class=\"sk-parallel\"><div class=\"sk-parallel-item\"><div class=\"sk-item\"><div class=\"sk-label-container\"><div class=\"sk-label sk-toggleable\"><input class=\"sk-toggleable__control sk-hidden--visually\" id=\"sk-estimator-id-14\" type=\"checkbox\" ><label for=\"sk-estimator-id-14\" class=\"sk-toggleable__label sk-toggleable__label-arrow\">estimator: RandomForestClassifier</label><div class=\"sk-toggleable__content\"><pre>RandomForestClassifier(n_jobs=-1, random_state=17)</pre></div></div></div><div class=\"sk-serial\"><div class=\"sk-item\"><div class=\"sk-estimator sk-toggleable\"><input class=\"sk-toggleable__control sk-hidden--visually\" id=\"sk-estimator-id-15\" type=\"checkbox\" ><label for=\"sk-estimator-id-15\" class=\"sk-toggleable__label sk-toggleable__label-arrow\">RandomForestClassifier</label><div class=\"sk-toggleable__content\"><pre>RandomForestClassifier(n_jobs=-1, random_state=17)</pre></div></div></div></div></div></div></div></div></div></div>"
      ],
      "text/plain": [
       "GridSearchCV(cv=5, estimator=RandomForestClassifier(n_jobs=-1, random_state=17),\n",
       "             n_jobs=-1,\n",
       "             param_grid={'max_depth': range(1, 11),\n",
       "                         'max_features': range(4, 19)},\n",
       "             verbose=True)"
      ]
     },
     "execution_count": 51,
     "metadata": {},
     "output_type": "execute_result"
    }
   ],
   "source": [
    "%%time\n",
    "forest_grid.fit(X_train, y_train)"
   ]
  },
  {
   "cell_type": "code",
   "execution_count": 52,
   "metadata": {
    "ExecuteTime": {
     "end_time": "2023-10-09T18:07:31.716139Z",
     "start_time": "2023-10-09T18:07:31.637467600Z"
    },
    "collapsed": false,
    "jupyter": {
     "outputs_hidden": false
    },
    "slideshow": {
     "slide_type": "fragment"
    }
   },
   "outputs": [
    {
     "data": {
      "text/plain": [
       "({'max_depth': 9, 'max_features': 6}, 0.9511372931045574)"
      ]
     },
     "execution_count": 52,
     "metadata": {},
     "output_type": "execute_result"
    }
   ],
   "source": [
    "forest_grid.best_params_, forest_grid.best_score_"
   ]
  },
  {
   "cell_type": "code",
   "execution_count": 53,
   "metadata": {
    "ExecuteTime": {
     "end_time": "2023-10-09T18:07:31.925430800Z",
     "start_time": "2023-10-09T18:07:31.653602300Z"
    },
    "collapsed": false,
    "jupyter": {
     "outputs_hidden": false
    },
    "slideshow": {
     "slide_type": "fragment"
    }
   },
   "outputs": [
    {
     "data": {
      "text/plain": [
       "0.953"
      ]
     },
     "execution_count": 53,
     "metadata": {},
     "output_type": "execute_result"
    }
   ],
   "source": [
    "accuracy_score(y_valid, forest_grid.predict(X_valid))"
   ]
  },
  {
   "cell_type": "markdown",
   "metadata": {
    "slideshow": {
     "slide_type": "subslide"
    }
   },
   "source": [
    "Проілюструємо отримане дерево. Через те, що воно не зовсім іграшкове (максимальна глибина – 6), рисунок виходить не маленьким, але по дереву можна \"прогулятися\", якщо окремо відкрити рисунок."
   ]
  },
  {
   "cell_type": "code",
   "execution_count": 54,
   "metadata": {
    "ExecuteTime": {
     "end_time": "2023-10-09T18:07:33.452942Z",
     "start_time": "2023-10-09T18:07:31.749471200Z"
    },
    "collapsed": false,
    "jupyter": {
     "outputs_hidden": false
    },
    "slideshow": {
     "slide_type": "fragment"
    }
   },
   "outputs": [],
   "source": [
    "dot_data = StringIO()\n",
    "export_graphviz(tree_grid.best_estimator_, feature_names=df.columns,\n",
    "                out_file=dot_data, filled=True)\n",
    "graph = pydotplus.graph_from_dot_data(dot_data.getvalue())\n",
    "# Image(value=graph.create_png())"
   ]
  },
  {
   "cell_type": "code",
   "execution_count": 55,
   "metadata": {
    "slideshow": {
     "slide_type": "subslide"
    }
   },
   "outputs": [],
   "source": [
    "tree_grid_out = pydotplus.graph_from_dot_data(dot_data.getvalue())  \n",
    "\n",
    "# Збережемо рисунок побудованого дерева\n",
    "# tree_grid_out.write_png(\"3_decision_tree_4.png\")"
   ]
  },
  {
   "cell_type": "markdown",
   "metadata": {
    "slideshow": {
     "slide_type": "fragment"
    }
   },
   "source": [
    "<img src=\"https://raw.githubusercontent.com/radiukpavlo/intelligent-data-analysis/main/03_img/3_decision_tree_4.png\">"
   ]
  },
  {
   "cell_type": "markdown",
   "metadata": {
    "slideshow": {
     "slide_type": "skip"
    }
   },
   "source": [
    "<a class=\"anchor\" id=\"3.4\"></a>"
   ]
  },
  {
   "cell_type": "markdown",
   "metadata": {
    "slideshow": {
     "slide_type": "slide"
    }
   },
   "source": [
    "## <span style=\"color:blue; font-size:1.2em;\">3.4. Дерево рішень і метод найближчих сусідів для задачі розпізнавання рукописних цифр MNIST</span>\n",
    "\n",
    "[Повернутися до змісту](#3)"
   ]
  },
  {
   "cell_type": "markdown",
   "metadata": {
    "slideshow": {
     "slide_type": "subslide"
    }
   },
   "source": [
    "Тепер застосуємо два методи до реальної задачі. Використаємо \"вбудовані\" в `sklearn` дані щодо рукописних цифр. Ця задача буде прикладом, коли метод найближчих сусідів працює на диво добре."
   ]
  },
  {
   "cell_type": "code",
   "execution_count": 56,
   "metadata": {
    "ExecuteTime": {
     "end_time": "2023-10-09T18:07:33.934838400Z",
     "start_time": "2023-10-09T18:07:33.441280200Z"
    },
    "collapsed": false,
    "jupyter": {
     "outputs_hidden": false
    },
    "slideshow": {
     "slide_type": "fragment"
    }
   },
   "outputs": [],
   "source": [
    "from sklearn.datasets import load_digits"
   ]
  },
  {
   "cell_type": "markdown",
   "metadata": {
    "slideshow": {
     "slide_type": "fragment"
    }
   },
   "source": [
    "Завантажуємо дані:"
   ]
  },
  {
   "cell_type": "code",
   "execution_count": 57,
   "metadata": {
    "ExecuteTime": {
     "end_time": "2023-10-09T18:07:34.125316700Z",
     "start_time": "2023-10-09T18:07:33.911787900Z"
    },
    "collapsed": false,
    "jupyter": {
     "outputs_hidden": false
    },
    "slideshow": {
     "slide_type": "fragment"
    }
   },
   "outputs": [],
   "source": [
    "data = load_digits()\n",
    "X, y = data.data, data.target"
   ]
  },
  {
   "cell_type": "markdown",
   "metadata": {
    "slideshow": {
     "slide_type": "subslide"
    }
   },
   "source": [
    "Картинки тут подаються матрицею 8 x 8 (інтенсивності білого кольору для кожного пікселя). Далі ця матриця \"розгортається\" у вектор ознак довжиною 64; виходить опис об'єкта вектором ознак."
   ]
  },
  {
   "cell_type": "code",
   "execution_count": 58,
   "metadata": {
    "ExecuteTime": {
     "end_time": "2023-10-09T18:07:34.127675500Z",
     "start_time": "2023-10-09T18:07:34.101195100Z"
    },
    "collapsed": false,
    "jupyter": {
     "outputs_hidden": false
    },
    "slideshow": {
     "slide_type": "fragment"
    }
   },
   "outputs": [
    {
     "data": {
      "text/plain": [
       "array([[ 0.,  0.,  5., 13.,  9.,  1.,  0.,  0.],\n",
       "       [ 0.,  0., 13., 15., 10., 15.,  5.,  0.],\n",
       "       [ 0.,  3., 15.,  2.,  0., 11.,  8.,  0.],\n",
       "       [ 0.,  4., 12.,  0.,  0.,  8.,  8.,  0.],\n",
       "       [ 0.,  5.,  8.,  0.,  0.,  9.,  8.,  0.],\n",
       "       [ 0.,  4., 11.,  0.,  1., 12.,  7.,  0.],\n",
       "       [ 0.,  2., 14.,  5., 10., 12.,  0.,  0.],\n",
       "       [ 0.,  0.,  6., 13., 10.,  0.,  0.,  0.]])"
      ]
     },
     "execution_count": 58,
     "metadata": {},
     "output_type": "execute_result"
    }
   ],
   "source": [
    "X[0,:].reshape([8,8])"
   ]
  },
  {
   "cell_type": "markdown",
   "metadata": {
    "slideshow": {
     "slide_type": "subslide"
    }
   },
   "source": [
    "Подамо кілька рукописних цифр для прикладу."
   ]
  },
  {
   "cell_type": "code",
   "execution_count": 59,
   "metadata": {
    "ExecuteTime": {
     "end_time": "2023-10-09T18:07:36.968371900Z",
     "start_time": "2023-10-09T18:07:34.129117500Z"
    },
    "collapsed": false,
    "jupyter": {
     "outputs_hidden": false
    },
    "slideshow": {
     "slide_type": "fragment"
    }
   },
   "outputs": [
    {
     "data": {
      "image/png": "[encoded data removed]",
      "text/plain": [
       "<Figure size 1600x600 with 4 Axes>"
      ]
     },
     "metadata": {},
     "output_type": "display_data"
    }
   ],
   "source": [
    "f, axes = plt.subplots(1, 4, sharey=True, figsize=(16,6))\n",
    "for i in range(4):\n",
    "    axes[i].imshow(X[i,:].reshape([8,8]), cmap='Greys')"
   ]
  },
  {
   "cell_type": "markdown",
   "metadata": {
    "slideshow": {
     "slide_type": "subslide"
    }
   },
   "source": [
    "Подивимося на співвідношення класів у вибірці, бачимо, що усіх цифр приблизно порівну: нулів, одиниць, ..., дев'яток."
   ]
  },
  {
   "cell_type": "code",
   "execution_count": 60,
   "metadata": {
    "ExecuteTime": {
     "end_time": "2023-10-09T18:07:37.364401700Z",
     "start_time": "2023-10-09T18:07:36.974625Z"
    },
    "collapsed": false,
    "jupyter": {
     "outputs_hidden": false
    },
    "slideshow": {
     "slide_type": "fragment"
    }
   },
   "outputs": [
    {
     "data": {
      "text/plain": [
       "array([178, 182, 177, 183, 181, 182, 181, 179, 174, 180], dtype=int64)"
      ]
     },
     "execution_count": 60,
     "metadata": {},
     "output_type": "execute_result"
    }
   ],
   "source": [
    "np.bincount(y)"
   ]
  },
  {
   "cell_type": "markdown",
   "metadata": {
    "slideshow": {
     "slide_type": "fragment"
    }
   },
   "source": [
    "Виділимо 70% вибірки (X_train, y_train) під навчання і 30% – під валідаційну вибірку (X_valid, y_valid), аналогічно до попереднього прикладу."
   ]
  },
  {
   "cell_type": "code",
   "execution_count": 61,
   "metadata": {
    "ExecuteTime": {
     "end_time": "2023-10-09T18:07:37.377295900Z",
     "start_time": "2023-10-09T18:07:36.998356500Z"
    },
    "collapsed": false,
    "jupyter": {
     "outputs_hidden": false
    },
    "slideshow": {
     "slide_type": "fragment"
    }
   },
   "outputs": [],
   "source": [
    "X_train, X_valid, y_train, y_valid = train_test_split(X, y, test_size=0.3,\n",
    "                                                          random_state=17)"
   ]
  },
  {
   "cell_type": "markdown",
   "metadata": {
    "slideshow": {
     "slide_type": "subslide"
    }
   },
   "source": [
    "Навчимо дерево рішень та $knn$, параметри встановлюємо навмання."
   ]
  },
  {
   "cell_type": "code",
   "execution_count": 62,
   "metadata": {
    "ExecuteTime": {
     "end_time": "2023-10-09T18:07:37.377295900Z",
     "start_time": "2023-10-09T18:07:37.036941100Z"
    },
    "collapsed": false,
    "jupyter": {
     "outputs_hidden": false
    },
    "slideshow": {
     "slide_type": "fragment"
    }
   },
   "outputs": [],
   "source": [
    "tree = DecisionTreeClassifier(max_depth=5, random_state=17)\n",
    "knn = KNeighborsClassifier(n_neighbors=10)"
   ]
  },
  {
   "cell_type": "code",
   "execution_count": 63,
   "metadata": {
    "ExecuteTime": {
     "end_time": "2023-10-09T18:07:37.380203900Z",
     "start_time": "2023-10-09T18:07:37.050304700Z"
    },
    "collapsed": false,
    "jupyter": {
     "outputs_hidden": false
    },
    "slideshow": {
     "slide_type": "subslide"
    }
   },
   "outputs": [
    {
     "name": "stdout",
     "output_type": "stream",
     "text": [
      "CPU times: total: 0 ns\n",
      "Wall time: 7 ms\n"
     ]
    },
    {
     "data": {
      "text/html": [
       "<style>#sk-container-id-9 {color: black;background-color: white;}#sk-container-id-9 pre{padding: 0;}#sk-container-id-9 div.sk-toggleable {background-color: white;}#sk-container-id-9 label.sk-toggleable__label {cursor: pointer;display: block;width: 100%;margin-bottom: 0;padding: 0.3em;box-sizing: border-box;text-align: center;}#sk-container-id-9 label.sk-toggleable__label-arrow:before {content: \"▸\";float: left;margin-right: 0.25em;color: #696969;}#sk-container-id-9 label.sk-toggleable__label-arrow:hover:before {color: black;}#sk-container-id-9 div.sk-estimator:hover label.sk-toggleable__label-arrow:before {color: black;}#sk-container-id-9 div.sk-toggleable__content {max-height: 0;max-width: 0;overflow: hidden;text-align: left;background-color: #f0f8ff;}#sk-container-id-9 div.sk-toggleable__content pre {margin: 0.2em;color: black;border-radius: 0.25em;background-color: #f0f8ff;}#sk-container-id-9 input.sk-toggleable__control:checked~div.sk-toggleable__content {max-height: 200px;max-width: 100%;overflow: auto;}#sk-container-id-9 input.sk-toggleable__control:checked~label.sk-toggleable__label-arrow:before {content: \"▾\";}#sk-container-id-9 div.sk-estimator input.sk-toggleable__control:checked~label.sk-toggleable__label {background-color: #d4ebff;}#sk-container-id-9 div.sk-label input.sk-toggleable__control:checked~label.sk-toggleable__label {background-color: #d4ebff;}#sk-container-id-9 input.sk-hidden--visually {border: 0;clip: rect(1px 1px 1px 1px);clip: rect(1px, 1px, 1px, 1px);height: 1px;margin: -1px;overflow: hidden;padding: 0;position: absolute;width: 1px;}#sk-container-id-9 div.sk-estimator {font-family: monospace;background-color: #f0f8ff;border: 1px dotted black;border-radius: 0.25em;box-sizing: border-box;margin-bottom: 0.5em;}#sk-container-id-9 div.sk-estimator:hover {background-color: #d4ebff;}#sk-container-id-9 div.sk-parallel-item::after {content: \"\";width: 100%;border-bottom: 1px solid gray;flex-grow: 1;}#sk-container-id-9 div.sk-label:hover label.sk-toggleable__label {background-color: #d4ebff;}#sk-container-id-9 div.sk-serial::before {content: \"\";position: absolute;border-left: 1px solid gray;box-sizing: border-box;top: 0;bottom: 0;left: 50%;z-index: 0;}#sk-container-id-9 div.sk-serial {display: flex;flex-direction: column;align-items: center;background-color: white;padding-right: 0.2em;padding-left: 0.2em;position: relative;}#sk-container-id-9 div.sk-item {position: relative;z-index: 1;}#sk-container-id-9 div.sk-parallel {display: flex;align-items: stretch;justify-content: center;background-color: white;position: relative;}#sk-container-id-9 div.sk-item::before, #sk-container-id-9 div.sk-parallel-item::before {content: \"\";position: absolute;border-left: 1px solid gray;box-sizing: border-box;top: 0;bottom: 0;left: 50%;z-index: -1;}#sk-container-id-9 div.sk-parallel-item {display: flex;flex-direction: column;z-index: 1;position: relative;background-color: white;}#sk-container-id-9 div.sk-parallel-item:first-child::after {align-self: flex-end;width: 50%;}#sk-container-id-9 div.sk-parallel-item:last-child::after {align-self: flex-start;width: 50%;}#sk-container-id-9 div.sk-parallel-item:only-child::after {width: 0;}#sk-container-id-9 div.sk-dashed-wrapped {border: 1px dashed gray;margin: 0 0.4em 0.5em 0.4em;box-sizing: border-box;padding-bottom: 0.4em;background-color: white;}#sk-container-id-9 div.sk-label label {font-family: monospace;font-weight: bold;display: inline-block;line-height: 1.2em;}#sk-container-id-9 div.sk-label-container {text-align: center;}#sk-container-id-9 div.sk-container {/* jupyter's `normalize.less` sets `[hidden] { display: none; }` but bootstrap.min.css set `[hidden] { display: none !important; }` so we also need the `!important` here to be able to override the default hidden behavior on the sphinx rendered scikit-learn.org. See: https://github.com/scikit-learn/scikit-learn/issues/21755 */display: inline-block !important;position: relative;}#sk-container-id-9 div.sk-text-repr-fallback {display: none;}</style><div id=\"sk-container-id-9\" class=\"sk-top-container\"><div class=\"sk-text-repr-fallback\"><pre>DecisionTreeClassifier(max_depth=5, random_state=17)</pre><b>In a Jupyter environment, please rerun this cell to show the HTML representation or trust the notebook. <br />On GitHub, the HTML representation is unable to render, please try loading this page with nbviewer.org.</b></div><div class=\"sk-container\" hidden><div class=\"sk-item\"><div class=\"sk-estimator sk-toggleable\"><input class=\"sk-toggleable__control sk-hidden--visually\" id=\"sk-estimator-id-16\" type=\"checkbox\" checked><label for=\"sk-estimator-id-16\" class=\"sk-toggleable__label sk-toggleable__label-arrow\">DecisionTreeClassifier</label><div class=\"sk-toggleable__content\"><pre>DecisionTreeClassifier(max_depth=5, random_state=17)</pre></div></div></div></div></div>"
      ],
      "text/plain": [
       "DecisionTreeClassifier(max_depth=5, random_state=17)"
      ]
     },
     "execution_count": 63,
     "metadata": {},
     "output_type": "execute_result"
    }
   ],
   "source": [
    "%%time\n",
    "tree.fit(X_train, y_train)"
   ]
  },
  {
   "cell_type": "code",
   "execution_count": 64,
   "metadata": {
    "ExecuteTime": {
     "end_time": "2023-10-09T18:07:37.432039100Z",
     "start_time": "2023-10-09T18:07:37.125767Z"
    },
    "collapsed": false,
    "jupyter": {
     "outputs_hidden": false
    },
    "slideshow": {
     "slide_type": "fragment"
    }
   },
   "outputs": [
    {
     "name": "stdout",
     "output_type": "stream",
     "text": [
      "CPU times: total: 0 ns\n",
      "Wall time: 0 ns\n"
     ]
    },
    {
     "data": {
      "text/html": [
       "<style>#sk-container-id-10 {color: black;background-color: white;}#sk-container-id-10 pre{padding: 0;}#sk-container-id-10 div.sk-toggleable {background-color: white;}#sk-container-id-10 label.sk-toggleable__label {cursor: pointer;display: block;width: 100%;margin-bottom: 0;padding: 0.3em;box-sizing: border-box;text-align: center;}#sk-container-id-10 label.sk-toggleable__label-arrow:before {content: \"▸\";float: left;margin-right: 0.25em;color: #696969;}#sk-container-id-10 label.sk-toggleable__label-arrow:hover:before {color: black;}#sk-container-id-10 div.sk-estimator:hover label.sk-toggleable__label-arrow:before {color: black;}#sk-container-id-10 div.sk-toggleable__content {max-height: 0;max-width: 0;overflow: hidden;text-align: left;background-color: #f0f8ff;}#sk-container-id-10 div.sk-toggleable__content pre {margin: 0.2em;color: black;border-radius: 0.25em;background-color: #f0f8ff;}#sk-container-id-10 input.sk-toggleable__control:checked~div.sk-toggleable__content {max-height: 200px;max-width: 100%;overflow: auto;}#sk-container-id-10 input.sk-toggleable__control:checked~label.sk-toggleable__label-arrow:before {content: \"▾\";}#sk-container-id-10 div.sk-estimator input.sk-toggleable__control:checked~label.sk-toggleable__label {background-color: #d4ebff;}#sk-container-id-10 div.sk-label input.sk-toggleable__control:checked~label.sk-toggleable__label {background-color: #d4ebff;}#sk-container-id-10 input.sk-hidden--visually {border: 0;clip: rect(1px 1px 1px 1px);clip: rect(1px, 1px, 1px, 1px);height: 1px;margin: -1px;overflow: hidden;padding: 0;position: absolute;width: 1px;}#sk-container-id-10 div.sk-estimator {font-family: monospace;background-color: #f0f8ff;border: 1px dotted black;border-radius: 0.25em;box-sizing: border-box;margin-bottom: 0.5em;}#sk-container-id-10 div.sk-estimator:hover {background-color: #d4ebff;}#sk-container-id-10 div.sk-parallel-item::after {content: \"\";width: 100%;border-bottom: 1px solid gray;flex-grow: 1;}#sk-container-id-10 div.sk-label:hover label.sk-toggleable__label {background-color: #d4ebff;}#sk-container-id-10 div.sk-serial::before {content: \"\";position: absolute;border-left: 1px solid gray;box-sizing: border-box;top: 0;bottom: 0;left: 50%;z-index: 0;}#sk-container-id-10 div.sk-serial {display: flex;flex-direction: column;align-items: center;background-color: white;padding-right: 0.2em;padding-left: 0.2em;position: relative;}#sk-container-id-10 div.sk-item {position: relative;z-index: 1;}#sk-container-id-10 div.sk-parallel {display: flex;align-items: stretch;justify-content: center;background-color: white;position: relative;}#sk-container-id-10 div.sk-item::before, #sk-container-id-10 div.sk-parallel-item::before {content: \"\";position: absolute;border-left: 1px solid gray;box-sizing: border-box;top: 0;bottom: 0;left: 50%;z-index: -1;}#sk-container-id-10 div.sk-parallel-item {display: flex;flex-direction: column;z-index: 1;position: relative;background-color: white;}#sk-container-id-10 div.sk-parallel-item:first-child::after {align-self: flex-end;width: 50%;}#sk-container-id-10 div.sk-parallel-item:last-child::after {align-self: flex-start;width: 50%;}#sk-container-id-10 div.sk-parallel-item:only-child::after {width: 0;}#sk-container-id-10 div.sk-dashed-wrapped {border: 1px dashed gray;margin: 0 0.4em 0.5em 0.4em;box-sizing: border-box;padding-bottom: 0.4em;background-color: white;}#sk-container-id-10 div.sk-label label {font-family: monospace;font-weight: bold;display: inline-block;line-height: 1.2em;}#sk-container-id-10 div.sk-label-container {text-align: center;}#sk-container-id-10 div.sk-container {/* jupyter's `normalize.less` sets `[hidden] { display: none; }` but bootstrap.min.css set `[hidden] { display: none !important; }` so we also need the `!important` here to be able to override the default hidden behavior on the sphinx rendered scikit-learn.org. See: https://github.com/scikit-learn/scikit-learn/issues/21755 */display: inline-block !important;position: relative;}#sk-container-id-10 div.sk-text-repr-fallback {display: none;}</style><div id=\"sk-container-id-10\" class=\"sk-top-container\"><div class=\"sk-text-repr-fallback\"><pre>KNeighborsClassifier(n_neighbors=10)</pre><b>In a Jupyter environment, please rerun this cell to show the HTML representation or trust the notebook. <br />On GitHub, the HTML representation is unable to render, please try loading this page with nbviewer.org.</b></div><div class=\"sk-container\" hidden><div class=\"sk-item\"><div class=\"sk-estimator sk-toggleable\"><input class=\"sk-toggleable__control sk-hidden--visually\" id=\"sk-estimator-id-17\" type=\"checkbox\" checked><label for=\"sk-estimator-id-17\" class=\"sk-toggleable__label sk-toggleable__label-arrow\">KNeighborsClassifier</label><div class=\"sk-toggleable__content\"><pre>KNeighborsClassifier(n_neighbors=10)</pre></div></div></div></div></div>"
      ],
      "text/plain": [
       "KNeighborsClassifier(n_neighbors=10)"
      ]
     },
     "execution_count": 64,
     "metadata": {},
     "output_type": "execute_result"
    }
   ],
   "source": [
    "%%time\n",
    "knn.fit(X_train, y_train)"
   ]
  },
  {
   "cell_type": "markdown",
   "metadata": {
    "slideshow": {
     "slide_type": "subslide"
    }
   },
   "source": [
    "Зробимо прогнози за валідаційною вибіркою. Бачимо, що метод найближчих сусідів впорався значно краще (0.97 > 0.67). Але це ми поки вибирали параметри навмання."
   ]
  },
  {
   "cell_type": "code",
   "execution_count": 65,
   "metadata": {
    "ExecuteTime": {
     "end_time": "2023-10-09T18:07:38.240102800Z",
     "start_time": "2023-10-09T18:07:37.170496300Z"
    },
    "collapsed": false,
    "jupyter": {
     "outputs_hidden": false
    },
    "slideshow": {
     "slide_type": "fragment"
    }
   },
   "outputs": [
    {
     "data": {
      "text/plain": [
       "(0.9740740740740741, 0.6666666666666666)"
      ]
     },
     "execution_count": 65,
     "metadata": {},
     "output_type": "execute_result"
    }
   ],
   "source": [
    "tree_pred = tree.predict(X_valid)\n",
    "knn_pred = knn.predict(X_valid)\n",
    "accuracy_score(y_valid, knn_pred), accuracy_score(y_valid, tree_pred)"
   ]
  },
  {
   "cell_type": "markdown",
   "metadata": {
    "slideshow": {
     "slide_type": "subslide"
    }
   },
   "source": [
    "Тепер, як і раніше, налаштуємо параметри моделей на крос-валідації, тільки врахуємо, що ознак зараз більше, ніж в минулому завданні, а саме 64."
   ]
  },
  {
   "cell_type": "code",
   "execution_count": 66,
   "metadata": {
    "ExecuteTime": {
     "end_time": "2023-10-09T18:07:38.244157200Z",
     "start_time": "2023-10-09T18:07:37.449047400Z"
    },
    "collapsed": false,
    "jupyter": {
     "outputs_hidden": false
    },
    "slideshow": {
     "slide_type": "fragment"
    }
   },
   "outputs": [],
   "source": [
    "tree_params = {'max_depth': [1, 2, 3, 5, 10, 20, 25, 30, 40, 50, 64],\n",
    "               'max_features': [1, 2, 3, 5, 10, 20 ,30, 50, 64]}"
   ]
  },
  {
   "cell_type": "code",
   "execution_count": 67,
   "metadata": {
    "ExecuteTime": {
     "end_time": "2023-10-09T18:07:38.281205400Z",
     "start_time": "2023-10-09T18:07:37.482776200Z"
    },
    "collapsed": false,
    "jupyter": {
     "outputs_hidden": false
    },
    "slideshow": {
     "slide_type": "fragment"
    }
   },
   "outputs": [],
   "source": [
    "tree_grid = GridSearchCV(tree, tree_params,\n",
    "                         cv=5, n_jobs=-1,\n",
    "                        verbose=True)"
   ]
  },
  {
   "cell_type": "code",
   "execution_count": 68,
   "metadata": {
    "ExecuteTime": {
     "end_time": "2023-10-09T18:07:39.891107100Z",
     "start_time": "2023-10-09T18:07:37.494629400Z"
    },
    "collapsed": false,
    "jupyter": {
     "outputs_hidden": false
    },
    "slideshow": {
     "slide_type": "fragment"
    }
   },
   "outputs": [
    {
     "name": "stdout",
     "output_type": "stream",
     "text": [
      "Fitting 5 folds for each of 99 candidates, totalling 495 fits\n"
     ]
    },
    {
     "data": {
      "text/html": [
       "<style>#sk-container-id-11 {color: black;background-color: white;}#sk-container-id-11 pre{padding: 0;}#sk-container-id-11 div.sk-toggleable {background-color: white;}#sk-container-id-11 label.sk-toggleable__label {cursor: pointer;display: block;width: 100%;margin-bottom: 0;padding: 0.3em;box-sizing: border-box;text-align: center;}#sk-container-id-11 label.sk-toggleable__label-arrow:before {content: \"▸\";float: left;margin-right: 0.25em;color: #696969;}#sk-container-id-11 label.sk-toggleable__label-arrow:hover:before {color: black;}#sk-container-id-11 div.sk-estimator:hover label.sk-toggleable__label-arrow:before {color: black;}#sk-container-id-11 div.sk-toggleable__content {max-height: 0;max-width: 0;overflow: hidden;text-align: left;background-color: #f0f8ff;}#sk-container-id-11 div.sk-toggleable__content pre {margin: 0.2em;color: black;border-radius: 0.25em;background-color: #f0f8ff;}#sk-container-id-11 input.sk-toggleable__control:checked~div.sk-toggleable__content {max-height: 200px;max-width: 100%;overflow: auto;}#sk-container-id-11 input.sk-toggleable__control:checked~label.sk-toggleable__label-arrow:before {content: \"▾\";}#sk-container-id-11 div.sk-estimator input.sk-toggleable__control:checked~label.sk-toggleable__label {background-color: #d4ebff;}#sk-container-id-11 div.sk-label input.sk-toggleable__control:checked~label.sk-toggleable__label {background-color: #d4ebff;}#sk-container-id-11 input.sk-hidden--visually {border: 0;clip: rect(1px 1px 1px 1px);clip: rect(1px, 1px, 1px, 1px);height: 1px;margin: -1px;overflow: hidden;padding: 0;position: absolute;width: 1px;}#sk-container-id-11 div.sk-estimator {font-family: monospace;background-color: #f0f8ff;border: 1px dotted black;border-radius: 0.25em;box-sizing: border-box;margin-bottom: 0.5em;}#sk-container-id-11 div.sk-estimator:hover {background-color: #d4ebff;}#sk-container-id-11 div.sk-parallel-item::after {content: \"\";width: 100%;border-bottom: 1px solid gray;flex-grow: 1;}#sk-container-id-11 div.sk-label:hover label.sk-toggleable__label {background-color: #d4ebff;}#sk-container-id-11 div.sk-serial::before {content: \"\";position: absolute;border-left: 1px solid gray;box-sizing: border-box;top: 0;bottom: 0;left: 50%;z-index: 0;}#sk-container-id-11 div.sk-serial {display: flex;flex-direction: column;align-items: center;background-color: white;padding-right: 0.2em;padding-left: 0.2em;position: relative;}#sk-container-id-11 div.sk-item {position: relative;z-index: 1;}#sk-container-id-11 div.sk-parallel {display: flex;align-items: stretch;justify-content: center;background-color: white;position: relative;}#sk-container-id-11 div.sk-item::before, #sk-container-id-11 div.sk-parallel-item::before {content: \"\";position: absolute;border-left: 1px solid gray;box-sizing: border-box;top: 0;bottom: 0;left: 50%;z-index: -1;}#sk-container-id-11 div.sk-parallel-item {display: flex;flex-direction: column;z-index: 1;position: relative;background-color: white;}#sk-container-id-11 div.sk-parallel-item:first-child::after {align-self: flex-end;width: 50%;}#sk-container-id-11 div.sk-parallel-item:last-child::after {align-self: flex-start;width: 50%;}#sk-container-id-11 div.sk-parallel-item:only-child::after {width: 0;}#sk-container-id-11 div.sk-dashed-wrapped {border: 1px dashed gray;margin: 0 0.4em 0.5em 0.4em;box-sizing: border-box;padding-bottom: 0.4em;background-color: white;}#sk-container-id-11 div.sk-label label {font-family: monospace;font-weight: bold;display: inline-block;line-height: 1.2em;}#sk-container-id-11 div.sk-label-container {text-align: center;}#sk-container-id-11 div.sk-container {/* jupyter's `normalize.less` sets `[hidden] { display: none; }` but bootstrap.min.css set `[hidden] { display: none !important; }` so we also need the `!important` here to be able to override the default hidden behavior on the sphinx rendered scikit-learn.org. See: https://github.com/scikit-learn/scikit-learn/issues/21755 */display: inline-block !important;position: relative;}#sk-container-id-11 div.sk-text-repr-fallback {display: none;}</style><div id=\"sk-container-id-11\" class=\"sk-top-container\"><div class=\"sk-text-repr-fallback\"><pre>GridSearchCV(cv=5,\n",
       "             estimator=DecisionTreeClassifier(max_depth=5, random_state=17),\n",
       "             n_jobs=-1,\n",
       "             param_grid={&#x27;max_depth&#x27;: [1, 2, 3, 5, 10, 20, 25, 30, 40, 50, 64],\n",
       "                         &#x27;max_features&#x27;: [1, 2, 3, 5, 10, 20, 30, 50, 64]},\n",
       "             verbose=True)</pre><b>In a Jupyter environment, please rerun this cell to show the HTML representation or trust the notebook. <br />On GitHub, the HTML representation is unable to render, please try loading this page with nbviewer.org.</b></div><div class=\"sk-container\" hidden><div class=\"sk-item sk-dashed-wrapped\"><div class=\"sk-label-container\"><div class=\"sk-label sk-toggleable\"><input class=\"sk-toggleable__control sk-hidden--visually\" id=\"sk-estimator-id-18\" type=\"checkbox\" ><label for=\"sk-estimator-id-18\" class=\"sk-toggleable__label sk-toggleable__label-arrow\">GridSearchCV</label><div class=\"sk-toggleable__content\"><pre>GridSearchCV(cv=5,\n",
       "             estimator=DecisionTreeClassifier(max_depth=5, random_state=17),\n",
       "             n_jobs=-1,\n",
       "             param_grid={&#x27;max_depth&#x27;: [1, 2, 3, 5, 10, 20, 25, 30, 40, 50, 64],\n",
       "                         &#x27;max_features&#x27;: [1, 2, 3, 5, 10, 20, 30, 50, 64]},\n",
       "             verbose=True)</pre></div></div></div><div class=\"sk-parallel\"><div class=\"sk-parallel-item\"><div class=\"sk-item\"><div class=\"sk-label-container\"><div class=\"sk-label sk-toggleable\"><input class=\"sk-toggleable__control sk-hidden--visually\" id=\"sk-estimator-id-19\" type=\"checkbox\" ><label for=\"sk-estimator-id-19\" class=\"sk-toggleable__label sk-toggleable__label-arrow\">estimator: DecisionTreeClassifier</label><div class=\"sk-toggleable__content\"><pre>DecisionTreeClassifier(max_depth=5, random_state=17)</pre></div></div></div><div class=\"sk-serial\"><div class=\"sk-item\"><div class=\"sk-estimator sk-toggleable\"><input class=\"sk-toggleable__control sk-hidden--visually\" id=\"sk-estimator-id-20\" type=\"checkbox\" ><label for=\"sk-estimator-id-20\" class=\"sk-toggleable__label sk-toggleable__label-arrow\">DecisionTreeClassifier</label><div class=\"sk-toggleable__content\"><pre>DecisionTreeClassifier(max_depth=5, random_state=17)</pre></div></div></div></div></div></div></div></div></div></div>"
      ],
      "text/plain": [
       "GridSearchCV(cv=5,\n",
       "             estimator=DecisionTreeClassifier(max_depth=5, random_state=17),\n",
       "             n_jobs=-1,\n",
       "             param_grid={'max_depth': [1, 2, 3, 5, 10, 20, 25, 30, 40, 50, 64],\n",
       "                         'max_features': [1, 2, 3, 5, 10, 20, 30, 50, 64]},\n",
       "             verbose=True)"
      ]
     },
     "execution_count": 68,
     "metadata": {},
     "output_type": "execute_result"
    }
   ],
   "source": [
    "tree_grid.fit(X_train, y_train)"
   ]
  },
  {
   "cell_type": "markdown",
   "metadata": {
    "slideshow": {
     "slide_type": "subslide"
    }
   },
   "source": [
    "Краще поєднання параметрів і відповідна середня частка правильних відповідей на крос-валідації:"
   ]
  },
  {
   "cell_type": "code",
   "execution_count": 69,
   "metadata": {
    "ExecuteTime": {
     "end_time": "2023-10-09T18:07:39.902377600Z",
     "start_time": "2023-10-09T18:07:39.760941Z"
    },
    "collapsed": false,
    "jupyter": {
     "outputs_hidden": false
    },
    "slideshow": {
     "slide_type": "fragment"
    }
   },
   "outputs": [
    {
     "data": {
      "text/plain": [
       "({'max_depth': 10, 'max_features': 50}, 0.8568203376968316)"
      ]
     },
     "execution_count": 69,
     "metadata": {},
     "output_type": "execute_result"
    }
   ],
   "source": [
    "tree_grid.best_params_, tree_grid.best_score_"
   ]
  },
  {
   "cell_type": "code",
   "execution_count": 70,
   "metadata": {
    "ExecuteTime": {
     "end_time": "2023-10-09T18:07:39.920153100Z",
     "start_time": "2023-10-09T18:07:39.792566400Z"
    },
    "collapsed": false,
    "jupyter": {
     "outputs_hidden": false
    },
    "slideshow": {
     "slide_type": "fragment"
    }
   },
   "outputs": [
    {
     "data": {
      "text/plain": [
       "0.8425925925925926"
      ]
     },
     "execution_count": 70,
     "metadata": {},
     "output_type": "execute_result"
    }
   ],
   "source": [
    "accuracy_score(y_valid, tree_grid.predict(X_valid))"
   ]
  },
  {
   "cell_type": "markdown",
   "metadata": {
    "slideshow": {
     "slide_type": "subslide"
    }
   },
   "source": [
    "Отримали значення 0.84 – вже не 66%, але і поки не 97%.\n",
    "\n",
    "Загалом бачимо, що метод найближчих сусідів за цим набором даних працює краще. За одного найближчого сусіда на крос-валідації досягається майже 99% вгадувань."
   ]
  },
  {
   "cell_type": "code",
   "execution_count": 71,
   "metadata": {
    "ExecuteTime": {
     "end_time": "2023-10-09T18:07:41.509501100Z",
     "start_time": "2023-10-09T18:07:39.837142300Z"
    },
    "collapsed": false,
    "jupyter": {
     "outputs_hidden": false
    },
    "slideshow": {
     "slide_type": "fragment"
    }
   },
   "outputs": [
    {
     "data": {
      "text/plain": [
       "0.9864858028204642"
      ]
     },
     "execution_count": 71,
     "metadata": {},
     "output_type": "execute_result"
    }
   ],
   "source": [
    "np.mean(cross_val_score(KNeighborsClassifier(n_neighbors=1), X_train, y_train, cv=5))"
   ]
  },
  {
   "cell_type": "code",
   "execution_count": 72,
   "metadata": {
    "ExecuteTime": {
     "end_time": "2023-10-09T18:07:41.963619200Z",
     "start_time": "2023-10-09T18:07:41.502757100Z"
    },
    "collapsed": false,
    "jupyter": {
     "outputs_hidden": false
    },
    "slideshow": {
     "slide_type": "fragment"
    }
   },
   "outputs": [
    {
     "data": {
      "text/plain": [
       "0.9833333333333333"
      ]
     },
     "execution_count": 72,
     "metadata": {},
     "output_type": "execute_result"
    }
   ],
   "source": [
    "knn = KNeighborsClassifier(n_neighbors=1).fit(X_train, y_train)\n",
    "accuracy_score(y_valid, knn.predict(X_valid))"
   ]
  },
  {
   "cell_type": "markdown",
   "metadata": {
    "slideshow": {
     "slide_type": "subslide"
    }
   },
   "source": [
    "Навчимо за цими ж даними випадковий ліс, він за більшістю вибірок працює краще, ніж метод найближчих сусідів. Але зараз маємо виняток."
   ]
  },
  {
   "cell_type": "code",
   "execution_count": 73,
   "metadata": {
    "ExecuteTime": {
     "end_time": "2023-10-09T18:07:45.408918200Z",
     "start_time": "2023-10-09T18:07:41.944143300Z"
    },
    "collapsed": false,
    "jupyter": {
     "outputs_hidden": false
    },
    "slideshow": {
     "slide_type": "fragment"
    }
   },
   "outputs": [
    {
     "data": {
      "text/plain": [
       "0.9753462341111744"
      ]
     },
     "execution_count": 73,
     "metadata": {},
     "output_type": "execute_result"
    }
   ],
   "source": [
    "np.mean(cross_val_score(RandomForestClassifier(random_state=17), X_train, y_train, cv=5))"
   ]
  },
  {
   "cell_type": "code",
   "execution_count": 74,
   "metadata": {
    "ExecuteTime": {
     "end_time": "2023-10-09T18:07:45.891762400Z",
     "start_time": "2023-10-09T18:07:45.418915400Z"
    },
    "collapsed": false,
    "jupyter": {
     "outputs_hidden": false
    },
    "slideshow": {
     "slide_type": "fragment"
    }
   },
   "outputs": [
    {
     "data": {
      "text/plain": [
       "0.9666666666666667"
      ]
     },
     "execution_count": 74,
     "metadata": {},
     "output_type": "execute_result"
    }
   ],
   "source": [
    "rf = RandomForestClassifier(random_state=17, n_jobs=-1).fit(X_train, y_train)\n",
    "accuracy_score(y_valid, rf.predict(X_valid))"
   ]
  },
  {
   "cell_type": "markdown",
   "metadata": {
    "slideshow": {
     "slide_type": "subslide"
    }
   },
   "source": [
    "Ви матимете рацію, якщо заперечите, що ми тут не налаштовували параметри RandomForestClassifier, але навіть з налаштуванням частка правильних відповідей не досягає 98%, як для методу одного найближчого сусіда."
   ]
  },
  {
   "cell_type": "markdown",
   "metadata": {
    "slideshow": {
     "slide_type": "fragment"
    }
   },
   "source": [
    "Результати експерименту:\n",
    "\n",
    "|   algo\\eval      |   CV  | valid |\n",
    "|---------|-------|---------|\n",
    "| **Дерево рішень**  | 0.844 |  0.838  |\n",
    "| **Метод найближчих сусідів** | 0.987 |  0.983  |\n",
    "| **Випадковий ліс**  | 0.935 |  0.941  |\n",
    "\n",
    "Позначення: CV и valid – середні частки правильних відповідей моделі на крос-валідації і валідаційній вибірці, відповідно."
   ]
  },
  {
   "cell_type": "markdown",
   "metadata": {
    "slideshow": {
     "slide_type": "fragment"
    }
   },
   "source": [
    "**Висновок** щодо цього експерименту (і загальна порада): на початку моделювання перевіряйте на своїх даних прості моделі – дерево рішень і метод найближчих сусідів (а далі ми ще розглянемо логістичну регресію); може виявитися, що вже вони працюють досить добре."
   ]
  },
  {
   "cell_type": "markdown",
   "metadata": {
    "slideshow": {
     "slide_type": "skip"
    }
   },
   "source": [
    "<a class=\"anchor\" id=\"3.5\"></a>"
   ]
  },
  {
   "cell_type": "markdown",
   "metadata": {
    "slideshow": {
     "slide_type": "slide"
    }
   },
   "source": [
    "## <span style=\"color:blue; font-size:1.2em;\">3.5. Складний випадок для дерев рішень</span>\n",
    "\n",
    "[Повернутися до змісту](#3)"
   ]
  },
  {
   "cell_type": "markdown",
   "metadata": {
    "slideshow": {
     "slide_type": "subslide"
    }
   },
   "source": [
    "В продовження обговорення переваг і недоліків наведемо простий приклад задачі класифікації, з якою дерево справляється, але робить все якось \"складніше\", ніж хотілося б. Створимо множину точок на площині (2 ознаки), кожна точка належатиме одному з класів (+1 – червоні, або -1 – жовті). Якщо дивитися на це як на задачу класифікації, то начебто все дуже просто – класи розділяються прямою."
   ]
  },
  {
   "cell_type": "code",
   "execution_count": 75,
   "metadata": {
    "ExecuteTime": {
     "end_time": "2023-10-09T18:07:46.012137700Z",
     "start_time": "2023-10-09T18:07:45.906454200Z"
    },
    "collapsed": false,
    "jupyter": {
     "outputs_hidden": false
    },
    "slideshow": {
     "slide_type": "fragment"
    }
   },
   "outputs": [],
   "source": [
    "def form_linearly_separable_data(n=500, x1_min=0, x1_max=30, x2_min=0, x2_max=30):\n",
    "    data, target = [], []\n",
    "    for i in range(n):\n",
    "        x1, x2 = np.random.randint(x1_min, x1_max), np.random.randint(x2_min, x2_max)\n",
    "\n",
    "        if np.abs(x1 - x2) > 0.5:\n",
    "            data.append([x1, x2])\n",
    "            target.append(np.sign(x1 - x2))\n",
    "    return np.array(data), np.array(target)"
   ]
  },
  {
   "cell_type": "code",
   "execution_count": 76,
   "metadata": {
    "ExecuteTime": {
     "end_time": "2023-10-09T18:07:46.052971100Z",
     "start_time": "2023-10-09T18:07:45.928863Z"
    },
    "collapsed": false,
    "jupyter": {
     "outputs_hidden": false
    },
    "slideshow": {
     "slide_type": "fragment"
    }
   },
   "outputs": [],
   "source": [
    "X, y = form_linearly_separable_data()"
   ]
  },
  {
   "cell_type": "code",
   "execution_count": 77,
   "metadata": {
    "ExecuteTime": {
     "end_time": "2023-10-09T18:07:46.485238100Z",
     "start_time": "2023-10-09T18:07:45.982594400Z"
    },
    "collapsed": false,
    "jupyter": {
     "outputs_hidden": false
    },
    "slideshow": {
     "slide_type": "subslide"
    }
   },
   "outputs": [
    {
     "data": {
      "image/png": "[encoded data removed]",
      "text/plain": [
       "<Figure size 1350x450 with 1 Axes>"
      ]
     },
     "metadata": {},
     "output_type": "display_data"
    }
   ],
   "source": [
    "plt.figure(figsize=(9,3), dpi=150)\n",
    "plt.scatter(X[:, 0], X[:, 1], c=y, cmap='autumn', edgecolors='black')\n",
    "plt.show();"
   ]
  },
  {
   "cell_type": "markdown",
   "metadata": {
    "slideshow": {
     "slide_type": "subslide"
    }
   },
   "source": [
    "Проте дерево рішень будує аж надто складну границю і тому виявляється глибоким. Крім того, уявіть, як погано дерево буде узагальнюватися на простір ознак поза поданого квадрату $30\\times30$, що обмежує навчальну вибірку."
   ]
  },
  {
   "cell_type": "code",
   "execution_count": 78,
   "metadata": {
    "slideshow": {
     "slide_type": "fragment"
    }
   },
   "outputs": [],
   "source": [
    "complex_tree = DecisionTreeClassifier(random_state=17).fit(X, y)\n",
    "\n",
    "xx, yy = get_grid(X, eps=.05)\n",
    "tree_predicted = complex_tree.predict(np.c_[xx.ravel(), yy.ravel()]).reshape(xx.shape)"
   ]
  },
  {
   "cell_type": "code",
   "execution_count": 79,
   "metadata": {
    "ExecuteTime": {
     "end_time": "2023-10-09T18:07:47.577098700Z",
     "start_time": "2023-10-09T18:07:46.487941200Z"
    },
    "collapsed": false,
    "jupyter": {
     "outputs_hidden": false
    },
    "slideshow": {
     "slide_type": "subslide"
    }
   },
   "outputs": [
    {
     "data": {
      "image/png": "[encoded data removed]",
      "text/plain": [
       "<Figure size 900x400 with 1 Axes>"
      ]
     },
     "metadata": {},
     "output_type": "display_data"
    }
   ],
   "source": [
    "plt.figure(figsize=(9,4), dpi=100)\n",
    "plt.pcolormesh(xx, yy, tree_predicted, cmap='autumn')\n",
    "plt.scatter(X[:, 0], X[:, 1], c=y, s=100,\n",
    "            cmap='autumn', edgecolors='black', linewidth=1.5)\n",
    "plt.title('Легка задача, але дерево рішень все ускладнює.');"
   ]
  },
  {
   "cell_type": "markdown",
   "metadata": {
    "slideshow": {
     "slide_type": "subslide"
    }
   },
   "source": [
    "Ось така складна конструкція, хоча розв'язок (поверхня, що добре розділяє на класи) – це всього лише пряма $x_1 = x_2$."
   ]
  },
  {
   "cell_type": "code",
   "execution_count": 80,
   "metadata": {
    "ExecuteTime": {
     "end_time": "2023-10-09T18:07:48.216061Z",
     "start_time": "2023-10-09T18:07:47.583595400Z"
    },
    "collapsed": false,
    "jupyter": {
     "outputs_hidden": false
    },
    "slideshow": {
     "slide_type": "fragment"
    }
   },
   "outputs": [],
   "source": [
    "dot_data = StringIO()\n",
    "export_graphviz(complex_tree, feature_names=['x1', 'x2'],\n",
    "                out_file=dot_data, filled=True)\n",
    "graph = pydotplus.graph_from_dot_data(dot_data.getvalue())\n",
    "# Image(value=graph.create_png())"
   ]
  },
  {
   "cell_type": "code",
   "execution_count": 81,
   "metadata": {
    "slideshow": {
     "slide_type": "subslide"
    }
   },
   "outputs": [],
   "source": [
    "complex_tree_out = pydotplus.graph_from_dot_data(dot_data.getvalue())  \n",
    "\n",
    "# Збережемо рисунок побудованого дерева\n",
    "# complex_tree_out.write_png(\"3_decision_tree_5.png\")"
   ]
  },
  {
   "cell_type": "markdown",
   "metadata": {
    "slideshow": {
     "slide_type": "fragment"
    }
   },
   "source": [
    "<img src=\"https://raw.githubusercontent.com/radiukpavlo/intelligent-data-analysis/main/03_img/3_decision_tree_5.png\">"
   ]
  },
  {
   "cell_type": "markdown",
   "metadata": {
    "slideshow": {
     "slide_type": "subslide"
    }
   },
   "source": [
    "Метод одного найближчого сусіда тут справляється начебто краще дерева, але все ж не так добре, як лінійний класифікатор (наша наступна тема)."
   ]
  },
  {
   "cell_type": "code",
   "execution_count": 82,
   "metadata": {
    "slideshow": {
     "slide_type": "fragment"
    }
   },
   "outputs": [],
   "source": [
    "knn = KNeighborsClassifier(n_neighbors=1).fit(X, y)\n",
    "\n",
    "xx, yy = get_grid(X, eps=.05)\n",
    "knn_predicted = knn.predict(np.c_[xx.ravel(), yy.ravel()]).reshape(xx.shape)"
   ]
  },
  {
   "cell_type": "code",
   "execution_count": 83,
   "metadata": {
    "ExecuteTime": {
     "end_time": "2023-10-09T18:08:01.576215900Z",
     "start_time": "2023-10-09T18:07:48.222559300Z"
    },
    "collapsed": false,
    "jupyter": {
     "outputs_hidden": false
    },
    "slideshow": {
     "slide_type": "subslide"
    }
   },
   "outputs": [
    {
     "data": {
      "image/png": "[encoded data removed]",
      "text/plain": [
       "<Figure size 900x400 with 1 Axes>"
      ]
     },
     "metadata": {},
     "output_type": "display_data"
    }
   ],
   "source": [
    "plt.figure(figsize=(9,4), dpi=100)\n",
    "plt.pcolormesh(xx, yy, knn_predicted, cmap='autumn')\n",
    "plt.scatter(X[:, 0], X[:, 1], c=y, s=100,\n",
    "            cmap='autumn', edgecolors='black', linewidth=1.5);\n",
    "plt.title('Легка задача для $knn$.');"
   ]
  },
  {
   "cell_type": "markdown",
   "metadata": {
    "slideshow": {
     "slide_type": "skip"
    }
   },
   "source": [
    "<a class=\"anchor\" id=\"3.6\"></a>"
   ]
  },
  {
   "cell_type": "markdown",
   "metadata": {
    "slideshow": {
     "slide_type": "slide"
    }
   },
   "source": [
    "## <span style=\"color:blue; font-size:1.2em;\">3.6. Складний випадок для методу найближчих сусідів</span>\n",
    "\n",
    "[Повернутися до змісту](#3)"
   ]
  },
  {
   "cell_type": "markdown",
   "metadata": {
    "slideshow": {
     "slide_type": "subslide"
    }
   },
   "source": [
    "Тепер розглянемо ще один простий приклад. У задачі класифікації одна з ознак буде просто пропорційна вектору відповідей, але методу найближчих сусідів це не допоможе."
   ]
  },
  {
   "cell_type": "code",
   "execution_count": 84,
   "metadata": {
    "ExecuteTime": {
     "end_time": "2023-10-09T18:08:01.806435600Z",
     "start_time": "2023-10-09T18:08:01.583799700Z"
    },
    "collapsed": false,
    "jupyter": {
     "outputs_hidden": false
    },
    "slideshow": {
     "slide_type": "fragment"
    }
   },
   "outputs": [],
   "source": [
    "def form_noisy_data(n_obj=1000, n_feat=100, random_seed=17):\n",
    "    np.seed = random_seed\n",
    "    y = np.random.choice([-1, 1], size=n_obj)\n",
    "    # перша ознака пропорційна цільовій\n",
    "    x1 = 0.3 * y\n",
    "    # інші ознаки – шум\n",
    "    x_other = np.random.random(size=[n_obj, n_feat - 1])\n",
    "    return np.hstack([x1.reshape([n_obj, 1]), x_other]), y"
   ]
  },
  {
   "cell_type": "code",
   "execution_count": 85,
   "metadata": {
    "ExecuteTime": {
     "end_time": "2023-10-09T18:08:01.813346300Z",
     "start_time": "2023-10-09T18:08:01.597203500Z"
    },
    "collapsed": false,
    "jupyter": {
     "outputs_hidden": false
    },
    "slideshow": {
     "slide_type": "subslide"
    }
   },
   "outputs": [],
   "source": [
    "X, y = form_noisy_data()"
   ]
  },
  {
   "cell_type": "markdown",
   "metadata": {
    "slideshow": {
     "slide_type": "fragment"
    }
   },
   "source": [
    "Як зазвичай, будемо дивитися на частку правильних відповідей на крос-валідації та за валідаційною вибіркою. Побудуємо криві, що відображають залежність цих величин від параметра `n_neighbors` в методі найближчих сусідів. Такі криві називаються кривими валідації."
   ]
  },
  {
   "cell_type": "code",
   "execution_count": 86,
   "metadata": {
    "ExecuteTime": {
     "end_time": "2023-10-09T18:08:01.932039800Z",
     "start_time": "2023-10-09T18:08:01.641588300Z"
    },
    "collapsed": false,
    "jupyter": {
     "outputs_hidden": false
    },
    "slideshow": {
     "slide_type": "fragment"
    }
   },
   "outputs": [],
   "source": [
    "X_train, X_valid, y_train, y_valid = train_test_split(X, y, test_size=0.3,\n",
    "                                                          random_state=17)"
   ]
  },
  {
   "cell_type": "markdown",
   "metadata": {
    "slideshow": {
     "slide_type": "fragment"
    }
   },
   "source": [
    "Нижче бачимо, що метод найближчих сусідів з евклідовою метрикою не розв'язує задачу, навіть якщо змінювати кількість найближчих сусідів в широкому діапазоні. Натомість дерево рішень легко \"виявляє\" приховану залежність в даних за будь-якого обмеження на максимальну глибину."
   ]
  },
  {
   "cell_type": "code",
   "execution_count": 87,
   "metadata": {
    "ExecuteTime": {
     "end_time": "2023-10-09T18:08:15.114183200Z",
     "start_time": "2023-10-09T18:08:01.657365100Z"
    },
    "collapsed": false,
    "jupyter": {
     "outputs_hidden": false
    },
    "slideshow": {
     "slide_type": "subslide"
    }
   },
   "outputs": [],
   "source": [
    "from sklearn.model_selection import cross_val_score\n",
    "\n",
    "cv_scores, valid_scores = [], []\n",
    "n_neighb = [1, 2, 3, 5] + list(range(50, 550, 50))\n",
    "\n",
    "for k in n_neighb:\n",
    "\n",
    "    knn = KNeighborsClassifier(n_neighbors=k)\n",
    "    cv_scores.append(np.mean(cross_val_score(knn, X_train, y_train, cv=5)))\n",
    "    knn.fit(X_train, y_train)\n",
    "    valid_scores.append(accuracy_score(y_valid, knn.predict(X_valid)))\n"
   ]
  },
  {
   "cell_type": "code",
   "execution_count": 90,
   "metadata": {
    "slideshow": {
     "slide_type": "subslide"
    }
   },
   "outputs": [
    {
     "data": {
      "image/png": "[encoded data removed]",
      "text/plain": [
       "<Figure size 900x400 with 1 Axes>"
      ]
     },
     "metadata": {},
     "output_type": "display_data"
    }
   ],
   "source": [
    "plt.figure(figsize=(9,4), dpi=100)\n",
    "plt.plot(n_neighb, cv_scores, label='CV')\n",
    "plt.plot(n_neighb, valid_scores, label='valid')\n",
    "plt.title('Легка задача, проте $knn$ проте справляється.')\n",
    "plt.legend();"
   ]
  },
  {
   "cell_type": "code",
   "execution_count": 89,
   "metadata": {
    "ExecuteTime": {
     "end_time": "2023-10-09T18:08:15.286512300Z",
     "start_time": "2023-10-09T18:08:15.118022200Z"
    },
    "collapsed": false,
    "jupyter": {
     "outputs_hidden": false
    },
    "slideshow": {
     "slide_type": "subslide"
    }
   },
   "outputs": [
    {
     "name": "stdout",
     "output_type": "stream",
     "text": [
      "Дерево рішень acc_cv: 1.0, acc_valid: 1.0\n"
     ]
    }
   ],
   "source": [
    "tree = DecisionTreeClassifier(random_state=17, max_depth=1)\n",
    "tree_cv_score = np.mean(cross_val_score(tree, X_train, y_train, cv=5))\n",
    "tree.fit(X_train, y_train)\n",
    "tree_valid_score = accuracy_score(y_valid, tree.predict(X_valid))\n",
    "print(f'Дерево рішень acc_cv: {tree_cv_score}, acc_valid: {tree_valid_score}')"
   ]
  },
  {
   "cell_type": "markdown",
   "metadata": {
    "slideshow": {
     "slide_type": "fragment"
    }
   },
   "source": [
    "Отже, у другому прикладі дерево впоралося із задачею ідеально, а метод найближчих сусідів наштовхнувся на складнощі. Утім, це недолік не так методу, як використовуваної евклідової метрики: в такому випадку вона не дала змогу виявити, що одна ознака значно краща за іншу."
   ]
  },
  {
   "cell_type": "markdown",
   "metadata": {
    "slideshow": {
     "slide_type": "skip"
    }
   },
   "source": [
    "<a class=\"anchor\" id=\"3.7\"></a>"
   ]
  },
  {
   "cell_type": "markdown",
   "metadata": {
    "slideshow": {
     "slide_type": "subslide"
    }
   },
   "source": [
    "## <span style=\"color:blue; font-size:1em;\">3.7. Корисні посилання</span>\n",
    "\n",
    "[Повернутися до змісту](#3)"
   ]
  },
  {
   "cell_type": "markdown",
   "metadata": {
    "slideshow": {
     "slide_type": "fragment"
    }
   },
   "source": [
    " - [Supervised Learning](https://en.wikipedia.org/wiki/Supervised_learning)\n",
    " - [Machine Learning Basics](https://www.deeplearningbook.org/contents/ml.html)\n",
    " - [The Complete Guide to Decision Trees](https://www.explorium.ai/blog/the-complete-guide-to-decision-trees/)\n",
    " - [Top 10 algorithms in data mining](https://www.researchgate.net/publication/29467751_Top_10_algorithms_in_data_mining)\n",
    " - [Heuristic (computer science)](https://en.wikipedia.org/wiki/Heuristic_(computer_science))\n",
    " - [Model evaluation, model selection, and algorithm selection in machine learning](https://sebastianraschka.com/blog/2016/model-evaluation-selection-part1.html)\n",
    " - [4 Types of Classification Tasks in Machine Learning](https://machinelearningmastery.com/types-of-classification-in-machine-learning/)\n",
    " - [An introduction to machine learning with scikit-learn](https://scikit-learn.org/stable/tutorial/basic/tutorial.html)\n",
    " - [Дерево ухвалення рішень](https://uk.wikipedia.org/wiki/%D0%94%D0%B5%D1%80%D0%B5%D0%B2%D0%BE_%D1%83%D1%85%D0%B2%D0%B0%D0%BB%D0%B5%D0%BD%D0%BD%D1%8F_%D1%80%D1%96%D1%88%D0%B5%D0%BD%D1%8C), wiki\n",
    " - [Ентропія](https://uk.wikipedia.org/wiki/%D0%95%D0%BD%D1%82%D1%80%D0%BE%D0%BF%D1%96%D1%8F), wiki\n",
    " - [Методи дерев рішень, класифікації та прогнозування](https://moodle.znu.edu.ua/pluginfile.php?file=/486136/mod_resource/content/1/%d0%9b%d0%b5%d0%ba%d1%86%d1%96%d1%8f%209.pdf)"
   ]
  }
 ],
 "metadata": {
  "celltoolbar": "Slideshow",
  "kernelspec": {
   "display_name": "Python 3 (ipykernel)",
   "language": "python",
   "name": "python3"
  },
  "language_info": {
   "codemirror_mode": {
    "name": "ipython",
    "version": 3
   },
   "file_extension": ".py",
   "mimetype": "text/x-python",
   "name": "python",
   "nbconvert_exporter": "python",
   "pygments_lexer": "ipython3",
   "version": "3.9.16"
  }
 },
 "nbformat": 4,
 "nbformat_minor": 4
}
