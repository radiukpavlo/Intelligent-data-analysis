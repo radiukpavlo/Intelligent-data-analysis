{
 "cells": [
  {
   "cell_type": "markdown",
   "metadata": {
    "slideshow": {
     "slide_type": "slide"
    }
   },
   "source": [
    "# <center>Лекція 6. Побудова й відбір ознак</center>"
   ]
  },
  {
   "cell_type": "markdown",
   "metadata": {
    "slideshow": {
     "slide_type": "skip"
    }
   },
   "source": [
    "<a class=\"anchor\" id=\"6\"></a>"
   ]
  },
  {
   "cell_type": "markdown",
   "metadata": {
    "slideshow": {
     "slide_type": "subslide"
    }
   },
   "source": [
    "## Зміст\n",
    "\n",
    "- [6.1. Виявлення ознак (Feature extraction)](#6.1)\n",
    "    + [6.1.1. Тексти](#6.1.1)\n",
    "    + [6.1.2. Зображення](#6.1.2)\n",
    "    + [6.1.3. Геодані](#6.1.3)\n",
    "    + [6.1.4. Дата та час](#6.1.4)\n",
    "    + [6.1.5. Часові ряди, веб та інше](#6.1.5)   \n",
    "- [6.2. Перетворення ознак (Feature transformations)](#6.2)\n",
    "    + [6.2.1. Нормалізація та зміна розподілу](#6.2.1)\n",
    "    + [6.2.2. Взаємодія (Interactions)](#6.2.2)\n",
    "    + [6.2.3. Заповнення пропусків](#6.2.3) \n",
    "- [6.3. Відбір ознак (Feature selection)](#6.3)\n",
    "    + [6.3.1. Статистичні підходи](#6.3.1)\n",
    "    + [6.3.2. Відбір із використанням моделей](#6.3.2)\n",
    "    + [6.3.3. Перебір](#6.3.2)\n",
    "- [6.4. Основні метрики якості класифікації](#6.4)\n",
    "    + [6.4.1. Матриця невідповідностей](#6.4.1)\n",
    "    + [6.4.2. Характеристики бінарного класифікатора](#6.4.2)\n",
    "    + [6.4.3. ROC-крива та AUC](#6.4.3)\n",
    "    + [6.4.4. Дисбаланс класів](#6.4.4)\n",
    "    + [6.4.5. Приклади застосувань метрик класифікації](#6.4.5)\n",
    "    + [6.4.6. Багатокласова класифікація](#6.4.6)\n",
    "    + [6.4.7. One vs. All](#6.4.7)\n",
    "- [6.5. Корисні посилання](#6.5)"
   ]
  },
  {
   "cell_type": "markdown",
   "metadata": {
    "slideshow": {
     "slide_type": "subslide"
    }
   },
   "source": [
    "В рамках курсу ми вже познайомилися з кількома ключовими алгоритмами машинного навчання (МН) для оброблення статистичних даних. Проте перед тим як переходити до більш складних алгоритмів та статистичних підходів, скажимо кілька слів про підготовку даних для навчання моделі. Відомий принцип garbage in - garbage out є на 100% застосовуваним щодо будь-якого завдання МН. Будь-який досвідчений інженер може згадати приклади з практики, коли проста модель, навчена на якісно підготовлених даних, показала себе краще хитромудрого ансамблю, побудованого на недостатньо чистих даних.\n",
    "\n",
    "В поточній лекції розглянемо три схожих завдання в задачі підготовки та оброблення ознак:\n",
    "* **feature extraction** і **feature engineering**, з англ. мови \"виявлення ознак\" – це перетворення даних, специфічних для предметної області, у вектори, що є зрозумілими для моделі;\n",
    "* **feature transformation**, з англ. мови \"перетворення ознак\" – це трансформація даних для підвищення точності алгоритму;\n",
    "* **feature selection** з англ. мови \"відбір ознак\" – це відбір найбільш значущих ознак або відсікання непотрібних ознак."
   ]
  },
  {
   "cell_type": "markdown",
   "metadata": {
    "slideshow": {
     "slide_type": "subslide"
    }
   },
   "source": [
    "У прикладах до лекції будемо використовувати набір даних компанії Renthop із Kaggle-змагання [Two Sigma Connect: Rental Listing Inquiries Kaggle competition](https://www.kaggle.com/c/two-sigma-connect-rental-listing-inquiries).\n",
    "\n",
    "У цьому завданні потрібно передбачити популярність оголошення щодо оренди нерухомості, тобто розв'язати задачу класифікації з трьома класами `['low', 'medium', 'high']`. Для оцінки розв'язку використовується метрика log loss (чим менше – тим краще). "
   ]
  },
  {
   "cell_type": "markdown",
   "metadata": {
    "slideshow": {
     "slide_type": "subslide"
    }
   },
   "source": [
    "Для інсталювання необхідного пакету в середовищі Google Colab потрібно ввести першій комірці:\n",
    "\n",
    "```python\n",
    "!pip install user-agents\n",
    "!pip install mlxtend\n",
    "```"
   ]
  },
  {
   "cell_type": "markdown",
   "metadata": {
    "slideshow": {
     "slide_type": "fragment"
    }
   },
   "source": [
    "Для інсталювання необхідного пакету в середовищі Anaconda потрібно в терміналі ввести наступні команди:\n",
    "\n",
    "```python\n",
    "conda install -c conda-forge mlxtend\n",
    "conda install -c conda-forge user-agents\n",
    "```"
   ]
  },
  {
   "cell_type": "code",
   "execution_count": 1,
   "metadata": {
    "ExecuteTime": {
     "end_time": "2018-03-15T14:06:07.067528Z",
     "start_time": "2018-03-15T14:06:02.181930Z"
    },
    "slideshow": {
     "slide_type": "subslide"
    }
   },
   "outputs": [],
   "source": [
    "from __future__ import division, print_function\n",
    "# Відключимо попередження Anaconda\n",
    "import warnings\n",
    "warnings.filterwarnings('ignore')\n",
    "\n",
    "import json\n",
    "import numpy as np\n",
    "import pandas as pd"
   ]
  },
  {
   "cell_type": "code",
   "execution_count": 2,
   "metadata": {
    "slideshow": {
     "slide_type": "fragment"
    }
   },
   "outputs": [],
   "source": [
    "# Відразу завантажимо набір даних з Renthop\n",
    "with open('train.json', 'r') as raw_data:\n",
    "    data = json.load(raw_data)\n",
    "    df = pd.DataFrame(data)\n",
    "\n",
    "%matplotlib inline\n",
    "from matplotlib import pyplot as plt\n",
    "\n",
    "# Задамо графіки у форматі .svg, щоби вони мали кращу чіткість\n",
    "# %config InlineBackend.figure_format = 'svg' \n",
    "\n",
    "# Підвищимо розмір графіків за замовчуванням\n",
    "plt.style.use('ggplot')\n",
    "plt.rcParams['figure.figsize'] = 7, 5"
   ]
  },
  {
   "cell_type": "markdown",
   "metadata": {
    "slideshow": {
     "slide_type": "skip"
    }
   },
   "source": [
    "<a class=\"anchor\" id=\"6.1\"></a>"
   ]
  },
  {
   "cell_type": "markdown",
   "metadata": {
    "slideshow": {
     "slide_type": "slide"
    }
   },
   "source": [
    "## <span style=\"color:blue; font-size:1.2em;\">6.1. Виявлення ознак (Feature extraction)</span>\n",
    "\n",
    "[Повернутися до змісту](#6)"
   ]
  },
  {
   "cell_type": "markdown",
   "metadata": {
    "slideshow": {
     "slide_type": "fragment"
    }
   },
   "source": [
    "На практиці вкрай рідко дані отримують у вигляді готових матриць. Тому будь-яка задачі розпочинається з виявлення ознак. Іноді набір даних для розв'язування задачі є підготовленим заздалегідь. В такому разі достатньо прочитати `.csv` файл і конвертувати його в `numpy.array`. Проте це, на жаль, такі випадки є вкрай винятковими, коли хтось інший поторбувався за підготовку даних. Тому щоби навчитися готувати дані для моделювання, розглянемо найбільш популярні типи даних, з яких зазвичай вилучають ознаки."
   ]
  },
  {
   "cell_type": "markdown",
   "metadata": {
    "slideshow": {
     "slide_type": "skip"
    }
   },
   "source": [
    "<a class=\"anchor\" id=\"6.1.1\"></a>"
   ]
  },
  {
   "cell_type": "markdown",
   "metadata": {
    "slideshow": {
     "slide_type": "slide"
    }
   },
   "source": [
    "### <span style=\"color:blue; font-size:1.2em;\"> 6.1.1. Текстові дані</span>\n",
    "\n",
    "[Повернутися до змісту](#6)"
   ]
  },
  {
   "cell_type": "markdown",
   "metadata": {
    "slideshow": {
     "slide_type": "fragment"
    }
   },
   "source": [
    "Текст – найбільш очевидний приклад даних у вільному форматі. Методів роботи з текстом дуже багато, в одній лекції вони не помістяться. Тим не менш, оглядово розглянемо найпопулярніші.\n",
    "\n",
    "Перед тим, як працювати з текстом, його необхідно [токенізувати](https://neptune.ai/blog/tokenization-in-nlp). Токенізація передбачає розбиття тексту на так звані токени – у найпростішому випадку це слова. Проте надто спрощуючи це поняття ми можемо втратити частину сенсу, наприклад, назва містечка \"Велика Рогань\" це не два токена, а один. Втім заклик \"кради-вбивай!\" даремно розділяти на два токени, тут два слова позначають один сенс. Існують готові токенайзери, які враховують особливості мови, але й вони можуть помилятися, особливо якщо ви працюєте зі специфічними текстами (професійна лексика, жаргонізми, друкарські помилки тощо)."
   ]
  },
  {
   "cell_type": "markdown",
   "metadata": {
    "slideshow": {
     "slide_type": "subslide"
    }
   },
   "source": [
    "Після токенізації зазвичай потрібно проводити [нормалізацію](https://en.wikipedia.org/wiki/Normalization_(statistics). Тут мова йде за [стемінг](https://en.wikipedia.org/wiki/Stemming) та/або [лематизацію](https://en.wikipedia.org/wiki/Lemmatisation) – це схожі процеси, що використовуються для оброблення словоформ. Про різницю між ними можна прочитати [тут](https://nlp.stanford.edu/IR-book/html/htmledition/stemming-and-lemmatization-1.html).\n",
    "\n",
    "Отже, після перетворення текстового документа на послідовність слів, можна починати перетворювати їх на вектора. Найпростіший підхід називається [Bag of Words](https://www.freecodecamp.org/news/an-introduction-to-bag-of-words-and-how-to-code-it-in-python-for-nlp-282e87a9da04/): створюємо вектор довжиною у словник, для кожного слова обраховуємо кількість входжень у текст та підставляємо це число на відповідну позицію у векторі. Ідея підходу добре ілюструється таким зображенням:"
   ]
  },
  {
   "cell_type": "markdown",
   "metadata": {
    "slideshow": {
     "slide_type": "subslide"
    }
   },
   "source": [
    "<img src=\"https://raw.githubusercontent.com/radiukpavlo/intelligent-data-analysis/main/03_img/6_1_bag-of-words.png\" align=\"center\" width=80% height=80%>"
   ]
  },
  {
   "cell_type": "markdown",
   "metadata": {
    "slideshow": {
     "slide_type": "fragment"
    }
   },
   "source": [
    "Програмний код цього механізму виглядає навіть простіше, ніж звучить на словах:"
   ]
  },
  {
   "cell_type": "code",
   "execution_count": 3,
   "metadata": {
    "ExecuteTime": {
     "end_time": "2018-03-15T14:06:07.087385Z",
     "start_time": "2018-03-15T14:06:07.068964Z"
    },
    "slideshow": {
     "slide_type": "subslide"
    }
   },
   "outputs": [
    {
     "name": "stdout",
     "output_type": "stream",
     "text": [
      "[1. 1. 1. 0. 0. 0. 1.]\n",
      "[1. 1. 0. 1. 0. 1. 0.]\n",
      "[1. 2. 1. 1. 2. 1. 1.]\n"
     ]
    }
   ],
   "source": [
    "from functools import reduce \n",
    "import numpy as np\n",
    "\n",
    "texts = [['i', 'have', 'a', 'cat'], \n",
    "        ['he', 'have', 'a', 'dog'], \n",
    "        ['he', 'and', 'i', 'have', 'a', 'cat', 'and', 'a', 'dog']]\n",
    "\n",
    "dictionary = list(enumerate(set(list(reduce(lambda x, y: x + y, texts)))))\n",
    "\n",
    "def vectorize(text): \n",
    "    vector = np.zeros(len(dictionary)) \n",
    "    for i, word in dictionary: \n",
    "        num = 0 \n",
    "        for w in text: \n",
    "            if w == word: \n",
    "                num += 1 \n",
    "        if num: \n",
    "            vector[i] = num \n",
    "    return vector\n",
    "\n",
    "for t in texts: \n",
    "    print(vectorize(t))"
   ]
  },
  {
   "cell_type": "markdown",
   "metadata": {
    "slideshow": {
     "slide_type": "subslide"
    }
   },
   "source": [
    "На практиці потрібно подбати про стоп-слова, максимальний розмір словника та ефективну структуру даних (зазвичай текстові дані перетворюють на розріджені вектори).\n",
    "\n",
    "Водночас використання алгоритмів на кшталт Вag of Words призводить до втрати порядку слів у тексті, тобто, тексти \"i have no cows\" та \"no, i have cows\" будуть ідентичними після векторизації, хоча і протилежними семантично. Щоб уникнути цієї проблеми, можна зробити крок назад і змінити підхід до токенізації: наприклад використовувати [N-грами](https://uk.wikipedia.org/wiki/N-%D0%B3%D1%80%D0%B0%D0%BC%D0%B0) (*комбінації* з N послідовних термінів)."
   ]
  },
  {
   "cell_type": "code",
   "execution_count": 4,
   "metadata": {
    "ExecuteTime": {
     "end_time": "2018-03-15T14:06:08.998673Z",
     "start_time": "2018-03-15T14:06:07.088376Z"
    },
    "slideshow": {
     "slide_type": "fragment"
    }
   },
   "outputs": [
    {
     "data": {
      "text/plain": [
       "array([[1, 1, 1],\n",
       "       [1, 1, 1]], dtype=int64)"
      ]
     },
     "execution_count": 4,
     "metadata": {},
     "output_type": "execute_result"
    }
   ],
   "source": [
    "from sklearn.feature_extraction.text import CountVectorizer\n",
    "\n",
    "vect = CountVectorizer(ngram_range=(1,1))\n",
    "vect.fit_transform(['no i have cows', 'i have no cows']).toarray()"
   ]
  },
  {
   "cell_type": "code",
   "execution_count": 5,
   "metadata": {
    "ExecuteTime": {
     "end_time": "2018-03-15T14:06:09.002804Z",
     "start_time": "2018-03-15T14:06:08.999801Z"
    },
    "slideshow": {
     "slide_type": "subslide"
    }
   },
   "outputs": [
    {
     "data": {
      "text/plain": [
       "{'no': 2, 'have': 1, 'cows': 0}"
      ]
     },
     "execution_count": 5,
     "metadata": {},
     "output_type": "execute_result"
    }
   ],
   "source": [
    "vect.vocabulary_ "
   ]
  },
  {
   "cell_type": "code",
   "execution_count": 6,
   "metadata": {
    "ExecuteTime": {
     "end_time": "2018-03-15T14:06:09.110448Z",
     "start_time": "2018-03-15T14:06:09.003924Z"
    },
    "slideshow": {
     "slide_type": "fragment"
    }
   },
   "outputs": [
    {
     "data": {
      "text/plain": [
       "array([[1, 1, 1, 0, 1, 0, 1],\n",
       "       [1, 1, 0, 1, 1, 1, 0]], dtype=int64)"
      ]
     },
     "execution_count": 6,
     "metadata": {},
     "output_type": "execute_result"
    }
   ],
   "source": [
    "vect = CountVectorizer(ngram_range=(1,2))\n",
    "vect.fit_transform(['no i have cows', 'i have no cows']).toarray()"
   ]
  },
  {
   "cell_type": "code",
   "execution_count": 7,
   "metadata": {
    "ExecuteTime": {
     "end_time": "2018-03-15T14:06:09.218867Z",
     "start_time": "2018-03-15T14:06:09.113204Z"
    },
    "slideshow": {
     "slide_type": "fragment"
    }
   },
   "outputs": [
    {
     "data": {
      "text/plain": [
       "{'no': 4,\n",
       " 'have': 1,\n",
       " 'cows': 0,\n",
       " 'no have': 6,\n",
       " 'have cows': 2,\n",
       " 'have no': 3,\n",
       " 'no cows': 5}"
      ]
     },
     "execution_count": 7,
     "metadata": {},
     "output_type": "execute_result"
    }
   ],
   "source": [
    "vect.vocabulary_"
   ]
  },
  {
   "cell_type": "markdown",
   "metadata": {
    "ExecuteTime": {
     "end_time": "2018-03-14T14:13:25.767656Z",
     "start_time": "2018-03-14T14:13:25.763924Z"
    },
    "slideshow": {
     "slide_type": "subslide"
    }
   },
   "source": [
    "Також варто зазначити, що необов'язково оперувати саме словами: у деяких випадках можна генерувати N-грами з літер. Наприклад, такий алгоритм врахує схожість споріднених слів або друкарських помилок."
   ]
  },
  {
   "cell_type": "code",
   "execution_count": 8,
   "metadata": {
    "ExecuteTime": {
     "end_time": "2018-03-15T14:06:09.774148Z",
     "start_time": "2018-03-15T14:06:09.220060Z"
    },
    "slideshow": {
     "slide_type": "fragment"
    }
   },
   "outputs": [
    {
     "data": {
      "text/plain": [
       "(2.8284271247461903, 3.1622776601683795, 3.3166247903554)"
      ]
     },
     "execution_count": 8,
     "metadata": {},
     "output_type": "execute_result"
    }
   ],
   "source": [
    "from scipy.spatial.distance import euclidean\n",
    "from sklearn.feature_extraction.text import CountVectorizer\n",
    "\n",
    "vect = CountVectorizer(ngram_range=(3,3), analyzer='char_wb')\n",
    "\n",
    "n1, n2, n3, n4 = vect.fit_transform(['andersen', 'petersen', 'petrov', 'smith']).toarray()\n",
    "\n",
    "euclidean(n1, n2), euclidean(n2, n3), euclidean(n3, n4)"
   ]
  },
  {
   "cell_type": "markdown",
   "metadata": {
    "slideshow": {
     "slide_type": "subslide"
    }
   },
   "source": [
    "Розвиток ідеї Bag of Words: слова, які рідко зустрічаються в корпусі (у всіх документах цього набору даних), але присутні в цьому конкретному документі, можуть виявитися більш важливими. В такому разі варто підвищити вагу більш вузькотематичних слів, щоб відокремити їх від загальнотематичних. Цей підхід називається [TF-IDF](https://uk.wikipedia.org/wiki/TF-IDF). Варіант TF-IDF за замовчуванням виглядає так:\n",
    "\n",
    "\n",
    "$$ \\large idf(t,D) = \\log\\frac{\\mid D\\mid}{df(d,t)+1}, $$\n",
    "\n",
    "$$ \\large tfidf(t,d,D) = tf(t,d) \\times idf(t,D). $$\n",
    "\n",
    "Аналоги підходу Bag of words можуть зустрічатися й поза текстовими задачами: наприклад, bag of sites в [Catch Me If You Can competition](https://inclass.kaggle.com/c/catch-me-if-you-can-intruder-detection-through-webpage-session-tracking), [Bag of apps](https://www.kaggle.com/xiaoml/talkingdata-mobile-user-demographics/bag-of-app-id-python-2-27392), [Bag of events](https://www.gelbukh.com/ijcla/2015-2/IJCLA-2015-2.pdf#page=11) тощо."
   ]
  },
  {
   "cell_type": "markdown",
   "metadata": {
    "slideshow": {
     "slide_type": "subslide"
    }
   },
   "source": [
    "Використання таких алгоритмів дає змогу отримати цілком робоче рішення простої проблеми, так званий baseline (з англ. \"початкове рішення\"). Проте, для тих дослідників/інженерів, які полюбляють щось більш сучасне, на ринку доступні нові підходи. Найпопулярніший метод нової хвилі – [Word2Vec](https://towardsdatascience.com/word2vec-explained-49c52b4ccb71), але є й альтернативи ([Wang2Vec](https://github.com/wlin12/wang2vec), [Glove](https://medium.com/analytics-vidhya/word-vectorization-using-glove-76919685ee0b), [fastText](https://fasttext.cc/)).\n",
    "\n",
    "Word2Vec є частинним випадком алгоритмів Word Embedding. Використання Word2Vec та подібних підходів дає змогу не лише векторизувати слова у просторі великої розмірності (зазвичай кілька сотень), а й порівнювати їхню семантичну близькість. Класичний приклад операцій над векторизованими поданнями: ***king – man + woman = queen***."
   ]
  },
  {
   "cell_type": "markdown",
   "metadata": {
    "slideshow": {
     "slide_type": "subslide"
    }
   },
   "source": [
    "<img src=\"https://raw.githubusercontent.com/radiukpavlo/intelligent-data-analysis/main/03_img/6_2_king-man%2Bwoman.gif\" align=\"center\" width=50% height=50%>"
   ]
  },
  {
   "cell_type": "markdown",
   "metadata": {
    "slideshow": {
     "slide_type": "subslide"
    }
   },
   "source": [
    "Варто розуміти, що ця модель не володіє розумінням слів, а лише намагається розмістити вектори так, щоб слова, які вживаються в загальному контексті, розміщувалися недалеко один від одного. Якщо цього не враховувати, можуть виникати багато курйозів: наприклад, знайти протилежність Гітлеру через множення відповідного вектора на -1. \n",
    "\n",
    "Такі моделі мають навчатися на великих наборах даних, щоб координати векторів дійсно відображали семантику слів. Для розв'язування власних задач можна завантажити напереднавчену модель, наприклад, [тут](https://github.com/3Top/word2vec-api#where-to-get-a-pretrained-models).\n",
    "\n",
    "Схожі методи використовуються також в інших областях (наприклад, у біоінформатиці). З несподіваних застосувань – [food2vec](https://jaan.io/food2vec-augmented-cooking-machine-intelligence/). Ви також можете свої ідеї; концепція досить універсальна."
   ]
  },
  {
   "cell_type": "markdown",
   "metadata": {
    "slideshow": {
     "slide_type": "skip"
    }
   },
   "source": [
    "<a class=\"anchor\" id=\"6.1.2\"></a>"
   ]
  },
  {
   "cell_type": "markdown",
   "metadata": {
    "slideshow": {
     "slide_type": "slide"
    }
   },
   "source": [
    "### <span style=\"color:blue; font-size:1.2em;\">6.1.2. Зображення</span>\n",
    "\n",
    "[Повернутися до змісту](#6)"
   ]
  },
  {
   "cell_type": "markdown",
   "metadata": {
    "slideshow": {
     "slide_type": "fragment"
    }
   },
   "source": [
    "Робота із зображеннями стає все простішою з року в рік. Перш за все, тому що часто можна взагалі не думати, а просто використати одну з популярних нейронних мереж. Втім, тут також не без проблем: для доволі складних задач із обробленням зображень потрібно багато чого знати.\n",
    "\n",
    "У часи, коли [GPU](https://en.wikipedia.org/wiki/Graphics_processing_unit) були слабшими, а \"ренесанс нейромереж\" ще не трапився, генерація візуальних ознак із зображень була окремою досить складною підгалуззю. Для роботи із зображеннями потрібно було працювати на низькому рівні, визначаючи, наприклад, кути, границі об'єктів тощо. Досвідчені фахівці у галузі комп'ютерного зору могли б провести багато паралелей між традиційними (старішими) підходами та сучасним нейромережевим моделюванням: зокрема, згорткові шари в сучасних мережах дуже схожі на [каскади Хаара](https://en.wikipedia.org/wiki/Haar-like_feature). Залишимо кілька посилань на популярні в минулому бібліотеки [skimage](http://scikit-image.org/docs/stable/api/skimage.feature.html) та [SimpleCV](http://simplecv.readthedocs.io/en/latest/SimpleCV.Features.html) і перейдемо відразу до теперішнього часу."
   ]
  },
  {
   "cell_type": "markdown",
   "metadata": {
    "slideshow": {
     "slide_type": "subslide"
    }
   },
   "source": [
    "Часто для задач із обробленням зображень використовується якась згорткова мережа. У такому разі не треба вигадувати свою архітектуру і не навчати мережу з нуля, а взяти напереднавчену \"state of the art\" нейронну мережу, ваги якої можна завантажити з відкритих джерел. Щоб адаптувати її під свою задачу, дослідники практикують так званий \"fine tuning\": останні повнозв'язні шари мережі \"відриваються\", замість них додаються нові, підібрані під конкретну задачу, і мережа донавчається на нових даних. Проте якщо ви векторизуєте зображення для якихось своїх цілей (наприклад, використовуєте якийсь немережевий класифікатор) – просто відірвіть останні шари та використовуйте вихідну інформацію попередніх шарів:"
   ]
  },
  {
   "cell_type": "code",
   "execution_count": 9,
   "metadata": {
    "slideshow": {
     "slide_type": "skip"
    }
   },
   "outputs": [],
   "source": [
    "# За бажання цей код можна роздокоментувати та подивитися\n",
    "# на результат застосування бібліотеки PyTorch\n",
    "\n",
    "# import torch\n",
    "# from torchvision import models, transforms\n",
    "# from PIL import Image\n",
    "# import numpy as np\n",
    "# from scipy.misc import face\n",
    "\n",
    "# # Визначення трансформацій зображення\n",
    "# transform = transforms.Compose([\n",
    "#     transforms.Resize(224),\n",
    "#     transforms.CenterCrop(224),\n",
    "#     transforms.ToTensor(),\n",
    "#     transforms.Normalize(mean=[0.485, 0.456, 0.406], std=[0.229, 0.224, 0.225]),\n",
    "# ])\n",
    "\n",
    "# # Завантаження попередньо підготовленої моделі ResNet50\n",
    "# resnet = models.resnet50(pretrained=True)\n",
    "# resnet.eval()  # Set the model to evaluation mode\n",
    "\n",
    "# # Завантаження та попереднє оброблення зображення\n",
    "# img = Image.fromarray(face())  # Convert numpy array to PIL Image\n",
    "# img = img.convert('RGB')  # Convert to RGB if necessary\n",
    "# img = transform(img)\n",
    "\n",
    "# # Додавання додаткового виміру\n",
    "# img = img.unsqueeze(0)\n",
    "\n",
    "# # Прогноз\n",
    "# with torch.no_grad():\n",
    "#     features = resnet(img)\n"
   ]
  },
  {
   "cell_type": "markdown",
   "metadata": {
    "slideshow": {
     "slide_type": "subslide"
    }
   },
   "source": [
    "<figure>\n",
    "<img src=\"https://raw.githubusercontent.com/radiukpavlo/intelligent-data-analysis/main/03_img/6_3_neural-net.png\" alt=\"Trulli\" style=\"width:100%\">\n",
    "<figcaption align = \"center\"><i>Згорткова нейронна мережа - типовий приклад архітектури нейронної мережі, що містить у собі як блоки для виявлення ознак, так і блоки для класифікації отриманого вектора ознак</i></figcaption>\n",
    "</figure>"
   ]
  },
  {
   "cell_type": "markdown",
   "metadata": {
    "ExecuteTime": {
     "end_time": "2018-03-14T14:44:25.102755Z",
     "start_time": "2018-03-14T14:44:24.374869Z"
    },
    "slideshow": {
     "slide_type": "subslide"
    }
   },
   "source": [
    "Проте не варто зациклюватися лише на нейромережевих методах. Деякі ознаки, згенеровані руками, можуть виявитися корисними і тепер: наприклад, прогнозуючи популярність оголошень про оренду квартири, можна припустити, що світлі квартири більше привертають увагу, і оформити ознаку \"середнє значення пікселя\". Надихнутися прикладами можна у документації відповідних [бібліотек](http://pillow.readthedocs.io/en/3.1.x/reference/ImageStat.html).\n",
    "\n",
    "Якщо на зображенні очікується блоки з текстом, то його можна прочитати й без розгортання складних нейромереж власними руками: наприклад, за допомогою [pytesseract](https://github.com/madmaze/pytesseract)."
   ]
  },
  {
   "cell_type": "markdown",
   "metadata": {
    "ExecuteTime": {
     "end_time": "2018-03-14T14:47:46.671934Z",
     "start_time": "2018-03-14T14:47:43.945326Z"
    },
    "slideshow": {
     "slide_type": "subslide"
    }
   },
   "source": [
    "```python\n",
    "import pytesseract\n",
    "from PIL import Image\n",
    "import requests\n",
    "from io import BytesIO\n",
    "\n",
    "# Випадкове зображення з інтернет-пошуку\n",
    "img = 'http://ohscurrent.org/wp-content/uploads/2015/09/domus-01-google.jpg'\n",
    "\n",
    "img = requests.get(img)\n",
    "img = Image.open(BytesIO(img.content))\n",
    "text = pytesseract.image_to_string(img)\n",
    "\n",
    "text\n",
    "\n",
    "Out: 'Google'\n",
    "```"
   ]
  },
  {
   "cell_type": "markdown",
   "metadata": {
    "slideshow": {
     "slide_type": "fragment"
    }
   },
   "source": [
    "Варто пам'ятати, що `pytesseract` – не панацея:"
   ]
  },
  {
   "cell_type": "markdown",
   "metadata": {
    "slideshow": {
     "slide_type": "subslide"
    }
   },
   "source": [
    "```python\n",
    "# Цього разу беремо зображення з Renthop\n",
    "img = requests.get('https://photos.renthop.com/2/8393298_6acaf11f030217d05f3a5604b9a2f70f.jpg')\n",
    "img = Image.open(BytesIO(img.content))\n",
    "pytesseract.image_to_string(img)\n",
    "\n",
    "Out: 'Cunveztible to 4}»'\n",
    "```"
   ]
  },
  {
   "cell_type": "markdown",
   "metadata": {
    "slideshow": {
     "slide_type": "fragment"
    }
   },
   "source": [
    "Ще один випадок, коли нейронні мережі не допоможуть – виявлення ознак з метаінфорації. В EXIF може зберігатися багато корисного: виробник і модель камери, дозвіл, використання спалаху, геокоординати зйомки, використане для оброблення програмне забезпечення та багато іншого."
   ]
  },
  {
   "cell_type": "markdown",
   "metadata": {
    "slideshow": {
     "slide_type": "skip"
    }
   },
   "source": [
    "<a class=\"anchor\" id=\"6.1.3\"></a>"
   ]
  },
  {
   "cell_type": "markdown",
   "metadata": {
    "slideshow": {
     "slide_type": "slide"
    }
   },
   "source": [
    "### <span style=\"color:blue; font-size:1.2em;\"> 6.1.3. Геодані</span>\n",
    "\n",
    "[Повернутися до змісту](#6)"
   ]
  },
  {
   "cell_type": "markdown",
   "metadata": {
    "slideshow": {
     "slide_type": "fragment"
    }
   },
   "source": [
    "Географічні дані трапляються в реальних задачах не так часто, як вище вказані, проте корисно освоїти основні методи роботи з ними, тим більше, що в цій галузі також достатньо готових рішень.\n",
    "\n",
    "Геодані найчастіше подані у вигляді адрес або пар \"широта + довгота\", тобто, у вигляді точок на карті. З огляду на умову задачі, можуть знадобитися дві протилежні операції: геокодування (відновлення точки з адреси) та зворотне геокодування (навпаки). Обидві операції здійсненні за допомогою зовнішніх API, таких як Google Maps або OpenStreetMap. Різні геокодери мають власні характеристики, якість змінюється від регіону до регіону. На сьогодні наявні універсальні бібліотеки, наприклад, [geopy](https://github.com/geopy/geopy), які є так званою обгорткою над багатьма зовнішніми сервісами."
   ]
  },
  {
   "cell_type": "markdown",
   "metadata": {
    "slideshow": {
     "slide_type": "fragment"
    }
   },
   "source": [
    "Якщо даних багато, то зовнішні API можуть спричиняти різні обмеження та проблеми. А для отримання інформації за HTTP далеко не завжди є оптимальнм рішенням за швидкостю. Тому варто пам’ятати про можливість використання локальної версії OpenStreetMap.\n",
    "\n",
    "Якщо даних мало, часу достатньо, але немає бажання вилучати складні ознаки, то можна не \"гратися\" з OpenStreetMap і використати `reverse_geocoder`:"
   ]
  },
  {
   "cell_type": "markdown",
   "metadata": {
    "ExecuteTime": {
     "end_time": "2018-03-14T15:12:50.468269Z",
     "start_time": "2018-03-14T15:12:50.455393Z"
    },
    "slideshow": {
     "slide_type": "subslide"
    }
   },
   "source": [
    "```python\n",
    "import reverse_geocoder as revgc\n",
    "\n",
    "revgc.search((df.latitude, df.longitude))\n",
    "Loading formatted geocoded file... \n",
    "\n",
    "Out: [OrderedDict([('lat', '40.74482'), \n",
    "                   ('lon', '-73.94875'), \n",
    "                   ('name', 'Long Island City'), \n",
    "                   ('admin1', 'New York'), \n",
    "                   ('admin2', 'Queens County'), \n",
    "                   ('cc', 'US')])]\n",
    "```"
   ]
  },
  {
   "cell_type": "markdown",
   "metadata": {
    "slideshow": {
     "slide_type": "subslide"
    }
   },
   "source": [
    "Працюючи з геокодингом, ми не повинні забувати про те, що адреси можуть містити помилки. Тому потрібно виконувати очистку даних. У координатах друкарських помилок зазвичай менше, але і з ними не все добре: GPS за природою даних може \"шуміти\", а в деяких місцях (тунелі, квартали хмарочосів njoj) – досить сильно. Якщо джерело даних – мобільний пристрій, то варто врахувати, що в деяких випадках геолокація визначається не за GPS, а за мережами Wi-Fi в окрузі, що веде до \"дірок\" у просторі та \"телепортації\": поміж набору точок, що описують подорож Манхеттеном може раптово опинитися одна з Чикаго.\n",
    "\n",
    ">Гіпотеза про телепортацію.\n",
    "Крапка зазвичай перебуває не в чистому полі, а поміж інфраструктури – тут можна дати волю фантазії та почати вигадувати ознаки, застосовуючи життєвий досвід та знання щодо предметної області. Близькість точки до метро, поверховість забудови, відстань до найближчого магазину, кількість банкоматів у радіусі – в рамках одного завдання можна вигадувати десятки ознак та видобувати їх із різних зовнішніх джерел. Для завдань поза міською інфраструктурою можуть стати в нагоді ознаки з більш специфічних джерел: наприклад, висота над рівнем моря."
   ]
  },
  {
   "cell_type": "markdown",
   "metadata": {
    "slideshow": {
     "slide_type": "subslide"
    }
   },
   "source": [
    "Якщо дві або більше точок взаємопов'язані, то можливо, варто вилучати ознаки маршруту між ними. Тут знадобляться дистанції (варто дивитися і на great circle distance, і на \"чесну\" відстань, обраховану за дорожнім графом), кількість поворотів разом із співвідношенням лівих та правих, кількість світлофорів, розв'язок, мостів тощо. Наприклад, непогано може спрацювати ознака під назвою \"складність дороги\" – це відстань, що обрахована за графом і поділена на GCD."
   ]
  },
  {
   "cell_type": "markdown",
   "metadata": {
    "slideshow": {
     "slide_type": "skip"
    }
   },
   "source": [
    "<a class=\"anchor\" id=\"6.1.4\"></a>"
   ]
  },
  {
   "cell_type": "markdown",
   "metadata": {
    "slideshow": {
     "slide_type": "slide"
    }
   },
   "source": [
    "### <span style=\"color:blue; font-size:1.2em;\">6.1.4. Дата і час </span>\n",
    "\n",
    "[Повернутися до змісту](#6)"
   ]
  },
  {
   "cell_type": "markdown",
   "metadata": {
    "slideshow": {
     "slide_type": "fragment"
    }
   },
   "source": [
    "Здавалося б, робота з датою і часом має бути стандартизована через поширеність відповідних ознак, але тут також не без проблем.\n",
    "\n",
    "Почнемо з днів тижня – їх легко перетворити на 7 \"dummy\" змінних за допомогою \"one-hot\" кодування. Крім цього, корисно виділити окрему ознаку`is_weekend`."
   ]
  },
  {
   "cell_type": "markdown",
   "metadata": {
    "slideshow": {
     "slide_type": "fragment"
    }
   },
   "source": [
    "```python\n",
    "df['dow'] = df['created'].apply(lambda x: x.date().weekday())\n",
    "df['is_weekend'] = df['created'].apply(lambda x: 1 if x.date().weekday() in (5, 6) else 0)\n",
    "```"
   ]
  },
  {
   "cell_type": "markdown",
   "metadata": {
    "slideshow": {
     "slide_type": "subslide"
    }
   },
   "source": [
    "Деякі практичні задачі можуть потребувати додаткові календарні ознаки: наприклад, зняття готівки може бути прив'язане до дня видачі зарплат, а придбання проїзного – до початку місяця. Водночас, працюючи з часовими даними, треба мати під рукою календар із державними святами, аномальними погодними умовами та іншими важливими подіями.\n",
    "\n",
    "Професійний несмішний гумор:\n",
    "\n",
    "> Q: Що спільного між китайським новим роком, нью-йорським марафоном, гей-парадом та інавгурацією Трампа?\n",
    "\n",
    "> A: Їх усіх потрібно внести до календаря потенційних аномалій."
   ]
  },
  {
   "cell_type": "markdown",
   "metadata": {
    "slideshow": {
     "slide_type": "subslide"
    }
   },
   "source": [
    "А ось із годиною (хвилиною, днем місяця тощо) все не так і добре. Якщо використовувати годину як дійсну змінну, ми будемо суперечати природі даних: `22 < 23`, хоча `02.01 0:00:00 > 01.01 23:00:00`. Для деяких задач це може бути критичним. Якщо ж кодувати їх як категоріальні змінні, можна натворити купу ознак і втратити інформацію про близькість: різниця між 22 та 23 буде такою самою, як і між 22 та 7.\n",
    "\n",
    "Існують і більш езотеричні підходи до таких даних. Наприклад, проєкція на коло з подальшим використанням двох координат."
   ]
  },
  {
   "cell_type": "code",
   "execution_count": 10,
   "metadata": {
    "ExecuteTime": {
     "end_time": "2018-03-15T14:06:27.782320Z",
     "start_time": "2018-03-15T14:06:27.772449Z"
    },
    "slideshow": {
     "slide_type": "fragment"
    }
   },
   "outputs": [],
   "source": [
    "def make_harmonic_features(value, period=24):\n",
    "    value *= 2 * np.pi / period \n",
    "    return np.cos(value), np.sin(value)"
   ]
  },
  {
   "cell_type": "markdown",
   "metadata": {
    "slideshow": {
     "slide_type": "subslide"
    }
   },
   "source": [
    "Таке перетворення зберігає дистанцію між точками, що важливо для деяких алгоритмів, які ґрунтуються на відстані (kNN, SVM, k-means тощо)"
   ]
  },
  {
   "cell_type": "code",
   "execution_count": 11,
   "metadata": {
    "ExecuteTime": {
     "end_time": "2018-03-15T14:06:27.883311Z",
     "start_time": "2018-03-15T14:06:27.784833Z"
    },
    "slideshow": {
     "slide_type": "fragment"
    }
   },
   "outputs": [
    {
     "data": {
      "text/plain": [
       "0.5176380902050424"
      ]
     },
     "execution_count": 11,
     "metadata": {},
     "output_type": "execute_result"
    }
   ],
   "source": [
    "from scipy.spatial import distance\n",
    "euclidean(make_harmonic_features(23), make_harmonic_features(1)) "
   ]
  },
  {
   "cell_type": "code",
   "execution_count": 12,
   "metadata": {
    "ExecuteTime": {
     "end_time": "2018-03-15T14:06:28.250852Z",
     "start_time": "2018-03-15T14:06:27.884753Z"
    },
    "slideshow": {
     "slide_type": "fragment"
    }
   },
   "outputs": [
    {
     "data": {
      "text/plain": [
       "0.5176380902050414"
      ]
     },
     "execution_count": 12,
     "metadata": {},
     "output_type": "execute_result"
    }
   ],
   "source": [
    "euclidean(make_harmonic_features(9), make_harmonic_features(11)) "
   ]
  },
  {
   "cell_type": "code",
   "execution_count": 13,
   "metadata": {
    "ExecuteTime": {
     "end_time": "2018-03-15T14:06:28.801865Z",
     "start_time": "2018-03-15T14:06:28.252109Z"
    },
    "slideshow": {
     "slide_type": "fragment"
    }
   },
   "outputs": [
    {
     "data": {
      "text/plain": [
       "2.0"
      ]
     },
     "execution_count": 13,
     "metadata": {},
     "output_type": "execute_result"
    }
   ],
   "source": [
    "euclidean(make_harmonic_features(9), make_harmonic_features(21))"
   ]
  },
  {
   "cell_type": "markdown",
   "metadata": {
    "slideshow": {
     "slide_type": "fragment"
    }
   },
   "source": [
    "Втім, різницю між такими способами кодування зазвичай можна вловити лише у третьому знаку після коми у метриці."
   ]
  },
  {
   "cell_type": "markdown",
   "metadata": {
    "slideshow": {
     "slide_type": "skip"
    }
   },
   "source": [
    "<a class=\"anchor\" id=\"6.1.5\"></a>"
   ]
  },
  {
   "cell_type": "markdown",
   "metadata": {
    "slideshow": {
     "slide_type": "slide"
    }
   },
   "source": [
    "### <span style=\"color:blue; font-size:1.2em;\">6.1.5. Часові ряди, веб та інше</span>\n",
    "\n",
    "[Повернутися до змісту](#6)"
   ]
  },
  {
   "cell_type": "markdown",
   "metadata": {
    "slideshow": {
     "slide_type": "fragment"
    }
   },
   "source": [
    "Для роботи з ознаками часових рядів є чудова бібліотека [tsfresh](https://github.com/blue-yonder/tsfresh). Бібліотека призначена для автоматичної генерації ознак з часових рядів.\n",
    "\n",
    "Якщо ви працюєте з вебом, у вас зазвичай є інформація про User Agent користувача. Це корисне джерело інформації. По-перше, звідти насамперед потрібно вилучити операційну систему. По-друге, зробити ознаку `is_mobile`. По-третє, подивитися на браузер."
   ]
  },
  {
   "cell_type": "code",
   "execution_count": 14,
   "metadata": {
    "ExecuteTime": {
     "end_time": "2018-03-15T14:06:29.336832Z",
     "start_time": "2018-03-15T14:06:28.804134Z"
    },
    "slideshow": {
     "slide_type": "subslide"
    },
    "tags": []
   },
   "outputs": [
    {
     "name": "stdout",
     "output_type": "stream",
     "text": [
      "Is a bot?  False\n",
      "Is mobile?  False\n",
      "Is PC?  True\n",
      "OS Family:  Ubuntu\n",
      "OS Version:  ()\n",
      "Browser Family:  Chromium\n",
      "Browser Version:  (56, 0, 2924)\n"
     ]
    }
   ],
   "source": [
    "# Установить pyyaml ua-parser user-agents\n",
    "import user_agents\n",
    "\n",
    "ua = 'Mozilla/5.0 (X11; Linux x86_64) AppleWebKit/537.36 (KHTML, like Gecko) Ubuntu Chromium/56.0.2924.76 Chrome/56.0.2924.76 Safari/537.36'\n",
    "ua = user_agents.parse(ua)\n",
    "\n",
    "print('Is a bot? ', ua.is_bot)\n",
    "print('Is mobile? ', ua.is_mobile)\n",
    "print('Is PC? ',ua.is_pc)\n",
    "print('OS Family: ',ua.os.family)\n",
    "print('OS Version: ',ua.os.version)\n",
    "print('Browser Family: ',ua.browser.family)\n",
    "print('Browser Version: ',ua.browser.version)"
   ]
  },
  {
   "cell_type": "markdown",
   "metadata": {
    "ExecuteTime": {
     "end_time": "2018-03-14T16:11:22.538721Z",
     "start_time": "2018-03-14T16:11:22.534198Z"
    },
    "slideshow": {
     "slide_type": "subslide"
    }
   },
   "source": [
    "> Як і в інших предметних областях, можна вигадувати свої ознаки, ґрунтуючись на гіпотезах про природу даних. На момент написання складання лекції Chromium 103 був новим, а через певний час така версія браузера зможе зберегтися тільки у тих, хто дуже давно не перезавантажував цей браузер. Чому б у такому разі не ввести ознаку \"відставання від свіжої версії браузера\"?\n",
    "\n",
    "Окрім ОС та браузера, можна подивитися на реферер (доступний не завжди), [http_accept_language](https://developer.mozilla.org/en-US/docs/Web/HTTP/Headers/Accept-Language) та іншу метаінформацію.\n",
    "\n",
    "Наступна за користю інформація – IP-адреса, з якої можна отримати як мінімум країну, а бажано ще й місто, провайдера, тип підключення (мобільне/стаціонарне). Потрібно розуміти, що бувають різноманітні проксі та застарілі бази, тому ознака може містити шум. Гуру мережного адміністрування можуть спробувати вилучити й набагато більш наворочені ознаки: наприклад, робити припущення про [використання VPN](https://www.cisco.com/c/en/us/support/docs/network-management/remote-access/215782-programmatic-approach-to-optimize-remote.html). До речі, дані з IP-адреси непогано комбінуються з `http_accept_language`: якщо користувач сидить за чилійському проксі, а локаль браузера – `ua_UA`, щось тут не так та має дорівнювати одиниці у відповідній колонці у таблиці (`is_traveler_or_proxy_user)."
   ]
  },
  {
   "cell_type": "markdown",
   "metadata": {
    "slideshow": {
     "slide_type": "skip"
    }
   },
   "source": [
    "<a class=\"anchor\" id=\"6.2\"></a>"
   ]
  },
  {
   "cell_type": "markdown",
   "metadata": {
    "slideshow": {
     "slide_type": "slide"
    }
   },
   "source": [
    "## <span style=\"color:blue; font-size:1.2em;\">6.2. Перетворення ознак (Feature transformations)</span>\n",
    "\n",
    "[Повернутися до змісту](#6)"
   ]
  },
  {
   "cell_type": "markdown",
   "metadata": {
    "slideshow": {
     "slide_type": "skip"
    }
   },
   "source": [
    "<a class=\"anchor\" id=\"6.2.1\"></a>"
   ]
  },
  {
   "cell_type": "markdown",
   "metadata": {
    "slideshow": {
     "slide_type": "slide"
    }
   },
   "source": [
    "### <span style=\"color:blue; font-size:1.2em;\">6.2.1. Нормалізація та зміна розподілу</span>\n",
    "\n",
    "[Повернутися до змісту](#6)"
   ]
  },
  {
   "cell_type": "markdown",
   "metadata": {
    "slideshow": {
     "slide_type": "fragment"
    }
   },
   "source": [
    "Монотонне перетворення ознак є критичним для одних алгоритмів і не впливає на інші. До речі, це одна з причин популярності дерев рішень та всіх похідних алгоритмів (випадковий ліс, градієнтний бустинг тощо) – не всі вміють/хочуть працювати з перетвореннями, а ці алгоритми є стійкими до незвичайних розподілів.\n",
    "\n",
    "Бувають і суто інженерні причини: `np.log` як спосіб боротьби з занадто великими числами, що не містяться в `np.float64`. Проте це швидше виняток, ніж правило; найчастіше виникають випадки, коли набір даних потрібно адаптувати під вимоги алгоритму. Параметричні методи зазвичай вимагають як мінімум симетричного та унімодального розподілу даних, що не завжди відповідаю реальному світу. Можуть бути і суворіші вимоги (наприклад, [загальні лінійні моделі](https://en.wikipedia.org/wiki/General_linear_model)).\n",
    "\n",
    "Втім, вимоги до даних пред'являють не лише параметричні методи: той же [метод найближчих сусідів](https://uk.wikipedia.org/wiki/%D0%9C%D0%B5%D1%82%D0%BE%D0%B4_k-%D0%BD%D0%B0%D0%B9%D0%B1%D0%BB%D0%B8%D0%B6%D1%87%D0%B8%D1%85_%D1%81%D1%83%D1%81%D1%96%D0%B4%D1%96%D0%B2) передбачить повну нісенітницю, якщо ознаки ненормовані: один розподіл розташований близько нуля і не виходить за межі (-1, 1), а інша ознака – це сотні та тисячі."
   ]
  },
  {
   "cell_type": "markdown",
   "metadata": {
    "slideshow": {
     "slide_type": "subslide"
    }
   },
   "source": [
    "***Розглянемо простий приклад***. Нехай маємо завдання передбачити вартість квартири за двома ознаками: віддаленість від центру та кількість кімнат. Кількість кімнат рідко перевищує 5, а відстань від центру у великих містах легко може вимірюватися в десятках тисяч метрів.\n",
    "\n",
    "Найпростіше перетворення ознак – це [Standard Scaling](https://en.wikipedia.org/wiki/Feature_scaling#Standardization_(Z-score_Normalization)) (або Z-score normalization):\n",
    "\n",
    "$$ \\large z= \\frac{x-\\mu}{\\sigma}. $$\n",
    "\n",
    "Варто зауважити, що Standard Scaling не робить розподіл нормальним у строгому значенні слова."
   ]
  },
  {
   "cell_type": "code",
   "execution_count": 15,
   "metadata": {
    "ExecuteTime": {
     "end_time": "2018-03-15T14:06:29.382748Z",
     "start_time": "2018-03-15T14:06:29.338320Z"
    },
    "slideshow": {
     "slide_type": "subslide"
    }
   },
   "outputs": [
    {
     "data": {
      "text/plain": [
       "ShapiroResult(statistic=0.8655787706375122, pvalue=2.0108996864917917e-28)"
      ]
     },
     "execution_count": 15,
     "metadata": {},
     "output_type": "execute_result"
    }
   ],
   "source": [
    "from sklearn.preprocessing import StandardScaler\n",
    "from scipy.stats import beta\n",
    "from scipy.stats import shapiro\n",
    "import numpy as np\n",
    "\n",
    "data = beta(1, 10).rvs(1000).reshape(-1, 1)\n",
    "shapiro(data)"
   ]
  },
  {
   "cell_type": "code",
   "execution_count": 16,
   "metadata": {
    "ExecuteTime": {
     "end_time": "2018-03-15T14:06:29.509590Z",
     "start_time": "2018-03-15T14:06:29.385020Z"
    },
    "slideshow": {
     "slide_type": "fragment"
    }
   },
   "outputs": [
    {
     "data": {
      "text/plain": [
       "ShapiroResult(statistic=0.8655789494514465, pvalue=2.0109846681505878e-28)"
      ]
     },
     "execution_count": 16,
     "metadata": {},
     "output_type": "execute_result"
    }
   ],
   "source": [
    "# Значення статистики, p-value \n",
    "shapiro(StandardScaler().fit_transform(data))"
   ]
  },
  {
   "cell_type": "markdown",
   "metadata": {
    "slideshow": {
     "slide_type": "subslide"
    }
   },
   "source": [
    "З таким *p*-value доведеться відхиляти нульову гіпотезу щодо нормальності даних."
   ]
  },
  {
   "cell_type": "code",
   "execution_count": 17,
   "metadata": {
    "ExecuteTime": {
     "end_time": "2018-03-15T14:06:29.602528Z",
     "start_time": "2018-03-15T14:06:29.511150Z"
    },
    "slideshow": {
     "slide_type": "fragment"
    }
   },
   "outputs": [
    {
     "data": {
      "text/plain": [
       "array([[-0.31922662],\n",
       "       [-0.31922662],\n",
       "       [-0.35434155],\n",
       "       [-0.38945648],\n",
       "       [-0.28411169],\n",
       "       [-0.31922662],\n",
       "       [-0.28411169],\n",
       "       [-0.24899676],\n",
       "       [-0.42457141],\n",
       "       [-0.21388184],\n",
       "       [ 3.15715128]])"
      ]
     },
     "execution_count": 17,
     "metadata": {},
     "output_type": "execute_result"
    }
   ],
   "source": [
    "data = np.array([1, 1, 0, -1, 2, 1, 2, 3, -2, 4, 100]).reshape(-1, 1).astype(np.float64)\n",
    "StandardScaler().fit_transform(data)"
   ]
  },
  {
   "cell_type": "code",
   "execution_count": 18,
   "metadata": {
    "ExecuteTime": {
     "end_time": "2018-03-15T14:06:29.713603Z",
     "start_time": "2018-03-15T14:06:29.605288Z"
    },
    "slideshow": {
     "slide_type": "subslide"
    }
   },
   "outputs": [
    {
     "data": {
      "text/plain": [
       "array([[-0.31922662],\n",
       "       [-0.31922662],\n",
       "       [-0.35434155],\n",
       "       [-0.38945648],\n",
       "       [-0.28411169],\n",
       "       [-0.31922662],\n",
       "       [-0.28411169],\n",
       "       [-0.24899676],\n",
       "       [-0.42457141],\n",
       "       [-0.21388184],\n",
       "       [ 3.15715128]])"
      ]
     },
     "execution_count": 18,
     "metadata": {},
     "output_type": "execute_result"
    }
   ],
   "source": [
    "(data - data.mean()) / data.std()"
   ]
  },
  {
   "cell_type": "markdown",
   "metadata": {
    "slideshow": {
     "slide_type": "subslide"
    }
   },
   "source": [
    "Інший досить популярний варіант – [MinMax Scaling](https://en.wikipedia.org/wiki/Feature_scaling#Standardization_(Z-score_Normalization)), який переносить усі точки вибірки на заданий відрізок (зазвичай [0; 1]).\n",
    "\n",
    "$$ \\large X_{norm}=\\frac{X-X_{min}}{X_{max}-X_{min}}. $$"
   ]
  },
  {
   "cell_type": "code",
   "execution_count": 19,
   "metadata": {
    "ExecuteTime": {
     "end_time": "2018-03-15T14:06:29.855619Z",
     "start_time": "2018-03-15T14:06:29.716000Z"
    },
    "slideshow": {
     "slide_type": "fragment"
    }
   },
   "outputs": [
    {
     "data": {
      "text/plain": [
       "array([[0.02941176],\n",
       "       [0.02941176],\n",
       "       [0.01960784],\n",
       "       [0.00980392],\n",
       "       [0.03921569],\n",
       "       [0.02941176],\n",
       "       [0.03921569],\n",
       "       [0.04901961],\n",
       "       [0.        ],\n",
       "       [0.05882353],\n",
       "       [1.        ]])"
      ]
     },
     "execution_count": 19,
     "metadata": {},
     "output_type": "execute_result"
    }
   ],
   "source": [
    "from sklearn.preprocessing import MinMaxScaler\n",
    "\n",
    "MinMaxScaler().fit_transform(data)"
   ]
  },
  {
   "cell_type": "code",
   "execution_count": 20,
   "metadata": {
    "ExecuteTime": {
     "end_time": "2018-03-15T14:06:29.955155Z",
     "start_time": "2018-03-15T14:06:29.857042Z"
    },
    "slideshow": {
     "slide_type": "subslide"
    }
   },
   "outputs": [
    {
     "data": {
      "text/plain": [
       "array([[0.02941176],\n",
       "       [0.02941176],\n",
       "       [0.01960784],\n",
       "       [0.00980392],\n",
       "       [0.03921569],\n",
       "       [0.02941176],\n",
       "       [0.03921569],\n",
       "       [0.04901961],\n",
       "       [0.        ],\n",
       "       [0.05882353],\n",
       "       [1.        ]])"
      ]
     },
     "execution_count": 20,
     "metadata": {},
     "output_type": "execute_result"
    }
   ],
   "source": [
    "(data - data.min()) / (data.max() - data.min()) "
   ]
  },
  {
   "cell_type": "markdown",
   "metadata": {
    "slideshow": {
     "slide_type": "fragment"
    }
   },
   "source": [
    "StandartScaling і MinMax Scaling мають схожі сфери застосування і є часто скільки-небудь взаємозамінні. Втім, якщо алгоритм передбачає обчислення відстаней між точками або векторами, стандартний вибір – StandartScaling. Проте MinMax Scaling корисний для візуалізації, щоб перенести ознаки на відрізок (0, 255).\n",
    "\n",
    "Якщо ми вважаємо, що деякі дані не розподілені нормально, але описуються [логнормальним розподілом](https://uk.wikipedia.org/wiki/%D0%9B%D0%BE%D0%B3%D0%BD%D0%BE%D1%80%D0%BC%D0%B0%D0%BB%D1%8C%D0%BD%D0%B8%D0%B9_%D1%80%D0%BE%D0%B7%D0%BF%D0%BE%D0%B4%D1%96%D0%BB), їх можна легко привести до чесного нормального розподілу:"
   ]
  },
  {
   "cell_type": "code",
   "execution_count": 21,
   "metadata": {
    "ExecuteTime": {
     "end_time": "2018-03-15T14:06:30.067680Z",
     "start_time": "2018-03-15T14:06:29.957011Z"
    },
    "slideshow": {
     "slide_type": "subslide"
    }
   },
   "outputs": [
    {
     "data": {
      "text/plain": [
       "ShapiroResult(statistic=0.667986273765564, pvalue=2.7710116612637528e-40)"
      ]
     },
     "execution_count": 21,
     "metadata": {},
     "output_type": "execute_result"
    }
   ],
   "source": [
    "from scipy.stats import lognorm\n",
    "\n",
    "data = lognorm(s=1).rvs(1000)\n",
    "shapiro(data)"
   ]
  },
  {
   "cell_type": "code",
   "execution_count": 22,
   "metadata": {
    "ExecuteTime": {
     "end_time": "2018-03-15T14:06:30.180348Z",
     "start_time": "2018-03-15T14:06:30.069180Z"
    },
    "slideshow": {
     "slide_type": "fragment"
    }
   },
   "outputs": [
    {
     "data": {
      "text/plain": [
       "ShapiroResult(statistic=0.9978131055831909, pvalue=0.21294420957565308)"
      ]
     },
     "execution_count": 22,
     "metadata": {},
     "output_type": "execute_result"
    }
   ],
   "source": [
    "shapiro(np.log(data))"
   ]
  },
  {
   "cell_type": "markdown",
   "metadata": {
    "slideshow": {
     "slide_type": "subslide"
    }
   },
   "source": [
    "Логнормальний розподіл підходить для опису зарплат, вартості цінних паперів, населення міст, кількості коментарів до статей в інтернеті тощо. Проте для застосування такого прийому розподіл не обов'язково має бути саме логнормальним – всі розподіли з важким \"правим хвостом\" можна пробувати піддати такому перетворенню. З іншого боку, можна намагатися використовувати й інші схожі перетворення, беручи до уваги власні гіпотези щодо наближення наявних розподілів до нормального. Прикладами таких перетворень є [перетворення Боксу-Коксу](https://docs.scipy.org/doc/scipy/reference/generated/scipy.stats.boxcox.html) (логарифмування – це окремий випадок перетворення Боксу-Коксу) або [перетворення Йео-Джонсона](https://gist.github.com/mesgarpour/f24769cd186e2db853957b10ff6b7a95), що розширює сферу застосування на негативні числа; крім того, можна намагатися просто додавати константу до ознаки – `np.log(x + const)`.\n",
    "\n",
    "У прикладах вище ми працювали із синтетичними даними та суворо перевіряли нормальність за допомогою критерію [Шапіро-Вілка](https://en.wikipedia.org/wiki/Shapiro%E2%80%93Wilk_test). Спробуймо подивитися на реальні дані, а для перевірки на нормальність будемо використовувати менш формальний метод – [Q-Q графік](https://en.wikipedia.org/wiki/Q%E2%80%93Q_plot). Для нормального розподілу він виглядатиме як пряма діагональна лінія, а візуальні відхилення є інтуїтивно зрозумілими."
   ]
  },
  {
   "cell_type": "markdown",
   "metadata": {
    "slideshow": {
     "slide_type": "subslide"
    }
   },
   "source": [
    "<figure>\n",
    "<img src=\"https://raw.githubusercontent.com/radiukpavlo/intelligent-data-analysis/main/03_img/6_4_qq_lognorm.png\" alt=\"Trulli\" style=\"width:70%\">\n",
    "<figcaption align = \"center\"><i>Q-Q графік для логнормального розподілу</i></figcaption>\n",
    "</figure>"
   ]
  },
  {
   "cell_type": "markdown",
   "metadata": {
    "slideshow": {
     "slide_type": "subslide"
    }
   },
   "source": [
    "<figure>\n",
    "<img src=\"https://raw.githubusercontent.com/radiukpavlo/intelligent-data-analysis/main/03_img/6_5_qq_log.png\" alt=\"Trulli\" style=\"width:70%\">\n",
    "<figcaption align = \"center\"><i>Q-Q графік для логнормального розподілу після логарифмування</i></figcaption>\n",
    "</figure>"
   ]
  },
  {
   "cell_type": "markdown",
   "metadata": {
    "slideshow": {
     "slide_type": "fragment"
    }
   },
   "source": [
    "Далі буде малювати графіки відповідно до сказаного вище."
   ]
  },
  {
   "cell_type": "code",
   "execution_count": 23,
   "metadata": {
    "ExecuteTime": {
     "end_time": "2018-03-15T14:06:31.801140Z",
     "start_time": "2018-03-15T14:06:30.182573Z"
    },
    "slideshow": {
     "slide_type": "subslide"
    }
   },
   "outputs": [],
   "source": [
    "import statsmodels.api as sm\n",
    "\n",
    "# Візьмемо ознаку price з набору даних Renthop і пофільтруємо руками надекстремальні значення для розуміння\n",
    "\n",
    "price = df.price[(df.price <= 20000) & (df.price > 500)]\n",
    "price_log = np.log(price)\n",
    "\n",
    "# Багато рухів, щоб sklearn не сипав warning-ами\n",
    "price_mm = MinMaxScaler().fit_transform(price.values.reshape(-1, 1).astype(np.float64)).flatten()\n",
    "price_z = StandardScaler().fit_transform(price.values.reshape(-1, 1).astype(np.float64)).flatten()"
   ]
  },
  {
   "cell_type": "code",
   "execution_count": 24,
   "metadata": {
    "ExecuteTime": {
     "end_time": "2018-03-15T14:06:32.717805Z",
     "start_time": "2018-03-15T14:06:31.802677Z"
    },
    "slideshow": {
     "slide_type": "subslide"
    }
   },
   "outputs": [
    {
     "data": {
      "image/png": "[encoded data removed]",
      "text/plain": [
       "<Figure size 700x500 with 1 Axes>"
      ]
     },
     "execution_count": 24,
     "metadata": {},
     "output_type": "execute_result"
    },
    {
     "data": {
      "image/png": "[encoded data removed]",
      "text/plain": [
       "<Figure size 700x500 with 1 Axes>"
      ]
     },
     "metadata": {},
     "output_type": "display_data"
    }
   ],
   "source": [
    "sm.qqplot(price, loc=price.mean(), scale=price.std())"
   ]
  },
  {
   "cell_type": "markdown",
   "metadata": {
    "slideshow": {
     "slide_type": "subslide"
    }
   },
   "source": [
    "Q-Q графік початкової ознаки."
   ]
  },
  {
   "cell_type": "code",
   "execution_count": 25,
   "metadata": {
    "ExecuteTime": {
     "end_time": "2018-03-15T14:06:32.987753Z",
     "start_time": "2018-03-15T14:06:32.719093Z"
    },
    "slideshow": {
     "slide_type": "subslide"
    }
   },
   "outputs": [
    {
     "data": {
      "image/png": "[encoded data removed]",
      "text/plain": [
       "<Figure size 700x500 with 1 Axes>"
      ]
     },
     "execution_count": 25,
     "metadata": {},
     "output_type": "execute_result"
    },
    {
     "data": {
      "image/png": "[encoded data removed]",
      "text/plain": [
       "<Figure size 700x500 with 1 Axes>"
      ]
     },
     "metadata": {},
     "output_type": "display_data"
    }
   ],
   "source": [
    "sm.qqplot(price_z, loc=price_z.mean(), scale=price_z.std())"
   ]
  },
  {
   "cell_type": "markdown",
   "metadata": {
    "slideshow": {
     "slide_type": "subslide"
    }
   },
   "source": [
    "Q-Q графік ознаки після StandardScaler. Форма не змінюється."
   ]
  },
  {
   "cell_type": "code",
   "execution_count": 26,
   "metadata": {
    "ExecuteTime": {
     "end_time": "2018-03-15T14:06:33.243510Z",
     "start_time": "2018-03-15T14:06:32.988869Z"
    },
    "slideshow": {
     "slide_type": "subslide"
    }
   },
   "outputs": [
    {
     "data": {
      "image/png": "[encoded data removed]",
      "text/plain": [
       "<Figure size 700x500 with 1 Axes>"
      ]
     },
     "execution_count": 26,
     "metadata": {},
     "output_type": "execute_result"
    },
    {
     "data": {
      "image/png": "[encoded data removed]",
      "text/plain": [
       "<Figure size 700x500 with 1 Axes>"
      ]
     },
     "metadata": {},
     "output_type": "display_data"
    }
   ],
   "source": [
    "sm.qqplot(price_mm, loc=price_mm.mean(), scale=price_mm.std())"
   ]
  },
  {
   "cell_type": "markdown",
   "metadata": {
    "slideshow": {
     "slide_type": "subslide"
    }
   },
   "source": [
    "Q-Q графік ознак після MinMaxScaler. Форма не змінюється."
   ]
  },
  {
   "cell_type": "code",
   "execution_count": 27,
   "metadata": {
    "ExecuteTime": {
     "end_time": "2018-03-15T14:06:33.510998Z",
     "start_time": "2018-03-15T14:06:33.244652Z"
    },
    "slideshow": {
     "slide_type": "subslide"
    }
   },
   "outputs": [
    {
     "data": {
      "image/png": "[encoded data removed]",
      "text/plain": [
       "<Figure size 700x500 with 1 Axes>"
      ]
     },
     "execution_count": 27,
     "metadata": {},
     "output_type": "execute_result"
    },
    {
     "data": {
      "image/png": "[encoded data removed]",
      "text/plain": [
       "<Figure size 700x500 with 1 Axes>"
      ]
     },
     "metadata": {},
     "output_type": "display_data"
    }
   ],
   "source": [
    "sm.qqplot(price_log, loc=price_log.mean(), scale=price_log.std())"
   ]
  },
  {
   "cell_type": "markdown",
   "metadata": {
    "slideshow": {
     "slide_type": "subslide"
    }
   },
   "source": [
    "Q-Q графік ознаки після логарифмування. Справи пішли на покращення!"
   ]
  },
  {
   "cell_type": "markdown",
   "metadata": {
    "slideshow": {
     "slide_type": "skip"
    }
   },
   "source": [
    "<a class=\"anchor\" id=\"6.2.2\"></a>"
   ]
  },
  {
   "cell_type": "markdown",
   "metadata": {
    "slideshow": {
     "slide_type": "slide"
    }
   },
   "source": [
    "### <span style=\"color:blue; font-size:1.2em;\">6.2.2. Взаємодії (Interactions)</span>\n",
    "\n",
    "[Повернутися до змісту](#6)"
   ]
  },
  {
   "cell_type": "markdown",
   "metadata": {
    "slideshow": {
     "slide_type": "fragment"
    }
   },
   "source": [
    "Якщо попередні перетворення диктувалися швидше математикою, то цей пункт знову обґрунтований природою даних; його можна віднести як до перетворень, так і до створення нових ознак.\n",
    "\n",
    "Знову звернемося до задачі [Two Sigma Connect: Rental Listing Inquires](https://www.kaggle.com/c/two-sigma-connect-rental-listing-inquiries). Поміж ознак цієї задачі є кількість кімнат і вартість оренди. Життєва логіка підказує, що вартість у перерахунку на одну кімнату є більш показовою, ніж загальна вартість – отже, можна спробувати виділити таку ознаку."
   ]
  },
  {
   "cell_type": "code",
   "execution_count": 28,
   "metadata": {
    "ExecuteTime": {
     "end_time": "2018-03-15T14:06:33.800002Z",
     "start_time": "2018-03-15T14:06:33.512381Z"
    },
    "slideshow": {
     "slide_type": "subslide"
    }
   },
   "outputs": [],
   "source": [
    "rooms = df[\"bedrooms\"].apply(lambda x: max(x, .5))\n",
    "\n",
    "# Уникаємо поділу на нуль; .5 обраний більш-менш довільно\n",
    "df[\"price_per_bedroom\"] = df[\"price\"] / rooms"
   ]
  },
  {
   "cell_type": "markdown",
   "metadata": {
    "slideshow": {
     "slide_type": "fragment"
    }
   },
   "source": [
    "Необов'язково керуватися життєвою логікою. Якщо ознак не дуже багато, можна згенерувати всі можливі взаємодії і потім відсіяти зайві, використовуючи одну з технік, що описані в наступному розділі. Крім того, не всі взаємодії між ознаками повинні мати хоч якийсь фізичний зміст: наприклад, [часто використовувані для лінійних моделей](https://d2l.ai/chapter_linear-networks/linear-regression.html) поліноміальні ознаки (див. [sklearn.preprocessing.PolynomialFeatures](http://scikit-learn.org/stable/modules/generated/sklearn.preprocessing.PolynomialFeatures.html)) трактувати практично неможливо."
   ]
  },
  {
   "cell_type": "markdown",
   "metadata": {
    "slideshow": {
     "slide_type": "skip"
    }
   },
   "source": [
    "<a class=\"anchor\" id=\"6.2.3\"></a>"
   ]
  },
  {
   "cell_type": "markdown",
   "metadata": {
    "slideshow": {
     "slide_type": "slide"
    }
   },
   "source": [
    "### <span style=\"color:blue; font-size:1.2em;\">6.2.3. Заповнення пропусків</span>\n",
    "\n",
    "[Повернутися до змісту](#6)"
   ]
  },
  {
   "cell_type": "markdown",
   "metadata": {
    "slideshow": {
     "slide_type": "fragment"
    }
   },
   "source": [
    "Мало які алгоритми вміють працювати з пропущеними значеннями \"з коробки\". Водночас реальний світ часто постачає дані з пропусками. На щастя, це одне з тих завдань, для розв'язання яких не потрібна жодна творчість. Обидві ключові для аналізу даних Python бібліотеки надають прості рішення: [pandas.DataFrame.fillna](http://pandas.pydata.org/pandas-docs/stable/generated/pandas.DataFrame.fillna.html) та [sklearn.preprocessing.Imputer](http://scikit-learn.org/stable/modules/preprocessing.html#imputation)."
   ]
  },
  {
   "cell_type": "markdown",
   "metadata": {
    "slideshow": {
     "slide_type": "subslide"
    }
   },
   "source": [
    "Готові бібліотечні рішення не ховають жодної магії за фасадом. Підходи до оброблення відсутніх значень напрошуються на рівні здорового глузду:\n",
    "\n",
    "* закодувати окремим порожнім значенням, як `\"n/a\"` (для категоріальних змінних);\n",
    "* використати найімовірніше значення ознаки (середнє або медіану для дійсних змінних, найчастіше для категоріальних);\n",
    "* навпаки, закодувати якимось неймовірним значенням (добре заходить для моделей, що ґрунтуються на деревах рішень, тому що дозволяє зробити поділ на пропущені та непропущені значення);\n",
    "* для впорядкованих даних (наприклад, часових рядів) можна брати сусіднє значення – наступне чи попереднє."
   ]
  },
  {
   "cell_type": "markdown",
   "metadata": {
    "slideshow": {
     "slide_type": "subslide"
    }
   },
   "source": [
    "<img src=\"https://raw.githubusercontent.com/radiukpavlo/intelligent-data-analysis/main/03_img/6_6_value-error.png\" align=\"center\" width=70%>"
   ]
  },
  {
   "cell_type": "markdown",
   "metadata": {
    "slideshow": {
     "slide_type": "fragment"
    }
   },
   "source": [
    "Зручність використання бібліотечних рішень іноді підказує вставити щось на зразок `df = df.fillna(0)` і не турбуватися за пропуски. Проте це не найрозумніше рішення: більшість часу зазвичай йде не так на побудову моделі, але на підготовку даних. Бездумне неявне заповнення пропусків може заховати баг в обробленні та зіпсувати модель."
   ]
  },
  {
   "cell_type": "markdown",
   "metadata": {
    "slideshow": {
     "slide_type": "skip"
    }
   },
   "source": [
    "<a class=\"anchor\" id=\"6.3\"></a>"
   ]
  },
  {
   "cell_type": "markdown",
   "metadata": {
    "slideshow": {
     "slide_type": "slide"
    }
   },
   "source": [
    "## <span style=\"color:blue; font-size:1.2em;\">6.3. Відбір ознак (Feature selection)</span>\n",
    "\n",
    "[Повернутися до змісту](#6)"
   ]
  },
  {
   "cell_type": "markdown",
   "metadata": {
    "slideshow": {
     "slide_type": "fragment"
    }
   },
   "source": [
    "Навіщо взагалі проводити відбір ознак? Комусь ця ідея може здатися контрінтуїтивною, але насправді є щонайменше дві важливі причини позбавлятися неважливих ознак. Перша є зрозумілою кожному інженеру: що більше даних, то вищою є обчислювальна складність. Поки ми працюємо з іграшковими наборами даних, розмір даних не є проблемою. Проте для реального навантаженого комерційного проєкту зайві сотні ознак можуть бути вкрай відчутними. Інша причина – деякі алгоритми сприймають шум (неінформативні ознаки) за цільовий сигнал, узагальнюючи надлишкову або непотрібну інформацію."
   ]
  },
  {
   "cell_type": "markdown",
   "metadata": {
    "slideshow": {
     "slide_type": "skip"
    }
   },
   "source": [
    "<a class=\"anchor\" id=\"6.3.1\"></a>"
   ]
  },
  {
   "cell_type": "markdown",
   "metadata": {
    "slideshow": {
     "slide_type": "subslide"
    }
   },
   "source": [
    "### <span style=\"color:blue; font-size:1.2em;\">6.3.1 Статистичні підходи</span>\n",
    "\n",
    "[Повернутися до змісту](#6)"
   ]
  },
  {
   "cell_type": "markdown",
   "metadata": {
    "slideshow": {
     "slide_type": "fragment"
    }
   },
   "source": [
    "Найочевидніший кандидат на вилучення – це ознака, що має незмінне значення, тобто, така, яка не містить жодної інформації. Якщо трохи відійти від цього виродженого випадку, то можна припустити, що низьковаріативні ознаки є дещо гіршими, ніж високоваріативні. Так можна дійти ідеї вилучати ознаки, дисперсія яких нижче певної межі."
   ]
  },
  {
   "cell_type": "code",
   "execution_count": 29,
   "metadata": {
    "ExecuteTime": {
     "end_time": "2018-03-15T14:06:34.669290Z",
     "start_time": "2018-03-15T14:06:33.801760Z"
    },
    "slideshow": {
     "slide_type": "subslide"
    }
   },
   "outputs": [
    {
     "data": {
      "text/plain": [
       "(100, 20)"
      ]
     },
     "execution_count": 29,
     "metadata": {},
     "output_type": "execute_result"
    }
   ],
   "source": [
    "from sklearn.feature_selection import VarianceThreshold\n",
    "from sklearn.datasets import make_classification\n",
    "\n",
    "x_data_generated, y_data_generated = make_classification()\n",
    "x_data_generated.shape"
   ]
  },
  {
   "cell_type": "code",
   "execution_count": 30,
   "metadata": {
    "ExecuteTime": {
     "end_time": "2018-03-15T14:06:34.674947Z",
     "start_time": "2018-03-15T14:06:34.670899Z"
    },
    "slideshow": {
     "slide_type": "fragment"
    }
   },
   "outputs": [
    {
     "data": {
      "text/plain": [
       "(100, 19)"
      ]
     },
     "execution_count": 30,
     "metadata": {},
     "output_type": "execute_result"
    }
   ],
   "source": [
    "VarianceThreshold(.7).fit_transform(x_data_generated).shape"
   ]
  },
  {
   "cell_type": "code",
   "execution_count": 31,
   "metadata": {
    "ExecuteTime": {
     "end_time": "2018-03-15T14:06:34.801683Z",
     "start_time": "2018-03-15T14:06:34.676130Z"
    },
    "slideshow": {
     "slide_type": "fragment"
    }
   },
   "outputs": [
    {
     "data": {
      "text/plain": [
       "(100, 18)"
      ]
     },
     "execution_count": 31,
     "metadata": {},
     "output_type": "execute_result"
    }
   ],
   "source": [
    "VarianceThreshold(.8).fit_transform(x_data_generated).shape"
   ]
  },
  {
   "cell_type": "code",
   "execution_count": 32,
   "metadata": {
    "ExecuteTime": {
     "end_time": "2018-03-15T14:06:34.903665Z",
     "start_time": "2018-03-15T14:06:34.803278Z"
    },
    "slideshow": {
     "slide_type": "fragment"
    }
   },
   "outputs": [
    {
     "data": {
      "text/plain": [
       "(100, 14)"
      ]
     },
     "execution_count": 32,
     "metadata": {},
     "output_type": "execute_result"
    }
   ],
   "source": [
    "VarianceThreshold(.9).fit_transform(x_data_generated).shape"
   ]
  },
  {
   "cell_type": "markdown",
   "metadata": {
    "slideshow": {
     "slide_type": "subslide"
    }
   },
   "source": [
    "Є й інші підходи, що також [ґрунтуються на класичній статистиці](http://scikit-learn.org/stable/modules/feature_selection.html#univariate-feature-selection)."
   ]
  },
  {
   "cell_type": "code",
   "execution_count": 33,
   "metadata": {
    "ExecuteTime": {
     "end_time": "2018-03-15T14:06:35.235212Z",
     "start_time": "2018-03-15T14:06:34.908459Z"
    },
    "slideshow": {
     "slide_type": "fragment"
    }
   },
   "outputs": [],
   "source": [
    "from sklearn.feature_selection import SelectKBest, f_classif\n",
    "from sklearn.linear_model import LogisticRegression\n",
    "from sklearn.model_selection import cross_val_score\n",
    "\n",
    "x_data_kbest = SelectKBest(f_classif, k=5).fit_transform(x_data_generated, y_data_generated)\n",
    "x_data_varth = VarianceThreshold(.9).fit_transform(x_data_generated)"
   ]
  },
  {
   "cell_type": "code",
   "execution_count": 34,
   "metadata": {
    "ExecuteTime": {
     "end_time": "2018-03-15T14:06:35.251270Z",
     "start_time": "2018-03-15T14:06:35.237608Z"
    },
    "slideshow": {
     "slide_type": "fragment"
    }
   },
   "outputs": [
    {
     "data": {
      "text/plain": [
       "-0.5193481934719989"
      ]
     },
     "execution_count": 34,
     "metadata": {},
     "output_type": "execute_result"
    }
   ],
   "source": [
    "cross_val_score(LogisticRegression(), x_data_generated, y_data_generated, scoring='neg_log_loss').mean()"
   ]
  },
  {
   "cell_type": "code",
   "execution_count": 35,
   "metadata": {
    "ExecuteTime": {
     "end_time": "2018-03-15T14:06:35.355729Z",
     "start_time": "2018-03-15T14:06:35.252493Z"
    },
    "slideshow": {
     "slide_type": "subslide"
    }
   },
   "outputs": [
    {
     "data": {
      "text/plain": [
       "-0.32945239229958423"
      ]
     },
     "execution_count": 35,
     "metadata": {},
     "output_type": "execute_result"
    }
   ],
   "source": [
    "cross_val_score(LogisticRegression(), x_data_kbest, y_data_generated, scoring='neg_log_loss').mean()"
   ]
  },
  {
   "cell_type": "code",
   "execution_count": 36,
   "metadata": {
    "ExecuteTime": {
     "end_time": "2018-03-15T14:06:35.500340Z",
     "start_time": "2018-03-15T14:06:35.356862Z"
    },
    "slideshow": {
     "slide_type": "fragment"
    }
   },
   "outputs": [
    {
     "data": {
      "text/plain": [
       "-0.5166196198759923"
      ]
     },
     "execution_count": 36,
     "metadata": {},
     "output_type": "execute_result"
    }
   ],
   "source": [
    "cross_val_score(LogisticRegression(), x_data_varth, y_data_generated, scoring='neg_log_loss').mean()"
   ]
  },
  {
   "cell_type": "markdown",
   "metadata": {
    "slideshow": {
     "slide_type": "fragment"
    }
   },
   "source": [
    "Бачимо, що відібрані ознаки підвищили якість класифікатора. Зрозуміло, що цей приклад є штучним, проте підхід гідний уваги і в реальних завданнях."
   ]
  },
  {
   "cell_type": "markdown",
   "metadata": {
    "slideshow": {
     "slide_type": "skip"
    }
   },
   "source": [
    "<a class=\"anchor\" id=\"6.3.2\"></a>"
   ]
  },
  {
   "cell_type": "markdown",
   "metadata": {
    "slideshow": {
     "slide_type": "slide"
    }
   },
   "source": [
    "### <span style=\"color:blue; font-size:1.2em;\">6.3.2. Відбір із використанням моделей</span>\n",
    "\n",
    "[Повернутися до змісту](#6)"
   ]
  },
  {
   "cell_type": "markdown",
   "metadata": {
    "slideshow": {
     "slide_type": "fragment"
    }
   },
   "source": [
    "Інший підхід: використовувати певну базову модель для оцінювання ознак. Водночас модель повинна явно демонструвати важливість використаних ознак. Зазвичай використовуються два типи моделей: якийсь \"дерев'яний\" ансамбль (наприклад, [Random Forest](https://scikit-learn.org/stable/modules/generated/sklearn.ensemble.RandomForestClassifier.html)) або лінійна модель з [Lasso регуляризацією](https://scikit-learn.org/stable/modules/generated/sklearn.linear_model.Lasso.html), яка схильна обнулювати ваги слабких ознак. Логіка інтутивно зрозуміла: якщо ознаки явно марні в простій моделі, то не треба залишати їх і в складній."
   ]
  },
  {
   "cell_type": "code",
   "execution_count": 37,
   "metadata": {
    "ExecuteTime": {
     "end_time": "2018-03-15T14:06:35.975262Z",
     "start_time": "2018-03-15T14:06:35.502079Z"
    },
    "slideshow": {
     "slide_type": "subslide"
    }
   },
   "outputs": [
    {
     "name": "stdout",
     "output_type": "stream",
     "text": [
      "LR + selection: -0.3069808072561334\n",
      "LR: -0.27234772674425295\n",
      "RF: -0.22713955125188812\n"
     ]
    }
   ],
   "source": [
    "# Синтетичний приклад\n",
    "\n",
    "from sklearn.datasets import make_classification\n",
    "from sklearn.linear_model import LogisticRegression\n",
    "from sklearn.ensemble import RandomForestClassifier\n",
    "from sklearn.feature_selection import SelectFromModel\n",
    "from sklearn.model_selection import cross_val_score\n",
    "from sklearn.pipeline import make_pipeline\n",
    "\n",
    "x_data_generated, y_data_generated = make_classification()\n",
    "\n",
    "pipe = make_pipeline(SelectFromModel(estimator=RandomForestClassifier()), LogisticRegression())\n",
    "\n",
    "lr = LogisticRegression()\n",
    "rf = RandomForestClassifier()\n",
    "\n",
    "print(f\"LR + selection: {cross_val_score(lr, x_data_generated, y_data_generated, scoring='neg_log_loss').mean()}\")\n",
    "print(f\"LR: {cross_val_score(rf, x_data_generated, y_data_generated, scoring='neg_log_loss').mean()}\")\n",
    "print(f\"RF: {cross_val_score(pipe, x_data_generated, y_data_generated, scoring='neg_log_loss').mean()}\")"
   ]
  },
  {
   "cell_type": "markdown",
   "metadata": {
    "slideshow": {
     "slide_type": "subslide"
    }
   },
   "source": [
    "Варто також розуміти, що такий підхід теж не срібна куля – може вийти навіть гірше."
   ]
  },
  {
   "cell_type": "code",
   "execution_count": 38,
   "metadata": {
    "ExecuteTime": {
     "end_time": "2018-03-15T14:06:36.095657Z",
     "start_time": "2018-03-15T14:06:35.976948Z"
    },
    "slideshow": {
     "slide_type": "fragment"
    }
   },
   "outputs": [
    {
     "name": "stdout",
     "output_type": "stream",
     "text": [
      "LR + selection: -0.233785521147295\n",
      "LR: -0.31606166204593544\n",
      "RF: -0.2613436571429124\n"
     ]
    }
   ],
   "source": [
    "# Повернемося до набору даних Renthop.\n",
    "\n",
    "#x_data, y_data = get_data() \n",
    "x_data = x_data_generated\n",
    "y_data = y_data_generated\n",
    "\n",
    "pipe1 = make_pipeline(StandardScaler(), SelectFromModel(estimator=RandomForestClassifier()), LogisticRegression())\n",
    "\n",
    "pipe2 = make_pipeline(StandardScaler(), LogisticRegression())\n",
    "\n",
    "rf = RandomForestClassifier()\n",
    "\n",
    "print(f\"LR + selection: {cross_val_score(pipe1, x_data, y_data, scoring='neg_log_loss').mean()}\")\n",
    "print(f\"LR: {cross_val_score(pipe2, x_data, y_data, scoring='neg_log_loss').mean()}\")\n",
    "print(f\"RF: {cross_val_score(rf, x_data, y_data, scoring='neg_log_loss').mean()}\")"
   ]
  },
  {
   "cell_type": "markdown",
   "metadata": {
    "slideshow": {
     "slide_type": "fragment"
    }
   },
   "source": [
    "Стало лише гірше!"
   ]
  },
  {
   "cell_type": "markdown",
   "metadata": {
    "slideshow": {
     "slide_type": "skip"
    }
   },
   "source": [
    "<a class=\"anchor\" id=\"6.3.3\"></a>"
   ]
  },
  {
   "cell_type": "markdown",
   "metadata": {
    "slideshow": {
     "slide_type": "slide"
    }
   },
   "source": [
    "### <span style=\"color:blue; font-size:1.2em;\"> 6.3.3. Перебір</span>\n",
    "\n",
    "[Повернутися до змісту](#6)"
   ]
  },
  {
   "cell_type": "markdown",
   "metadata": {
    "slideshow": {
     "slide_type": "fragment"
    }
   },
   "source": [
    "В решті-решт, найнадійніший, але й найбільш обчислювально складний спосіб ґрунтуються на звичайному переборі:\n",
    "* навчаємо модель на підмножині \"ознак\";\n",
    "* запам'ятовуємо результат;\n",
    "* повторюємо для різних підмножин;\n",
    "* порівнюємо якість моделей.\n",
    "\n",
    "Такий підхід називається [Exhaustive Feature Selection](http://rasbt.github.io/mlxtend/user_guide/feature_selection/ExhaustiveFeatureSelector/)."
   ]
  },
  {
   "cell_type": "markdown",
   "metadata": {
    "slideshow": {
     "slide_type": "subslide"
    }
   },
   "source": [
    "Перебирати всі комбінації зазвичай занадто довго, так що можна пробувати зменшити простір перебору:\n",
    "1. Фіксуємо невелике число N.\n",
    "2. Перебираємо всі комбінації за ознаками N.\n",
    "3. Вибираємо кращу комбінацію.\n",
    "4. Далі перебираємо комбінації з N+1 ознак так, що попередня краща комбінація ознак зафіксована, а перебирається тільки нова ознака.\n",
    "\n",
    "Отже, так можна перебирати, допоки не впораємося в максимально допустиму кількість ознак або поки якість моделі не перестане значно зростати. Цей алгоритм називається [Sequential Feature Selection](http://rasbt.github.io/mlxtend/user_guide/feature_selection/SequentialFeatureSelector/).\n",
    "\n",
    "Деталізуємо описаний вище алгоритм: починати з повного простору ознак і викидати ознаки по одній, поки якість моделі залишається сталою або поки не досягнуто бажану кількість ознак."
   ]
  },
  {
   "cell_type": "code",
   "execution_count": 39,
   "metadata": {
    "ExecuteTime": {
     "end_time": "2018-03-15T14:06:44.047841Z",
     "start_time": "2018-03-15T14:06:36.096849Z"
    },
    "slideshow": {
     "slide_type": "subslide"
    }
   },
   "outputs": [
    {
     "name": "stderr",
     "output_type": "stream",
     "text": [
      "[Parallel(n_jobs=-1)]: Using backend LokyBackend with 20 concurrent workers.\n",
      "[Parallel(n_jobs=-1)]: Done   3 out of  20 | elapsed:    2.5s remaining:   14.5s\n",
      "[Parallel(n_jobs=-1)]: Done  14 out of  20 | elapsed:    2.6s remaining:    1.0s\n",
      "[Parallel(n_jobs=-1)]: Done  20 out of  20 | elapsed:    2.7s finished\n",
      "\n",
      "[2023-12-05 17:10:35] Features: 19/3 -- score: -0.2885863602344868[Parallel(n_jobs=-1)]: Using backend LokyBackend with 20 concurrent workers.\n",
      "[Parallel(n_jobs=-1)]: Done  10 out of  19 | elapsed:    0.0s remaining:    0.0s\n",
      "[Parallel(n_jobs=-1)]: Done  19 out of  19 | elapsed:    0.0s finished\n",
      "\n",
      "[2023-12-05 17:10:35] Features: 18/3 -- score: -0.27416939815560415[Parallel(n_jobs=-1)]: Using backend LokyBackend with 20 concurrent workers.\n",
      "[Parallel(n_jobs=-1)]: Done   9 out of  18 | elapsed:    0.0s remaining:    0.0s\n",
      "[Parallel(n_jobs=-1)]: Done  18 out of  18 | elapsed:    0.0s finished\n",
      "\n",
      "[2023-12-05 17:10:35] Features: 17/3 -- score: -0.2644209223128465[Parallel(n_jobs=-1)]: Using backend LokyBackend with 20 concurrent workers.\n",
      "[Parallel(n_jobs=-1)]: Done   5 out of  17 | elapsed:    0.0s remaining:    0.0s\n",
      "[Parallel(n_jobs=-1)]: Done  14 out of  17 | elapsed:    0.0s remaining:    0.0s\n",
      "[Parallel(n_jobs=-1)]: Done  17 out of  17 | elapsed:    0.0s finished\n",
      "\n",
      "[2023-12-05 17:10:35] Features: 16/3 -- score: -0.254699356215223[Parallel(n_jobs=-1)]: Using backend LokyBackend with 20 concurrent workers.\n",
      "[Parallel(n_jobs=-1)]: Done   4 out of  16 | elapsed:    0.0s remaining:    0.0s\n",
      "[Parallel(n_jobs=-1)]: Done  13 out of  16 | elapsed:    0.0s remaining:    0.0s\n",
      "[Parallel(n_jobs=-1)]: Done  16 out of  16 | elapsed:    0.0s finished\n",
      "\n",
      "[2023-12-05 17:10:35] Features: 15/3 -- score: -0.24722643517232146[Parallel(n_jobs=-1)]: Using backend LokyBackend with 20 concurrent workers.\n",
      "[Parallel(n_jobs=-1)]: Done   8 out of  15 | elapsed:    0.0s remaining:    0.0s\n",
      "[Parallel(n_jobs=-1)]: Done  15 out of  15 | elapsed:    0.0s finished\n",
      "\n",
      "[2023-12-05 17:10:35] Features: 14/3 -- score: -0.23971163355259156[Parallel(n_jobs=-1)]: Using backend LokyBackend with 20 concurrent workers.\n",
      "[Parallel(n_jobs=-1)]: Done   7 out of  14 | elapsed:    0.0s remaining:    0.0s\n",
      "[Parallel(n_jobs=-1)]: Done  14 out of  14 | elapsed:    0.0s finished\n",
      "\n",
      "[2023-12-05 17:10:35] Features: 13/3 -- score: -0.23202795344951027[Parallel(n_jobs=-1)]: Using backend LokyBackend with 20 concurrent workers.\n",
      "[Parallel(n_jobs=-1)]: Done   2 out of  13 | elapsed:    0.0s remaining:    0.0s\n",
      "[Parallel(n_jobs=-1)]: Done   9 out of  13 | elapsed:    0.0s remaining:    0.0s\n",
      "[Parallel(n_jobs=-1)]: Done  13 out of  13 | elapsed:    0.0s finished\n",
      "\n",
      "[2023-12-05 17:10:35] Features: 12/3 -- score: -0.22676999929848168[Parallel(n_jobs=-1)]: Using backend LokyBackend with 20 concurrent workers.\n",
      "[Parallel(n_jobs=-1)]: Done   8 out of  12 | elapsed:    0.0s remaining:    0.0s\n",
      "[Parallel(n_jobs=-1)]: Done  12 out of  12 | elapsed:    0.0s finished\n",
      "\n",
      "[2023-12-05 17:10:35] Features: 11/3 -- score: -0.2185193802389341[Parallel(n_jobs=-1)]: Using backend LokyBackend with 20 concurrent workers.\n",
      "[Parallel(n_jobs=-1)]: Done   2 out of  11 | elapsed:    0.0s remaining:    0.0s\n",
      "[Parallel(n_jobs=-1)]: Done   8 out of  11 | elapsed:    0.0s remaining:    0.0s\n",
      "[Parallel(n_jobs=-1)]: Done  11 out of  11 | elapsed:    0.0s finished\n",
      "\n",
      "[2023-12-05 17:10:36] Features: 10/3 -- score: -0.21142009415062146[Parallel(n_jobs=-1)]: Using backend LokyBackend with 20 concurrent workers.\n",
      "[Parallel(n_jobs=-1)]: Done   7 out of  10 | elapsed:    0.0s remaining:    0.0s\n",
      "[Parallel(n_jobs=-1)]: Done  10 out of  10 | elapsed:    0.0s finished\n",
      "\n",
      "[2023-12-05 17:10:36] Features: 9/3 -- score: -0.21185829177371604[Parallel(n_jobs=-1)]: Using backend LokyBackend with 20 concurrent workers.\n",
      "[Parallel(n_jobs=-1)]: Done   5 out of   9 | elapsed:    0.0s remaining:    0.0s\n",
      "[Parallel(n_jobs=-1)]: Done   9 out of   9 | elapsed:    0.0s finished\n",
      "\n",
      "[2023-12-05 17:10:36] Features: 8/3 -- score: -0.20994306740824165[Parallel(n_jobs=-1)]: Using backend LokyBackend with 20 concurrent workers.\n",
      "[Parallel(n_jobs=-1)]: Done   4 out of   8 | elapsed:    0.0s remaining:    0.0s\n",
      "[Parallel(n_jobs=-1)]: Done   8 out of   8 | elapsed:    0.0s finished\n",
      "\n",
      "[2023-12-05 17:10:36] Features: 7/3 -- score: -0.20673385158894925[Parallel(n_jobs=-1)]: Using backend LokyBackend with 20 concurrent workers.\n",
      "[Parallel(n_jobs=-1)]: Done   4 out of   7 | elapsed:    0.0s remaining:    0.0s\n",
      "[Parallel(n_jobs=-1)]: Done   7 out of   7 | elapsed:    0.0s finished\n",
      "\n",
      "[2023-12-05 17:10:36] Features: 6/3 -- score: -0.20661338708069268[Parallel(n_jobs=-1)]: Using backend LokyBackend with 20 concurrent workers.\n",
      "[Parallel(n_jobs=-1)]: Done   3 out of   6 | elapsed:    0.0s remaining:    0.0s\n",
      "[Parallel(n_jobs=-1)]: Done   6 out of   6 | elapsed:    0.0s finished\n",
      "\n",
      "[2023-12-05 17:10:36] Features: 5/3 -- score: -0.20735009962550235[Parallel(n_jobs=-1)]: Using backend LokyBackend with 20 concurrent workers.\n",
      "[Parallel(n_jobs=-1)]: Done   2 out of   5 | elapsed:    0.0s remaining:    0.0s\n",
      "[Parallel(n_jobs=-1)]: Done   5 out of   5 | elapsed:    0.0s remaining:    0.0s\n",
      "[Parallel(n_jobs=-1)]: Done   5 out of   5 | elapsed:    0.0s finished\n",
      "\n",
      "[2023-12-05 17:10:36] Features: 4/3 -- score: -0.2079364901826421[Parallel(n_jobs=-1)]: Using backend LokyBackend with 20 concurrent workers.\n",
      "[Parallel(n_jobs=-1)]: Done   4 out of   4 | elapsed:    0.0s remaining:    0.0s\n",
      "[Parallel(n_jobs=-1)]: Done   4 out of   4 | elapsed:    0.0s finished\n",
      "\n",
      "[2023-12-05 17:10:36] Features: 3/3 -- score: -0.20347420563496277"
     ]
    },
    {
     "data": {
      "text/html": [
       "<style>#sk-container-id-1 {color: black;background-color: white;}#sk-container-id-1 pre{padding: 0;}#sk-container-id-1 div.sk-toggleable {background-color: white;}#sk-container-id-1 label.sk-toggleable__label {cursor: pointer;display: block;width: 100%;margin-bottom: 0;padding: 0.3em;box-sizing: border-box;text-align: center;}#sk-container-id-1 label.sk-toggleable__label-arrow:before {content: \"▸\";float: left;margin-right: 0.25em;color: #696969;}#sk-container-id-1 label.sk-toggleable__label-arrow:hover:before {color: black;}#sk-container-id-1 div.sk-estimator:hover label.sk-toggleable__label-arrow:before {color: black;}#sk-container-id-1 div.sk-toggleable__content {max-height: 0;max-width: 0;overflow: hidden;text-align: left;background-color: #f0f8ff;}#sk-container-id-1 div.sk-toggleable__content pre {margin: 0.2em;color: black;border-radius: 0.25em;background-color: #f0f8ff;}#sk-container-id-1 input.sk-toggleable__control:checked~div.sk-toggleable__content {max-height: 200px;max-width: 100%;overflow: auto;}#sk-container-id-1 input.sk-toggleable__control:checked~label.sk-toggleable__label-arrow:before {content: \"▾\";}#sk-container-id-1 div.sk-estimator input.sk-toggleable__control:checked~label.sk-toggleable__label {background-color: #d4ebff;}#sk-container-id-1 div.sk-label input.sk-toggleable__control:checked~label.sk-toggleable__label {background-color: #d4ebff;}#sk-container-id-1 input.sk-hidden--visually {border: 0;clip: rect(1px 1px 1px 1px);clip: rect(1px, 1px, 1px, 1px);height: 1px;margin: -1px;overflow: hidden;padding: 0;position: absolute;width: 1px;}#sk-container-id-1 div.sk-estimator {font-family: monospace;background-color: #f0f8ff;border: 1px dotted black;border-radius: 0.25em;box-sizing: border-box;margin-bottom: 0.5em;}#sk-container-id-1 div.sk-estimator:hover {background-color: #d4ebff;}#sk-container-id-1 div.sk-parallel-item::after {content: \"\";width: 100%;border-bottom: 1px solid gray;flex-grow: 1;}#sk-container-id-1 div.sk-label:hover label.sk-toggleable__label {background-color: #d4ebff;}#sk-container-id-1 div.sk-serial::before {content: \"\";position: absolute;border-left: 1px solid gray;box-sizing: border-box;top: 0;bottom: 0;left: 50%;z-index: 0;}#sk-container-id-1 div.sk-serial {display: flex;flex-direction: column;align-items: center;background-color: white;padding-right: 0.2em;padding-left: 0.2em;position: relative;}#sk-container-id-1 div.sk-item {position: relative;z-index: 1;}#sk-container-id-1 div.sk-parallel {display: flex;align-items: stretch;justify-content: center;background-color: white;position: relative;}#sk-container-id-1 div.sk-item::before, #sk-container-id-1 div.sk-parallel-item::before {content: \"\";position: absolute;border-left: 1px solid gray;box-sizing: border-box;top: 0;bottom: 0;left: 50%;z-index: -1;}#sk-container-id-1 div.sk-parallel-item {display: flex;flex-direction: column;z-index: 1;position: relative;background-color: white;}#sk-container-id-1 div.sk-parallel-item:first-child::after {align-self: flex-end;width: 50%;}#sk-container-id-1 div.sk-parallel-item:last-child::after {align-self: flex-start;width: 50%;}#sk-container-id-1 div.sk-parallel-item:only-child::after {width: 0;}#sk-container-id-1 div.sk-dashed-wrapped {border: 1px dashed gray;margin: 0 0.4em 0.5em 0.4em;box-sizing: border-box;padding-bottom: 0.4em;background-color: white;}#sk-container-id-1 div.sk-label label {font-family: monospace;font-weight: bold;display: inline-block;line-height: 1.2em;}#sk-container-id-1 div.sk-label-container {text-align: center;}#sk-container-id-1 div.sk-container {/* jupyter's `normalize.less` sets `[hidden] { display: none; }` but bootstrap.min.css set `[hidden] { display: none !important; }` so we also need the `!important` here to be able to override the default hidden behavior on the sphinx rendered scikit-learn.org. See: https://github.com/scikit-learn/scikit-learn/issues/21755 */display: inline-block !important;position: relative;}#sk-container-id-1 div.sk-text-repr-fallback {display: none;}</style><div id=\"sk-container-id-1\" class=\"sk-top-container\"><div class=\"sk-text-repr-fallback\"><pre>SequentialFeatureSelector(estimator=LogisticRegression(), forward=False,\n",
       "                          k_features=(3, 3), n_jobs=-1, scoring=&#x27;neg_log_loss&#x27;,\n",
       "                          verbose=2)</pre><b>In a Jupyter environment, please rerun this cell to show the HTML representation or trust the notebook. <br />On GitHub, the HTML representation is unable to render, please try loading this page with nbviewer.org.</b></div><div class=\"sk-container\" hidden><div class=\"sk-item sk-dashed-wrapped\"><div class=\"sk-label-container\"><div class=\"sk-label sk-toggleable\"><input class=\"sk-toggleable__control sk-hidden--visually\" id=\"sk-estimator-id-1\" type=\"checkbox\" ><label for=\"sk-estimator-id-1\" class=\"sk-toggleable__label sk-toggleable__label-arrow\">SequentialFeatureSelector</label><div class=\"sk-toggleable__content\"><pre>SequentialFeatureSelector(estimator=LogisticRegression(), forward=False,\n",
       "                          k_features=(3, 3), n_jobs=-1, scoring=&#x27;neg_log_loss&#x27;,\n",
       "                          verbose=2)</pre></div></div></div><div class=\"sk-parallel\"><div class=\"sk-parallel-item\"><div class=\"sk-item\"><div class=\"sk-label-container\"><div class=\"sk-label sk-toggleable\"><input class=\"sk-toggleable__control sk-hidden--visually\" id=\"sk-estimator-id-2\" type=\"checkbox\" ><label for=\"sk-estimator-id-2\" class=\"sk-toggleable__label sk-toggleable__label-arrow\">estimator: LogisticRegression</label><div class=\"sk-toggleable__content\"><pre>LogisticRegression()</pre></div></div></div><div class=\"sk-serial\"><div class=\"sk-item\"><div class=\"sk-estimator sk-toggleable\"><input class=\"sk-toggleable__control sk-hidden--visually\" id=\"sk-estimator-id-3\" type=\"checkbox\" ><label for=\"sk-estimator-id-3\" class=\"sk-toggleable__label sk-toggleable__label-arrow\">LogisticRegression</label><div class=\"sk-toggleable__content\"><pre>LogisticRegression()</pre></div></div></div></div></div></div></div></div></div></div>"
      ],
      "text/plain": [
       "SequentialFeatureSelector(estimator=LogisticRegression(), forward=False,\n",
       "                          k_features=(3, 3), n_jobs=-1, scoring='neg_log_loss',\n",
       "                          verbose=2)"
      ]
     },
     "execution_count": 39,
     "metadata": {},
     "output_type": "execute_result"
    }
   ],
   "source": [
    "# Інсталювати mlxtend\n",
    "from mlxtend.feature_selection import SequentialFeatureSelector\n",
    "\n",
    "selector = SequentialFeatureSelector(LogisticRegression(), scoring='neg_log_loss', \n",
    "                                     verbose=2, k_features=3, forward=False, n_jobs=-1)\n",
    "\n",
    "selector.fit(x_data, y_data)"
   ]
  },
  {
   "cell_type": "markdown",
   "metadata": {
    "slideshow": {
     "slide_type": "subslide"
    }
   },
   "source": [
    "Можемо переглянути як цей підхід був реалізований в одному простому, але елегантному [ядрі Kaggle](https://www.kaggle.com/arsenyinfo/easy-feature-selection-pipeline-0-55-at-lb)."
   ]
  },
  {
   "cell_type": "markdown",
   "metadata": {
    "slideshow": {
     "slide_type": "skip"
    }
   },
   "source": [
    "<a class=\"anchor\" id=\"6.4\"></a>"
   ]
  },
  {
   "cell_type": "markdown",
   "metadata": {
    "slideshow": {
     "slide_type": "slide"
    }
   },
   "source": [
    "## <span style=\"color:blue; font-size:1.2em;\">6.4. Основні метрики якості класифікації</span>\n",
    "\n",
    "[Повернутися до змісту](#6)"
   ]
  },
  {
   "cell_type": "markdown",
   "metadata": {
    "slideshow": {
     "slide_type": "skip"
    }
   },
   "source": [
    "<a class=\"anchor\" id=\"6.4.1\"></a>"
   ]
  },
  {
   "cell_type": "markdown",
   "metadata": {
    "slideshow": {
     "slide_type": "slide"
    }
   },
   "source": [
    "### <span style=\"color:blue; font-size:1.2em;\">6.4.1. Матриця невідповідностей</span>\n",
    "\n",
    "[Повернутися до змісту](#6)"
   ]
  },
  {
   "cell_type": "markdown",
   "metadata": {
    "slideshow": {
     "slide_type": "fragment"
    }
   },
   "source": [
    "Існує багато метрик, що дають змогу обчислити кількісну характеристику бінарного класифікатора. У випадку віднесення одного об'єкта до одного з двох класів можливі 4 результати. Їх зручно відображати за допомогою матриці невідповідностей (з англ. \"[confusion matrix](https://en.wikipedia.org/wiki/Confusion_matrix)\"):\n",
    "\n",
    "- $TP$ – кількість правильно класифікованих цільових об'єктів;\n",
    "- $FP$ – кількість нецільових об'єктів, що класифіковані як цільові (помилки першого роду);\n",
    "- $TN$ – кількість правильно класифікованих нецільових прикладів;\n",
    "- $FN$ – кількість цільових об'єктів, що класифіковані як нецільові (помилки другого роду)."
   ]
  },
  {
   "cell_type": "markdown",
   "metadata": {
    "slideshow": {
     "slide_type": "subslide"
    }
   },
   "source": [
    "<figure>\n",
    "<img src=\"https://raw.githubusercontent.com/radiukpavlo/intelligent-data-analysis/main/03_img/6_8_confusion-matrix.png\" alt=\"Trulli\" style=\"width:100%\">\n",
    "<figcaption align = \"center\"><i>Джерело: https://encord.com/glossary/confusion-matrix/</i></figcaption>\n",
    "</figure>"
   ]
  },
  {
   "cell_type": "markdown",
   "metadata": {
    "slideshow": {
     "slide_type": "subslide"
    }
   },
   "source": [
    "Отримати таку таблицю можна за допомогою функції [sklearn.metrics.confusion_matrix](https://scikit-learn.org/stable/modules/generated/sklearn.metrics.confusion_matrix.html). Необхідно їй на вхід передати дійсні та передбачені класифікатором мітки."
   ]
  },
  {
   "cell_type": "code",
   "execution_count": 40,
   "metadata": {
    "slideshow": {
     "slide_type": "fragment"
    }
   },
   "outputs": [
    {
     "name": "stdout",
     "output_type": "stream",
     "text": [
      "[[2 1]\n",
      " [3 2]]\n"
     ]
    }
   ],
   "source": [
    "%matplotlib inline\n",
    "import numpy as np\n",
    "import seaborn as sns\n",
    "from sklearn import metrics\n",
    "\n",
    "true_labels = np.array([0, 1, 0, 0, 1, 1, 1, 1])\n",
    "predicted_labels = np.array([0, 1, 1, 0, 0, 1, 0, 0])\n",
    "\n",
    "my_metrics = metrics.confusion_matrix(true_labels, predicted_labels)\n",
    "print(my_metrics)"
   ]
  },
  {
   "cell_type": "markdown",
   "metadata": {
    "slideshow": {
     "slide_type": "skip"
    }
   },
   "source": [
    "<a class=\"anchor\" id=\"6.4.2\"></a>"
   ]
  },
  {
   "cell_type": "markdown",
   "metadata": {
    "slideshow": {
     "slide_type": "slide"
    }
   },
   "source": [
    "### <span style=\"color:blue; font-size:1.2em;\">6.4.2. Характеристики бінарного класифікатора</span>\n",
    "\n",
    "[Повернутися до змісту](#6)"
   ]
  },
  {
   "cell_type": "markdown",
   "metadata": {
    "slideshow": {
     "slide_type": "subslide"
    }
   },
   "source": [
    "З огляду на таблицю вище, введемо кілька величин, що кількісно характеризують бінарний класифікатор:\n",
    "\n",
    "$$Recall = TPR = \\frac{TP}{TP + FN},$$\n",
    "\n",
    "\n",
    "$$\\quad SPC = \\frac{TN}{TN + FP},$$\n",
    "\n",
    "\n",
    "$$\\quad Precision = PPV = \\frac{TP}{TP + FP},$$\n",
    "\n",
    "\n",
    "$$\\quad FPR = 1 - SPC,$$\n",
    "\n",
    "\n",
    "$$ACC = \\frac{TP + TN}{TP + TN + FP + FN},$$\n",
    "\n",
    "\n",
    "$$\\quad F1 = 2\\frac{PPV\\cdot TRP}{PPV + TPR}.$$\n"
   ]
  },
  {
   "cell_type": "markdown",
   "metadata": {
    "slideshow": {
     "slide_type": "subslide"
    }
   },
   "source": [
    "Повнота $TPR$ (True positive rate, recall, sensitivity) – частка правильно класифікованих цільових об'єктів поміж усіх цільових об'єктів.\n",
    "\n",
    "Специфічність $SPC$ (Specificity, true negative rate) – частка правильно класифікованих нецільових об'єктів поміж усіх нецільових об'єктів.\n",
    "\n",
    "Влучність $PPV$ (Positive predictive value, precision) – частка правильно класифікованих цільових об'єктів поміж усіх об'єктів, що класифіковані праильно.\n",
    "\n",
    "$FPR$ (False positive rate) – частка помилково класифікованих нецільових об'єктів поміж усіх нецільових об'єктів.\n",
    "\n",
    "$ACC$ (Accuracy) – частка правильно класифікованих об'єктів поміж усіх об'єктів. $ACC$ є основною характеристикою якості класифікації.\n",
    "\n",
    "$F1$ (F1-measure) – середнє гармонійне влучності та повноти; ця метрика дає змогу врахувати обидві характеристики одночасно."
   ]
  },
  {
   "cell_type": "code",
   "execution_count": 41,
   "metadata": {
    "slideshow": {
     "slide_type": "subslide"
    }
   },
   "outputs": [
    {
     "data": {
      "text/plain": [
       "(0.6666666666666666, 0.4, 0.5, 0.5)"
      ]
     },
     "execution_count": 41,
     "metadata": {},
     "output_type": "execute_result"
    }
   ],
   "source": [
    "PPV = metrics.precision_score(true_labels, predicted_labels)\n",
    "TPR = metrics.recall_score(true_labels, predicted_labels)\n",
    "F1 = metrics.f1_score(true_labels, predicted_labels)\n",
    "ACC = metrics.accuracy_score(true_labels, predicted_labels)\n",
    "PPV, TPR, F1, ACC"
   ]
  },
  {
   "cell_type": "markdown",
   "metadata": {
    "slideshow": {
     "slide_type": "skip"
    }
   },
   "source": [
    "<a class=\"anchor\" id=\"6.4.3\"></a>"
   ]
  },
  {
   "cell_type": "markdown",
   "metadata": {
    "slideshow": {
     "slide_type": "slide"
    }
   },
   "source": [
    "### <span style=\"color:blue; font-size:1.2em;\">6.4.3. ROC-крива та AUC</span>\n",
    "\n",
    "[Повернутися до змісту](#6)"
   ]
  },
  {
   "cell_type": "markdown",
   "metadata": {
    "slideshow": {
     "slide_type": "fragment"
    }
   },
   "source": [
    "Здебільшого бінарні класифікатори мають вигляд $a(x) = \\mbox{sign}(f(x, w) - w_0)$, де $w, w_0$ – параметри алгоритму. Тобто спочатку будується розділяюча поверхня $f(x, w) = w_0 $, після чого об'єкти, що перебувають з однієї сторони від неї класифікуються як цільові, з іншої – як нецільові.\n",
    "\n",
    "ROC-крива (Receiver Operating Characteristic) – це графічна характеристика якості бінарного класифікатора, що виражає залежність TPR від FPR при зміні порога вирішального правила. Ця крива ілюструє, якою буде якість класифікації за різних значень $w_0$ і фіксованому значенні $w$.\n",
    "\n",
    "ROC-крива проходить через точки (0, 0) та (1, 1) і монотонно не зменшується. Чим ближче крива всередині квадрата $[0, 1]\\times[0, 1]$ до лівого верхнього кута, тим краще. Ідеальний варіант – крива, що проходить через три точки: (0, 0), (1, 1) та (0, 1). Діагональ цього квадрата відповідає випадковій класифікації. Типова ROC-крива для класифікатора відповідає кривій на рисунку нижче."
   ]
  },
  {
   "cell_type": "markdown",
   "metadata": {
    "slideshow": {
     "slide_type": "subslide"
    }
   },
   "source": [
    "<img src=\"https://raw.githubusercontent.com/radiukpavlo/intelligent-data-analysis/main/03_img/6_9_ROC.jpg\" align=\"center\" width=50%>"
   ]
  },
  {
   "cell_type": "markdown",
   "metadata": {
    "slideshow": {
     "slide_type": "subslide"
    }
   },
   "source": [
    "На практиці ROC-криву завжди оцінюють за незалежною тестовою вибіркою, щоб уникнути перенавчання.\n",
    "\n",
    "Площа під ROC-кривою AUC (Area Under Curve) є кількісною характеристикою якості класифікації, яка не залежить від співвідношення помилок. Чим більше значення AUC, тим \"краще\" є модель класифікації."
   ]
  },
  {
   "cell_type": "markdown",
   "metadata": {
    "slideshow": {
     "slide_type": "skip"
    }
   },
   "source": [
    "<a class=\"anchor\" id=\"6.4.4\"></a>"
   ]
  },
  {
   "cell_type": "markdown",
   "metadata": {
    "slideshow": {
     "slide_type": "slide"
    }
   },
   "source": [
    "### <span style=\"color:blue; font-size:1.2em;\">6.4.4. Дисбаланс класів</span>\n",
    "\n",
    "[Повернутися до змісту](#6)"
   ]
  },
  {
   "cell_type": "markdown",
   "metadata": {
    "slideshow": {
     "slide_type": "subslide"
    }
   },
   "source": [
    "На практиці у разі дисбалансу класів вдаються до таких [дій](http://machinelearningmastery.com/tactics-to-combat-imbalanced-classes-in-your-machine-learning-dataset/):\n",
    "\n",
    "- зібрати більше даних, особливо об'єктів рідкісного класу (не завжди можливо);\n",
    "- використовувати методи, що ґрунтуються на деревах рішень – [випадковий ліс](https://scikit-learn.org/stable/modules/generated/sklearn.ensemble.RandomForestClassifier.html) або [градієнтний бустинг над деревами](https://scikit-learn.org/stable/modules/generated/sklearn.ensemble.GradientBoostingClassifier.html); дерева не так схильні до проблеми дисбалансу класів;\n",
    "- використовувати метрики типу $F_1$, ROC AUC та [Cohen's kappa](https://en.wikipedia.org/wiki/Cohen%27s_kappa), а не ACC;\n",
    "- використовувати метрику, в якій помилка на об'єкті з рідкісного класу входить із більшою вагою, ніж помилка на об'єкті з типового класу;\n",
    "- застосовувати [oversampling](https://en.wikipedia.org/wiki/Oversampling_and_undersampling_in_data_analysis) та [undersampling](https://en.wikipedia.org/wiki/Oversampling_and_undersampling_in_data_analysis); у першому випадку до вибірки додаються об'єкти рідкісного класу (семплюються із заміщенням), у другому – об'єкти типового класу випадково видаляються з вибірки;\n",
    "- згенерувати штучні об'єкти рідкісного класу, Synthetic Minority Over-sampling Technique ([SMOTE](https://imbalanced-learn.org/stable/over_sampling.html#smote-adasyn)); додаткова [реалізація](https://github.com/fmfn/UnbalancedDataset) на Python;\n",
    "- розбити один великий клас на кілька менших та застосувати стратегії [One Vs. All](https://machinelearningmastery.com/one-vs-rest-and-one-vs-one-for-multi-class-classification/) або [One Vs. One](https://machinelearningmastery.com/one-vs-rest-and-one-vs-one-for-multi-class-classification/);\n",
    "- застосувати алгоритми пошуку викидів або OneClass алгоритми (наприклад, [OneClass SVM](https://machinelearningmastery.com/one-class-classification-algorithms/))."
   ]
  },
  {
   "cell_type": "markdown",
   "metadata": {
    "slideshow": {
     "slide_type": "skip"
    }
   },
   "source": [
    "<a class=\"anchor\" id=\"6.4.5\"></a>"
   ]
  },
  {
   "cell_type": "markdown",
   "metadata": {
    "slideshow": {
     "slide_type": "slide"
    }
   },
   "source": [
    "### <span style=\"color:blue; font-size:1.2em;\">6.4.5. Приклади застосувань метрик класифікації</span>\n",
    "\n",
    "[Повернутися до змісту](#6)"
   ]
  },
  {
   "cell_type": "code",
   "execution_count": 42,
   "metadata": {
    "slideshow": {
     "slide_type": "fragment"
    }
   },
   "outputs": [],
   "source": [
    "import sys\n",
    "\n",
    "from sklearn.svm import SVC, LinearSVC\n",
    "\n",
    "if sys.version_info.major == 2:\n",
    "    from urllib import urlopen\n",
    "elif sys.version_info.major == 3:\n",
    "    from urllib.request import urlopen\n",
    "\n",
    "from sklearn import datasets\n",
    "from sklearn.metrics import auc, roc_curve\n",
    "from sklearn.model_selection import cross_val_score, train_test_split\n",
    "from sklearn.multiclass import OneVsRestClassifier\n",
    "from sklearn.neighbors import KNeighborsClassifier\n",
    "import matplotlib.pyplot as plt"
   ]
  },
  {
   "cell_type": "code",
   "execution_count": 43,
   "metadata": {
    "slideshow": {
     "slide_type": "subslide"
    }
   },
   "outputs": [],
   "source": [
    "# Завантажуємо дані щодо діабету індіанців Піма зі сховища машинного навчання UCI\n",
    "pima_url = 'https://raw.githubusercontent.com/radiukpavlo/intelligent-data-analysis/main/01_lecture-notes/ida_lecture-06_feature-engineering/diabetes.csv'\n",
    "data = pd.read_csv(pima_url, delimiter=\",\")\n",
    "\n",
    "X = data.iloc[:, :8]\n",
    "y = data.iloc[:, 8]\n",
    "\n",
    "X_train, X_test, y_train, y_test = train_test_split(X, y, test_size=0.3)\n",
    "\n",
    "# Задаємо параметр регуляризації терміну помилки\n",
    "C = 10.0\n",
    "\n",
    "# Будуємо класифікатор Suppor Vector Machine\n",
    "lin_svm = LinearSVC(C=C, dual=False).fit(X_train, y_train)\n",
    "y_score = lin_svm.decision_function(X_test)\n",
    "\n",
    "# Обчислюємо ROC-криву та ROC AUC\n",
    "fpr, tpr, _ = roc_curve(y_test, y_score)\n",
    "roc_auc = auc(fpr, tpr)"
   ]
  },
  {
   "cell_type": "code",
   "execution_count": 44,
   "metadata": {
    "slideshow": {
     "slide_type": "subslide"
    }
   },
   "outputs": [
    {
     "data": {
      "image/png": "[encoded data removed]",
      "text/plain": [
       "<Figure size 600x300 with 1 Axes>"
      ]
     },
     "metadata": {},
     "output_type": "display_data"
    },
    {
     "data": {
      "text/plain": [
       "<Figure size 2100x1500 with 0 Axes>"
      ]
     },
     "metadata": {},
     "output_type": "display_data"
    }
   ],
   "source": [
    "# Будуємо графік ROC-кривої для певного класу\n",
    "plt.figure(1, figsize=(6,3))\n",
    "plt.plot(fpr, tpr, label=\"ROC curve (area = %0.2f)\" % roc_auc)\n",
    "plt.plot([0, 1], [0, 1], \"k--\")\n",
    "plt.xlim([0.0, 1.0]); plt.ylim([0.0, 1.05])\n",
    "plt.xlabel(\"False Positive Rate\"); plt.ylabel(\"True Positive Rate\")\n",
    "plt.title(\"Receiver operating characteristic example\")\n",
    "plt.legend(loc=\"lower right\")\n",
    "plt.show(); plt.gcf().set_dpi(300)"
   ]
  },
  {
   "cell_type": "markdown",
   "metadata": {
    "slideshow": {
     "slide_type": "subslide"
    }
   },
   "source": [
    "Вказані вище характеристики можна використовувати для підбору параметрів алгоритмів, наприклад, за допомогою крос-валідації. Знайдемо оптимальну з погляду $F_1$-міри кількість найближчих сусідів алгоритму $kNN$."
   ]
  },
  {
   "cell_type": "code",
   "execution_count": 45,
   "metadata": {
    "slideshow": {
     "slide_type": "fragment"
    }
   },
   "outputs": [],
   "source": [
    "knn = KNeighborsClassifier()\n",
    "k_s = np.arange(1, 50, 2)\n",
    "\n",
    "scores_f1 = list()\n",
    "\n",
    "for k in k_s:\n",
    "    knn.n_neighbors = k\n",
    "    scores_f1.append(np.mean(cross_val_score(knn, X, y, scoring=\"f1\")))"
   ]
  },
  {
   "cell_type": "code",
   "execution_count": 46,
   "metadata": {
    "slideshow": {
     "slide_type": "subslide"
    }
   },
   "outputs": [
    {
     "data": {
      "image/png": "[encoded data removed]",
      "text/plain": [
       "<Figure size 700x300 with 1 Axes>"
      ]
     },
     "metadata": {},
     "output_type": "display_data"
    },
    {
     "data": {
      "text/plain": [
       "<Figure size 2100x1500 with 0 Axes>"
      ]
     },
     "metadata": {},
     "output_type": "display_data"
    }
   ],
   "source": [
    "# Будуємо графік\n",
    "plt.figure(1, figsize=(7,3))\n",
    "plt.clf(); plt.plot(k_s, scores_f1, linewidth=2)\n",
    "plt.axvline(k_s[np.argmax(scores_f1)], color=\"g\")\n",
    "plt.ylabel(\"F1-score\"); plt.xlabel(\"Parameter k\")\n",
    "plt.xlim(1, 49)\n",
    "plt.title(\"F1-optimal number of neighbors, $k$ = %d\" % k_s[np.argmax(scores_f1)])\n",
    "plt.show(); plt.gcf().set_dpi(300)"
   ]
  },
  {
   "cell_type": "markdown",
   "metadata": {
    "slideshow": {
     "slide_type": "skip"
    }
   },
   "source": [
    "<a class=\"anchor\" id=\"6.4.6\"></a>"
   ]
  },
  {
   "cell_type": "markdown",
   "metadata": {
    "slideshow": {
     "slide_type": "slide"
    }
   },
   "source": [
    "### <span style=\"color:blue; font-size:1.2em;\">6.4.6. Багатокласова класифікація</span>\n",
    "\n",
    "[Повернутися до змісту](#6)"
   ]
  },
  {
   "cell_type": "markdown",
   "metadata": {
    "slideshow": {
     "slide_type": "fragment"
    }
   },
   "source": [
    "У разі, коли кількість класів більше двох, матриця невідповідностей визначається аналогічним чином: на перетині $i$-го рядка і $j$-го стовпця стоїть кількість об'єктів $i$-го класу, що відносяться класифікатором до класу $j$."
   ]
  },
  {
   "cell_type": "code",
   "execution_count": 47,
   "metadata": {
    "slideshow": {
     "slide_type": "fragment"
    }
   },
   "outputs": [
    {
     "data": {
      "text/plain": [
       "array([[2, 0, 1],\n",
       "       [0, 2, 1],\n",
       "       [2, 0, 1]], dtype=int64)"
      ]
     },
     "execution_count": 47,
     "metadata": {},
     "output_type": "execute_result"
    }
   ],
   "source": [
    "true_labels = np.array([0, 1, 2, 0, 1, 2, 0, 1, 2])\n",
    "predicted_labels = np.array([0, 2, 0, 2, 1, 0, 0, 1, 2])\n",
    "\n",
    "my_metrics2 = metrics.confusion_matrix(true_labels, predicted_labels)\n",
    "my_metrics2"
   ]
  },
  {
   "cell_type": "markdown",
   "metadata": {
    "slideshow": {
     "slide_type": "skip"
    }
   },
   "source": [
    "<a class=\"anchor\" id=\"6.4.7\"></a>"
   ]
  },
  {
   "cell_type": "markdown",
   "metadata": {
    "slideshow": {
     "slide_type": "slide"
    }
   },
   "source": [
    "### <span style=\"color:blue; font-size:1.2em;\">6.4.7. One vs. All</span>\n",
    "\n",
    "[Повернутися до змісту](#6)"
   ]
  },
  {
   "cell_type": "markdown",
   "metadata": {
    "slideshow": {
     "slide_type": "fragment"
    }
   },
   "source": [
    "Багатокласова класифікація може бути зведена до бінарної у різний спосіб. Одним із них є підхід [One vs. All](https://developers.google.com/machine-learning/crash-course/multi-class-neural-networks/one-vs-all). Його суть в наступному: для кожного класу $i \\in \\{1, \\dots, k\\}$ навчимо бінарний класифікатор $a_i(x) = \\mbox{sign}f_i(x)$ на початковій вибірці зі зміненими мітками (об'єкти $i$-го класу отримують мітку 1, всі об'єкти, що залишилися - мітку 0). Іншими словами, ми вчимо $a_i$ відрізняти $i$-ий клас від усіх інших. Після цього підсумковий класифікатор будується як $a(x) = \\mbox{argmax}_{i \\in \\{1, \\dots, k\\}} f_i(x)$, тобто він видає клас з найбільшою оцінкою $f_i( x) $."
   ]
  },
  {
   "cell_type": "code",
   "execution_count": 48,
   "metadata": {
    "slideshow": {
     "slide_type": "subslide"
    }
   },
   "outputs": [
    {
     "name": "stdout",
     "output_type": "stream",
     "text": [
      "Точність класифікації: 0.9466667\n"
     ]
    }
   ],
   "source": [
    "iris = datasets.load_iris()\n",
    "X, y = iris.data, iris.target\n",
    "\n",
    "# Масштабування ознак та підлаштування моделі\n",
    "onevsall = OneVsRestClassifier(make_pipeline(StandardScaler(), LinearSVC(max_iter=10000, C=1.0))).fit(X, y)\n",
    "accuracy_svc = metrics.accuracy_score(y, onevsall.predict(X))\n",
    "\n",
    "print(f\"Точність класифікації: {accuracy_svc:.7f}\")"
   ]
  },
  {
   "cell_type": "markdown",
   "metadata": {
    "slideshow": {
     "slide_type": "skip"
    }
   },
   "source": [
    "<a class=\"anchor\" id=\"6.5\"></a>"
   ]
  },
  {
   "cell_type": "markdown",
   "metadata": {
    "slideshow": {
     "slide_type": "slide"
    }
   },
   "source": [
    "## <span style=\"color:blue; font-size:1.2em;\">6.5. Корисні посилання</span>\n",
    "\n",
    "[Повернутися до змісту](#6)"
   ]
  },
  {
   "cell_type": "markdown",
   "metadata": {
    "slideshow": {
     "slide_type": "fragment"
    }
   },
   "source": [
    "- [Конструювання ознак](https://uk.wikipedia.org/wiki/%D0%9A%D0%BE%D0%BD%D1%81%D1%82%D1%80%D1%83%D1%8E%D0%B2%D0%B0%D0%BD%D0%BD%D1%8F_%D0%BE%D0%B7%D0%BD%D0%B0%D0%BA) [UKR].\n",
    "- [Feature extraction from scikit-learn](https://scikit-learn.org/stable/modules/feature_extraction.html#) [ENG].\n",
    "- [Feature importance from scikit-learn](https://scikit-learn.org/stable/modules/permutation_importance.html) [ENG].\n",
    "- [Feature selection from scikit-learn](https://scikit-learn.org/stable/modules/feature_selection.html) [ENG].\n",
    "- [Feature selection from scikit-learn. Examples](https://scikit-learn.org/stable/auto_examples/index.html#feature-selection) [ENG].\n",
    "- [Feature Engineering for Machine Learning](https://www.repath.in/gallery/feature_engineering_for_machine_learning.pdf) *by Alice Zheng & Amanda Casari* [ENG].\n",
    "- [The Ultimate Guide to 12 Dimensionality Reduction Techniques (with Python codes)](https://www.analyticsvidhya.com/blog/2018/08/dimensionality-reduction-techniques-python/) [ENG].\n",
    "- [How to improve the accuracy of a classification model?](https://analyticsindiamag.com/how-to-improve-the-accuracy-of-a-classification-model/) [ENG].\n",
    "- [Матриця невідповідностей](https://uk.wikipedia.org/wiki/%D0%9C%D0%B0%D1%82%D1%80%D0%B8%D1%86%D1%8F_%D0%BD%D0%B5%D0%B2%D1%96%D0%B4%D0%BF%D0%BE%D0%B2%D1%96%D0%B4%D0%BD%D0%BE%D1%81%D1%82%D0%B5%D0%B9) [UKR].\n",
    "- [ROC-криві. Оглядова стаття](https://dou.ua/forums/topic/33858/) [UKR].\n",
    "- 8 тактик боротьби з незбалансованими класами у вашому наборі даних машинного навчання на [Machine Learning Mastery](https://machinelearningmastery.com/tactics-to-combat-imbalanced-classes-in-your-machine-learning-dataset/) [ENG]."
   ]
  },
  {
   "cell_type": "code",
   "execution_count": null,
   "metadata": {
    "slideshow": {
     "slide_type": "skip"
    }
   },
   "outputs": [],
   "source": []
  }
 ],
 "metadata": {
  "celltoolbar": "Slideshow",
  "kernelspec": {
   "display_name": "Python 3 (ipykernel)",
   "language": "python",
   "name": "python3"
  },
  "language_info": {
   "codemirror_mode": {
    "name": "ipython",
    "version": 3
   },
   "file_extension": ".py",
   "mimetype": "text/x-python",
   "name": "python",
   "nbconvert_exporter": "python",
   "pygments_lexer": "ipython3",
   "version": "3.9.16"
  },
  "toc": {
   "nav_menu": {},
   "number_sections": true,
   "sideBar": true,
   "skip_h1_title": false,
   "title_cell": "Table of Contents",
   "title_sidebar": "Contents",
   "toc_cell": false,
   "toc_position": {},
   "toc_section_display": true,
   "toc_window_display": false
  }
 },
 "nbformat": 4,
 "nbformat_minor": 4
}
