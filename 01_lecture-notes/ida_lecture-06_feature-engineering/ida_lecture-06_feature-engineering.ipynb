{
 "cells": [
  {
   "cell_type": "markdown",
   "metadata": {
    "slideshow": {
     "slide_type": "slide"
    }
   },
   "source": [
    "# <center>Лекція 6. Побудова й відбір ознак</center>"
   ]
  },
  {
   "cell_type": "markdown",
   "metadata": {
    "slideshow": {
     "slide_type": "skip"
    }
   },
   "source": [
    "<a class=\"anchor\" id=\"6\"></a>"
   ]
  },
  {
   "cell_type": "markdown",
   "metadata": {
    "slideshow": {
     "slide_type": "subslide"
    }
   },
   "source": [
    "## Зміст\n",
    "\n",
    "- [6.1. Виявлення ознак (Feature extraction)](#6.1)\n",
    "    + [6.1.1. Тексти](#6.1.1)\n",
    "    + [6.1.2. Зображення](#6.1.2)\n",
    "    + [6.1.3. Геодані](#6.1.3)\n",
    "    + [6.1.4. Дата та час](#6.1.4)\n",
    "    + [6.1.5. Часові ряди, веб та інше](#6.1.5)   \n",
    "- [6.2. Перетворення ознак (Feature transformations)](#6.2)\n",
    "    + [6.2.1. Нормалізація та зміна розподілу](#6.2.1)\n",
    "    + [6.2.2. Взаємодія (Interactions)](#6.2.2)\n",
    "    + [6.2.3. Заповнення пропусків](#6.2.3) \n",
    "- [6.3. Відбір ознак (Feature selection)](#6.3)\n",
    "    + [6.3.1. Статистичні підходи](#6.3.1)\n",
    "    + [6.3.2. Відбір із використанням моделей](#6.3.2)\n",
    "    + [6.3.3. Перебір](#6.3.2)"
   ]
  },
  {
   "cell_type": "markdown",
   "metadata": {
    "slideshow": {
     "slide_type": "subslide"
    }
   },
   "source": [
    "- [6.4. Основні метрики якості класифікації](#6.4)\n",
    "    + [6.4.1. Матриця невідповідностей](#6.4.1)\n",
    "    + [6.4.2. Характеристики бінарного класифікатора](#6.4.2)\n",
    "    + [6.4.3. ROC-крива та AUC](#6.4.3)\n",
    "    + [6.4.4. Дисбаланс класів](#6.4.4)\n",
    "    + [6.4.5. Приклади застосувань метрик класифікації](#6.4.5)\n",
    "    + [6.4.6. Багатокласова класифікація](#6.4.6)\n",
    "    + [6.4.7. One vs. All](#6.4.7)\n",
    "- [6.5. Корисні посилання](#6.5)"
   ]
  },
  {
   "cell_type": "markdown",
   "metadata": {
    "slideshow": {
     "slide_type": "subslide"
    }
   },
   "source": [
    "В рамках курсу ми вже познайомилися з кількома ключовими алгоритмами машинного навчання (МН) для оброблення статистичних даних. Проте перед тим як переходити до більш складних алгоритмів та статистичних підходів, скажимо кілька слів про підготовку даних для навчання моделі."
   ]
  },
  {
   "cell_type": "markdown",
   "metadata": {
    "slideshow": {
     "slide_type": "fragment"
    }
   },
   "source": [
    "Відомий принцип garbage in - garbage out є на 100% застосовуваним щодо будь-якого завдання МН. Будь-який досвідчений інженер може згадати приклади з практики, коли проста модель, навчена на якісно підготовлених даних, показала себе краще хитромудрого ансамблю, побудованого на недостатньо чистих даних."
   ]
  },
  {
   "cell_type": "markdown",
   "metadata": {
    "slideshow": {
     "slide_type": "fragment"
    }
   },
   "source": [
    "В поточній лекції розглянемо три схожих завдання в задачі підготовки та оброблення ознак:\n",
    "* **feature extraction** і **feature engineering**, з англ. мови \"виявлення ознак\" – це перетворення даних, специфічних для предметної області, у вектори, що є зрозумілими для моделі;\n",
    "* **feature transformation**, з англ. мови \"перетворення ознак\" – це трансформація даних для підвищення точності алгоритму;\n",
    "* **feature selection** з англ. мови \"відбір ознак\" – це відбір найбільш значущих ознак або відсікання непотрібних ознак."
   ]
  },
  {
   "cell_type": "markdown",
   "metadata": {
    "slideshow": {
     "slide_type": "subslide"
    }
   },
   "source": [
    "У прикладах до лекції будемо використовувати набір даних компанії Renthop із Kaggle-змагання [Two Sigma Connect: Rental Listing Inquiries Kaggle competition](https://www.kaggle.com/c/two-sigma-connect-rental-listing-inquiries).\n",
    "\n",
    "У цьому завданні потрібно передбачити популярність оголошення щодо оренди нерухомості, тобто розв'язати задачу класифікації з трьома класами `['low', 'medium', 'high']`. Для оцінки розв'язку використовується метрика log loss (чим менше – тим краще). "
   ]
  },
  {
   "cell_type": "markdown",
   "metadata": {
    "slideshow": {
     "slide_type": "fragment"
    }
   },
   "source": [
    "Для інсталювання необхідного пакету в середовищі Anaconda потрібно в терміналі ввести наступні команди:\n",
    "\n",
    "```python\n",
    "!pip install user-agents\n",
    "!pip install mlxtend\n",
    "```"
   ]
  },
  {
   "cell_type": "markdown",
   "metadata": {
    "slideshow": {
     "slide_type": "fragment"
    }
   },
   "source": [
    "Те ж саме, але `conda-forge` (як можлива альтернатива):\n",
    "\n",
    "```python\n",
    "conda install -c conda-forge mlxtend\n",
    "conda install -c conda-forge user-agents\n",
    "```"
   ]
  },
  {
   "cell_type": "code",
   "execution_count": 1,
   "metadata": {
    "ExecuteTime": {
     "end_time": "2018-03-15T14:06:07.067528Z",
     "start_time": "2018-03-15T14:06:02.181930Z"
    },
    "slideshow": {
     "slide_type": "subslide"
    }
   },
   "outputs": [],
   "source": [
    "from __future__ import division, print_function\n",
    "# Відключимо попередження Anaconda\n",
    "import warnings\n",
    "warnings.filterwarnings('ignore')\n",
    "\n",
    "import json\n",
    "import numpy as np\n",
    "import pandas as pd"
   ]
  },
  {
   "cell_type": "code",
   "execution_count": 2,
   "metadata": {
    "slideshow": {
     "slide_type": "fragment"
    }
   },
   "outputs": [],
   "source": [
    "import json\n",
    "import pandas as pd\n",
    "import matplotlib.pyplot as plt\n",
    "\n",
    "# Load Renthop dataset and configure plot settings for clarity\n",
    "df = pd.read_json('train.json')  # Directly load JSON into DataFrame\n",
    "\n",
    "# Set inline plotting and configure styles for better visualization\n",
    "%matplotlib inline\n",
    "plt.style.use('ggplot')\n",
    "# plt.rcParams.update({'figure.figsize': (7, 5), 'savefig.format': 'svg'})"
   ]
  },
  {
   "cell_type": "markdown",
   "metadata": {
    "slideshow": {
     "slide_type": "skip"
    }
   },
   "source": [
    "<a class=\"anchor\" id=\"6.1\"></a>"
   ]
  },
  {
   "cell_type": "markdown",
   "metadata": {
    "slideshow": {
     "slide_type": "slide"
    }
   },
   "source": [
    "## <span style=\"color:blue; font-size:1.2em;\">6.1. Виявлення ознак (Feature extraction)</span>\n",
    "\n",
    "[Повернутися до змісту](#6)"
   ]
  },
  {
   "cell_type": "markdown",
   "metadata": {
    "slideshow": {
     "slide_type": "fragment"
    }
   },
   "source": [
    "На практиці вкрай рідко дані отримують у вигляді готових матриць. Тому будь-яка задачі розпочинається з виявлення ознак."
   ]
  },
  {
   "cell_type": "markdown",
   "metadata": {
    "slideshow": {
     "slide_type": "fragment"
    }
   },
   "source": [
    "Іноді набір даних для розв'язування задачі є підготовленим заздалегідь.В такому разі достатньо прочитати `.csv` файл і конвертувати його в `numpy.array`."
   ]
  },
  {
   "cell_type": "markdown",
   "metadata": {
    "slideshow": {
     "slide_type": "fragment"
    }
   },
   "source": [
    "Проте це, на жаль, такі випадки є вкрай винятковими, коли хтось інший поторбувався за підготовку даних. Тому щоби навчитися готувати дані для моделювання, розглянемо найбільш популярні типи даних, з яких зазвичай вилучають ознаки."
   ]
  },
  {
   "cell_type": "markdown",
   "metadata": {
    "slideshow": {
     "slide_type": "skip"
    }
   },
   "source": [
    "<a class=\"anchor\" id=\"6.1.1\"></a>"
   ]
  },
  {
   "cell_type": "markdown",
   "metadata": {
    "slideshow": {
     "slide_type": "slide"
    }
   },
   "source": [
    "### <span style=\"color:blue; font-size:1.2em;\"> 6.1.1. Текстові дані</span>\n",
    "\n",
    "[Повернутися до змісту](#6)"
   ]
  },
  {
   "cell_type": "markdown",
   "metadata": {
    "slideshow": {
     "slide_type": "fragment"
    }
   },
   "source": [
    "Текст – найбільш очевидний приклад даних у вільному форматі. Методів роботи з текстом дуже багато, в одній лекції вони не помістяться. Тим не менш, оглядово розглянемо найпопулярніші."
   ]
  },
  {
   "cell_type": "markdown",
   "metadata": {
    "slideshow": {
     "slide_type": "fragment"
    }
   },
   "source": [
    "- Перед тим, як працювати з текстом, його необхідно [токенізувати](https://neptune.ai/blog/tokenization-in-nlp).\n",
    "- Токенізація передбачає розбиття тексту на так звані токени – у найпростішому випадку це слова. Проте надто спрощуючи це поняття ми можемо втратити частину сенсу, наприклад, назва містечка \"Велика Рогань\" це не два токена, а один. Втім заклик \"кради-вбивай!\" даремно розділяти на два токени, тут два слова позначають один сенс.\n",
    "- Існують готові токенайзери, які враховують особливості мови, але й вони можуть помилятися, особливо якщо ви працюєте зі специфічними текстами (професійна лексика, жаргонізми, друкарські помилки тощо)."
   ]
  },
  {
   "cell_type": "markdown",
   "metadata": {
    "slideshow": {
     "slide_type": "subslide"
    }
   },
   "source": [
    "Після токенізації зазвичай потрібно проводити [нормалізацію](https://en.wikipedia.org/wiki/Normalization_(statistics). Тут мова йде за [стемінг](https://en.wikipedia.org/wiki/Stemming) та/або [лематизацію](https://en.wikipedia.org/wiki/Lemmatisation) – це схожі процеси, що використовуються для оброблення словоформ. Про різницю між ними можна прочитати [тут](https://nlp.stanford.edu/IR-book/html/htmledition/stemming-and-lemmatization-1.html)."
   ]
  },
  {
   "cell_type": "markdown",
   "metadata": {
    "slideshow": {
     "slide_type": "fragment"
    }
   },
   "source": [
    "Отже, після перетворення текстового документа на послідовність слів, можна починати перетворювати їх на вектора. Найпростіший підхід називається [Bag of Words](https://www.freecodecamp.org/news/an-introduction-to-bag-of-words-and-how-to-code-it-in-python-for-nlp-282e87a9da04/): створюємо вектор довжиною у словник, для кожного слова обраховуємо кількість входжень у текст та підставляємо це число на відповідну позицію у векторі. Ідея підходу добре ілюструється таким зображенням:"
   ]
  },
  {
   "cell_type": "markdown",
   "metadata": {
    "slideshow": {
     "slide_type": "subslide"
    }
   },
   "source": [
    "<img src=\"https://raw.githubusercontent.com/radiukpavlo/intelligent-data-analysis/main/03_img/6_1_bag-of-words.png\" align=\"center\" width=80% height=80%>"
   ]
  },
  {
   "cell_type": "markdown",
   "metadata": {
    "slideshow": {
     "slide_type": "subslide"
    }
   },
   "source": [
    "Програмний код цього механізму виглядає навіть простіше, ніж звучить на словах:"
   ]
  },
  {
   "cell_type": "code",
   "execution_count": 3,
   "metadata": {
    "slideshow": {
     "slide_type": "fragment"
    }
   },
   "outputs": [],
   "source": [
    "from functools import reduce\n",
    "import numpy as np\n",
    "from collections import Counter\n",
    "\n",
    "texts = [['i', 'have', 'a', 'cat'], \n",
    "         ['he', 'have', 'a', 'dog'], \n",
    "         ['he', 'and', 'i', 'have', 'a', 'cat', 'and', 'a', 'dog']]"
   ]
  },
  {
   "cell_type": "code",
   "execution_count": 4,
   "metadata": {
    "ExecuteTime": {
     "end_time": "2018-03-15T14:06:07.087385Z",
     "start_time": "2018-03-15T14:06:07.068964Z"
    },
    "slideshow": {
     "slide_type": "subslide"
    }
   },
   "outputs": [
    {
     "name": "stdout",
     "output_type": "stream",
     "text": [
      "[1 1 1 0 0 0 1]\n",
      "[0 0 1 0 1 1 1]\n",
      "[1 1 2 2 1 1 1]\n"
     ]
    }
   ],
   "source": [
    "# Створюємо словник, що зіставляє кожному слову його індекс\n",
    "dictionary = {word: i for i, word in enumerate(set(reduce(lambda x, y: x + y, texts)))}\n",
    "\n",
    "def vectorize(text):\n",
    "    # Використовуємо Counter для підрахунку частоти слів у тексті\n",
    "    word_count = Counter(text)\n",
    "    # Створюємо вектор, базуючись на індексах із словника\n",
    "    return np.array([word_count.get(word, 0) for word in dictionary])\n",
    "\n",
    "# Виводимо векторне представлення для кожного тексту\n",
    "for t in texts:\n",
    "    print(vectorize(t))"
   ]
  },
  {
   "cell_type": "markdown",
   "metadata": {
    "slideshow": {
     "slide_type": "subslide"
    }
   },
   "source": [
    "На практиці потрібно подбати про стоп-слова, максимальний розмір словника та ефективну структуру даних (зазвичай текстові дані перетворюють на розріджені вектори).\n",
    "\n",
    "Водночас використання алгоритмів на кшталт Вag of Words призводить до втрати порядку слів у тексті, тобто, тексти \"i have no cows\" та \"no, i have cows\" будуть ідентичними після векторизації, хоча і протилежними семантично. Щоб уникнути цієї проблеми, можна зробити крок назад і змінити підхід до токенізації: наприклад використовувати [n-грами](https://uk.wikipedia.org/wiki/N-%D0%B3%D1%80%D0%B0%D0%BC%D0%B0) (*комбінації* з N послідовних термінів)."
   ]
  },
  {
   "cell_type": "code",
   "execution_count": 5,
   "metadata": {
    "ExecuteTime": {
     "end_time": "2018-03-15T14:06:08.998673Z",
     "start_time": "2018-03-15T14:06:07.088376Z"
    },
    "slideshow": {
     "slide_type": "fragment"
    }
   },
   "outputs": [
    {
     "data": {
      "text/plain": [
       "array([[1, 1, 1],\n",
       "       [1, 1, 1]], dtype=int64)"
      ]
     },
     "execution_count": 5,
     "metadata": {},
     "output_type": "execute_result"
    }
   ],
   "source": [
    "from sklearn.feature_extraction.text import CountVectorizer\n",
    "\n",
    "vect = CountVectorizer(ngram_range=(1,1))\n",
    "vect.fit_transform(['no i have cows', 'i have no cows']).toarray()"
   ]
  },
  {
   "cell_type": "code",
   "execution_count": 6,
   "metadata": {
    "ExecuteTime": {
     "end_time": "2018-03-15T14:06:09.002804Z",
     "start_time": "2018-03-15T14:06:08.999801Z"
    },
    "slideshow": {
     "slide_type": "subslide"
    }
   },
   "outputs": [
    {
     "data": {
      "text/plain": [
       "{'no': 2, 'have': 1, 'cows': 0}"
      ]
     },
     "execution_count": 6,
     "metadata": {},
     "output_type": "execute_result"
    }
   ],
   "source": [
    "vect.vocabulary_ "
   ]
  },
  {
   "cell_type": "code",
   "execution_count": 7,
   "metadata": {
    "ExecuteTime": {
     "end_time": "2018-03-15T14:06:09.110448Z",
     "start_time": "2018-03-15T14:06:09.003924Z"
    },
    "slideshow": {
     "slide_type": "fragment"
    }
   },
   "outputs": [
    {
     "data": {
      "text/plain": [
       "array([[1, 1, 1, 0, 1, 0, 1],\n",
       "       [1, 1, 0, 1, 1, 1, 0]], dtype=int64)"
      ]
     },
     "execution_count": 7,
     "metadata": {},
     "output_type": "execute_result"
    }
   ],
   "source": [
    "vect = CountVectorizer(ngram_range=(1,2))\n",
    "vect.fit_transform(['no i have cows', 'i have no cows']).toarray()"
   ]
  },
  {
   "cell_type": "code",
   "execution_count": 8,
   "metadata": {
    "ExecuteTime": {
     "end_time": "2018-03-15T14:06:09.218867Z",
     "start_time": "2018-03-15T14:06:09.113204Z"
    },
    "slideshow": {
     "slide_type": "fragment"
    }
   },
   "outputs": [
    {
     "data": {
      "text/plain": [
       "{'no': 4,\n",
       " 'have': 1,\n",
       " 'cows': 0,\n",
       " 'no have': 6,\n",
       " 'have cows': 2,\n",
       " 'have no': 3,\n",
       " 'no cows': 5}"
      ]
     },
     "execution_count": 8,
     "metadata": {},
     "output_type": "execute_result"
    }
   ],
   "source": [
    "vect.vocabulary_"
   ]
  },
  {
   "cell_type": "markdown",
   "metadata": {
    "ExecuteTime": {
     "end_time": "2018-03-14T14:13:25.767656Z",
     "start_time": "2018-03-14T14:13:25.763924Z"
    },
    "slideshow": {
     "slide_type": "subslide"
    }
   },
   "source": [
    "Також варто зазначити, що необов'язково оперувати саме словами: у деяких випадках можна генерувати N-грами з літер. Наприклад, такий алгоритм врахує схожість споріднених слів або друкарських помилок."
   ]
  },
  {
   "cell_type": "code",
   "execution_count": 9,
   "metadata": {
    "ExecuteTime": {
     "end_time": "2018-03-15T14:06:09.774148Z",
     "start_time": "2018-03-15T14:06:09.220060Z"
    },
    "slideshow": {
     "slide_type": "fragment"
    }
   },
   "outputs": [
    {
     "data": {
      "text/plain": [
       "(2.8284271247461903, 3.1622776601683795, 3.3166247903554)"
      ]
     },
     "execution_count": 9,
     "metadata": {},
     "output_type": "execute_result"
    }
   ],
   "source": [
    "from scipy.spatial.distance import euclidean\n",
    "from sklearn.feature_extraction.text import CountVectorizer\n",
    "\n",
    "# Створюємо векторизатор з n-грамами довжиною 3 символи з урахуванням пробілів (char_wb)\n",
    "vect = CountVectorizer(ngram_range=(3, 3), analyzer='char_wb')\n",
    "# Перетворюємо імена на вектори характеристик та розділяємо їх на окремі змінні\n",
    "n1, n2, n3, n4 = vect.fit_transform(['andersen', 'petersen', 'petrov', 'smith']).toarray()\n",
    "# Обчислюємо евклідові відстані між векторними поданнями імен\n",
    "distance_1_2 = euclidean(n1, n2)\n",
    "distance_2_3 = euclidean(n2, n3)\n",
    "distance_3_4 = euclidean(n3, n4)\n",
    "\n",
    "distance_1_2, distance_2_3, distance_3_4"
   ]
  },
  {
   "cell_type": "markdown",
   "metadata": {
    "slideshow": {
     "slide_type": "subslide"
    }
   },
   "source": [
    "Розвиток ідеї Bag of Words: слова, які рідко зустрічаються в корпусі (у всіх документах цього набору даних), але присутні в цьому конкретному документі, можуть виявитися більш важливими.\n",
    "\n",
    "В такому разі варто підвищити вагу більш вузькотематичних слів, щоб відокремити їх від загальнотематичних. Цей підхід називається [TF-IDF](https://uk.wikipedia.org/wiki/TF-IDF). Варіант TF-IDF за замовчуванням виглядає так:"
   ]
  },
  {
   "cell_type": "markdown",
   "metadata": {
    "slideshow": {
     "slide_type": "fragment"
    }
   },
   "source": [
    "\\begin{equation}\n",
    "\\text{IDF}(t, D) = \\log \\left( \\frac{|D|}{\\text{df}(d, t) + 1} \\right),\n",
    "\\end{equation}\n",
    "\n",
    "\\begin{equation}\n",
    "\\text{TF-IDF}(t, d, D) = \\text{tf}(t, d) \\times \\text{IDF}(t, D).\n",
    "\\end{equation}"
   ]
  },
  {
   "cell_type": "markdown",
   "metadata": {
    "slideshow": {
     "slide_type": "fragment"
    }
   },
   "source": [
    "Аналоги підходу Bag of words можуть зустрічатися й поза текстовими задачами: наприклад, bag of sites в [Catch Me If You Can competition](https://inclass.kaggle.com/c/catch-me-if-you-can-intruder-detection-through-webpage-session-tracking), [Bag of apps](https://www.kaggle.com/xiaoml/talkingdata-mobile-user-demographics/bag-of-app-id-python-2-27392), [Bag of events](https://www.gelbukh.com/ijcla/2015-2/IJCLA-2015-2.pdf#page=11) тощо."
   ]
  },
  {
   "cell_type": "markdown",
   "metadata": {
    "slideshow": {
     "slide_type": "subslide"
    }
   },
   "source": [
    "Використання таких алгоритмів дає змогу отримати цілком робоче рішення простої проблеми, так званий baseline (з англ. \"початкове рішення\"). Проте, для тих дослідників/інженерів, які полюбляють щось більш сучасне, на ринку доступні нові підходи. Найпопулярніший метод нової хвилі – [Word2Vec](https://towardsdatascience.com/word2vec-explained-49c52b4ccb71), але є й альтернативи ([Wang2Vec](https://github.com/wlin12/wang2vec), [Glove](https://medium.com/analytics-vidhya/word-vectorization-using-glove-76919685ee0b), [fastText](https://fasttext.cc/))."
   ]
  },
  {
   "cell_type": "markdown",
   "metadata": {
    "slideshow": {
     "slide_type": "fragment"
    }
   },
   "source": [
    "Word2Vec є частинним випадком алгоритмів Word Embedding. Використання Word2Vec та подібних підходів дає змогу не лише векторизувати слова у просторі великої розмірності (зазвичай кілька сотень), а й порівнювати їхню семантичну близькість. Класичний приклад операцій над векторизованими поданнями: ***king – man + woman = queen***."
   ]
  },
  {
   "cell_type": "markdown",
   "metadata": {
    "slideshow": {
     "slide_type": "subslide"
    }
   },
   "source": [
    "<img src=\"https://raw.githubusercontent.com/radiukpavlo/intelligent-data-analysis/main/03_img/6_2_king-man%2Bwoman.gif\" align=\"center\" width=50% height=50%>"
   ]
  },
  {
   "cell_type": "markdown",
   "metadata": {
    "slideshow": {
     "slide_type": "subslide"
    }
   },
   "source": [
    "Варто розуміти, що ця модель не володіє розумінням слів, а лише намагається розмістити вектори так, щоб слова, які вживаються в загальному контексті, розміщувалися недалеко один від одного. Якщо цього не враховувати, можуть виникати багато курйозів: наприклад, знайти протилежність Гітлеру через множення відповідного вектора на -1."
   ]
  },
  {
   "cell_type": "markdown",
   "metadata": {
    "slideshow": {
     "slide_type": "fragment"
    }
   },
   "source": [
    "Такі моделі мають навчатися на великих наборах даних, щоб координати векторів дійсно відображали семантику слів. Для розв'язування власних задач можна завантажити напереднавчену модель, наприклад, [тут](https://github.com/3Top/word2vec-api#where-to-get-a-pretrained-models)."
   ]
  },
  {
   "cell_type": "markdown",
   "metadata": {
    "slideshow": {
     "slide_type": "fragment"
    }
   },
   "source": [
    "Схожі методи використовуються також в інших областях (наприклад, у біоінформатиці). З несподіваних застосувань – [food2vec](https://jaan.io/food2vec-augmented-cooking-machine-intelligence/). Ви також можете свої ідеї; концепція досить універсальна."
   ]
  },
  {
   "cell_type": "markdown",
   "metadata": {
    "slideshow": {
     "slide_type": "skip"
    }
   },
   "source": [
    "<a class=\"anchor\" id=\"6.1.2\"></a>"
   ]
  },
  {
   "cell_type": "markdown",
   "metadata": {
    "slideshow": {
     "slide_type": "slide"
    }
   },
   "source": [
    "### <span style=\"color:blue; font-size:1.2em;\">6.1.2. Зображення</span>\n",
    "\n",
    "[Повернутися до змісту](#6)"
   ]
  },
  {
   "cell_type": "markdown",
   "metadata": {
    "slideshow": {
     "slide_type": "fragment"
    }
   },
   "source": [
    "Робота із зображеннями стає все простішою з року в рік. Перш за все, тому що часто можна взагалі не думати, а просто використати одну з популярних нейронних мереж. Втім, тут також не без проблем: для доволі складних задач із обробленням зображень потрібно багато чого знати.\n",
    "\n",
    "У часи, коли [GPU](https://en.wikipedia.org/wiki/Graphics_processing_unit) були слабшими, а \"ренесанс нейромереж\" ще не трапився, генерація візуальних ознак із зображень була окремою досить складною підгалуззю."
   ]
  },
  {
   "cell_type": "markdown",
   "metadata": {
    "slideshow": {
     "slide_type": "fragment"
    }
   },
   "source": [
    "Для роботи із зображеннями потрібно було працювати на низькому рівні, визначаючи, наприклад, кути, границі об'єктів тощо. Досвідчені фахівці у галузі комп'ютерного зору могли б провести багато паралелей між традиційними (старішими) підходами та сучасним нейромережевим моделюванням: зокрема, згорткові шари в сучасних мережах дуже схожі на [каскади Хаара](https://en.wikipedia.org/wiki/Haar-like_feature). Залишимо кілька посилань на популярні в минулому бібліотеки [skimage](http://scikit-image.org/docs/stable/api/skimage.feature.html) та [SimpleCV](http://simplecv.readthedocs.io/en/latest/SimpleCV.Features.html) і перейдемо відразу до теперішнього часу."
   ]
  },
  {
   "cell_type": "markdown",
   "metadata": {
    "slideshow": {
     "slide_type": "subslide"
    }
   },
   "source": [
    "- Для задач з обробленням зображень часто використовують згорткову нейронну мережу. \n",
    "- Немає потреби створювати архітектуру з нуля — можна скористатися напереднавченою \"state of the art\" мережею, ваги якої доступні у відкритих джерелах.\n",
    "- Адаптація під свою задачу здійснюється методом \"fine tuning\".\n",
    "- Fine tuning включає заміну останніх повнозв'язних шарів на нові, що відповідають конкретній задачі, та донавчання мережі на нових даних.\n",
    "- Якщо зображення потрібно векторизувати для інших цілей, можна просто видалити останні шари й використовувати вихідну інформацію попередніх шарів."
   ]
  },
  {
   "cell_type": "code",
   "execution_count": 10,
   "metadata": {
    "slideshow": {
     "slide_type": "skip"
    }
   },
   "outputs": [],
   "source": [
    "# За бажання цей код можна роздокоментувати та подивитися\n",
    "# на результат застосування бібліотеки PyTorch\n",
    "\n",
    "# import torch\n",
    "# from torchvision import models, transforms\n",
    "# from PIL import Image\n",
    "# import numpy as np\n",
    "# from scipy.misc import face\n",
    "\n",
    "# # Визначення трансформацій зображення\n",
    "# transform = transforms.Compose([\n",
    "#     transforms.Resize(224),\n",
    "#     transforms.CenterCrop(224),\n",
    "#     transforms.ToTensor(),\n",
    "#     transforms.Normalize(mean=[0.485, 0.456, 0.406], std=[0.229, 0.224, 0.225]),\n",
    "# ])\n",
    "\n",
    "# # Завантаження попередньо підготовленої моделі ResNet50\n",
    "# resnet = models.resnet50(pretrained=True)\n",
    "# resnet.eval()  # Set the model to evaluation mode\n",
    "\n",
    "# # Завантаження та попереднє оброблення зображення\n",
    "# img = Image.fromarray(face())  # Convert numpy array to PIL Image\n",
    "# img = img.convert('RGB')  # Convert to RGB if necessary\n",
    "# img = transform(img)\n",
    "\n",
    "# # Додавання додаткового виміру\n",
    "# img = img.unsqueeze(0)\n",
    "\n",
    "# # Прогноз\n",
    "# with torch.no_grad():\n",
    "#     features = resnet(img)\n"
   ]
  },
  {
   "cell_type": "markdown",
   "metadata": {
    "slideshow": {
     "slide_type": "subslide"
    }
   },
   "source": [
    "<figure>\n",
    "<img src=\"https://raw.githubusercontent.com/radiukpavlo/intelligent-data-analysis/main/03_img/6_3_neural-net.png\" alt=\"Trulli\" style=\"width:100%\">\n",
    "<figcaption align = \"center\"><i>Згорткова нейронна мережа - типовий приклад архітектури нейронної мережі, що містить у собі як блоки для виявлення ознак, так і блоки для класифікації отриманого вектора ознак</i></figcaption>\n",
    "</figure>"
   ]
  },
  {
   "cell_type": "markdown",
   "metadata": {
    "ExecuteTime": {
     "end_time": "2018-03-14T14:44:25.102755Z",
     "start_time": "2018-03-14T14:44:24.374869Z"
    },
    "slideshow": {
     "slide_type": "subslide"
    }
   },
   "source": [
    "Проте не варто зациклюватися лише на нейромережевих методах. Деякі ознаки, згенеровані руками, можуть виявитися корисними і тепер: наприклад, прогнозуючи популярність оголошень про оренду квартири, можна припустити, що світлі квартири більше привертають увагу, і оформити ознаку \"середнє значення пікселя\". Надихнутися прикладами можна у документації відповідних [бібліотек](http://pillow.readthedocs.io/en/3.1.x/reference/ImageStat.html).\n",
    "\n",
    "Якщо на зображенні очікується блоки з текстом, то його можна прочитати й без розгортання складних нейромереж власними руками: наприклад, за допомогою [pytesseract](https://github.com/madmaze/pytesseract)."
   ]
  },
  {
   "cell_type": "markdown",
   "metadata": {
    "ExecuteTime": {
     "end_time": "2018-03-14T14:47:46.671934Z",
     "start_time": "2018-03-14T14:47:43.945326Z"
    },
    "slideshow": {
     "slide_type": "subslide"
    }
   },
   "source": [
    "```python\n",
    "import pytesseract\n",
    "from PIL import Image\n",
    "import requests\n",
    "from io import BytesIO\n",
    "\n",
    "# Випадкове зображення з інтернет-пошуку\n",
    "img = 'http://ohscurrent.org/wp-content/uploads/2015/09/domus-01-google.jpg'\n",
    "\n",
    "img = requests.get(img)\n",
    "img = Image.open(BytesIO(img.content))\n",
    "text = pytesseract.image_to_string(img)\n",
    "\n",
    "text\n",
    "\n",
    "Out: 'Google'\n",
    "```"
   ]
  },
  {
   "cell_type": "markdown",
   "metadata": {
    "slideshow": {
     "slide_type": "fragment"
    }
   },
   "source": [
    "Варто пам'ятати, що `pytesseract` – не панацея:"
   ]
  },
  {
   "cell_type": "markdown",
   "metadata": {
    "slideshow": {
     "slide_type": "subslide"
    }
   },
   "source": [
    "```python\n",
    "# Цього разу беремо зображення з Renthop\n",
    "img = requests.get('https://photos.renthop.com/2/8393298_6acaf11f030217d05f3a5604b9a2f70f.jpg')\n",
    "img = Image.open(BytesIO(img.content))\n",
    "pytesseract.image_to_string(img)\n",
    "\n",
    "Out: 'Cunveztible to 4}»'\n",
    "```"
   ]
  },
  {
   "cell_type": "markdown",
   "metadata": {
    "slideshow": {
     "slide_type": "fragment"
    }
   },
   "source": [
    "Ще один випадок, коли нейронні мережі не допоможуть – виявлення ознак з метаінфорації. В EXIF може зберігатися багато корисного: виробник і модель камери, дозвіл, використання спалаху, геокоординати зйомки, використане для оброблення програмне забезпечення та багато іншого."
   ]
  },
  {
   "cell_type": "markdown",
   "metadata": {
    "slideshow": {
     "slide_type": "skip"
    }
   },
   "source": [
    "<a class=\"anchor\" id=\"6.1.3\"></a>"
   ]
  },
  {
   "cell_type": "markdown",
   "metadata": {
    "slideshow": {
     "slide_type": "slide"
    }
   },
   "source": [
    "### <span style=\"color:blue; font-size:1.2em;\"> 6.1.3. Геодані</span>\n",
    "\n",
    "[Повернутися до змісту](#6)"
   ]
  },
  {
   "cell_type": "markdown",
   "metadata": {
    "slideshow": {
     "slide_type": "fragment"
    }
   },
   "source": [
    "* Географічні дані менш поширені в задачах, ніж інші типи даних, але варто освоїти основні методи роботи з ними, оскільки є багато готових рішень.\n",
    "* Геодані зазвичай представлені у вигляді адрес або пар \"широта + довгота\", тобто як точки на карті.\n",
    "* Залежно від задачі, можуть знадобитися:\n",
    "   - Геокодування (перетворення адреси на координати)\n",
    "   - Зворотне геокодування (перетворення координат на адресу)\n",
    "* Для геокодування та зворотного геокодування використовуються зовнішні API, такі як Google Maps або OpenStreetMap.\n",
    "* Геокодери відрізняються за якістю в різних регіонах, тому варто обирати відповідний сервіс.\n",
    "* Існують універсальні бібліотеки, як-от [geopy](https://github.com/geopy/geopy), що є обгорткою над багатьма геокодувальними сервісами, спрощуючи роботу з ними."
   ]
  },
  {
   "cell_type": "markdown",
   "metadata": {
    "slideshow": {
     "slide_type": "fragment"
    }
   },
   "source": [
    "Якщо даних багато, то зовнішні API можуть спричиняти різні обмеження та проблеми. А для отримання інформації за HTTP далеко не завжди є оптимальнм рішенням за швидкостю. Тому варто пам’ятати про можливість використання локальної версії OpenStreetMap.\n",
    "\n",
    "Якщо даних мало, часу достатньо, але немає бажання вилучати складні ознаки, то можна не \"гратися\" з OpenStreetMap і використати `reverse_geocoder`:"
   ]
  },
  {
   "cell_type": "markdown",
   "metadata": {
    "ExecuteTime": {
     "end_time": "2018-03-14T15:12:50.468269Z",
     "start_time": "2018-03-14T15:12:50.455393Z"
    },
    "slideshow": {
     "slide_type": "subslide"
    }
   },
   "source": [
    "```python\n",
    "import reverse_geocoder as revgc\n",
    "\n",
    "revgc.search((df.latitude, df.longitude))\n",
    "Loading formatted geocoded file... \n",
    "\n",
    "Out: [OrderedDict([('lat', '40.74482'), \n",
    "                   ('lon', '-73.94875'), \n",
    "                   ('name', 'Long Island City'), \n",
    "                   ('admin1', 'New York'), \n",
    "                   ('admin2', 'Queens County'), \n",
    "                   ('cc', 'US')])]\n",
    "```"
   ]
  },
  {
   "cell_type": "markdown",
   "metadata": {
    "slideshow": {
     "slide_type": "subslide"
    }
   },
   "source": [
    "* Під час роботи з геокодуванням слід враховувати, що адреси можуть містити помилки, тож потрібна попередня очистка даних.\n",
    "* У координатах менше друкарських помилок, але проблеми можливі:\n",
    "   - GPS може \"шуміти\", особливо в місцях з поганим сигналом, наприклад, у тунелях або районах з високими будівлями.\n",
    "   - Якщо джерело – мобільний пристрій, геолокація може визначатися за мережами Wi-Fi, що призводить до \"дірок\" і можливих \"телепортацій\" точок між далекими місцями."
   ]
  },
  {
   "cell_type": "markdown",
   "metadata": {
    "slideshow": {
     "slide_type": "fragment"
    }
   },
   "source": [
    "* **Гіпотеза про телепортацію**: Враховуючи, що точки зазвичай розташовані серед інфраструктури, можна додати ознаки, що базуються на навколишньому середовищі:\n",
    "   - Близькість до метро, поверховість будівель, відстань до магазинів, кількість банкоматів у радіусі тощо.\n",
    "* Для завдань поза міською інфраструктурою доцільно використовувати спеціалізовані ознаки, як-от висота над рівнем моря. \n",
    "\n",
    "* Отже, додавання контекстуальних ознак із зовнішніх джерел дозволяє точніше аналізувати та інтерпретувати геодані."
   ]
  },
  {
   "cell_type": "markdown",
   "metadata": {
    "slideshow": {
     "slide_type": "subslide"
    }
   },
   "source": [
    "Якщо дві або більше точок взаємопов'язані, то можливо, варто вилучати ознаки маршруту між ними.\n",
    "\n",
    "Тут знадобляться дистанції (варто дивитися і на great circle distance, і на \"чесну\" відстань, обраховану за дорожнім графом), кількість поворотів разом із співвідношенням лівих та правих, кількість світлофорів, розв'язок, мостів тощо.\n",
    "\n",
    "Наприклад, непогано може спрацювати ознака під назвою \"складність дороги\" – це відстань, що обрахована за графом і поділена на GCD."
   ]
  },
  {
   "cell_type": "markdown",
   "metadata": {
    "slideshow": {
     "slide_type": "skip"
    }
   },
   "source": [
    "<a class=\"anchor\" id=\"6.1.4\"></a>"
   ]
  },
  {
   "cell_type": "markdown",
   "metadata": {
    "slideshow": {
     "slide_type": "slide"
    }
   },
   "source": [
    "### <span style=\"color:blue; font-size:1.2em;\">6.1.4. Дата і час </span>\n",
    "\n",
    "[Повернутися до змісту](#6)"
   ]
  },
  {
   "cell_type": "markdown",
   "metadata": {
    "slideshow": {
     "slide_type": "fragment"
    }
   },
   "source": [
    "Здавалося б, робота з датою і часом має бути стандартизована через поширеність відповідних ознак, але тут також не без проблем.\n",
    "\n",
    "Почнемо з днів тижня – їх легко перетворити на 7 \"dummy\" змінних за допомогою \"one-hot\" кодування. Крім цього, корисно виділити окрему ознаку`is_weekend`."
   ]
  },
  {
   "cell_type": "markdown",
   "metadata": {
    "slideshow": {
     "slide_type": "fragment"
    }
   },
   "source": [
    "```python\n",
    "df['dow'] = df['created'].apply(lambda x: x.date().weekday())\n",
    "df['is_weekend'] = df['created'].apply(lambda x: 1 if x.date().weekday() in (5, 6) else 0)\n",
    "```"
   ]
  },
  {
   "cell_type": "markdown",
   "metadata": {
    "slideshow": {
     "slide_type": "subslide"
    }
   },
   "source": [
    "Деякі практичні задачі можуть потребувати додаткові календарні ознаки: наприклад, зняття готівки може бути прив'язане до дня видачі зарплат, а придбання проїзного – до початку місяця. Водночас, працюючи з часовими даними, треба мати під рукою календар із державними святами, аномальними погодними умовами та іншими важливими подіями.\n",
    "\n",
    "Професійний несмішний гумор:\n",
    "\n",
    "> Q: Що спільного між китайським новим роком, нью-йорським марафоном, гей-парадом та інавгурацією Трампа?\n",
    "\n",
    "> A: Їх усіх потрібно внести до календаря потенційних аномалій."
   ]
  },
  {
   "cell_type": "markdown",
   "metadata": {
    "slideshow": {
     "slide_type": "subslide"
    }
   },
   "source": [
    "А ось із годиною (хвилиною, днем місяця тощо) все не так і добре. Якщо використовувати годину як дійсну змінну, ми будемо суперечати природі даних: `22 < 23`, хоча `02.01 0:00:00 > 01.01 23:00:00`. Для деяких задач це може бути критичним. Якщо ж кодувати їх як категоріальні змінні, можна натворити купу ознак і втратити інформацію про близькість: різниця між 22 та 23 буде такою самою, як і між 22 та 7.\n",
    "\n",
    "Існують і більш езотеричні підходи до таких даних. Наприклад, проєкція на коло з подальшим використанням двох координат."
   ]
  },
  {
   "cell_type": "code",
   "execution_count": 11,
   "metadata": {
    "ExecuteTime": {
     "end_time": "2018-03-15T14:06:27.782320Z",
     "start_time": "2018-03-15T14:06:27.772449Z"
    },
    "slideshow": {
     "slide_type": "fragment"
    }
   },
   "outputs": [],
   "source": [
    "def make_harmonic_features(value, period=24):\n",
    "    value *= 2 * np.pi / period \n",
    "    return np.cos(value), np.sin(value)"
   ]
  },
  {
   "cell_type": "markdown",
   "metadata": {
    "slideshow": {
     "slide_type": "subslide"
    }
   },
   "source": [
    "Таке перетворення зберігає дистанцію між точками, що важливо для деяких алгоритмів, які ґрунтуються на відстані (kNN, SVM, k-means тощо)"
   ]
  },
  {
   "cell_type": "code",
   "execution_count": 12,
   "metadata": {
    "ExecuteTime": {
     "end_time": "2018-03-15T14:06:27.883311Z",
     "start_time": "2018-03-15T14:06:27.784833Z"
    },
    "slideshow": {
     "slide_type": "fragment"
    }
   },
   "outputs": [
    {
     "data": {
      "text/plain": [
       "0.5176380902050424"
      ]
     },
     "execution_count": 12,
     "metadata": {},
     "output_type": "execute_result"
    }
   ],
   "source": [
    "from scipy.spatial import distance\n",
    "euclidean(make_harmonic_features(23), make_harmonic_features(1)) "
   ]
  },
  {
   "cell_type": "code",
   "execution_count": 13,
   "metadata": {
    "ExecuteTime": {
     "end_time": "2018-03-15T14:06:28.250852Z",
     "start_time": "2018-03-15T14:06:27.884753Z"
    },
    "slideshow": {
     "slide_type": "fragment"
    }
   },
   "outputs": [
    {
     "data": {
      "text/plain": [
       "0.5176380902050414"
      ]
     },
     "execution_count": 13,
     "metadata": {},
     "output_type": "execute_result"
    }
   ],
   "source": [
    "euclidean(make_harmonic_features(9), make_harmonic_features(11)) "
   ]
  },
  {
   "cell_type": "code",
   "execution_count": 14,
   "metadata": {
    "ExecuteTime": {
     "end_time": "2018-03-15T14:06:28.801865Z",
     "start_time": "2018-03-15T14:06:28.252109Z"
    },
    "slideshow": {
     "slide_type": "fragment"
    }
   },
   "outputs": [
    {
     "data": {
      "text/plain": [
       "2.0"
      ]
     },
     "execution_count": 14,
     "metadata": {},
     "output_type": "execute_result"
    }
   ],
   "source": [
    "euclidean(make_harmonic_features(9), make_harmonic_features(21))"
   ]
  },
  {
   "cell_type": "markdown",
   "metadata": {
    "slideshow": {
     "slide_type": "fragment"
    }
   },
   "source": [
    "Втім, різницю між такими способами кодування зазвичай можна вловити лише у третьому знаку після коми у метриці."
   ]
  },
  {
   "cell_type": "markdown",
   "metadata": {
    "slideshow": {
     "slide_type": "skip"
    }
   },
   "source": [
    "<a class=\"anchor\" id=\"6.1.5\"></a>"
   ]
  },
  {
   "cell_type": "markdown",
   "metadata": {
    "slideshow": {
     "slide_type": "slide"
    }
   },
   "source": [
    "### <span style=\"color:blue; font-size:1.2em;\">6.1.5. Часові ряди, веб та інше</span>\n",
    "\n",
    "[Повернутися до змісту](#6)"
   ]
  },
  {
   "cell_type": "markdown",
   "metadata": {
    "slideshow": {
     "slide_type": "fragment"
    }
   },
   "source": [
    "Для роботи з ознаками часових рядів є чудова бібліотека [tsfresh](https://github.com/blue-yonder/tsfresh). Бібліотека призначена для автоматичної генерації ознак з часових рядів.\n",
    "\n",
    "Якщо ви працюєте з вебом, у вас зазвичай є інформація про User Agent користувача. Це корисне джерело інформації. По-перше, звідти насамперед потрібно вилучити операційну систему. По-друге, зробити ознаку `is_mobile`. По-третє, подивитися на браузер."
   ]
  },
  {
   "cell_type": "code",
   "execution_count": 15,
   "metadata": {
    "slideshow": {
     "slide_type": "subslide"
    }
   },
   "outputs": [],
   "source": [
    "# Встановіть необхідні пакети: pyyaml, ua-parser, user-agents\n",
    "import user_agents\n",
    "# Створюємо рядок з інформацією про користувацький агент\n",
    "ua_string = 'Mozilla/5.0 (X11; Linux x86_64) AppleWebKit/537.36 (KHTML, like Gecko) Ubuntu Chromium/56.0.2924.76 Chrome/56.0.2924.76 Safari/537.36'\n",
    "# Розбираємо інформацію з user-agent для визначення платформи, браузера та типу пристрою\n",
    "ua = user_agents.parse(ua_string)"
   ]
  },
  {
   "cell_type": "code",
   "execution_count": 16,
   "metadata": {
    "ExecuteTime": {
     "end_time": "2018-03-15T14:06:29.336832Z",
     "start_time": "2018-03-15T14:06:28.804134Z"
    },
    "slideshow": {
     "slide_type": "subslide"
    },
    "tags": []
   },
   "outputs": [
    {
     "name": "stdout",
     "output_type": "stream",
     "text": [
      "Чи є ботом?  False\n",
      "Чи є мобільним пристроєм?  False\n",
      "Чи є ПК?  True\n",
      "Сімейство ОС:  Ubuntu\n",
      "Версія ОС:  ()\n",
      "Сімейство браузера:  Chromium\n",
      "Версія браузера:  (56, 0, 2924)\n"
     ]
    }
   ],
   "source": [
    "# Виводимо інформацію про пристрій\n",
    "print('Чи є ботом? ', ua.is_bot)               # Перевіряє, чи є агент ботою\n",
    "print('Чи є мобільним пристроєм? ', ua.is_mobile)  # Перевіряє, чи це мобільний пристрій\n",
    "print('Чи є ПК? ', ua.is_pc)                     # Перевіряє, чи це персональний комп'ютер\n",
    "print('Сімейство ОС: ', ua.os.family)            # Виводить сімейство операційної системи\n",
    "print('Версія ОС: ', ua.os.version)              # Виводить версію операційної системи\n",
    "print('Сімейство браузера: ', ua.browser.family) # Виводить сімейство браузера\n",
    "print('Версія браузера: ', ua.browser.version)   # Виводить версію браузера"
   ]
  },
  {
   "cell_type": "markdown",
   "metadata": {
    "ExecuteTime": {
     "end_time": "2018-03-14T16:11:22.538721Z",
     "start_time": "2018-03-14T16:11:22.534198Z"
    },
    "slideshow": {
     "slide_type": "subslide"
    }
   },
   "source": [
    "1. Як і в інших галузях, можна створювати нові ознаки на основі гіпотез про природу даних.\n",
    "2. **Приклад гіпотези**: Відставання від останньої версії браузера. Старі версії браузера, наприклад Chromium 103, можуть бути показником того, що користувач давно не оновлював програму.\n",
    "3. Окрім браузера і операційної системи, корисно аналізувати додаткову метаінформацію, як-от:\n",
    "   - Реферер (не завжди доступний),\n",
    "   - `http_accept_language` (показує мову браузера).\n",
    "4. Важлива інформація – IP-адреса, з якої можна визначити:\n",
    "   - Країну, місто, провайдера, тип підключення (мобільне або стаціонарне).\n",
    "5. Варто пам'ятати про можливий шум через проксі та застарілі IP-бази.\n",
    "6. Додаткові ознаки для експертів: Наприклад, на основі IP можна робити припущення про **використання VPN**.\n",
    "7. **Поєднання IP і `http_accept_language`**: Якщо IP вказує на іншу країну (наприклад, проксі з Чилі), а локаль браузера — `ua_UA`, це може сигналізувати про проксі або мандрівника (`is_traveler_or_proxy_user = 1`)."
   ]
  },
  {
   "cell_type": "markdown",
   "metadata": {
    "slideshow": {
     "slide_type": "skip"
    }
   },
   "source": [
    "<a class=\"anchor\" id=\"6.2\"></a>"
   ]
  },
  {
   "cell_type": "markdown",
   "metadata": {
    "slideshow": {
     "slide_type": "slide"
    }
   },
   "source": [
    "## <span style=\"color:blue; font-size:1.2em;\">6.2. Перетворення ознак (Feature transformations)</span>\n",
    "\n",
    "[Повернутися до змісту](#6)"
   ]
  },
  {
   "cell_type": "markdown",
   "metadata": {
    "slideshow": {
     "slide_type": "skip"
    }
   },
   "source": [
    "<a class=\"anchor\" id=\"6.2.1\"></a>"
   ]
  },
  {
   "cell_type": "markdown",
   "metadata": {
    "slideshow": {
     "slide_type": "slide"
    }
   },
   "source": [
    "### <span style=\"color:blue; font-size:1.2em;\">6.2.1. Нормалізація та зміна розподілу</span>\n",
    "\n",
    "[Повернутися до змісту](#6)"
   ]
  },
  {
   "cell_type": "markdown",
   "metadata": {
    "slideshow": {
     "slide_type": "fragment"
    }
   },
   "source": [
    "- Монотонне перетворення ознак є критичним для одних алгоритмів, тоді як інші на нього не реагують.\n",
    "- Дерева рішень та їхні похідні (випадковий ліс, градієнтний бустинг) популярні, бо стійкі до незвичних розподілів і не потребують обробки перетворень.\n",
    "- Є інженерні рішення, як-от `np.log`, що знижує масштаб великих чисел, які не вміщуються в `np.float64`, хоча це більше виняток.\n",
    "- Дані часто адаптують під специфічні вимоги алгоритму; параметричні методи зазвичай вимагають симетричного та унімодального розподілу.\n",
    "- Деякі алгоритми, як [загальні лінійні моделі](https://en.wikipedia.org/wiki/General_linear_model)), можуть мати ще суворіші вимоги до даних.\n",
    "- Нормалізація ознак важлива і для непараметричних методів: [метод найближчих сусідів](https://uk.wikipedia.org/wiki/%D0%9C%D0%B5%D1%82%D0%BE%D0%B4_k-%D0%BD%D0%B0%D0%B9%D0%B1%D0%BB%D0%B8%D0%B6%D1%87%D0%B8%D1%85_%D1%81%D1%83%D1%81%D1%96%D0%B4%D1%96%D0%B2) не працюватиме коректно, якщо ознаки не масштабовані; це спричинить значні похибки у передбаченні."
   ]
  },
  {
   "cell_type": "markdown",
   "metadata": {
    "slideshow": {
     "slide_type": "subslide"
    }
   },
   "source": [
    "***Розглянемо простий приклад***. Нехай маємо завдання передбачити вартість квартири за двома ознаками: віддаленість від центру та кількість кімнат. Кількість кімнат рідко перевищує 5, а відстань від центру у великих містах легко може вимірюватися в десятках тисяч метрів.\n",
    "\n",
    "Найпростіше перетворення ознак – це [Standard Scaling](https://en.wikipedia.org/wiki/Feature_scaling#Standardization_(Z-score_Normalization)) (або Z-score normalization):\n",
    "\n",
    "$$ \\large z= \\frac{x-\\mu}{\\sigma}. $$\n",
    "\n",
    "Варто зауважити, що Standard Scaling не робить розподіл нормальним у строгому значенні слова."
   ]
  },
  {
   "cell_type": "code",
   "execution_count": 17,
   "metadata": {
    "ExecuteTime": {
     "end_time": "2018-03-15T14:06:29.382748Z",
     "start_time": "2018-03-15T14:06:29.338320Z"
    },
    "slideshow": {
     "slide_type": "subslide"
    }
   },
   "outputs": [],
   "source": [
    "from sklearn.preprocessing import StandardScaler\n",
    "from scipy.stats import beta\n",
    "from scipy.stats import shapiro\n",
    "import numpy as np"
   ]
  },
  {
   "cell_type": "code",
   "execution_count": 18,
   "metadata": {
    "slideshow": {
     "slide_type": "fragment"
    }
   },
   "outputs": [
    {
     "data": {
      "text/plain": [
       "ShapiroResult(statistic=0.8634108304977417, pvalue=1.2951498504840145e-28)"
      ]
     },
     "execution_count": 18,
     "metadata": {},
     "output_type": "execute_result"
    }
   ],
   "source": [
    "data = beta(1, 10).rvs(1000).reshape(-1, 1)\n",
    "shapiro(data)"
   ]
  },
  {
   "cell_type": "code",
   "execution_count": 19,
   "metadata": {
    "ExecuteTime": {
     "end_time": "2018-03-15T14:06:29.509590Z",
     "start_time": "2018-03-15T14:06:29.385020Z"
    },
    "slideshow": {
     "slide_type": "fragment"
    }
   },
   "outputs": [
    {
     "data": {
      "text/plain": [
       "ShapiroResult(statistic=0.863411009311676, pvalue=1.295177294985722e-28)"
      ]
     },
     "execution_count": 19,
     "metadata": {},
     "output_type": "execute_result"
    }
   ],
   "source": [
    "# Значення статистики, p-value \n",
    "shapiro(StandardScaler().fit_transform(data))"
   ]
  },
  {
   "cell_type": "markdown",
   "metadata": {
    "slideshow": {
     "slide_type": "subslide"
    }
   },
   "source": [
    "З таким *p*-value доведеться відхиляти нульову гіпотезу щодо нормальності даних."
   ]
  },
  {
   "cell_type": "code",
   "execution_count": 20,
   "metadata": {
    "ExecuteTime": {
     "end_time": "2018-03-15T14:06:29.602528Z",
     "start_time": "2018-03-15T14:06:29.511150Z"
    },
    "slideshow": {
     "slide_type": "fragment"
    }
   },
   "outputs": [
    {
     "data": {
      "text/plain": [
       "array([[-0.31922662],\n",
       "       [-0.31922662],\n",
       "       [-0.35434155],\n",
       "       [-0.38945648],\n",
       "       [-0.28411169],\n",
       "       [-0.31922662],\n",
       "       [-0.28411169],\n",
       "       [-0.24899676],\n",
       "       [-0.42457141],\n",
       "       [-0.21388184],\n",
       "       [ 3.15715128]])"
      ]
     },
     "execution_count": 20,
     "metadata": {},
     "output_type": "execute_result"
    }
   ],
   "source": [
    "import numpy as np\n",
    "from sklearn.preprocessing import StandardScaler\n",
    "# Створюємо масив даних та змінюємо його розмір для використання у StandardScaler\n",
    "data = np.array([1, 1, 0, -1, 2, 1, 2, 3, -2, 4, 100]).reshape(-1, 1).astype(np.float64)\n",
    "# Масштабуємо дані до стандартного нормального розподілу (середнє 0, стандартне відхилення 1)\n",
    "scaled_data = StandardScaler().fit_transform(data)\n",
    "\n",
    "scaled_data"
   ]
  },
  {
   "cell_type": "code",
   "execution_count": 21,
   "metadata": {
    "ExecuteTime": {
     "end_time": "2018-03-15T14:06:29.713603Z",
     "start_time": "2018-03-15T14:06:29.605288Z"
    },
    "slideshow": {
     "slide_type": "subslide"
    }
   },
   "outputs": [
    {
     "data": {
      "text/plain": [
       "array([[-0.31922662],\n",
       "       [-0.31922662],\n",
       "       [-0.35434155],\n",
       "       [-0.38945648],\n",
       "       [-0.28411169],\n",
       "       [-0.31922662],\n",
       "       [-0.28411169],\n",
       "       [-0.24899676],\n",
       "       [-0.42457141],\n",
       "       [-0.21388184],\n",
       "       [ 3.15715128]])"
      ]
     },
     "execution_count": 21,
     "metadata": {},
     "output_type": "execute_result"
    }
   ],
   "source": [
    "(data - data.mean()) / data.std()"
   ]
  },
  {
   "cell_type": "markdown",
   "metadata": {
    "slideshow": {
     "slide_type": "subslide"
    }
   },
   "source": [
    "Інший досить популярний варіант – [MinMax Scaling](https://en.wikipedia.org/wiki/Feature_scaling#Standardization_(Z-score_Normalization)), який переносить усі точки вибірки на заданий відрізок (зазвичай [0; 1]).\n",
    "\n",
    "$$ \\large X_{norm}=\\frac{X-X_{min}}{X_{max}-X_{min}}. $$"
   ]
  },
  {
   "cell_type": "code",
   "execution_count": 22,
   "metadata": {
    "ExecuteTime": {
     "end_time": "2018-03-15T14:06:29.855619Z",
     "start_time": "2018-03-15T14:06:29.716000Z"
    },
    "slideshow": {
     "slide_type": "fragment"
    }
   },
   "outputs": [
    {
     "data": {
      "text/plain": [
       "array([[0.02941176],\n",
       "       [0.02941176],\n",
       "       [0.01960784],\n",
       "       [0.00980392],\n",
       "       [0.03921569],\n",
       "       [0.02941176],\n",
       "       [0.03921569],\n",
       "       [0.04901961],\n",
       "       [0.        ],\n",
       "       [0.05882353],\n",
       "       [1.        ]])"
      ]
     },
     "execution_count": 22,
     "metadata": {},
     "output_type": "execute_result"
    }
   ],
   "source": [
    "from sklearn.preprocessing import MinMaxScaler\n",
    "\n",
    "# Масштабуємо дані до діапазону [0, 1] за допомогою MinMaxScaler\n",
    "scaled_data = MinMaxScaler().fit_transform(data)\n",
    "scaled_data"
   ]
  },
  {
   "cell_type": "code",
   "execution_count": 23,
   "metadata": {
    "ExecuteTime": {
     "end_time": "2018-03-15T14:06:29.955155Z",
     "start_time": "2018-03-15T14:06:29.857042Z"
    },
    "slideshow": {
     "slide_type": "subslide"
    }
   },
   "outputs": [
    {
     "data": {
      "text/plain": [
       "array([[0.02941176],\n",
       "       [0.02941176],\n",
       "       [0.01960784],\n",
       "       [0.00980392],\n",
       "       [0.03921569],\n",
       "       [0.02941176],\n",
       "       [0.03921569],\n",
       "       [0.04901961],\n",
       "       [0.        ],\n",
       "       [0.05882353],\n",
       "       [1.        ]])"
      ]
     },
     "execution_count": 23,
     "metadata": {},
     "output_type": "execute_result"
    }
   ],
   "source": [
    "(data - data.min()) / (data.max() - data.min()) "
   ]
  },
  {
   "cell_type": "markdown",
   "metadata": {
    "slideshow": {
     "slide_type": "fragment"
    }
   },
   "source": [
    "StandartScaling і MinMax Scaling мають схожі сфери застосування і є часто скільки-небудь взаємозамінні. Втім, якщо алгоритм передбачає обчислення відстаней між точками або векторами, стандартний вибір – StandartScaling. Проте MinMax Scaling корисний для візуалізації, щоб перенести ознаки на відрізок (0, 255).\n",
    "\n",
    "Якщо ми вважаємо, що деякі дані не розподілені нормально, але описуються [логнормальним розподілом](https://uk.wikipedia.org/wiki/%D0%9B%D0%BE%D0%B3%D0%BD%D0%BE%D1%80%D0%BC%D0%B0%D0%BB%D1%8C%D0%BD%D0%B8%D0%B9_%D1%80%D0%BE%D0%B7%D0%BF%D0%BE%D0%B4%D1%96%D0%BB), їх можна легко привести до чесного нормального розподілу:"
   ]
  },
  {
   "cell_type": "code",
   "execution_count": 24,
   "metadata": {
    "ExecuteTime": {
     "end_time": "2018-03-15T14:06:30.067680Z",
     "start_time": "2018-03-15T14:06:29.957011Z"
    },
    "slideshow": {
     "slide_type": "subslide"
    }
   },
   "outputs": [
    {
     "data": {
      "text/plain": [
       "ShapiroResult(statistic=0.5130957365036011, pvalue=0.0)"
      ]
     },
     "execution_count": 24,
     "metadata": {},
     "output_type": "execute_result"
    }
   ],
   "source": [
    "from scipy.stats import lognorm\n",
    "\n",
    "data = lognorm(s=1).rvs(1000)\n",
    "shapiro(data)"
   ]
  },
  {
   "cell_type": "code",
   "execution_count": 25,
   "metadata": {
    "ExecuteTime": {
     "end_time": "2018-03-15T14:06:30.180348Z",
     "start_time": "2018-03-15T14:06:30.069180Z"
    },
    "slideshow": {
     "slide_type": "fragment"
    }
   },
   "outputs": [
    {
     "data": {
      "text/plain": [
       "ShapiroResult(statistic=0.9977056980133057, pvalue=0.18010100722312927)"
      ]
     },
     "execution_count": 25,
     "metadata": {},
     "output_type": "execute_result"
    }
   ],
   "source": [
    "shapiro(np.log(data))"
   ]
  },
  {
   "cell_type": "markdown",
   "metadata": {
    "slideshow": {
     "slide_type": "subslide"
    }
   },
   "source": [
    "Логнормальний розподіл підходить для опису зарплат, вартості цінних паперів, населення міст, кількості коментарів до статей в інтернеті тощо. Проте для застосування такого прийому розподіл не обов'язково має бути саме логнормальним – всі розподіли з важким \"правим хвостом\" можна пробувати піддати такому перетворенню. З іншого боку, можна намагатися використовувати й інші схожі перетворення, беручи до уваги власні гіпотези щодо наближення наявних розподілів до нормального. Прикладами таких перетворень є [перетворення Боксу-Коксу](https://docs.scipy.org/doc/scipy/reference/generated/scipy.stats.boxcox.html) (логарифмування – це окремий випадок перетворення Боксу-Коксу) або [перетворення Йео-Джонсона](https://gist.github.com/mesgarpour/f24769cd186e2db853957b10ff6b7a95), що розширює сферу застосування на негативні числа; крім того, можна намагатися просто додавати константу до ознаки – `np.log(x + const)`.\n",
    "\n",
    "У прикладах вище ми працювали із синтетичними даними та суворо перевіряли нормальність за допомогою критерію [Шапіро-Вілка](https://en.wikipedia.org/wiki/Shapiro%E2%80%93Wilk_test). Спробуймо подивитися на реальні дані, а для перевірки на нормальність будемо використовувати менш формальний метод – [Q-Q графік](https://en.wikipedia.org/wiki/Q%E2%80%93Q_plot). Для нормального розподілу він виглядатиме як пряма діагональна лінія, а візуальні відхилення є інтуїтивно зрозумілими."
   ]
  },
  {
   "cell_type": "markdown",
   "metadata": {
    "slideshow": {
     "slide_type": "subslide"
    }
   },
   "source": [
    "<figure>\n",
    "<img src=\"https://raw.githubusercontent.com/radiukpavlo/intelligent-data-analysis/main/03_img/6_4_qq_lognorm.png\" alt=\"Trulli\" style=\"width:70%\">\n",
    "<figcaption align = \"center\"><i>Q-Q графік для логнормального розподілу</i></figcaption>\n",
    "</figure>"
   ]
  },
  {
   "cell_type": "markdown",
   "metadata": {
    "slideshow": {
     "slide_type": "subslide"
    }
   },
   "source": [
    "<figure>\n",
    "<img src=\"https://raw.githubusercontent.com/radiukpavlo/intelligent-data-analysis/main/03_img/6_5_qq_log.png\" alt=\"Trulli\" style=\"width:70%\">\n",
    "<figcaption align = \"center\"><i>Q-Q графік для логнормального розподілу після логарифмування</i></figcaption>\n",
    "</figure>"
   ]
  },
  {
   "cell_type": "markdown",
   "metadata": {
    "slideshow": {
     "slide_type": "fragment"
    }
   },
   "source": [
    "Далі буде малювати графіки відповідно до сказаного вище."
   ]
  },
  {
   "cell_type": "code",
   "execution_count": 26,
   "metadata": {
    "ExecuteTime": {
     "end_time": "2018-03-15T14:06:31.801140Z",
     "start_time": "2018-03-15T14:06:30.182573Z"
    },
    "slideshow": {
     "slide_type": "subslide"
    }
   },
   "outputs": [],
   "source": [
    "import numpy as np\n",
    "import statsmodels.api as sm\n",
    "from sklearn.preprocessing import MinMaxScaler, StandardScaler\n",
    "\n",
    "# Фільтруємо ціну, залишаючи тільки значення в діапазоні (500, 20000)\n",
    "price = df.price[(df.price <= 20000) & (df.price > 500)]\n",
    "\n",
    "# Логарифмуємо ціну для зменшення впливу великих значень\n",
    "price_log = np.log(price)\n",
    "\n",
    "# Масштабуємо значення ціни до діапазону [0, 1] \n",
    "# та стандартизуємо до середнього 0 і відхилення 1\n",
    "price_mm = MinMaxScaler().fit_transform(price.values.reshape(-1, 1)).flatten()\n",
    "price_z = StandardScaler().fit_transform(price.values.reshape(-1, 1)).flatten()"
   ]
  },
  {
   "cell_type": "code",
   "execution_count": 27,
   "metadata": {
    "ExecuteTime": {
     "end_time": "2018-03-15T14:06:32.717805Z",
     "start_time": "2018-03-15T14:06:31.802677Z"
    },
    "slideshow": {
     "slide_type": "subslide"
    }
   },
   "outputs": [
    {
     "data": {
      "image/png": "[encoded data removed]",
      "text/plain": [
       "<Figure size 640x480 with 1 Axes>"
      ]
     },
     "execution_count": 27,
     "metadata": {},
     "output_type": "execute_result"
    },
    {
     "data": {
      "image/png": "[encoded data removed]",
      "text/plain": [
       "<Figure size 640x480 with 1 Axes>"
      ]
     },
     "metadata": {},
     "output_type": "display_data"
    }
   ],
   "source": [
    "# Побудова Q-Q графіку для перевірки нормальності розподілу ціни\n",
    "sm.qqplot(price, loc=price.mean(), scale=price.std())"
   ]
  },
  {
   "cell_type": "markdown",
   "metadata": {
    "slideshow": {
     "slide_type": "subslide"
    }
   },
   "source": [
    "Q-Q графік початкової ознаки."
   ]
  },
  {
   "cell_type": "code",
   "execution_count": 28,
   "metadata": {
    "ExecuteTime": {
     "end_time": "2018-03-15T14:06:32.987753Z",
     "start_time": "2018-03-15T14:06:32.719093Z"
    },
    "slideshow": {
     "slide_type": "subslide"
    }
   },
   "outputs": [
    {
     "data": {
      "image/png": "[encoded data removed]",
      "text/plain": [
       "<Figure size 640x480 with 1 Axes>"
      ]
     },
     "execution_count": 28,
     "metadata": {},
     "output_type": "execute_result"
    },
    {
     "data": {
      "image/png": "[encoded data removed]",
      "text/plain": [
       "<Figure size 640x480 with 1 Axes>"
      ]
     },
     "metadata": {},
     "output_type": "display_data"
    }
   ],
   "source": [
    "# Побудова Q-Q графіку для стандартизованої ціни для оцінки нормальності\n",
    "sm.qqplot(price_z, loc=price_z.mean(), scale=price_z.std())"
   ]
  },
  {
   "cell_type": "markdown",
   "metadata": {
    "slideshow": {
     "slide_type": "subslide"
    }
   },
   "source": [
    "Q-Q графік ознаки після StandardScaler. Форма не змінюється."
   ]
  },
  {
   "cell_type": "code",
   "execution_count": 29,
   "metadata": {
    "ExecuteTime": {
     "end_time": "2018-03-15T14:06:33.243510Z",
     "start_time": "2018-03-15T14:06:32.988869Z"
    },
    "slideshow": {
     "slide_type": "subslide"
    }
   },
   "outputs": [
    {
     "data": {
      "image/png": "[encoded data removed]",
      "text/plain": [
       "<Figure size 640x480 with 1 Axes>"
      ]
     },
     "execution_count": 29,
     "metadata": {},
     "output_type": "execute_result"
    },
    {
     "data": {
      "image/png": "[encoded data removed]",
      "text/plain": [
       "<Figure size 640x480 with 1 Axes>"
      ]
     },
     "metadata": {},
     "output_type": "display_data"
    }
   ],
   "source": [
    "sm.qqplot(price_mm, loc=price_mm.mean(), scale=price_mm.std())"
   ]
  },
  {
   "cell_type": "markdown",
   "metadata": {
    "slideshow": {
     "slide_type": "subslide"
    }
   },
   "source": [
    "Q-Q графік ознак після MinMaxScaler. Форма не змінюється."
   ]
  },
  {
   "cell_type": "code",
   "execution_count": 30,
   "metadata": {
    "ExecuteTime": {
     "end_time": "2018-03-15T14:06:33.510998Z",
     "start_time": "2018-03-15T14:06:33.244652Z"
    },
    "slideshow": {
     "slide_type": "subslide"
    }
   },
   "outputs": [
    {
     "data": {
      "image/png": "[encoded data removed]",
      "text/plain": [
       "<Figure size 640x480 with 1 Axes>"
      ]
     },
     "execution_count": 30,
     "metadata": {},
     "output_type": "execute_result"
    },
    {
     "data": {
      "image/png": "[encoded data removed]",
      "text/plain": [
       "<Figure size 640x480 with 1 Axes>"
      ]
     },
     "metadata": {},
     "output_type": "display_data"
    }
   ],
   "source": [
    "# Побудова Q-Q графіку для нормалізованої ціни \n",
    "# (в діапазоні [0, 1]) для оцінки нормальності\n",
    "sm.qqplot(price_mm, loc=price_mm.mean(), scale=price_mm.std())"
   ]
  },
  {
   "cell_type": "markdown",
   "metadata": {
    "slideshow": {
     "slide_type": "subslide"
    }
   },
   "source": [
    "Q-Q графік ознаки після логарифмування. Справи пішли на покращення!"
   ]
  },
  {
   "cell_type": "markdown",
   "metadata": {
    "slideshow": {
     "slide_type": "skip"
    }
   },
   "source": [
    "<a class=\"anchor\" id=\"6.2.2\"></a>"
   ]
  },
  {
   "cell_type": "markdown",
   "metadata": {
    "slideshow": {
     "slide_type": "slide"
    }
   },
   "source": [
    "### <span style=\"color:blue; font-size:1.2em;\">6.2.2. Взаємодії (Interactions)</span>\n",
    "\n",
    "[Повернутися до змісту](#6)"
   ]
  },
  {
   "cell_type": "markdown",
   "metadata": {
    "slideshow": {
     "slide_type": "fragment"
    }
   },
   "source": [
    "Якщо попередні перетворення диктувалися швидше математикою, то цей пункт знову обґрунтований природою даних; його можна віднести як до перетворень, так і до створення нових ознак.\n",
    "\n",
    "Знову звернемося до задачі [Two Sigma Connect: Rental Listing Inquires](https://www.kaggle.com/c/two-sigma-connect-rental-listing-inquiries). Поміж ознак цієї задачі є кількість кімнат і вартість оренди. Життєва логіка підказує, що вартість у перерахунку на одну кімнату є більш показовою, ніж загальна вартість – отже, можна спробувати виділити таку ознаку."
   ]
  },
  {
   "cell_type": "code",
   "execution_count": 31,
   "metadata": {
    "ExecuteTime": {
     "end_time": "2018-03-15T14:06:33.800002Z",
     "start_time": "2018-03-15T14:06:33.512381Z"
    },
    "slideshow": {
     "slide_type": "subslide"
    }
   },
   "outputs": [],
   "source": [
    "# Замінюємо значення кількості спалень на мінімум 0.5, \n",
    "# щоб уникнути ділення на нуль\n",
    "rooms = df[\"bedrooms\"].apply(lambda x: max(x, 0.5))\n",
    "\n",
    "# Розраховуємо ціну за спальню, уникаючи поділу на нуль\n",
    "df[\"price_per_bedroom\"] = df[\"price\"] / rooms"
   ]
  },
  {
   "cell_type": "markdown",
   "metadata": {
    "slideshow": {
     "slide_type": "fragment"
    }
   },
   "source": [
    "Необов'язково керуватися життєвою логікою. Якщо ознак не дуже багато, можна згенерувати всі можливі взаємодії і потім відсіяти зайві, використовуючи одну з технік, що описані в наступному розділі. Крім того, не всі взаємодії між ознаками повинні мати хоч якийсь фізичний зміст: наприклад, [часто використовувані для лінійних моделей](https://d2l.ai/chapter_linear-networks/linear-regression.html) поліноміальні ознаки (див. [sklearn.preprocessing.PolynomialFeatures](http://scikit-learn.org/stable/modules/generated/sklearn.preprocessing.PolynomialFeatures.html)) трактувати практично неможливо."
   ]
  },
  {
   "cell_type": "markdown",
   "metadata": {
    "slideshow": {
     "slide_type": "skip"
    }
   },
   "source": [
    "<a class=\"anchor\" id=\"6.2.3\"></a>"
   ]
  },
  {
   "cell_type": "markdown",
   "metadata": {
    "slideshow": {
     "slide_type": "slide"
    }
   },
   "source": [
    "### <span style=\"color:blue; font-size:1.2em;\">6.2.3. Заповнення пропусків</span>\n",
    "\n",
    "[Повернутися до змісту](#6)"
   ]
  },
  {
   "cell_type": "markdown",
   "metadata": {
    "slideshow": {
     "slide_type": "fragment"
    }
   },
   "source": [
    "Мало які алгоритми вміють працювати з пропущеними значеннями \"з коробки\". Водночас реальний світ часто постачає дані з пропусками. На щастя, це одне з тих завдань, для розв'язання яких не потрібна жодна творчість. Обидві ключові для аналізу даних Python бібліотеки надають прості рішення: [pandas.DataFrame.fillna](http://pandas.pydata.org/pandas-docs/stable/generated/pandas.DataFrame.fillna.html) та [sklearn.preprocessing.Imputer](http://scikit-learn.org/stable/modules/preprocessing.html#imputation)."
   ]
  },
  {
   "cell_type": "markdown",
   "metadata": {
    "slideshow": {
     "slide_type": "subslide"
    }
   },
   "source": [
    "Готові бібліотечні рішення не ховають жодної магії за фасадом. Підходи до оброблення відсутніх значень напрошуються на рівні здорового глузду:\n",
    "\n",
    "* закодувати окремим порожнім значенням, як `\"n/a\"` (для категоріальних змінних);\n",
    "* використати найімовірніше значення ознаки (середнє або медіану для дійсних змінних, найчастіше для категоріальних);\n",
    "* навпаки, закодувати якимось неймовірним значенням (добре заходить для моделей, що ґрунтуються на деревах рішень, тому що дозволяє зробити поділ на пропущені та непропущені значення);\n",
    "* для впорядкованих даних (наприклад, часових рядів) можна брати сусіднє значення – наступне чи попереднє."
   ]
  },
  {
   "cell_type": "markdown",
   "metadata": {
    "slideshow": {
     "slide_type": "subslide"
    }
   },
   "source": [
    "<img src=\"https://raw.githubusercontent.com/radiukpavlo/intelligent-data-analysis/main/03_img/6_6_value-error.png\" align=\"center\" width=70%>"
   ]
  },
  {
   "cell_type": "markdown",
   "metadata": {
    "slideshow": {
     "slide_type": "fragment"
    }
   },
   "source": [
    "Зручність використання бібліотечних рішень іноді підказує вставити щось на зразок `df = df.fillna(0)` і не турбуватися за пропуски. Проте це не найрозумніше рішення: більшість часу зазвичай йде не так на побудову моделі, але на підготовку даних. Бездумне неявне заповнення пропусків може заховати баг в обробленні та зіпсувати модель."
   ]
  },
  {
   "cell_type": "markdown",
   "metadata": {
    "slideshow": {
     "slide_type": "skip"
    }
   },
   "source": [
    "<a class=\"anchor\" id=\"6.3\"></a>"
   ]
  },
  {
   "cell_type": "markdown",
   "metadata": {
    "slideshow": {
     "slide_type": "slide"
    }
   },
   "source": [
    "## <span style=\"color:blue; font-size:1.2em;\">6.3. Відбір ознак (Feature selection)</span>\n",
    "\n",
    "[Повернутися до змісту](#6)"
   ]
  },
  {
   "cell_type": "markdown",
   "metadata": {
    "slideshow": {
     "slide_type": "fragment"
    }
   },
   "source": [
    "Навіщо взагалі проводити відбір ознак? Комусь ця ідея може здатися контрінтуїтивною, але насправді є щонайменше дві важливі причини позбавлятися неважливих ознак. Перша є зрозумілою кожному інженеру: що більше даних, то вищою є обчислювальна складність. Поки ми працюємо з іграшковими наборами даних, розмір даних не є проблемою. Проте для реального навантаженого комерційного проєкту зайві сотні ознак можуть бути вкрай відчутними. Інша причина – деякі алгоритми сприймають шум (неінформативні ознаки) за цільовий сигнал, узагальнюючи надлишкову або непотрібну інформацію."
   ]
  },
  {
   "cell_type": "markdown",
   "metadata": {
    "slideshow": {
     "slide_type": "skip"
    }
   },
   "source": [
    "<a class=\"anchor\" id=\"6.3.1\"></a>"
   ]
  },
  {
   "cell_type": "markdown",
   "metadata": {
    "slideshow": {
     "slide_type": "subslide"
    }
   },
   "source": [
    "### <span style=\"color:blue; font-size:1.2em;\">6.3.1 Статистичні підходи</span>\n",
    "\n",
    "[Повернутися до змісту](#6)"
   ]
  },
  {
   "cell_type": "markdown",
   "metadata": {
    "slideshow": {
     "slide_type": "fragment"
    }
   },
   "source": [
    "Найочевидніший кандидат на вилучення – це ознака, що має незмінне значення, тобто, така, яка не містить жодної інформації. Якщо трохи відійти від цього виродженого випадку, то можна припустити, що низьковаріативні ознаки є дещо гіршими, ніж високоваріативні. Так можна дійти ідеї вилучати ознаки, дисперсія яких нижче певної межі."
   ]
  },
  {
   "cell_type": "code",
   "execution_count": 32,
   "metadata": {
    "ExecuteTime": {
     "end_time": "2018-03-15T14:06:34.669290Z",
     "start_time": "2018-03-15T14:06:33.801760Z"
    },
    "slideshow": {
     "slide_type": "subslide"
    }
   },
   "outputs": [
    {
     "data": {
      "text/plain": [
       "(100, 20)"
      ]
     },
     "execution_count": 32,
     "metadata": {},
     "output_type": "execute_result"
    }
   ],
   "source": [
    "from sklearn.feature_selection import VarianceThreshold\n",
    "from sklearn.datasets import make_classification\n",
    "\n",
    "# Генеруємо синтетичний набір даних для класифікації\n",
    "x_data_generated, y_data_generated = make_classification()\n",
    "\n",
    "# Перевіряємо розмірність створених даних (кількість зразків та ознак)\n",
    "x_data_generated.shape"
   ]
  },
  {
   "cell_type": "code",
   "execution_count": 33,
   "metadata": {
    "ExecuteTime": {
     "end_time": "2018-03-15T14:06:34.674947Z",
     "start_time": "2018-03-15T14:06:34.670899Z"
    },
    "slideshow": {
     "slide_type": "subslide"
    }
   },
   "outputs": [
    {
     "data": {
      "text/plain": [
       "(100, 20)"
      ]
     },
     "execution_count": 33,
     "metadata": {},
     "output_type": "execute_result"
    }
   ],
   "source": [
    "from sklearn.feature_selection import VarianceThreshold\n",
    "\n",
    "# Відбираємо ознаки з дисперсією понад 0.7 за допомогою VarianceThreshold\n",
    "x_selected = VarianceThreshold(threshold=0.7).fit_transform(x_data_generated)\n",
    "\n",
    "# Перевіряємо нову розмірність даних після відбору ознак\n",
    "x_selected.shape"
   ]
  },
  {
   "cell_type": "code",
   "execution_count": 34,
   "metadata": {
    "ExecuteTime": {
     "end_time": "2018-03-15T14:06:34.801683Z",
     "start_time": "2018-03-15T14:06:34.676130Z"
    },
    "slideshow": {
     "slide_type": "subslide"
    }
   },
   "outputs": [
    {
     "data": {
      "text/plain": [
       "(100, 19)"
      ]
     },
     "execution_count": 34,
     "metadata": {},
     "output_type": "execute_result"
    }
   ],
   "source": [
    "from sklearn.feature_selection import VarianceThreshold\n",
    "\n",
    "# Використовуємо VarianceThreshold для відбору ознак з дисперсією понад 0.8\n",
    "x_selected = VarianceThreshold(threshold=0.8).fit_transform(x_data_generated)\n",
    "\n",
    "# Перевіряємо розмірність даних після відбору ознак\n",
    "x_selected.shape"
   ]
  },
  {
   "cell_type": "code",
   "execution_count": 35,
   "metadata": {
    "ExecuteTime": {
     "end_time": "2018-03-15T14:06:34.903665Z",
     "start_time": "2018-03-15T14:06:34.803278Z"
    },
    "slideshow": {
     "slide_type": "subslide"
    }
   },
   "outputs": [
    {
     "data": {
      "text/plain": [
       "(100, 17)"
      ]
     },
     "execution_count": 35,
     "metadata": {},
     "output_type": "execute_result"
    }
   ],
   "source": [
    "from sklearn.feature_selection import VarianceThreshold\n",
    "\n",
    "# Застосовуємо VarianceThreshold для відбору ознак з дисперсією понад 0.9\n",
    "x_selected = VarianceThreshold(threshold=0.9).fit_transform(x_data_generated)\n",
    "\n",
    "# Виводимо розмірність даних після відбору ознак\n",
    "x_selected.shape"
   ]
  },
  {
   "cell_type": "markdown",
   "metadata": {
    "slideshow": {
     "slide_type": "fragment"
    }
   },
   "source": [
    "Є й інші підходи, що також [ґрунтуються на класичній статистиці](http://scikit-learn.org/stable/modules/feature_selection.html#univariate-feature-selection)."
   ]
  },
  {
   "cell_type": "code",
   "execution_count": 36,
   "metadata": {
    "ExecuteTime": {
     "end_time": "2018-03-15T14:06:35.235212Z",
     "start_time": "2018-03-15T14:06:34.908459Z"
    },
    "slideshow": {
     "slide_type": "fragment"
    }
   },
   "outputs": [],
   "source": [
    "from sklearn.feature_selection import SelectKBest, f_classif, VarianceThreshold\n",
    "from sklearn.linear_model import LogisticRegression\n",
    "from sklearn.model_selection import cross_val_score\n",
    "\n",
    "# Відбираємо 5 найкращих ознак за допомогою SelectKBest на основі f-критерію\n",
    "x_data_kbest = SelectKBest(f_classif, k=5).fit_transform(x_data_generated, y_data_generated)\n",
    "\n",
    "# Відбираємо ознаки з дисперсією понад 0.9 за допомогою VarianceThreshold\n",
    "x_data_varth = VarianceThreshold(threshold=0.9).fit_transform(x_data_generated)"
   ]
  },
  {
   "cell_type": "code",
   "execution_count": 37,
   "metadata": {
    "ExecuteTime": {
     "end_time": "2018-03-15T14:06:35.251270Z",
     "start_time": "2018-03-15T14:06:35.237608Z"
    },
    "slideshow": {
     "slide_type": "subslide"
    }
   },
   "outputs": [
    {
     "data": {
      "text/plain": [
       "-0.3293270109192788"
      ]
     },
     "execution_count": 37,
     "metadata": {},
     "output_type": "execute_result"
    }
   ],
   "source": [
    "# Виконуємо перехресну перевірку для LogisticRegression \n",
    "# з метрикою негативної логарифмічної втрати\n",
    "log_loss_score = cross_val_score(LogisticRegression(), x_data_generated, y_data_generated, scoring='neg_log_loss').mean()\n",
    "log_loss_score"
   ]
  },
  {
   "cell_type": "code",
   "execution_count": 38,
   "metadata": {
    "ExecuteTime": {
     "end_time": "2018-03-15T14:06:35.355729Z",
     "start_time": "2018-03-15T14:06:35.252493Z"
    },
    "slideshow": {
     "slide_type": "fragment"
    }
   },
   "outputs": [
    {
     "data": {
      "text/plain": [
       "-0.2988325330278957"
      ]
     },
     "execution_count": 38,
     "metadata": {},
     "output_type": "execute_result"
    }
   ],
   "source": [
    "cross_val_score(LogisticRegression(), x_data_kbest, y_data_generated, scoring='neg_log_loss').mean()"
   ]
  },
  {
   "cell_type": "code",
   "execution_count": 39,
   "metadata": {
    "ExecuteTime": {
     "end_time": "2018-03-15T14:06:35.500340Z",
     "start_time": "2018-03-15T14:06:35.356862Z"
    },
    "slideshow": {
     "slide_type": "fragment"
    }
   },
   "outputs": [
    {
     "data": {
      "text/plain": [
       "-0.3676902831465343"
      ]
     },
     "execution_count": 39,
     "metadata": {},
     "output_type": "execute_result"
    }
   ],
   "source": [
    "cross_val_score(LogisticRegression(), x_data_varth, y_data_generated, scoring='neg_log_loss').mean()"
   ]
  },
  {
   "cell_type": "markdown",
   "metadata": {
    "slideshow": {
     "slide_type": "fragment"
    }
   },
   "source": [
    "Бачимо, що відібрані ознаки підвищили якість класифікатора. Зрозуміло, що цей приклад є штучним, проте підхід гідний уваги і в реальних завданнях."
   ]
  },
  {
   "cell_type": "markdown",
   "metadata": {
    "slideshow": {
     "slide_type": "skip"
    }
   },
   "source": [
    "<a class=\"anchor\" id=\"6.3.2\"></a>"
   ]
  },
  {
   "cell_type": "markdown",
   "metadata": {
    "slideshow": {
     "slide_type": "slide"
    }
   },
   "source": [
    "### <span style=\"color:blue; font-size:1.2em;\">6.3.2. Відбір із використанням моделей</span>\n",
    "\n",
    "[Повернутися до змісту](#6)"
   ]
  },
  {
   "cell_type": "markdown",
   "metadata": {
    "slideshow": {
     "slide_type": "fragment"
    }
   },
   "source": [
    "Інший підхід: використовувати певну базову модель для оцінювання ознак. Водночас модель повинна явно демонструвати важливість використаних ознак. Зазвичай використовуються два типи моделей: якийсь \"дерев'яний\" ансамбль (наприклад, [Random Forest](https://scikit-learn.org/stable/modules/generated/sklearn.ensemble.RandomForestClassifier.html)) або лінійна модель з [Lasso регуляризацією](https://scikit-learn.org/stable/modules/generated/sklearn.linear_model.Lasso.html), яка схильна обнулювати ваги слабких ознак. Логіка інтутивно зрозуміла: якщо ознаки явно марні в простій моделі, то не треба залишати їх і в складній."
   ]
  },
  {
   "cell_type": "code",
   "execution_count": 40,
   "metadata": {
    "ExecuteTime": {
     "end_time": "2018-03-15T14:06:35.975262Z",
     "start_time": "2018-03-15T14:06:35.502079Z"
    },
    "slideshow": {
     "slide_type": "subslide"
    }
   },
   "outputs": [],
   "source": [
    "# Імпортуємо необхідні бібліотеки\n",
    "from sklearn.datasets import make_classification\n",
    "from sklearn.linear_model import LogisticRegression\n",
    "from sklearn.ensemble import RandomForestClassifier\n",
    "from sklearn.feature_selection import SelectFromModel\n",
    "from sklearn.model_selection import cross_val_score\n",
    "from sklearn.pipeline import make_pipeline"
   ]
  },
  {
   "cell_type": "code",
   "execution_count": 41,
   "metadata": {
    "slideshow": {
     "slide_type": "subslide"
    }
   },
   "outputs": [
    {
     "name": "stdout",
     "output_type": "stream",
     "text": [
      "LR (без відбору ознак): -0.2580620983508194\n",
      "RF (без відбору ознак): -0.2601662484824064\n",
      "LR + відбір ознак (на основі RF): -0.19747304979931118\n"
     ]
    }
   ],
   "source": [
    "# Генеруємо синтетичний набір даних для задачі класифікації\n",
    "x_data_generated, y_data_generated = make_classification()\n",
    "\n",
    "# Створюємо конвеєр, що включає відбір ознак на основі RandomForest та LogisticRegression\n",
    "pipe = make_pipeline(SelectFromModel(estimator=RandomForestClassifier()), LogisticRegression())\n",
    "\n",
    "# Ініціалізуємо окремо логістичну регресію та випадковий ліс\n",
    "lr = LogisticRegression()\n",
    "rf = RandomForestClassifier()\n",
    "\n",
    "# Оцінюємо середнє значення негативної логарифмічної втрати (neg_log_loss) для кожної моделі\n",
    "print(f\"LR (без відбору ознак): {cross_val_score(lr, x_data_generated, y_data_generated, scoring='neg_log_loss').mean()}\")\n",
    "print(f\"RF (без відбору ознак): {cross_val_score(rf, x_data_generated, y_data_generated, scoring='neg_log_loss').mean()}\")\n",
    "print(f\"LR + відбір ознак (на основі RF): {cross_val_score(pipe, x_data_generated, y_data_generated, scoring='neg_log_loss').mean()}\")"
   ]
  },
  {
   "cell_type": "markdown",
   "metadata": {
    "slideshow": {
     "slide_type": "subslide"
    }
   },
   "source": [
    "Варто також розуміти, що такий підхід теж не срібна куля – може вийти навіть гірше."
   ]
  },
  {
   "cell_type": "code",
   "execution_count": 42,
   "metadata": {
    "ExecuteTime": {
     "end_time": "2018-03-15T14:06:36.095657Z",
     "start_time": "2018-03-15T14:06:35.976948Z"
    },
    "slideshow": {
     "slide_type": "fragment"
    }
   },
   "outputs": [],
   "source": [
    "# Використовуємо згенеровані дані для імітації набору Renthop\n",
    "x_data = x_data_generated\n",
    "y_data = y_data_generated\n",
    "\n",
    "# Конвеєр з масштабуванням, відбором ознак на основі RandomForest, та LogisticRegression\n",
    "pipe1 = make_pipeline(StandardScaler(), SelectFromModel(estimator=RandomForestClassifier()), LogisticRegression())\n",
    "# Конвеєр з лише масштабуванням та LogisticRegression без відбору ознак\n",
    "pipe2 = make_pipeline(StandardScaler(), LogisticRegression())\n",
    "# Модель випадкового лісу без додаткових конвеєрів\n",
    "rf = RandomForestClassifier()"
   ]
  },
  {
   "cell_type": "code",
   "execution_count": 43,
   "metadata": {
    "slideshow": {
     "slide_type": "subslide"
    }
   },
   "outputs": [
    {
     "name": "stdout",
     "output_type": "stream",
     "text": [
      "LR + відбір ознак: -0.20312523710113975\n",
      "LR (без відбору ознак): -0.2738830725154988\n",
      "RF (без додаткової обробки): -0.24578048768716104\n"
     ]
    }
   ],
   "source": [
    "# Оцінка моделей за середньою негативною логарифмічною втратою (neg_log_loss)\n",
    "print(f\"LR + відбір ознак: \"\n",
    "      f\"{cross_val_score(pipe1, x_data, y_data, scoring='neg_log_loss').mean()}\")\n",
    "print(f\"LR (без відбору ознак): \"\n",
    "      f\"{cross_val_score(pipe2, x_data, y_data, scoring='neg_log_loss').mean()}\")\n",
    "print(f\"RF (без додаткової обробки): \"\n",
    "      f\"{cross_val_score(rf, x_data, y_data, scoring='neg_log_loss').mean()}\")"
   ]
  },
  {
   "cell_type": "markdown",
   "metadata": {
    "slideshow": {
     "slide_type": "fragment"
    }
   },
   "source": [
    "Стало лише гірше!"
   ]
  },
  {
   "cell_type": "markdown",
   "metadata": {
    "slideshow": {
     "slide_type": "skip"
    }
   },
   "source": [
    "<a class=\"anchor\" id=\"6.3.3\"></a>"
   ]
  },
  {
   "cell_type": "markdown",
   "metadata": {
    "slideshow": {
     "slide_type": "slide"
    }
   },
   "source": [
    "### <span style=\"color:blue; font-size:1.2em;\"> 6.3.3. Перебір</span>\n",
    "\n",
    "[Повернутися до змісту](#6)"
   ]
  },
  {
   "cell_type": "markdown",
   "metadata": {
    "slideshow": {
     "slide_type": "fragment"
    }
   },
   "source": [
    "В решті-решт, найнадійніший, але й найбільш обчислювально складний спосіб ґрунтуються на звичайному переборі:\n",
    "* навчаємо модель на підмножині \"ознак\";\n",
    "* запам'ятовуємо результат;\n",
    "* повторюємо для різних підмножин;\n",
    "* порівнюємо якість моделей.\n",
    "\n",
    "Такий підхід називається [Exhaustive Feature Selection](http://rasbt.github.io/mlxtend/user_guide/feature_selection/ExhaustiveFeatureSelector/)."
   ]
  },
  {
   "cell_type": "markdown",
   "metadata": {
    "slideshow": {
     "slide_type": "subslide"
    }
   },
   "source": [
    "Перебирати всі комбінації зазвичай занадто довго, так що можна пробувати зменшити простір перебору:\n",
    "1. Фіксуємо невелике число N.\n",
    "2. Перебираємо всі комбінації за ознаками N.\n",
    "3. Вибираємо кращу комбінацію.\n",
    "4. Далі перебираємо комбінації з N+1 ознак так, що попередня краща комбінація ознак зафіксована, а перебирається тільки нова ознака.\n",
    "\n",
    "Отже, так можна перебирати, допоки не впораємося в максимально допустиму кількість ознак або поки якість моделі не перестане значно зростати. Цей алгоритм називається [Sequential Feature Selection](http://rasbt.github.io/mlxtend/user_guide/feature_selection/SequentialFeatureSelector/).\n",
    "\n",
    "Деталізуємо описаний вище алгоритм: починати з повного простору ознак і викидати ознаки по одній, поки якість моделі залишається сталою або поки не досягнуто бажану кількість ознак."
   ]
  },
  {
   "cell_type": "code",
   "execution_count": 44,
   "metadata": {
    "ExecuteTime": {
     "end_time": "2018-03-15T14:06:44.047841Z",
     "start_time": "2018-03-15T14:06:36.096849Z"
    },
    "slideshow": {
     "slide_type": "subslide"
    }
   },
   "outputs": [
    {
     "name": "stderr",
     "output_type": "stream",
     "text": [
      "[Parallel(n_jobs=-1)]: Using backend LokyBackend with 8 concurrent workers.\n",
      "[Parallel(n_jobs=-1)]: Done  16 out of  20 | elapsed:    3.9s remaining:    0.9s\n",
      "[Parallel(n_jobs=-1)]: Done  20 out of  20 | elapsed:    4.0s finished\n",
      "\n",
      "[2024-11-07 11:17:07] Features: 19/3 -- score: -0.23311307232030126[Parallel(n_jobs=-1)]: Using backend LokyBackend with 8 concurrent workers.\n",
      "[Parallel(n_jobs=-1)]: Done  14 out of  19 | elapsed:    0.0s remaining:    0.0s\n",
      "[Parallel(n_jobs=-1)]: Done  19 out of  19 | elapsed:    0.0s finished\n",
      "\n",
      "[2024-11-07 11:17:08] Features: 18/3 -- score: -0.21527474509950748[Parallel(n_jobs=-1)]: Using backend LokyBackend with 8 concurrent workers.\n",
      "[Parallel(n_jobs=-1)]: Done  13 out of  18 | elapsed:    0.0s remaining:    0.0s\n",
      "[Parallel(n_jobs=-1)]: Done  18 out of  18 | elapsed:    0.0s finished\n",
      "\n",
      "[2024-11-07 11:17:08] Features: 17/3 -- score: -0.20501478982817645[Parallel(n_jobs=-1)]: Using backend LokyBackend with 8 concurrent workers.\n",
      "[Parallel(n_jobs=-1)]: Done  11 out of  17 | elapsed:    0.0s remaining:    0.0s\n",
      "[Parallel(n_jobs=-1)]: Done  17 out of  17 | elapsed:    0.0s finished\n",
      "\n",
      "[2024-11-07 11:17:08] Features: 16/3 -- score: -0.19785627187067906[Parallel(n_jobs=-1)]: Using backend LokyBackend with 8 concurrent workers.\n",
      "[Parallel(n_jobs=-1)]: Done  10 out of  16 | elapsed:    0.0s remaining:    0.0s\n",
      "[Parallel(n_jobs=-1)]: Done  16 out of  16 | elapsed:    0.0s finished\n",
      "\n",
      "[2024-11-07 11:17:08] Features: 15/3 -- score: -0.19241658800264833[Parallel(n_jobs=-1)]: Using backend LokyBackend with 8 concurrent workers.\n",
      "[Parallel(n_jobs=-1)]: Done   8 out of  15 | elapsed:    0.0s remaining:    0.0s\n",
      "[Parallel(n_jobs=-1)]: Done  15 out of  15 | elapsed:    0.0s finished\n",
      "\n",
      "[2024-11-07 11:17:08] Features: 14/3 -- score: -0.18931480355375455[Parallel(n_jobs=-1)]: Using backend LokyBackend with 8 concurrent workers.\n",
      "[Parallel(n_jobs=-1)]: Done   7 out of  14 | elapsed:    0.0s remaining:    0.0s\n",
      "[Parallel(n_jobs=-1)]: Done  14 out of  14 | elapsed:    0.0s finished\n",
      "\n",
      "[2024-11-07 11:17:08] Features: 13/3 -- score: -0.1855370801920494[Parallel(n_jobs=-1)]: Using backend LokyBackend with 8 concurrent workers.\n",
      "[Parallel(n_jobs=-1)]: Done   5 out of  13 | elapsed:    0.0s remaining:    0.0s\n",
      "[Parallel(n_jobs=-1)]: Done  13 out of  13 | elapsed:    0.0s finished\n",
      "\n",
      "[2024-11-07 11:17:08] Features: 12/3 -- score: -0.1818979452380803[Parallel(n_jobs=-1)]: Using backend LokyBackend with 8 concurrent workers.\n",
      "[Parallel(n_jobs=-1)]: Done   4 out of  12 | elapsed:    0.0s remaining:    0.0s\n",
      "[Parallel(n_jobs=-1)]: Done  12 out of  12 | elapsed:    0.0s finished\n",
      "\n",
      "[2024-11-07 11:17:08] Features: 11/3 -- score: -0.17854114222929557[Parallel(n_jobs=-1)]: Using backend LokyBackend with 8 concurrent workers.\n",
      "[Parallel(n_jobs=-1)]: Done   2 out of  11 | elapsed:    0.0s remaining:    0.1s\n",
      "[Parallel(n_jobs=-1)]: Done   8 out of  11 | elapsed:    0.0s remaining:    0.0s\n",
      "[Parallel(n_jobs=-1)]: Done  11 out of  11 | elapsed:    0.0s finished\n",
      "\n",
      "[2024-11-07 11:17:08] Features: 10/3 -- score: -0.17788545892113677[Parallel(n_jobs=-1)]: Using backend LokyBackend with 8 concurrent workers.\n",
      "[Parallel(n_jobs=-1)]: Done   7 out of  10 | elapsed:    0.0s remaining:    0.0s\n",
      "[Parallel(n_jobs=-1)]: Done  10 out of  10 | elapsed:    0.0s finished\n",
      "\n",
      "[2024-11-07 11:17:08] Features: 9/3 -- score: -0.1762014637314659[Parallel(n_jobs=-1)]: Using backend LokyBackend with 8 concurrent workers.\n",
      "[Parallel(n_jobs=-1)]: Done   4 out of   9 | elapsed:    0.0s remaining:    0.0s\n",
      "[Parallel(n_jobs=-1)]: Done   9 out of   9 | elapsed:    0.0s remaining:    0.0s\n",
      "[Parallel(n_jobs=-1)]: Done   9 out of   9 | elapsed:    0.0s finished\n",
      "\n",
      "[2024-11-07 11:17:09] Features: 8/3 -- score: -0.1740748786176291[Parallel(n_jobs=-1)]: Using backend LokyBackend with 8 concurrent workers.\n",
      "[Parallel(n_jobs=-1)]: Done   3 out of   8 | elapsed:    0.0s remaining:    0.0s\n",
      "[Parallel(n_jobs=-1)]: Done   8 out of   8 | elapsed:    0.0s remaining:    0.0s\n",
      "[Parallel(n_jobs=-1)]: Done   8 out of   8 | elapsed:    0.0s finished\n",
      "\n",
      "[2024-11-07 11:17:09] Features: 7/3 -- score: -0.17642025057906935[Parallel(n_jobs=-1)]: Using backend LokyBackend with 8 concurrent workers.\n",
      "[Parallel(n_jobs=-1)]: Done   4 out of   7 | elapsed:    0.0s remaining:    0.0s\n",
      "[Parallel(n_jobs=-1)]: Done   7 out of   7 | elapsed:    0.0s finished\n",
      "\n",
      "[2024-11-07 11:17:09] Features: 6/3 -- score: -0.17702535036698458[Parallel(n_jobs=-1)]: Using backend LokyBackend with 8 concurrent workers.\n",
      "[Parallel(n_jobs=-1)]: Done   3 out of   6 | elapsed:    0.0s remaining:    0.0s\n",
      "[Parallel(n_jobs=-1)]: Done   6 out of   6 | elapsed:    0.0s finished\n",
      "\n",
      "[2024-11-07 11:17:09] Features: 5/3 -- score: -0.17915795121357866[Parallel(n_jobs=-1)]: Using backend LokyBackend with 8 concurrent workers.\n",
      "[Parallel(n_jobs=-1)]: Done   2 out of   5 | elapsed:    0.0s remaining:    0.0s\n",
      "[Parallel(n_jobs=-1)]: Done   5 out of   5 | elapsed:    0.0s remaining:    0.0s\n",
      "[Parallel(n_jobs=-1)]: Done   5 out of   5 | elapsed:    0.0s finished\n",
      "\n",
      "[2024-11-07 11:17:09] Features: 4/3 -- score: -0.1816339669643279[Parallel(n_jobs=-1)]: Using backend LokyBackend with 8 concurrent workers.\n",
      "[Parallel(n_jobs=-1)]: Done   4 out of   4 | elapsed:    0.0s remaining:    0.0s\n",
      "[Parallel(n_jobs=-1)]: Done   4 out of   4 | elapsed:    0.0s finished\n",
      "\n",
      "[2024-11-07 11:17:09] Features: 3/3 -- score: -0.19134702591460648"
     ]
    },
    {
     "data": {
      "text/html": [
       "<style>#sk-container-id-1 {color: black;background-color: white;}#sk-container-id-1 pre{padding: 0;}#sk-container-id-1 div.sk-toggleable {background-color: white;}#sk-container-id-1 label.sk-toggleable__label {cursor: pointer;display: block;width: 100%;margin-bottom: 0;padding: 0.3em;box-sizing: border-box;text-align: center;}#sk-container-id-1 label.sk-toggleable__label-arrow:before {content: \"▸\";float: left;margin-right: 0.25em;color: #696969;}#sk-container-id-1 label.sk-toggleable__label-arrow:hover:before {color: black;}#sk-container-id-1 div.sk-estimator:hover label.sk-toggleable__label-arrow:before {color: black;}#sk-container-id-1 div.sk-toggleable__content {max-height: 0;max-width: 0;overflow: hidden;text-align: left;background-color: #f0f8ff;}#sk-container-id-1 div.sk-toggleable__content pre {margin: 0.2em;color: black;border-radius: 0.25em;background-color: #f0f8ff;}#sk-container-id-1 input.sk-toggleable__control:checked~div.sk-toggleable__content {max-height: 200px;max-width: 100%;overflow: auto;}#sk-container-id-1 input.sk-toggleable__control:checked~label.sk-toggleable__label-arrow:before {content: \"▾\";}#sk-container-id-1 div.sk-estimator input.sk-toggleable__control:checked~label.sk-toggleable__label {background-color: #d4ebff;}#sk-container-id-1 div.sk-label input.sk-toggleable__control:checked~label.sk-toggleable__label {background-color: #d4ebff;}#sk-container-id-1 input.sk-hidden--visually {border: 0;clip: rect(1px 1px 1px 1px);clip: rect(1px, 1px, 1px, 1px);height: 1px;margin: -1px;overflow: hidden;padding: 0;position: absolute;width: 1px;}#sk-container-id-1 div.sk-estimator {font-family: monospace;background-color: #f0f8ff;border: 1px dotted black;border-radius: 0.25em;box-sizing: border-box;margin-bottom: 0.5em;}#sk-container-id-1 div.sk-estimator:hover {background-color: #d4ebff;}#sk-container-id-1 div.sk-parallel-item::after {content: \"\";width: 100%;border-bottom: 1px solid gray;flex-grow: 1;}#sk-container-id-1 div.sk-label:hover label.sk-toggleable__label {background-color: #d4ebff;}#sk-container-id-1 div.sk-serial::before {content: \"\";position: absolute;border-left: 1px solid gray;box-sizing: border-box;top: 0;bottom: 0;left: 50%;z-index: 0;}#sk-container-id-1 div.sk-serial {display: flex;flex-direction: column;align-items: center;background-color: white;padding-right: 0.2em;padding-left: 0.2em;position: relative;}#sk-container-id-1 div.sk-item {position: relative;z-index: 1;}#sk-container-id-1 div.sk-parallel {display: flex;align-items: stretch;justify-content: center;background-color: white;position: relative;}#sk-container-id-1 div.sk-item::before, #sk-container-id-1 div.sk-parallel-item::before {content: \"\";position: absolute;border-left: 1px solid gray;box-sizing: border-box;top: 0;bottom: 0;left: 50%;z-index: -1;}#sk-container-id-1 div.sk-parallel-item {display: flex;flex-direction: column;z-index: 1;position: relative;background-color: white;}#sk-container-id-1 div.sk-parallel-item:first-child::after {align-self: flex-end;width: 50%;}#sk-container-id-1 div.sk-parallel-item:last-child::after {align-self: flex-start;width: 50%;}#sk-container-id-1 div.sk-parallel-item:only-child::after {width: 0;}#sk-container-id-1 div.sk-dashed-wrapped {border: 1px dashed gray;margin: 0 0.4em 0.5em 0.4em;box-sizing: border-box;padding-bottom: 0.4em;background-color: white;}#sk-container-id-1 div.sk-label label {font-family: monospace;font-weight: bold;display: inline-block;line-height: 1.2em;}#sk-container-id-1 div.sk-label-container {text-align: center;}#sk-container-id-1 div.sk-container {/* jupyter's `normalize.less` sets `[hidden] { display: none; }` but bootstrap.min.css set `[hidden] { display: none !important; }` so we also need the `!important` here to be able to override the default hidden behavior on the sphinx rendered scikit-learn.org. See: https://github.com/scikit-learn/scikit-learn/issues/21755 */display: inline-block !important;position: relative;}#sk-container-id-1 div.sk-text-repr-fallback {display: none;}</style><div id=\"sk-container-id-1\" class=\"sk-top-container\"><div class=\"sk-text-repr-fallback\"><pre>SequentialFeatureSelector(estimator=LogisticRegression(), forward=False,\n",
       "                          k_features=(3, 3), n_jobs=-1, scoring=&#x27;neg_log_loss&#x27;,\n",
       "                          verbose=2)</pre><b>In a Jupyter environment, please rerun this cell to show the HTML representation or trust the notebook. <br />On GitHub, the HTML representation is unable to render, please try loading this page with nbviewer.org.</b></div><div class=\"sk-container\" hidden><div class=\"sk-item sk-dashed-wrapped\"><div class=\"sk-label-container\"><div class=\"sk-label sk-toggleable\"><input class=\"sk-toggleable__control sk-hidden--visually\" id=\"sk-estimator-id-1\" type=\"checkbox\" ><label for=\"sk-estimator-id-1\" class=\"sk-toggleable__label sk-toggleable__label-arrow\">SequentialFeatureSelector</label><div class=\"sk-toggleable__content\"><pre>SequentialFeatureSelector(estimator=LogisticRegression(), forward=False,\n",
       "                          k_features=(3, 3), n_jobs=-1, scoring=&#x27;neg_log_loss&#x27;,\n",
       "                          verbose=2)</pre></div></div></div><div class=\"sk-parallel\"><div class=\"sk-parallel-item\"><div class=\"sk-item\"><div class=\"sk-label-container\"><div class=\"sk-label sk-toggleable\"><input class=\"sk-toggleable__control sk-hidden--visually\" id=\"sk-estimator-id-2\" type=\"checkbox\" ><label for=\"sk-estimator-id-2\" class=\"sk-toggleable__label sk-toggleable__label-arrow\">estimator: LogisticRegression</label><div class=\"sk-toggleable__content\"><pre>LogisticRegression()</pre></div></div></div><div class=\"sk-serial\"><div class=\"sk-item\"><div class=\"sk-estimator sk-toggleable\"><input class=\"sk-toggleable__control sk-hidden--visually\" id=\"sk-estimator-id-3\" type=\"checkbox\" ><label for=\"sk-estimator-id-3\" class=\"sk-toggleable__label sk-toggleable__label-arrow\">LogisticRegression</label><div class=\"sk-toggleable__content\"><pre>LogisticRegression()</pre></div></div></div></div></div></div></div></div></div></div>"
      ],
      "text/plain": [
       "SequentialFeatureSelector(estimator=LogisticRegression(), forward=False,\n",
       "                          k_features=(3, 3), n_jobs=-1, scoring='neg_log_loss',\n",
       "                          verbose=2)"
      ]
     },
     "execution_count": 44,
     "metadata": {},
     "output_type": "execute_result"
    }
   ],
   "source": [
    "from mlxtend.feature_selection import SequentialFeatureSelector\n",
    "from sklearn.linear_model import LogisticRegression\n",
    "\n",
    "# Ініціалізація послідовного відбору ознак (backward selection)\n",
    "selector = SequentialFeatureSelector(LogisticRegression(), \n",
    "                                     scoring='neg_log_loss',      # Використовуємо метрику негативної логарифмічної втрати\n",
    "                                     verbose=2,                   # Вивід деталей процесу відбору\n",
    "                                     k_features=3,                # Відбираємо 3 найкращі ознаки\n",
    "                                     forward=False,               # Вибираємо режим backward selection\n",
    "                                     n_jobs=-1)                   # Використовуємо всі ядра процесора для паралельної обробки\n",
    "\n",
    "# Навчаємо селектор на даних\n",
    "selector.fit(x_data, y_data)"
   ]
  },
  {
   "cell_type": "markdown",
   "metadata": {
    "slideshow": {
     "slide_type": "subslide"
    }
   },
   "source": [
    "Можемо переглянути як цей підхід був реалізований в одному простому, але елегантному [ядрі Kaggle](https://www.kaggle.com/arsenyinfo/easy-feature-selection-pipeline-0-55-at-lb)."
   ]
  },
  {
   "cell_type": "markdown",
   "metadata": {
    "slideshow": {
     "slide_type": "skip"
    }
   },
   "source": [
    "<a class=\"anchor\" id=\"6.4\"></a>"
   ]
  },
  {
   "cell_type": "markdown",
   "metadata": {
    "slideshow": {
     "slide_type": "slide"
    }
   },
   "source": [
    "## <span style=\"color:blue; font-size:1.2em;\">6.4. Основні метрики якості класифікації</span>\n",
    "\n",
    "[Повернутися до змісту](#6)"
   ]
  },
  {
   "cell_type": "markdown",
   "metadata": {
    "slideshow": {
     "slide_type": "skip"
    }
   },
   "source": [
    "<a class=\"anchor\" id=\"6.4.1\"></a>"
   ]
  },
  {
   "cell_type": "markdown",
   "metadata": {
    "slideshow": {
     "slide_type": "slide"
    }
   },
   "source": [
    "### <span style=\"color:blue; font-size:1.2em;\">6.4.1. Матриця невідповідностей</span>\n",
    "\n",
    "[Повернутися до змісту](#6)"
   ]
  },
  {
   "cell_type": "markdown",
   "metadata": {
    "slideshow": {
     "slide_type": "fragment"
    }
   },
   "source": [
    "Існує багато метрик, що дають змогу обчислити кількісну характеристику бінарного класифікатора. У випадку віднесення одного об'єкта до одного з двох класів можливі 4 результати. Їх зручно відображати за допомогою матриці невідповідностей (з англ. \"[confusion matrix](https://en.wikipedia.org/wiki/Confusion_matrix)\"):\n",
    "\n",
    "- $TP$ – кількість правильно класифікованих цільових об'єктів;\n",
    "- $FP$ – кількість нецільових об'єктів, що класифіковані як цільові (помилки першого роду);\n",
    "- $TN$ – кількість правильно класифікованих нецільових прикладів;\n",
    "- $FN$ – кількість цільових об'єктів, що класифіковані як нецільові (помилки другого роду)."
   ]
  },
  {
   "cell_type": "markdown",
   "metadata": {
    "slideshow": {
     "slide_type": "subslide"
    }
   },
   "source": [
    "<figure>\n",
    "<img src=\"https://raw.githubusercontent.com/radiukpavlo/intelligent-data-analysis/main/03_img/6_8_confusion-matrix.png\" alt=\"Trulli\" style=\"width:100%\">\n",
    "<figcaption align = \"center\"><i>Джерело: https://encord.com/glossary/confusion-matrix/</i></figcaption>\n",
    "</figure>"
   ]
  },
  {
   "cell_type": "markdown",
   "metadata": {
    "slideshow": {
     "slide_type": "subslide"
    }
   },
   "source": [
    "Отримати таку таблицю можна за допомогою функції [sklearn.metrics.confusion_matrix](https://scikit-learn.org/stable/modules/generated/sklearn.metrics.confusion_matrix.html). Необхідно їй на вхід передати дійсні та передбачені класифікатором мітки."
   ]
  },
  {
   "cell_type": "code",
   "execution_count": 45,
   "metadata": {
    "slideshow": {
     "slide_type": "fragment"
    }
   },
   "outputs": [
    {
     "name": "stdout",
     "output_type": "stream",
     "text": [
      "Матриця плутанини:\n",
      " [[2 1]\n",
      " [3 2]]\n"
     ]
    }
   ],
   "source": [
    "from sklearn import metrics\n",
    "\n",
    "# Істинні та передбачені мітки класів\n",
    "true_labels = np.array([0, 1, 0, 0, 1, 1, 1, 1])\n",
    "predicted_labels = np.array([0, 1, 1, 0, 0, 1, 0, 0])\n",
    "\n",
    "# Обчислення матриці плутанини\n",
    "my_metrics = metrics.confusion_matrix(true_labels, predicted_labels)\n",
    "print(\"Матриця плутанини:\\n\", my_metrics)"
   ]
  },
  {
   "cell_type": "markdown",
   "metadata": {
    "slideshow": {
     "slide_type": "skip"
    }
   },
   "source": [
    "<a class=\"anchor\" id=\"6.4.2\"></a>"
   ]
  },
  {
   "cell_type": "markdown",
   "metadata": {
    "slideshow": {
     "slide_type": "slide"
    }
   },
   "source": [
    "### <span style=\"color:blue; font-size:1.2em;\">6.4.2. Характеристики бінарного класифікатора</span>\n",
    "\n",
    "[Повернутися до змісту](#6)"
   ]
  },
  {
   "cell_type": "markdown",
   "metadata": {
    "slideshow": {
     "slide_type": "subslide"
    }
   },
   "source": [
    "З огляду на таблицю вище, введемо кілька величин, що кількісно характеризують бінарний класифікатор:\n",
    "\n",
    "$$Recall = TPR = \\frac{TP}{TP + FN},$$\n",
    "\n",
    "\n",
    "$$\\quad SPC = \\frac{TN}{TN + FP},$$\n",
    "\n",
    "\n",
    "$$\\quad Precision = PPV = \\frac{TP}{TP + FP},$$\n",
    "\n",
    "\n",
    "$$\\quad FPR = 1 - SPC,$$\n",
    "\n",
    "\n",
    "$$ACC = \\frac{TP + TN}{TP + TN + FP + FN},$$\n",
    "\n",
    "\n",
    "$$\\quad F1 = 2\\frac{PPV\\cdot TRP}{PPV + TPR}.$$\n"
   ]
  },
  {
   "cell_type": "markdown",
   "metadata": {
    "slideshow": {
     "slide_type": "subslide"
    }
   },
   "source": [
    "Повнота $TPR$ (True positive rate, recall, sensitivity) – частка правильно класифікованих цільових об'єктів поміж усіх цільових об'єктів.\n",
    "\n",
    "Специфічність $SPC$ (Specificity, true negative rate) – частка правильно класифікованих нецільових об'єктів поміж усіх нецільових об'єктів.\n",
    "\n",
    "Влучність $PPV$ (Positive predictive value, precision) – частка правильно класифікованих цільових об'єктів поміж усіх об'єктів, що класифіковані праильно.\n",
    "\n",
    "$FPR$ (False positive rate) – частка помилково класифікованих нецільових об'єктів поміж усіх нецільових об'єктів.\n",
    "\n",
    "$ACC$ (Accuracy) – частка правильно класифікованих об'єктів поміж усіх об'єктів. $ACC$ є основною характеристикою якості класифікації.\n",
    "\n",
    "$F1$ (F1-measure) – середнє гармонійне влучності та повноти; ця метрика дає змогу врахувати обидві характеристики одночасно."
   ]
  },
  {
   "cell_type": "code",
   "execution_count": 46,
   "metadata": {
    "slideshow": {
     "slide_type": "subslide"
    }
   },
   "outputs": [
    {
     "data": {
      "text/plain": [
       "(0.6666666666666666, 0.4, 0.5, 0.5)"
      ]
     },
     "execution_count": 46,
     "metadata": {},
     "output_type": "execute_result"
    }
   ],
   "source": [
    "from sklearn import metrics\n",
    "\n",
    "# Обчислення метрик для оцінки класифікаційної моделі\n",
    "PPV = metrics.precision_score(true_labels, predicted_labels)  # Точність (Positive Predictive Value)\n",
    "TPR = metrics.recall_score(true_labels, predicted_labels)     # Повнота (True Positive Rate)\n",
    "F1 = metrics.f1_score(true_labels, predicted_labels)          # F1-міра\n",
    "ACC = metrics.accuracy_score(true_labels, predicted_labels)   # Точність класифікації (Accuracy)\n",
    "\n",
    "# Виведення результатів\n",
    "PPV, TPR, F1, ACC"
   ]
  },
  {
   "cell_type": "markdown",
   "metadata": {
    "slideshow": {
     "slide_type": "skip"
    }
   },
   "source": [
    "<a class=\"anchor\" id=\"6.4.3\"></a>"
   ]
  },
  {
   "cell_type": "markdown",
   "metadata": {
    "slideshow": {
     "slide_type": "slide"
    }
   },
   "source": [
    "### <span style=\"color:blue; font-size:1.2em;\">6.4.3. ROC-крива та AUC</span>\n",
    "\n",
    "[Повернутися до змісту](#6)"
   ]
  },
  {
   "cell_type": "markdown",
   "metadata": {
    "slideshow": {
     "slide_type": "fragment"
    }
   },
   "source": [
    "Здебільшого бінарні класифікатори мають вигляд $a(x) = \\mbox{sign}(f(x, w) - w_0)$, де $w, w_0$ – параметри алгоритму. Тобто спочатку будується розділяюча поверхня $f(x, w) = w_0 $, після чого об'єкти, що перебувають з однієї сторони від неї класифікуються як цільові, з іншої – як нецільові.\n",
    "\n",
    "ROC-крива (Receiver Operating Characteristic) – це графічна характеристика якості бінарного класифікатора, що виражає залежність TPR від FPR при зміні порога вирішального правила. Ця крива ілюструє, якою буде якість класифікації за різних значень $w_0$ і фіксованому значенні $w$.\n",
    "\n",
    "ROC-крива проходить через точки (0, 0) та (1, 1) і монотонно не зменшується. Чим ближче крива всередині квадрата $[0, 1]\\times[0, 1]$ до лівого верхнього кута, тим краще. Ідеальний варіант – крива, що проходить через три точки: (0, 0), (1, 1) та (0, 1). Діагональ цього квадрата відповідає випадковій класифікації. Типова ROC-крива для класифікатора відповідає кривій на рисунку нижче."
   ]
  },
  {
   "cell_type": "markdown",
   "metadata": {
    "slideshow": {
     "slide_type": "subslide"
    }
   },
   "source": [
    "<img src=\"https://raw.githubusercontent.com/radiukpavlo/intelligent-data-analysis/main/03_img/6_9_ROC.jpg\" align=\"center\" width=50%>"
   ]
  },
  {
   "cell_type": "markdown",
   "metadata": {
    "slideshow": {
     "slide_type": "subslide"
    }
   },
   "source": [
    "На практиці ROC-криву завжди оцінюють за незалежною тестовою вибіркою, щоб уникнути перенавчання.\n",
    "\n",
    "Площа під ROC-кривою AUC (Area Under Curve) є кількісною характеристикою якості класифікації, яка не залежить від співвідношення помилок. Чим більше значення AUC, тим \"краще\" є модель класифікації."
   ]
  },
  {
   "cell_type": "markdown",
   "metadata": {
    "slideshow": {
     "slide_type": "skip"
    }
   },
   "source": [
    "<a class=\"anchor\" id=\"6.4.4\"></a>"
   ]
  },
  {
   "cell_type": "markdown",
   "metadata": {
    "slideshow": {
     "slide_type": "slide"
    }
   },
   "source": [
    "### <span style=\"color:blue; font-size:1.2em;\">6.4.4. Дисбаланс класів</span>\n",
    "\n",
    "[Повернутися до змісту](#6)"
   ]
  },
  {
   "cell_type": "markdown",
   "metadata": {
    "slideshow": {
     "slide_type": "subslide"
    }
   },
   "source": [
    "На практиці у разі дисбалансу класів вдаються до таких [дій](http://machinelearningmastery.com/tactics-to-combat-imbalanced-classes-in-your-machine-learning-dataset/):\n",
    "\n",
    "- зібрати більше даних, особливо об'єктів рідкісного класу (не завжди можливо);\n",
    "- використовувати методи, що ґрунтуються на деревах рішень – [випадковий ліс](https://scikit-learn.org/stable/modules/generated/sklearn.ensemble.RandomForestClassifier.html) або [градієнтний бустинг над деревами](https://scikit-learn.org/stable/modules/generated/sklearn.ensemble.GradientBoostingClassifier.html); дерева не так схильні до проблеми дисбалансу класів;\n",
    "- використовувати метрики типу $F_1$, ROC AUC та [Cohen's kappa](https://en.wikipedia.org/wiki/Cohen%27s_kappa), а не ACC;\n",
    "- використовувати метрику, в якій помилка на об'єкті з рідкісного класу входить із більшою вагою, ніж помилка на об'єкті з типового класу;\n",
    "- застосовувати [oversampling](https://en.wikipedia.org/wiki/Oversampling_and_undersampling_in_data_analysis) та [undersampling](https://en.wikipedia.org/wiki/Oversampling_and_undersampling_in_data_analysis); у першому випадку до вибірки додаються об'єкти рідкісного класу (семплюються із заміщенням), у другому – об'єкти типового класу випадково видаляються з вибірки;\n",
    "- згенерувати штучні об'єкти рідкісного класу, Synthetic Minority Over-sampling Technique ([SMOTE](https://imbalanced-learn.org/stable/over_sampling.html#smote-adasyn)); додаткова [реалізація](https://github.com/fmfn/UnbalancedDataset) на Python;\n",
    "- розбити один великий клас на кілька менших та застосувати стратегії [One Vs. All](https://machinelearningmastery.com/one-vs-rest-and-one-vs-one-for-multi-class-classification/) або [One Vs. One](https://machinelearningmastery.com/one-vs-rest-and-one-vs-one-for-multi-class-classification/);\n",
    "- застосувати алгоритми пошуку викидів або OneClass алгоритми (наприклад, [OneClass SVM](https://machinelearningmastery.com/one-class-classification-algorithms/))."
   ]
  },
  {
   "cell_type": "markdown",
   "metadata": {
    "slideshow": {
     "slide_type": "skip"
    }
   },
   "source": [
    "<a class=\"anchor\" id=\"6.4.5\"></a>"
   ]
  },
  {
   "cell_type": "markdown",
   "metadata": {
    "slideshow": {
     "slide_type": "slide"
    }
   },
   "source": [
    "### <span style=\"color:blue; font-size:1.2em;\">6.4.5. Приклади застосувань метрик класифікації</span>\n",
    "\n",
    "[Повернутися до змісту](#6)"
   ]
  },
  {
   "cell_type": "code",
   "execution_count": 47,
   "metadata": {
    "slideshow": {
     "slide_type": "fragment"
    }
   },
   "outputs": [],
   "source": [
    "import sys\n",
    "import matplotlib.pyplot as plt\n",
    "from sklearn.svm import SVC, LinearSVC\n",
    "from sklearn import datasets\n",
    "from sklearn.metrics import auc, roc_curve\n",
    "from sklearn.model_selection import cross_val_score, train_test_split\n",
    "from sklearn.multiclass import OneVsRestClassifier\n",
    "from sklearn.neighbors import KNeighborsClassifier\n",
    "\n",
    "# Перевірка версії Python для правильного імпорту функції urlopen\n",
    "if sys.version_info.major == 2:\n",
    "    from urllib import urlopen\n",
    "elif sys.version_info.major == 3:\n",
    "    from urllib.request import urlopen"
   ]
  },
  {
   "cell_type": "code",
   "execution_count": 48,
   "metadata": {
    "slideshow": {
     "slide_type": "subslide"
    }
   },
   "outputs": [],
   "source": [
    "# Завантажуємо дані щодо діабету індіанців Піма зі сховища машинного навчання UCI\n",
    "pima_url = 'https://raw.githubusercontent.com/radiukpavlo/intelligent-data-analysis/main/01_lecture-notes/ida_lecture-06_feature-engineering/pima_diabetes.csv'\n",
    "data = pd.read_csv(pima_url, delimiter=\",\")\n",
    "\n",
    "# Вибираємо ознаки (X) та цільову змінну (y)\n",
    "X = data.iloc[:, :8]  # Перші 8 стовпців — це ознаки\n",
    "y = data.iloc[:, 8]   # Останній стовпець — це цільова змінна\n",
    "# Розбиваємо дані на тренувальну і тестову вибірки\n",
    "X_train, X_test, y_train, y_test = train_test_split(X, y, test_size=0.3, random_state=42)\n",
    "\n",
    "# Встановлюємо параметр регуляризації для терміну помилки\n",
    "C = 10.0"
   ]
  },
  {
   "cell_type": "code",
   "execution_count": 49,
   "metadata": {
    "slideshow": {
     "slide_type": "subslide"
    }
   },
   "outputs": [],
   "source": [
    "# Створюємо та навчаємо класифікатор Support Vector Machine (лінійний)\n",
    "lin_svm = LinearSVC(C=C, dual=False).fit(X_train, y_train)\n",
    "\n",
    "# Отримуємо оцінки для тестових даних (деякі значення ймовірності для обчислення ROC)\n",
    "y_score = lin_svm.decision_function(X_test)\n",
    "\n",
    "# Обчислюємо ROC-криву та значення площі під кривою (ROC AUC)\n",
    "fpr, tpr, _ = roc_curve(y_test, y_score)\n",
    "roc_auc = auc(fpr, tpr)"
   ]
  },
  {
   "cell_type": "code",
   "execution_count": 50,
   "metadata": {
    "slideshow": {
     "slide_type": "subslide"
    }
   },
   "outputs": [
    {
     "data": {
      "image/png": "[encoded data removed]",
      "text/plain": [
       "<Figure size 1800x900 with 1 Axes>"
      ]
     },
     "metadata": {},
     "output_type": "display_data"
    }
   ],
   "source": [
    "plt.figure(1, figsize=(6, 3), dpi=300)\n",
    "plt.plot(fpr, tpr, label=\"ROC curve (area = %0.2f)\" % roc_auc)\n",
    "plt.plot([0, 1], [0, 1], \"k--\")\n",
    "plt.xlim([0.0, 1.0]); plt.ylim([0.0, 1.05])\n",
    "plt.xlabel(\"False Positive Rate\")\n",
    "plt.ylabel(\"True Positive Rate\")\n",
    "plt.title(\"Приклад ROC-кривої\")\n",
    "plt.legend(loc=\"lower right\"); plt.show()"
   ]
  },
  {
   "cell_type": "markdown",
   "metadata": {
    "slideshow": {
     "slide_type": "subslide"
    }
   },
   "source": [
    "Вказані вище характеристики можна використовувати для підбору параметрів алгоритмів, наприклад, за допомогою крос-валідації. Знайдемо оптимальну з погляду $F_1$-міри кількість найближчих сусідів алгоритму $kNN$."
   ]
  },
  {
   "cell_type": "code",
   "execution_count": 51,
   "metadata": {
    "slideshow": {
     "slide_type": "fragment"
    }
   },
   "outputs": [],
   "source": [
    "# Масив значень k (кількість сусідів), для яких обчислюємо F1-міру\n",
    "k_values = np.arange(1, 50, 2)\n",
    "\n",
    "# Обчислюємо середній F1-скор для кожного значення k за допомогою перехресної перевірки\n",
    "scores_f1 = [cross_val_score(KNeighborsClassifier(n_neighbors=k), \n",
    "                             X, \n",
    "                             y, \n",
    "                             scoring=\"f1\").mean() for k in k_values]\n"
   ]
  },
  {
   "cell_type": "code",
   "execution_count": 56,
   "metadata": {
    "slideshow": {
     "slide_type": "subslide"
    }
   },
   "outputs": [
    {
     "data": {
      "image/png": "[encoded data removed]",
      "text/plain": [
       "<Figure size 1800x900 with 1 Axes>"
      ]
     },
     "metadata": {},
     "output_type": "display_data"
    }
   ],
   "source": [
    "plt.figure(figsize=(6, 3), dpi=300)\n",
    "plt.plot(k_values, scores_f1, linewidth=2)\n",
    "plt.axvline(k_values[np.argmax(scores_f1)], color=\"g\", linestyle=\"--\", \n",
    "            label=f\"Оптимальне k = {k_values[np.argmax(scores_f1)]}\")\n",
    "plt.xlabel(\"Параметр k\"); plt.ylabel(\"F1-score\")\n",
    "plt.title(\"F1-оптимальне значення сусідів, $k$ = %d\" % k_values[np.argmax(scores_f1)])\n",
    "plt.xlim(1, 49)\n",
    "plt.legend(loc=\"best\");plt.show()"
   ]
  },
  {
   "cell_type": "markdown",
   "metadata": {
    "slideshow": {
     "slide_type": "skip"
    }
   },
   "source": [
    "<a class=\"anchor\" id=\"6.4.6\"></a>"
   ]
  },
  {
   "cell_type": "markdown",
   "metadata": {
    "slideshow": {
     "slide_type": "slide"
    }
   },
   "source": [
    "### <span style=\"color:blue; font-size:1.2em;\">6.4.6. Багатокласова класифікація</span>\n",
    "\n",
    "[Повернутися до змісту](#6)"
   ]
  },
  {
   "cell_type": "markdown",
   "metadata": {
    "slideshow": {
     "slide_type": "fragment"
    }
   },
   "source": [
    "У разі, коли кількість класів більше двох, матриця невідповідностей визначається аналогічним чином: на перетині $i$-го рядка і $j$-го стовпця стоїть кількість об'єктів $i$-го класу, що відносяться класифікатором до класу $j$."
   ]
  },
  {
   "cell_type": "code",
   "execution_count": 57,
   "metadata": {
    "slideshow": {
     "slide_type": "fragment"
    }
   },
   "outputs": [
    {
     "data": {
      "text/plain": [
       "array([[2, 0, 1],\n",
       "       [0, 2, 1],\n",
       "       [2, 0, 1]], dtype=int64)"
      ]
     },
     "execution_count": 57,
     "metadata": {},
     "output_type": "execute_result"
    }
   ],
   "source": [
    "true_labels = np.array([0, 1, 2, 0, 1, 2, 0, 1, 2])\n",
    "predicted_labels = np.array([0, 2, 0, 2, 1, 0, 0, 1, 2])\n",
    "\n",
    "my_metrics2 = metrics.confusion_matrix(true_labels, predicted_labels)\n",
    "my_metrics2"
   ]
  },
  {
   "cell_type": "markdown",
   "metadata": {
    "slideshow": {
     "slide_type": "skip"
    }
   },
   "source": [
    "<a class=\"anchor\" id=\"6.4.7\"></a>"
   ]
  },
  {
   "cell_type": "markdown",
   "metadata": {
    "slideshow": {
     "slide_type": "slide"
    }
   },
   "source": [
    "### <span style=\"color:blue; font-size:1.2em;\">6.4.7. One vs. All</span>\n",
    "\n",
    "[Повернутися до змісту](#6)"
   ]
  },
  {
   "cell_type": "markdown",
   "metadata": {
    "slideshow": {
     "slide_type": "fragment"
    }
   },
   "source": [
    "**Багатокласова класифікація з підходом One vs. All**\n",
    "\n",
    "- **Суть методу:** багатокласову задачу зводимо до кількох бінарних.\n",
    "\n",
    "- **One vs. All:** для кожного класу \n",
    "  $$i \\in \\{1, \\dots, k\\}$$ \n",
    "  навчаємо бінарний класифікатор \n",
    "  $$a_i(x) = \\text{sign}(f_i(x)),$$\n",
    "  де:\n",
    "  - Об'єкти класу $i$ отримують мітку $1,$\n",
    "  - Об'єкти всіх інших класів отримують мітку $0.$"
   ]
  },
  {
   "cell_type": "markdown",
   "metadata": {
    "slideshow": {
     "slide_type": "fragment"
    }
   },
   "source": [
    "\n",
    "- **Мета навчання:** класифікатор $a_i$ вчиться розрізняти клас $i$ від усіх інших.\n",
    "\n",
    "- **Фінальний прогноз:** після навчання бінарних класифікаторів, обираємо клас із найбільшою оцінкою:\n",
    "  \n",
    "  $$a(x) = \\arg\\max_{i \\in \\{1, \\dots, k\\}} f_i(x).$$\n",
    "\n",
    "- **Детальніше:** [One vs. All](https://developers.google.com/machine-learning/crash-course/multi-class-neural-networks/one-vs-all)."
   ]
  },
  {
   "cell_type": "code",
   "execution_count": 58,
   "metadata": {
    "slideshow": {
     "slide_type": "subslide"
    }
   },
   "outputs": [
    {
     "name": "stdout",
     "output_type": "stream",
     "text": [
      "Точність класифікації: 0.9466667\n"
     ]
    }
   ],
   "source": [
    "from sklearn import datasets, metrics\n",
    "\n",
    "iris = datasets.load_iris()\n",
    "X, y = iris.data, iris.target\n",
    "\n",
    "# Масштабування ознак та підлаштування моделі\n",
    "onevsall = OneVsRestClassifier(make_pipeline(StandardScaler(), LinearSVC(max_iter=10000, C=1.0))).fit(X, y)\n",
    "accuracy_svc = metrics.accuracy_score(y, onevsall.predict(X))\n",
    "\n",
    "print(f\"Точність класифікації: {accuracy_svc:.7f}\")"
   ]
  },
  {
   "cell_type": "markdown",
   "metadata": {
    "slideshow": {
     "slide_type": "skip"
    }
   },
   "source": [
    "<a class=\"anchor\" id=\"6.5\"></a>"
   ]
  },
  {
   "cell_type": "markdown",
   "metadata": {
    "slideshow": {
     "slide_type": "slide"
    }
   },
   "source": [
    "## <span style=\"color:blue; font-size:1.2em;\">6.5. Корисні посилання</span>\n",
    "\n",
    "[Повернутися до змісту](#6)"
   ]
  },
  {
   "cell_type": "markdown",
   "metadata": {
    "slideshow": {
     "slide_type": "fragment"
    }
   },
   "source": [
    "- [Конструювання ознак](https://uk.wikipedia.org/wiki/%D0%9A%D0%BE%D0%BD%D1%81%D1%82%D1%80%D1%83%D1%8E%D0%B2%D0%B0%D0%BD%D0%BD%D1%8F_%D0%BE%D0%B7%D0%BD%D0%B0%D0%BA) [UKR].\n",
    "- [Feature extraction from scikit-learn](https://scikit-learn.org/stable/modules/feature_extraction.html#) [ENG].\n",
    "- [Feature importance from scikit-learn](https://scikit-learn.org/stable/modules/permutation_importance.html) [ENG].\n",
    "- [Feature selection from scikit-learn](https://scikit-learn.org/stable/modules/feature_selection.html) [ENG].\n",
    "- [Feature selection from scikit-learn. Examples](https://scikit-learn.org/stable/auto_examples/index.html#feature-selection) [ENG].\n",
    "- [Feature Engineering for Machine Learning](https://www.repath.in/gallery/feature_engineering_for_machine_learning.pdf) *by Alice Zheng & Amanda Casari* [ENG].\n",
    "- [The Ultimate Guide to 12 Dimensionality Reduction Techniques (with Python codes)](https://www.analyticsvidhya.com/blog/2018/08/dimensionality-reduction-techniques-python/) [ENG].\n",
    "- [How to improve the accuracy of a classification model?](https://analyticsindiamag.com/how-to-improve-the-accuracy-of-a-classification-model/) [ENG].\n",
    "- [Матриця невідповідностей](https://uk.wikipedia.org/wiki/%D0%9C%D0%B0%D1%82%D1%80%D0%B8%D1%86%D1%8F_%D0%BD%D0%B5%D0%B2%D1%96%D0%B4%D0%BF%D0%BE%D0%B2%D1%96%D0%B4%D0%BD%D0%BE%D1%81%D1%82%D0%B5%D0%B9) [UKR].\n",
    "- [ROC-криві. Оглядова стаття](https://dou.ua/forums/topic/33858/) [UKR].\n",
    "- 8 тактик боротьби з незбалансованими класами у вашому наборі даних машинного навчання на [Machine Learning Mastery](https://machinelearningmastery.com/tactics-to-combat-imbalanced-classes-in-your-machine-learning-dataset/) [ENG]."
   ]
  },
  {
   "cell_type": "code",
   "execution_count": null,
   "metadata": {
    "slideshow": {
     "slide_type": "skip"
    }
   },
   "outputs": [],
   "source": []
  }
 ],
 "metadata": {
  "celltoolbar": "Slideshow",
  "kernelspec": {
   "display_name": "Python 3 (ipykernel)",
   "language": "python",
   "name": "python3"
  },
  "language_info": {
   "codemirror_mode": {
    "name": "ipython",
    "version": 3
   },
   "file_extension": ".py",
   "mimetype": "text/x-python",
   "name": "python",
   "nbconvert_exporter": "python",
   "pygments_lexer": "ipython3",
   "version": "3.9.16"
  },
  "toc": {
   "nav_menu": {},
   "number_sections": true,
   "sideBar": true,
   "skip_h1_title": false,
   "title_cell": "Table of Contents",
   "title_sidebar": "Contents",
   "toc_cell": false,
   "toc_position": {},
   "toc_section_display": true,
   "toc_window_display": false
  }
 },
 "nbformat": 4,
 "nbformat_minor": 4
}
